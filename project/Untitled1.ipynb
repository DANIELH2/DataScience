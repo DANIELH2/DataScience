{
 "cells": [
  {
   "cell_type": "code",
   "execution_count": 2,
   "metadata": {},
   "outputs": [],
   "source": [
    "import requests \n",
    "from bs4 import BeautifulSoup\n",
    "from datetime import datetime\n",
    "import time"
   ]
  },
  {
   "cell_type": "code",
   "execution_count": 8,
   "metadata": {},
   "outputs": [
    {
     "ename": "IndentationError",
     "evalue": "unindent does not match any outer indentation level (<tokenize>, line 24)",
     "output_type": "error",
     "traceback": [
      "\u001b[1;36m  File \u001b[1;32m\"<tokenize>\"\u001b[1;36m, line \u001b[1;32m24\u001b[0m\n\u001b[1;33m    while True:\u001b[0m\n\u001b[1;37m    ^\u001b[0m\n\u001b[1;31mIndentationError\u001b[0m\u001b[1;31m:\u001b[0m unindent does not match any outer indentation level\n"
     ]
    }
   ],
   "source": [
    "def Amazon_handler(): \n",
    "\tnow = datetime.now()\n",
    "\tcurrent_time = now.strftime(\"%H:%M:%S\")\n",
    "\tprint(\"Time: \", current_time)\n",
    "\tprint(\"Connecting to amazon...\")\n",
    "\tURL = \"https://www.amazon.in/Oppo-Aurora-Blue-64GB-Storage/dp/B07PQ7CXLV/\"\n",
    "    # Get url to extract data\n",
    "\tr = requests.get(URL) \n",
    "\tsoup = BeautifulSoup(r.content, 'html5lib') \n",
    "\tprint(\"Fetching price...\")\n",
    "\tjs_test = soup.find('span', id ='priceblock_ourprice') \n",
    "\tif js_test is None: \n",
    "\t\tjs_test = soup.find('span', id ='priceblock_dealprice')\t\t \n",
    "\tstr = \"\" \n",
    "\tfor line in js_test.stripped_strings : \n",
    "\t\tstr = line \n",
    "        # To integer\n",
    "\tstr = str[1:]\n",
    "\t# asc_str = str.encode(\"ascii\")\n",
    "\tstr = str.replace(\",\", \"\")\n",
    "\tstr = str.replace(\" \", \"\")\n",
    "\tcurrent_price = int(float(str)) \n",
    "\tprint(\"Current price = \", current_price) \n",
    "    while True: \n",
    "\tAmazon_handler()\n",
    "\tprint(\"Will fetch again after 1 minute. To stop press ctl + c...\")\n",
    "\ttime.sleep(60) "
   ]
  }
 ],
 "metadata": {
  "kernelspec": {
   "display_name": "Python 3",
   "language": "python",
   "name": "python3"
  },
  "language_info": {
   "codemirror_mode": {
    "name": "ipython",
    "version": 3
   },
   "file_extension": ".py",
   "mimetype": "text/x-python",
   "name": "python",
   "nbconvert_exporter": "python",
   "pygments_lexer": "ipython3",
   "version": "3.7.3"
  }
 },
 "nbformat": 4,
 "nbformat_minor": 2
}
