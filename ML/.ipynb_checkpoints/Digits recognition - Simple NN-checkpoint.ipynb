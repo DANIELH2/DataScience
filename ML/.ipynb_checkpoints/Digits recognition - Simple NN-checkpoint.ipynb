{
 "cells": [
  {
   "cell_type": "markdown",
   "metadata": {},
   "source": [
    "# MNIST Handwritten Digit Recognition using Neural Network with Keras\n",
    " \n",
    "\n",
    "  \n",
    "<img src=\"https://cdn-images-1.medium.com/max/1600/0*At0wJRULTXvyA3EK.png\" height='300' width='400' />"
   ]
  },
  {
   "cell_type": "code",
   "execution_count": 1,
   "metadata": {},
   "outputs": [
    {
     "name": "stderr",
     "output_type": "stream",
     "text": [
      "Using TensorFlow backend.\n",
      "/usr/local/lib/python3.6/dist-packages/tensorflow/python/framework/dtypes.py:516: FutureWarning: Passing (type, 1) or '1type' as a synonym of type is deprecated; in a future version of numpy, it will be understood as (type, (1,)) / '(1,)type'.\n",
      "  _np_qint8 = np.dtype([(\"qint8\", np.int8, 1)])\n",
      "/usr/local/lib/python3.6/dist-packages/tensorflow/python/framework/dtypes.py:517: FutureWarning: Passing (type, 1) or '1type' as a synonym of type is deprecated; in a future version of numpy, it will be understood as (type, (1,)) / '(1,)type'.\n",
      "  _np_quint8 = np.dtype([(\"quint8\", np.uint8, 1)])\n",
      "/usr/local/lib/python3.6/dist-packages/tensorflow/python/framework/dtypes.py:518: FutureWarning: Passing (type, 1) or '1type' as a synonym of type is deprecated; in a future version of numpy, it will be understood as (type, (1,)) / '(1,)type'.\n",
      "  _np_qint16 = np.dtype([(\"qint16\", np.int16, 1)])\n",
      "/usr/local/lib/python3.6/dist-packages/tensorflow/python/framework/dtypes.py:519: FutureWarning: Passing (type, 1) or '1type' as a synonym of type is deprecated; in a future version of numpy, it will be understood as (type, (1,)) / '(1,)type'.\n",
      "  _np_quint16 = np.dtype([(\"quint16\", np.uint16, 1)])\n",
      "/usr/local/lib/python3.6/dist-packages/tensorflow/python/framework/dtypes.py:520: FutureWarning: Passing (type, 1) or '1type' as a synonym of type is deprecated; in a future version of numpy, it will be understood as (type, (1,)) / '(1,)type'.\n",
      "  _np_qint32 = np.dtype([(\"qint32\", np.int32, 1)])\n",
      "/usr/local/lib/python3.6/dist-packages/tensorflow/python/framework/dtypes.py:525: FutureWarning: Passing (type, 1) or '1type' as a synonym of type is deprecated; in a future version of numpy, it will be understood as (type, (1,)) / '(1,)type'.\n",
      "  np_resource = np.dtype([(\"resource\", np.ubyte, 1)])\n",
      "/usr/local/lib/python3.6/dist-packages/tensorboard/compat/tensorflow_stub/dtypes.py:541: FutureWarning: Passing (type, 1) or '1type' as a synonym of type is deprecated; in a future version of numpy, it will be understood as (type, (1,)) / '(1,)type'.\n",
      "  _np_qint8 = np.dtype([(\"qint8\", np.int8, 1)])\n",
      "/usr/local/lib/python3.6/dist-packages/tensorboard/compat/tensorflow_stub/dtypes.py:542: FutureWarning: Passing (type, 1) or '1type' as a synonym of type is deprecated; in a future version of numpy, it will be understood as (type, (1,)) / '(1,)type'.\n",
      "  _np_quint8 = np.dtype([(\"quint8\", np.uint8, 1)])\n",
      "/usr/local/lib/python3.6/dist-packages/tensorboard/compat/tensorflow_stub/dtypes.py:543: FutureWarning: Passing (type, 1) or '1type' as a synonym of type is deprecated; in a future version of numpy, it will be understood as (type, (1,)) / '(1,)type'.\n",
      "  _np_qint16 = np.dtype([(\"qint16\", np.int16, 1)])\n",
      "/usr/local/lib/python3.6/dist-packages/tensorboard/compat/tensorflow_stub/dtypes.py:544: FutureWarning: Passing (type, 1) or '1type' as a synonym of type is deprecated; in a future version of numpy, it will be understood as (type, (1,)) / '(1,)type'.\n",
      "  _np_quint16 = np.dtype([(\"quint16\", np.uint16, 1)])\n",
      "/usr/local/lib/python3.6/dist-packages/tensorboard/compat/tensorflow_stub/dtypes.py:545: FutureWarning: Passing (type, 1) or '1type' as a synonym of type is deprecated; in a future version of numpy, it will be understood as (type, (1,)) / '(1,)type'.\n",
      "  _np_qint32 = np.dtype([(\"qint32\", np.int32, 1)])\n",
      "/usr/local/lib/python3.6/dist-packages/tensorboard/compat/tensorflow_stub/dtypes.py:550: FutureWarning: Passing (type, 1) or '1type' as a synonym of type is deprecated; in a future version of numpy, it will be understood as (type, (1,)) / '(1,)type'.\n",
      "  np_resource = np.dtype([(\"resource\", np.ubyte, 1)])\n"
     ]
    }
   ],
   "source": [
    "# imports for array-handling and plotting\n",
    "%matplotlib inline\n",
    "\n",
    "import numpy as np\n",
    "import matplotlib\n",
    "#matplotlib.use('agg')\n",
    "import matplotlib.pyplot as plt\n",
    "import keras \n",
    "\n",
    "# fix random seed for reproducibility\n",
    "np.random.seed(5)"
   ]
  },
  {
   "cell_type": "markdown",
   "metadata": {},
   "source": [
    "For this example we will use the MNIST hand written digist dataset. "
   ]
  },
  {
   "cell_type": "code",
   "execution_count": 2,
   "metadata": {},
   "outputs": [
    {
     "name": "stdout",
     "output_type": "stream",
     "text": [
      "Downloading data from https://s3.amazonaws.com/img-datasets/mnist.npz\n",
      "11493376/11490434 [==============================] - 2s 0us/step\n"
     ]
    }
   ],
   "source": [
    "# keras imports for the dataset and building our neural network\n",
    "from keras.datasets import mnist\n",
    "from keras.utils import np_utils\n",
    "\n",
    "## loads the dataset and divide into train and test\n",
    "(X_train, y_train), (X_test, y_test) = mnist.load_data()"
   ]
  },
  {
   "cell_type": "code",
   "execution_count": 3,
   "metadata": {},
   "outputs": [
    {
     "name": "stdout",
     "output_type": "stream",
     "text": [
      "(60000, 28, 28)\n",
      "(60000,)\n",
      "(10000, 28, 28)\n",
      "(10000,)\n"
     ]
    }
   ],
   "source": [
    "print(X_train.shape)\n",
    "print(y_train.shape)\n",
    "\n",
    "print(X_test.shape)\n",
    "print(y_test.shape)\n"
   ]
  },
  {
   "cell_type": "code",
   "execution_count": 4,
   "metadata": {},
   "outputs": [
    {
     "data": {
      "text/plain": [
       "array([5, 0, 4, 1, 9, 2, 1, 3, 1], dtype=uint8)"
      ]
     },
     "execution_count": 4,
     "metadata": {},
     "output_type": "execute_result"
    }
   ],
   "source": [
    "y_train[0:9]"
   ]
  },
  {
   "cell_type": "code",
   "execution_count": 5,
   "metadata": {},
   "outputs": [
    {
     "data": {
      "text/plain": [
       "(array([0, 1, 2, 3, 4, 5, 6, 7, 8, 9], dtype=uint8),\n",
       " array([5923, 6742, 5958, 6131, 5842, 5421, 5918, 6265, 5851, 5949]))"
      ]
     },
     "execution_count": 5,
     "metadata": {},
     "output_type": "execute_result"
    }
   ],
   "source": [
    "## How many classes and their counts\n",
    "yn = np.unique(y_train, return_counts=True)\n",
    "yn"
   ]
  },
  {
   "cell_type": "code",
   "execution_count": 6,
   "metadata": {},
   "outputs": [
    {
     "data": {
      "text/plain": [
       "<BarContainer object of 10 artists>"
      ]
     },
     "execution_count": 6,
     "metadata": {},
     "output_type": "execute_result"
    },
    {
     "data": {
      "image/png": "[encoded data removed]",
      "text/plain": [
       "<Figure size 432x288 with 1 Axes>"
      ]
     },
     "metadata": {
      "needs_background": "light"
     },
     "output_type": "display_data"
    }
   ],
   "source": [
    "## plot the frequency of y's\n",
    "plt.bar(yn[0],yn[1])\n"
   ]
  },
  {
   "cell_type": "markdown",
   "metadata": {},
   "source": [
    "We now check the first nine data rows (pictures) and check their labels:"
   ]
  },
  {
   "cell_type": "code",
   "execution_count": 7,
   "metadata": {},
   "outputs": [
    {
     "data": {
      "image/png": "[encoded data removed]",
      "text/plain": [
       "<Figure size 432x288 with 9 Axes>"
      ]
     },
     "metadata": {},
     "output_type": "display_data"
    }
   ],
   "source": [
    "fig = plt.figure()\n",
    "for i in range(9):\n",
    "  plt.subplot(3,3,i+1)\n",
    "  plt.tight_layout()\n",
    "  plt.imshow(X_train[i], cmap='gray', interpolation='none')\n",
    "  plt.title(\"Digit: {}\".format(y_train[i]))\n",
    "  plt.xticks([])\n",
    "  plt.yticks([])\n"
   ]
  },
  {
   "cell_type": "code",
   "execution_count": 8,
   "metadata": {},
   "outputs": [],
   "source": [
    "## reshape the dataset\n",
    "\n",
    "# building the input vector from the 28x28 pixels\n",
    "X_train = X_train.reshape(60000, 784)\n",
    "X_test = X_test.reshape(10000, 784)\n",
    "X_train = X_train.astype('float32')\n",
    "X_test = X_test.astype('float32')"
   ]
  },
  {
   "cell_type": "code",
   "execution_count": 9,
   "metadata": {},
   "outputs": [],
   "source": [
    "# normalizing the data to help with the training\n",
    "X_train /= 255\n",
    "X_test /= 255"
   ]
  },
  {
   "cell_type": "code",
   "execution_count": 10,
   "metadata": {},
   "outputs": [
    {
     "name": "stdout",
     "output_type": "stream",
     "text": [
      "(60000, 784)\n",
      "(10000, 784)\n"
     ]
    }
   ],
   "source": [
    "# print the final input shape ready for training\n",
    "print(X_train.shape)\n",
    "print(X_test.shape)"
   ]
  },
  {
   "cell_type": "markdown",
   "metadata": {},
   "source": [
    "Before procedding with the NN, we have to make a final transformation to the data: we have to change the format of the labels (y). For this we have to create an array of 10 positions for each y. Each position will indicate with a one if the y is the relevant category or zero if not:\n",
    "\n",
    "<code>\n",
    "y     ---->    Transformation\n",
    "              0 1 2 3 4 5 6 7 8 9\n",
    "0            [1,0,0,0,0,0,0,0,0,0]\n",
    "1            [0,1,0,0,0,0,0,0,0,0]\n",
    "    ...\n",
    "8            [0,0,0,0,0,0,0,0,1,0]\n",
    "9            [0,0,0,0,0,0,0,0,0,1]\n",
    "</code>\n",
    "\n",
    "This type of transformation is called one-hot encoding."
   ]
  },
  {
   "cell_type": "code",
   "execution_count": 11,
   "metadata": {},
   "outputs": [
    {
     "name": "stdout",
     "output_type": "stream",
     "text": [
      "Shape before one-hot encoding:  (60000,)\n",
      "Shape after one-hot encoding (train):  (60000, 10)\n",
      "Shape after one-hot encoding (test):  (10000, 10)\n"
     ]
    }
   ],
   "source": [
    "# one-hot encoding using keras' numpy-related utilities\n",
    "n_classes = 10\n",
    "print(\"Shape before one-hot encoding: \", y_train.shape)\n",
    "Y_train = np_utils.to_categorical(y_train, n_classes)\n",
    "Y_test = np_utils.to_categorical(y_test, n_classes)\n",
    "print(\"Shape after one-hot encoding (train): \", Y_train.shape)\n",
    "print(\"Shape after one-hot encoding (test): \", Y_test.shape)\n"
   ]
  },
  {
   "cell_type": "markdown",
   "metadata": {},
   "source": [
    "## Defining the Neural Network Architecture\n",
    " \n",
    "First we have to import in keras the \"Sequential\" fucntion. This is the most common NN type, that means we are going to define our NN one layer a time.\n",
    " \n",
    "Then we initialize the NN by defining our model object and will add to it the layers as we defined in our network architecture plan.\n",
    " \n",
    "The layers that we will use are fully conected layers, which means that we want that all the input data from the previous layer will be connedted with all the nodes of this layer. In keras we call this layer type \"Dense\".\n",
    "\n",
    "When defining the layer we have to provide some parameters: input_dim is the dimmention of the input (in our case we have 10 inputs (variables) that enter our hidden layer. \n",
    " \n",
    "Another parameter is the activation function. We can define this function inside the layer definition, or separately (see alternatives 1 and 2)."
   ]
  },
  {
   "cell_type": "code",
   "execution_count": 12,
   "metadata": {},
   "outputs": [],
   "source": [
    "from keras.models import Sequential, load_model\n",
    "from keras.layers.core import Dense, Dropout, Activation\n",
    "#from keras.utils import np_utils"
   ]
  },
  {
   "cell_type": "code",
   "execution_count": 23,
   "metadata": {},
   "outputs": [
    {
     "name": "stdout",
     "output_type": "stream",
     "text": [
      "WARNING:tensorflow:From /usr/local/lib/python3.6/dist-packages/keras/backend/tensorflow_backend.py:3733: calling dropout (from tensorflow.python.ops.nn_ops) with keep_prob is deprecated and will be removed in a future version.\n",
      "Instructions for updating:\n",
      "Please use `rate` instead of `keep_prob`. Rate should be set to `rate = 1 - keep_prob`.\n"
     ]
    }
   ],
   "source": [
    "# building a linear stack of layers with the sequential model\n",
    "model = Sequential()\n",
    "model.add(Dense(512, input_shape=(784,)))\n",
    "model.add(Activation('relu'))                            \n",
    "model.add(Dropout(0.2)) # we randomly delete 20% frome every nodes\n",
    "\n",
    "model.add(Dense(512))\n",
    "model.add(Activation('relu'))\n",
    "model.add(Dropout(0.2))\n",
    "\n",
    "model.add(Dense(10))\n",
    "model.add(Activation('softmax')) #if its binary we use tanh"
   ]
  },
  {
   "cell_type": "markdown",
   "metadata": {},
   "source": [
    "## Training the model\n",
    " \n",
    "To run our NN we have first to \"compile\" our model. The compilation require us to define some important parameters:\n",
    " \n",
    "1. Define the <b>loss function</b>: this is the measure of the error. There are many types of loss functions that could be applied in NN's:\n",
    " - mean_squared_error\n",
    " - mean_absolute_error\n",
    " - mean_absolute_percentage_error\n",
    " - mean_squared_logarithmic_error\n",
    " - squared_hinge\n",
    " - hinge\n",
    " - categorical_hinge\n",
    " - logcosh\n",
    " - categorical_crossentropy\n",
    " - sparse_categorical_crossentropy\n",
    " - binary_crossentropy\n",
    " - kullback_leibler_divergence\n",
    " - poisson\n",
    " - cosine_proximity\n",
    " \n",
    " \n",
    "2. Define the <b>optimizer</b>: this is the method we want to apply for the gradient descent. Some popular methods are:\n",
    " - Stochastic gradient descent (SGD)\n",
    " - Adaptive moment estimator (Adam)\n",
    " - batch gradient descent\n",
    " - mini-batch gradient descent \n",
    " - Nesterov accelerated gradient (NAG)\n",
    " - Adagrad\n",
    " - AdaDelta\n",
    " - RMSprop\n",
    "\n",
    " \n",
    "3. Define the <b>metrics</b>: Metric values are recorded at the end of each epoch on the training dataset. The most common metrics are:\n",
    " + For regression output:\n",
    "    - Mean Squared Error (MSE)\n",
    "    - Mean Absolute Error (MAE)\n",
    "    - Mean Absolute Percentage Error (MAPE)\n",
    "    - Cosine Proximity \n",
    " \n",
    " + For classification output:\n",
    "    - Binary Accuracy\n",
    "    - Categorical Accuracy\n",
    "    - Sparse Categorical Accuracy\n",
    "    - Top k Categorical Accuracy\n",
    "    - Sparse Top k Categorical Accuracy\n",
    "\n"
   ]
  },
  {
   "cell_type": "code",
   "execution_count": 24,
   "metadata": {},
   "outputs": [],
   "source": [
    "# compiling the sequential model\n",
    "model.compile(loss='categorical_crossentropy', metrics=['accuracy'], optimizer='adam')"
   ]
  },
  {
   "cell_type": "markdown",
   "metadata": {},
   "source": [
    "After compilation, the model could be trained. We use the fit function to begin the training. "
   ]
  },
  {
   "cell_type": "code",
   "execution_count": 25,
   "metadata": {},
   "outputs": [
    {
     "name": "stdout",
     "output_type": "stream",
     "text": [
      "Train on 60000 samples, validate on 10000 samples\n",
      "Epoch 1/20\n",
      " - 16s - loss: 0.2502 - acc: 0.9255 - val_loss: 0.1268 - val_acc: 0.9603\n",
      "Epoch 2/20\n",
      " - 14s - loss: 0.0999 - acc: 0.9693 - val_loss: 0.0767 - val_acc: 0.9763\n",
      "Epoch 3/20\n",
      " - 14s - loss: 0.0719 - acc: 0.9778 - val_loss: 0.0794 - val_acc: 0.9748\n",
      "Epoch 4/20\n",
      " - 16s - loss: 0.0550 - acc: 0.9825 - val_loss: 0.0624 - val_acc: 0.9808\n",
      "Epoch 5/20\n",
      " - 17s - loss: 0.0457 - acc: 0.9852 - val_loss: 0.0646 - val_acc: 0.9807\n",
      "Epoch 6/20\n",
      " - 17s - loss: 0.0408 - acc: 0.9869 - val_loss: 0.0634 - val_acc: 0.9812\n",
      "Epoch 7/20\n",
      " - 17s - loss: 0.0316 - acc: 0.9895 - val_loss: 0.0730 - val_acc: 0.9788\n",
      "Epoch 8/20\n",
      " - 17s - loss: 0.0302 - acc: 0.9899 - val_loss: 0.0729 - val_acc: 0.9797\n",
      "Epoch 9/20\n",
      " - 18s - loss: 0.0274 - acc: 0.9911 - val_loss: 0.0811 - val_acc: 0.9788\n",
      "Epoch 10/20\n",
      " - 18s - loss: 0.0279 - acc: 0.9908 - val_loss: 0.0659 - val_acc: 0.9821\n",
      "Epoch 11/20\n",
      " - 16s - loss: 0.0230 - acc: 0.9922 - val_loss: 0.0725 - val_acc: 0.9831\n",
      "Epoch 12/20\n",
      " - 16s - loss: 0.0232 - acc: 0.9923 - val_loss: 0.0699 - val_acc: 0.9829\n",
      "Epoch 13/20\n",
      " - 16s - loss: 0.0214 - acc: 0.9929 - val_loss: 0.0649 - val_acc: 0.9832\n",
      "Epoch 14/20\n",
      " - 15s - loss: 0.0184 - acc: 0.9942 - val_loss: 0.0669 - val_acc: 0.9851\n",
      "Epoch 15/20\n",
      " - 11s - loss: 0.0198 - acc: 0.9935 - val_loss: 0.0693 - val_acc: 0.9839\n",
      "Epoch 16/20\n",
      " - 10s - loss: 0.0186 - acc: 0.9938 - val_loss: 0.0756 - val_acc: 0.9825\n",
      "Epoch 17/20\n",
      " - 9s - loss: 0.0175 - acc: 0.9941 - val_loss: 0.0726 - val_acc: 0.9844\n",
      "Epoch 18/20\n",
      " - 8s - loss: 0.0162 - acc: 0.9948 - val_loss: 0.0693 - val_acc: 0.9840\n",
      "Epoch 19/20\n",
      " - 9s - loss: 0.0168 - acc: 0.9944 - val_loss: 0.0759 - val_acc: 0.9835\n",
      "Epoch 20/20\n",
      " - 10s - loss: 0.0156 - acc: 0.9950 - val_loss: 0.0659 - val_acc: 0.9864\n"
     ]
    }
   ],
   "source": [
    "# Fit the model\n",
    "res = model.fit(X_train, \n",
    "          Y_train,\n",
    "          batch_size=128, #every pull 128 pictures in one time\n",
    "          epochs=20,      # iteriation\n",
    "          verbose=2,      # erros\n",
    "          validation_data=(X_test, Y_test))  \n"
   ]
  },
  {
   "cell_type": "code",
   "execution_count": 26,
   "metadata": {},
   "outputs": [
    {
     "data": {
      "text/plain": [
       "<matplotlib.legend.Legend at 0x7f048c750400>"
      ]
     },
     "execution_count": 26,
     "metadata": {},
     "output_type": "execute_result"
    },
    {
     "data": {
      "image/png": "[encoded data removed]",
      "text/plain": [
       "<Figure size 432x288 with 1 Axes>"
      ]
     },
     "metadata": {
      "needs_background": "light"
     },
     "output_type": "display_data"
    }
   ],
   "source": [
    "# plotting the metrics: Accuracy\n",
    "plt.plot(res.history['acc'])\n",
    "plt.plot(res.history['val_acc'])\n",
    "plt.title('model accuracy')\n",
    "plt.ylabel('accuracy')\n",
    "plt.xlabel('epoch')\n",
    "plt.legend(['train', 'test'], loc='lower right')"
   ]
  },
  {
   "cell_type": "code",
   "execution_count": 27,
   "metadata": {},
   "outputs": [
    {
     "data": {
      "text/plain": [
       "<matplotlib.legend.Legend at 0x7f048c6c2518>"
      ]
     },
     "execution_count": 27,
     "metadata": {},
     "output_type": "execute_result"
    },
    {
     "data": {
      "image/png": "[encoded data removed]",
      "text/plain": [
       "<Figure size 432x288 with 1 Axes>"
      ]
     },
     "metadata": {
      "needs_background": "light"
     },
     "output_type": "display_data"
    }
   ],
   "source": [
    "# plotting the metrics: loss\n",
    "plt.plot(res.history['loss'])\n",
    "plt.plot(res.history['val_loss'])\n",
    "plt.title('model loss')\n",
    "plt.ylabel('loss')\n",
    "plt.xlabel('epoch')\n",
    "plt.legend(['train', 'test'], loc='upper right')\n"
   ]
  },
  {
   "cell_type": "code",
   "execution_count": null,
   "metadata": {},
   "outputs": [],
   "source": []
  },
  {
   "cell_type": "markdown",
   "metadata": {},
   "source": [
    "## Predicting using the model\n",
    "\n",
    "We can then use the predict function to run the trained model on a new (test) dataset:"
   ]
  },
  {
   "cell_type": "code",
   "execution_count": 28,
   "metadata": {},
   "outputs": [],
   "source": [
    "# calculate predictions\n",
    "predict_classes = model.predict_classes(X_test)\n",
    "# round predictions\n",
    "#rounded = [round(x[0]) for x in predictions]\n",
    "#print(rounded)"
   ]
  },
  {
   "cell_type": "code",
   "execution_count": 29,
   "metadata": {},
   "outputs": [
    {
     "name": "stdout",
     "output_type": "stream",
     "text": [
      "\n",
      "9864  classified correctly\n",
      "136  classified incorrectly\n"
     ]
    }
   ],
   "source": [
    "# see which we predicted correctly and which not\n",
    "correct_indices = np.nonzero(predict_classes == y_test)[0]\n",
    "incorrect_indices = np.nonzero(predict_classes != y_test)[0]\n",
    "print()\n",
    "print(len(correct_indices),\" classified correctly\")\n",
    "print(len(incorrect_indices),\" classified incorrectly\")\n"
   ]
  },
  {
   "cell_type": "code",
   "execution_count": 43,
   "metadata": {},
   "outputs": [
    {
     "data": {
      "image/png": "[encoded data removed]",
      "text/plain": [
       "<Figure size 432x288 with 9 Axes>"
      ]
     },
     "metadata": {},
     "output_type": "display_data"
    }
   ],
   "source": [
    "# plot 9 correct predictions\n",
    "#fig = plt.figure()\n",
    "for i, correct in enumerate(correct_indices[:9]):\n",
    "    plt.subplot(3,3,i+1)\n",
    "    plt.tight_layout()\n",
    "    plt.imshow(X_test[correct].reshape(28,28), cmap='gray', interpolation='none')\n",
    "    plt.title(\n",
    "      \"Pred: {}, Truth: {}\".format(predict_classes[correct],\n",
    "                                        y_test[correct]))\n",
    "    plt.xticks([])\n",
    "    plt.yticks([])\n"
   ]
  },
  {
   "cell_type": "code",
   "execution_count": 44,
   "metadata": {},
   "outputs": [
    {
     "data": {
      "image/png": "[encoded data removed]",
      "text/plain": [
       "<Figure size 432x288 with 9 Axes>"
      ]
     },
     "metadata": {},
     "output_type": "display_data"
    }
   ],
   "source": [
    "# plot 9 incorrect predictions\n",
    "fig = plt.figure()\n",
    "for i, incorrect in enumerate(incorrect_indices[:9]):\n",
    "    plt.subplot(3,3,i+1)\n",
    "    plt.tight_layout()\n",
    "    plt.imshow(X_test[incorrect].reshape(28,28), cmap='gray', interpolation='none')\n",
    "    plt.title(\"Pred {}, Truth: {}\".format(predict_classes[incorrect], y_test[incorrect]))\n",
    "    plt.xticks([])\n",
    "    plt.yticks([])"
   ]
  }
 ],
 "metadata": {
  "kernelspec": {
   "display_name": "Python 3",
   "language": "python",
   "name": "python3"
  },
  "language_info": {
   "codemirror_mode": {
    "name": "ipython",
    "version": 3
   },
   "file_extension": ".py",
   "mimetype": "text/x-python",
   "name": "python",
   "nbconvert_exporter": "python",
   "pygments_lexer": "ipython3",
   "version": "3.6.8"
  }
 },
 "nbformat": 4,
 "nbformat_minor": 2
}
