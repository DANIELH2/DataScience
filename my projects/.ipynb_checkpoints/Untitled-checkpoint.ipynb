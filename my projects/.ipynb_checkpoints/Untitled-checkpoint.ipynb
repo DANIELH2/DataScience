{
 "cells": [
  {
   "cell_type": "code",
   "execution_count": 81,
   "metadata": {},
   "outputs": [
    {
     "data": {
      "text/html": [
       "<div>\n",
       "<style scoped>\n",
       "    .dataframe tbody tr th:only-of-type {\n",
       "        vertical-align: middle;\n",
       "    }\n",
       "\n",
       "    .dataframe tbody tr th {\n",
       "        vertical-align: top;\n",
       "    }\n",
       "\n",
       "    .dataframe thead th {\n",
       "        text-align: right;\n",
       "    }\n",
       "</style>\n",
       "<table border=\"1\" class=\"dataframe\">\n",
       "  <thead>\n",
       "    <tr style=\"text-align: right;\">\n",
       "      <th></th>\n",
       "      <th>yyyy</th>\n",
       "      <th>mm</th>\n",
       "      <th>yyyy_mm</th>\n",
       "      <th>district</th>\n",
       "      <th>pharma_n</th>\n",
       "      <th>unscheduled</th>\n",
       "      <th>inventory_val</th>\n",
       "      <th>inventory_tar</th>\n",
       "      <th>p_meeting</th>\n",
       "      <th>changes_pd</th>\n",
       "      <th>pchanges_pd</th>\n",
       "    </tr>\n",
       "  </thead>\n",
       "  <tbody>\n",
       "    <tr>\n",
       "      <th>0</th>\n",
       "      <td>2010</td>\n",
       "      <td>1</td>\n",
       "      <td>2010-1</td>\n",
       "      <td>מרכז</td>\n",
       "      <td>כרמים ח.ת.</td>\n",
       "      <td>19</td>\n",
       "      <td>510613</td>\n",
       "      <td>756751</td>\n",
       "      <td>0%</td>\n",
       "      <td>608</td>\n",
       "      <td>4%</td>\n",
       "    </tr>\n",
       "    <tr>\n",
       "      <th>1</th>\n",
       "      <td>2010</td>\n",
       "      <td>2</td>\n",
       "      <td>2010-2</td>\n",
       "      <td>מרכז</td>\n",
       "      <td>כרמים ח.ת.</td>\n",
       "      <td>18</td>\n",
       "      <td>529862</td>\n",
       "      <td>775342</td>\n",
       "      <td>0%</td>\n",
       "      <td>627</td>\n",
       "      <td>5%</td>\n",
       "    </tr>\n",
       "    <tr>\n",
       "      <th>2</th>\n",
       "      <td>2010</td>\n",
       "      <td>3</td>\n",
       "      <td>2010-3</td>\n",
       "      <td>מרכז</td>\n",
       "      <td>כרמים ח.ת.</td>\n",
       "      <td>17</td>\n",
       "      <td>496999</td>\n",
       "      <td>768180</td>\n",
       "      <td>0%</td>\n",
       "      <td>949</td>\n",
       "      <td>4%</td>\n",
       "    </tr>\n",
       "    <tr>\n",
       "      <th>3</th>\n",
       "      <td>2010</td>\n",
       "      <td>4</td>\n",
       "      <td>2010-4</td>\n",
       "      <td>מרכז</td>\n",
       "      <td>כרמים ח.ת.</td>\n",
       "      <td>17</td>\n",
       "      <td>552616</td>\n",
       "      <td>731936</td>\n",
       "      <td>0%</td>\n",
       "      <td>609</td>\n",
       "      <td>4%</td>\n",
       "    </tr>\n",
       "    <tr>\n",
       "      <th>4</th>\n",
       "      <td>2010</td>\n",
       "      <td>5</td>\n",
       "      <td>2010-5</td>\n",
       "      <td>מרכז</td>\n",
       "      <td>כרמים ח.ת.</td>\n",
       "      <td>19</td>\n",
       "      <td>556533</td>\n",
       "      <td>741589</td>\n",
       "      <td>0%</td>\n",
       "      <td>613</td>\n",
       "      <td>4%</td>\n",
       "    </tr>\n",
       "  </tbody>\n",
       "</table>\n",
       "</div>"
      ],
      "text/plain": [
       "   yyyy  mm yyyy_mm district    pharma_n  unscheduled  inventory_val  \\\n",
       "0  2010   1  2010-1     מרכז  כרמים ח.ת.           19         510613   \n",
       "1  2010   2  2010-2     מרכז  כרמים ח.ת.           18         529862   \n",
       "2  2010   3  2010-3     מרכז  כרמים ח.ת.           17         496999   \n",
       "3  2010   4  2010-4     מרכז  כרמים ח.ת.           17         552616   \n",
       "4  2010   5  2010-5     מרכז  כרמים ח.ת.           19         556533   \n",
       "\n",
       "   inventory_tar p_meeting  changes_pd pchanges_pd  \n",
       "0         756751        0%         608          4%  \n",
       "1         775342        0%         627          5%  \n",
       "2         768180        0%         949          4%  \n",
       "3         731936        0%         609          4%  \n",
       "4         741589        0%         613          4%  "
      ]
     },
     "execution_count": 81,
     "metadata": {},
     "output_type": "execute_result"
    }
   ],
   "source": [
    "import pandas as pd\n",
    "\n",
    "df = pd.read_csv (r'C:\\Users\\DANIEL\\Documents\\DataScience\\data\\pdax_pilot.csv')\n",
    "df.head()"
   ]
  },
  {
   "cell_type": "code",
   "execution_count": 82,
   "metadata": {},
   "outputs": [
    {
     "data": {
      "text/plain": [
       "yyyy              int64\n",
       "mm                int64\n",
       "yyyy_mm          object\n",
       "district         object\n",
       "pharma_n         object\n",
       "unscheduled       int64\n",
       "inventory_val     int64\n",
       "inventory_tar     int64\n",
       "p_meeting        object\n",
       "changes_pd        int64\n",
       "pchanges_pd      object\n",
       "dtype: object"
      ]
     },
     "execution_count": 82,
     "metadata": {},
     "output_type": "execute_result"
    }
   ],
   "source": [
    "df.dtypes"
   ]
  },
  {
   "cell_type": "code",
   "execution_count": 85,
   "metadata": {},
   "outputs": [],
   "source": [
    "df[\"p_meeting\"] = df.p_meeting.str.replace(\"%\", \"\").astype(int) #extract % from values\n",
    "df[\"pchanges_pd\"] = df.pchanges_pd.str.replace(\"%\", \"\").astype(int)  #extract % from values"
   ]
  },
  {
   "cell_type": "code",
   "execution_count": 86,
   "metadata": {},
   "outputs": [
    {
     "data": {
      "text/html": [
       "<div>\n",
       "<style scoped>\n",
       "    .dataframe tbody tr th:only-of-type {\n",
       "        vertical-align: middle;\n",
       "    }\n",
       "\n",
       "    .dataframe tbody tr th {\n",
       "        vertical-align: top;\n",
       "    }\n",
       "\n",
       "    .dataframe thead th {\n",
       "        text-align: right;\n",
       "    }\n",
       "</style>\n",
       "<table border=\"1\" class=\"dataframe\">\n",
       "  <thead>\n",
       "    <tr style=\"text-align: right;\">\n",
       "      <th></th>\n",
       "      <th>yyyy</th>\n",
       "      <th>mm</th>\n",
       "      <th>yyyy_mm</th>\n",
       "      <th>district</th>\n",
       "      <th>pharma_n</th>\n",
       "      <th>unscheduled</th>\n",
       "      <th>inventory_val</th>\n",
       "      <th>inventory_tar</th>\n",
       "      <th>p_meeting</th>\n",
       "      <th>changes_pd</th>\n",
       "      <th>pchanges_pd</th>\n",
       "    </tr>\n",
       "  </thead>\n",
       "  <tbody>\n",
       "    <tr>\n",
       "      <th>273</th>\n",
       "      <td>2018</td>\n",
       "      <td>1</td>\n",
       "      <td>2018-1</td>\n",
       "      <td>מרכז</td>\n",
       "      <td>כרמים ח.ת.</td>\n",
       "      <td>17</td>\n",
       "      <td>837738</td>\n",
       "      <td>803390</td>\n",
       "      <td>4</td>\n",
       "      <td>2188</td>\n",
       "      <td>56</td>\n",
       "    </tr>\n",
       "    <tr>\n",
       "      <th>274</th>\n",
       "      <td>2018</td>\n",
       "      <td>2</td>\n",
       "      <td>2018-2</td>\n",
       "      <td>מרכז</td>\n",
       "      <td>כרמים ח.ת.</td>\n",
       "      <td>16</td>\n",
       "      <td>907449</td>\n",
       "      <td>824545</td>\n",
       "      <td>10</td>\n",
       "      <td>2122</td>\n",
       "      <td>66</td>\n",
       "    </tr>\n",
       "    <tr>\n",
       "      <th>275</th>\n",
       "      <td>2018</td>\n",
       "      <td>3</td>\n",
       "      <td>2018-3</td>\n",
       "      <td>מרכז</td>\n",
       "      <td>כרמים ח.ת.</td>\n",
       "      <td>10</td>\n",
       "      <td>900620</td>\n",
       "      <td>850237</td>\n",
       "      <td>6</td>\n",
       "      <td>2074</td>\n",
       "      <td>63</td>\n",
       "    </tr>\n",
       "    <tr>\n",
       "      <th>276</th>\n",
       "      <td>2018</td>\n",
       "      <td>4</td>\n",
       "      <td>2018-4</td>\n",
       "      <td>מרכז</td>\n",
       "      <td>כרמים ח.ת.</td>\n",
       "      <td>8</td>\n",
       "      <td>759625</td>\n",
       "      <td>824823</td>\n",
       "      <td>0</td>\n",
       "      <td>1632</td>\n",
       "      <td>66</td>\n",
       "    </tr>\n",
       "    <tr>\n",
       "      <th>277</th>\n",
       "      <td>2018</td>\n",
       "      <td>5</td>\n",
       "      <td>2018-5</td>\n",
       "      <td>מרכז</td>\n",
       "      <td>כרמים ח.ת.</td>\n",
       "      <td>12</td>\n",
       "      <td>758943</td>\n",
       "      <td>842313</td>\n",
       "      <td>0</td>\n",
       "      <td>2866</td>\n",
       "      <td>65</td>\n",
       "    </tr>\n",
       "  </tbody>\n",
       "</table>\n",
       "</div>"
      ],
      "text/plain": [
       "     yyyy  mm yyyy_mm district    pharma_n  unscheduled  inventory_val  \\\n",
       "273  2018   1  2018-1     מרכז  כרמים ח.ת.           17         837738   \n",
       "274  2018   2  2018-2     מרכז  כרמים ח.ת.           16         907449   \n",
       "275  2018   3  2018-3     מרכז  כרמים ח.ת.           10         900620   \n",
       "276  2018   4  2018-4     מרכז  כרמים ח.ת.            8         759625   \n",
       "277  2018   5  2018-5     מרכז  כרמים ח.ת.           12         758943   \n",
       "\n",
       "     inventory_tar  p_meeting  changes_pd  pchanges_pd  \n",
       "273         803390          4        2188           56  \n",
       "274         824545         10        2122           66  \n",
       "275         850237          6        2074           63  \n",
       "276         824823          0        1632           66  \n",
       "277         842313          0        2866           65  "
      ]
     },
     "execution_count": 86,
     "metadata": {},
     "output_type": "execute_result"
    }
   ],
   "source": [
    "df1=df\n",
    "df1=df.loc[(df['yyyy_mm'] >= '2018-1')]\n",
    "df1.head()"
   ]
  },
  {
   "cell_type": "code",
   "execution_count": 87,
   "metadata": {},
   "outputs": [],
   "source": [
    "#df['p_meeting'] = df['p_meeting'].astype(float)"
   ]
  },
  {
   "cell_type": "code",
   "execution_count": 65,
   "metadata": {},
   "outputs": [
    {
     "data": {
      "text/plain": [
       "27"
      ]
     },
     "execution_count": 65,
     "metadata": {},
     "output_type": "execute_result"
    }
   ],
   "source": [
    "df['unscheduled'].max()\n",
    "#df['unscheduled'].min()"
   ]
  },
  {
   "cell_type": "code",
   "execution_count": 94,
   "metadata": {
    "scrolled": false
   },
   "outputs": [
    {
     "data": {
      "application/vnd.plotly.v1+json": {
       "config": {
        "plotlyServerURL": "https://plot.ly"
       },
       "data": [
        {
         "hovertemplate": "<b>%{hovertext}</b><br><br>pharma_n=כרמים ח.ת.<br>yyyy_mm=2018-1<br>p_meeting=%{x}<br>unscheduled=%{y}<br>pchanges_pd=%{marker.size}<extra></extra>",
         "hovertext": [
          "כרמים ח.ת."
         ],
         "ids": [
          "כרמים ח.ת."
         ],
         "legendgroup": "כרמים ח.ת.",
         "marker": {
          "color": "#636efa",
          "size": [
           56
          ],
          "sizemode": "area",
          "sizeref": 0.0153,
          "symbol": "circle"
         },
         "mode": "markers",
         "name": "כרמים ח.ת.",
         "showlegend": true,
         "type": "scatter",
         "x": [
          4
         ],
         "xaxis": "x",
         "y": [
          17
         ],
         "yaxis": "y"
        },
        {
         "hovertemplate": "<b>%{hovertext}</b><br><br>pharma_n=מודיעין ר\"ג ח.ת.<br>yyyy_mm=2018-1<br>p_meeting=%{x}<br>unscheduled=%{y}<br>pchanges_pd=%{marker.size}<extra></extra>",
         "hovertext": [
          "מודיעין ר\"ג ח.ת."
         ],
         "ids": [
          "מודיעין ר\"ג ח.ת."
         ],
         "legendgroup": "מודיעין ר\"ג ח.ת.",
         "marker": {
          "color": "#EF553B",
          "size": [
           58
          ],
          "sizemode": "area",
          "sizeref": 0.0153,
          "symbol": "circle"
         },
         "mode": "markers",
         "name": "מודיעין ר\"ג ח.ת.",
         "showlegend": true,
         "type": "scatter",
         "x": [
          22
         ],
         "xaxis": "x",
         "y": [
          11
         ],
         "yaxis": "y"
        },
        {
         "hovertemplate": "<b>%{hovertext}</b><br><br>pharma_n=קיראון ח.ת.<br>yyyy_mm=2018-1<br>p_meeting=%{x}<br>unscheduled=%{y}<br>pchanges_pd=%{marker.size}<extra></extra>",
         "hovertext": [
          "קיראון ח.ת."
         ],
         "ids": [
          "קיראון ח.ת."
         ],
         "legendgroup": "קיראון ח.ת.",
         "marker": {
          "color": "#00cc96",
          "size": [
           49
          ],
          "sizemode": "area",
          "sizeref": 0.0153,
          "symbol": "circle"
         },
         "mode": "markers",
         "name": "קיראון ח.ת.",
         "showlegend": true,
         "type": "scatter",
         "x": [
          5
         ],
         "xaxis": "x",
         "y": [
          13
         ],
         "yaxis": "y"
        }
       ],
       "frames": [
        {
         "data": [
          {
           "hovertemplate": "<b>%{hovertext}</b><br><br>pharma_n=כרמים ח.ת.<br>yyyy_mm=2018-1<br>p_meeting=%{x}<br>unscheduled=%{y}<br>pchanges_pd=%{marker.size}<extra></extra>",
           "hovertext": [
            "כרמים ח.ת."
           ],
           "ids": [
            "כרמים ח.ת."
           ],
           "legendgroup": "כרמים ח.ת.",
           "marker": {
            "color": "#636efa",
            "size": [
             56
            ],
            "sizemode": "area",
            "sizeref": 0.0153,
            "symbol": "circle"
           },
           "mode": "markers",
           "name": "כרמים ח.ת.",
           "showlegend": true,
           "type": "scatter",
           "x": [
            4
           ],
           "xaxis": "x",
           "y": [
            17
           ],
           "yaxis": "y"
          },
          {
           "hovertemplate": "<b>%{hovertext}</b><br><br>pharma_n=מודיעין ר\"ג ח.ת.<br>yyyy_mm=2018-1<br>p_meeting=%{x}<br>unscheduled=%{y}<br>pchanges_pd=%{marker.size}<extra></extra>",
           "hovertext": [
            "מודיעין ר\"ג ח.ת."
           ],
           "ids": [
            "מודיעין ר\"ג ח.ת."
           ],
           "legendgroup": "מודיעין ר\"ג ח.ת.",
           "marker": {
            "color": "#EF553B",
            "size": [
             58
            ],
            "sizemode": "area",
            "sizeref": 0.0153,
            "symbol": "circle"
           },
           "mode": "markers",
           "name": "מודיעין ר\"ג ח.ת.",
           "showlegend": true,
           "type": "scatter",
           "x": [
            22
           ],
           "xaxis": "x",
           "y": [
            11
           ],
           "yaxis": "y"
          },
          {
           "hovertemplate": "<b>%{hovertext}</b><br><br>pharma_n=קיראון ח.ת.<br>yyyy_mm=2018-1<br>p_meeting=%{x}<br>unscheduled=%{y}<br>pchanges_pd=%{marker.size}<extra></extra>",
           "hovertext": [
            "קיראון ח.ת."
           ],
           "ids": [
            "קיראון ח.ת."
           ],
           "legendgroup": "קיראון ח.ת.",
           "marker": {
            "color": "#00cc96",
            "size": [
             49
            ],
            "sizemode": "area",
            "sizeref": 0.0153,
            "symbol": "circle"
           },
           "mode": "markers",
           "name": "קיראון ח.ת.",
           "showlegend": true,
           "type": "scatter",
           "x": [
            5
           ],
           "xaxis": "x",
           "y": [
            13
           ],
           "yaxis": "y"
          }
         ],
         "name": "2018-1"
        },
        {
         "data": [
          {
           "hovertemplate": "<b>%{hovertext}</b><br><br>pharma_n=כרמים ח.ת.<br>yyyy_mm=2018-2<br>p_meeting=%{x}<br>unscheduled=%{y}<br>pchanges_pd=%{marker.size}<extra></extra>",
           "hovertext": [
            "כרמים ח.ת."
           ],
           "ids": [
            "כרמים ח.ת."
           ],
           "legendgroup": "כרמים ח.ת.",
           "marker": {
            "color": "#636efa",
            "size": [
             66
            ],
            "sizemode": "area",
            "sizeref": 0.0153,
            "symbol": "circle"
           },
           "mode": "markers",
           "name": "כרמים ח.ת.",
           "showlegend": true,
           "type": "scatter",
           "x": [
            10
           ],
           "xaxis": "x",
           "y": [
            16
           ],
           "yaxis": "y"
          },
          {
           "hovertemplate": "<b>%{hovertext}</b><br><br>pharma_n=מודיעין ר\"ג ח.ת.<br>yyyy_mm=2018-2<br>p_meeting=%{x}<br>unscheduled=%{y}<br>pchanges_pd=%{marker.size}<extra></extra>",
           "hovertext": [
            "מודיעין ר\"ג ח.ת."
           ],
           "ids": [
            "מודיעין ר\"ג ח.ת."
           ],
           "legendgroup": "מודיעין ר\"ג ח.ת.",
           "marker": {
            "color": "#EF553B",
            "size": [
             58
            ],
            "sizemode": "area",
            "sizeref": 0.0153,
            "symbol": "circle"
           },
           "mode": "markers",
           "name": "מודיעין ר\"ג ח.ת.",
           "showlegend": true,
           "type": "scatter",
           "x": [
            45
           ],
           "xaxis": "x",
           "y": [
            8
           ],
           "yaxis": "y"
          },
          {
           "hovertemplate": "<b>%{hovertext}</b><br><br>pharma_n=קיראון ח.ת.<br>yyyy_mm=2018-2<br>p_meeting=%{x}<br>unscheduled=%{y}<br>pchanges_pd=%{marker.size}<extra></extra>",
           "hovertext": [
            "קיראון ח.ת."
           ],
           "ids": [
            "קיראון ח.ת."
           ],
           "legendgroup": "קיראון ח.ת.",
           "marker": {
            "color": "#00cc96",
            "size": [
             48
            ],
            "sizemode": "area",
            "sizeref": 0.0153,
            "symbol": "circle"
           },
           "mode": "markers",
           "name": "קיראון ח.ת.",
           "showlegend": true,
           "type": "scatter",
           "x": [
            3
           ],
           "xaxis": "x",
           "y": [
            9
           ],
           "yaxis": "y"
          }
         ],
         "name": "2018-2"
        },
        {
         "data": [
          {
           "hovertemplate": "<b>%{hovertext}</b><br><br>pharma_n=כרמים ח.ת.<br>yyyy_mm=2018-3<br>p_meeting=%{x}<br>unscheduled=%{y}<br>pchanges_pd=%{marker.size}<extra></extra>",
           "hovertext": [
            "כרמים ח.ת."
           ],
           "ids": [
            "כרמים ח.ת."
           ],
           "legendgroup": "כרמים ח.ת.",
           "marker": {
            "color": "#636efa",
            "size": [
             63
            ],
            "sizemode": "area",
            "sizeref": 0.0153,
            "symbol": "circle"
           },
           "mode": "markers",
           "name": "כרמים ח.ת.",
           "showlegend": true,
           "type": "scatter",
           "x": [
            6
           ],
           "xaxis": "x",
           "y": [
            10
           ],
           "yaxis": "y"
          },
          {
           "hovertemplate": "<b>%{hovertext}</b><br><br>pharma_n=מודיעין ר\"ג ח.ת.<br>yyyy_mm=2018-3<br>p_meeting=%{x}<br>unscheduled=%{y}<br>pchanges_pd=%{marker.size}<extra></extra>",
           "hovertext": [
            "מודיעין ר\"ג ח.ת."
           ],
           "ids": [
            "מודיעין ר\"ג ח.ת."
           ],
           "legendgroup": "מודיעין ר\"ג ח.ת.",
           "marker": {
            "color": "#EF553B",
            "size": [
             63
            ],
            "sizemode": "area",
            "sizeref": 0.0153,
            "symbol": "circle"
           },
           "mode": "markers",
           "name": "מודיעין ר\"ג ח.ת.",
           "showlegend": true,
           "type": "scatter",
           "x": [
            27
           ],
           "xaxis": "x",
           "y": [
            4
           ],
           "yaxis": "y"
          },
          {
           "hovertemplate": "<b>%{hovertext}</b><br><br>pharma_n=קיראון ח.ת.<br>yyyy_mm=2018-3<br>p_meeting=%{x}<br>unscheduled=%{y}<br>pchanges_pd=%{marker.size}<extra></extra>",
           "hovertext": [
            "קיראון ח.ת."
           ],
           "ids": [
            "קיראון ח.ת."
           ],
           "legendgroup": "קיראון ח.ת.",
           "marker": {
            "color": "#00cc96",
            "size": [
             52
            ],
            "sizemode": "area",
            "sizeref": 0.0153,
            "symbol": "circle"
           },
           "mode": "markers",
           "name": "קיראון ח.ת.",
           "showlegend": true,
           "type": "scatter",
           "x": [
            0
           ],
           "xaxis": "x",
           "y": [
            5
           ],
           "yaxis": "y"
          }
         ],
         "name": "2018-3"
        },
        {
         "data": [
          {
           "hovertemplate": "<b>%{hovertext}</b><br><br>pharma_n=כרמים ח.ת.<br>yyyy_mm=2018-4<br>p_meeting=%{x}<br>unscheduled=%{y}<br>pchanges_pd=%{marker.size}<extra></extra>",
           "hovertext": [
            "כרמים ח.ת."
           ],
           "ids": [
            "כרמים ח.ת."
           ],
           "legendgroup": "כרמים ח.ת.",
           "marker": {
            "color": "#636efa",
            "size": [
             66
            ],
            "sizemode": "area",
            "sizeref": 0.0153,
            "symbol": "circle"
           },
           "mode": "markers",
           "name": "כרמים ח.ת.",
           "showlegend": true,
           "type": "scatter",
           "x": [
            0
           ],
           "xaxis": "x",
           "y": [
            8
           ],
           "yaxis": "y"
          },
          {
           "hovertemplate": "<b>%{hovertext}</b><br><br>pharma_n=מודיעין ר\"ג ח.ת.<br>yyyy_mm=2018-4<br>p_meeting=%{x}<br>unscheduled=%{y}<br>pchanges_pd=%{marker.size}<extra></extra>",
           "hovertext": [
            "מודיעין ר\"ג ח.ת."
           ],
           "ids": [
            "מודיעין ר\"ג ח.ת."
           ],
           "legendgroup": "מודיעין ר\"ג ח.ת.",
           "marker": {
            "color": "#EF553B",
            "size": [
             68
            ],
            "sizemode": "area",
            "sizeref": 0.0153,
            "symbol": "circle"
           },
           "mode": "markers",
           "name": "מודיעין ר\"ג ח.ת.",
           "showlegend": true,
           "type": "scatter",
           "x": [
            20
           ],
           "xaxis": "x",
           "y": [
            7
           ],
           "yaxis": "y"
          },
          {
           "hovertemplate": "<b>%{hovertext}</b><br><br>pharma_n=קיראון ח.ת.<br>yyyy_mm=2018-4<br>p_meeting=%{x}<br>unscheduled=%{y}<br>pchanges_pd=%{marker.size}<extra></extra>",
           "hovertext": [
            "קיראון ח.ת."
           ],
           "ids": [
            "קיראון ח.ת."
           ],
           "legendgroup": "קיראון ח.ת.",
           "marker": {
            "color": "#00cc96",
            "size": [
             46
            ],
            "sizemode": "area",
            "sizeref": 0.0153,
            "symbol": "circle"
           },
           "mode": "markers",
           "name": "קיראון ח.ת.",
           "showlegend": true,
           "type": "scatter",
           "x": [
            4
           ],
           "xaxis": "x",
           "y": [
            11
           ],
           "yaxis": "y"
          }
         ],
         "name": "2018-4"
        },
        {
         "data": [
          {
           "hovertemplate": "<b>%{hovertext}</b><br><br>pharma_n=כרמים ח.ת.<br>yyyy_mm=2018-5<br>p_meeting=%{x}<br>unscheduled=%{y}<br>pchanges_pd=%{marker.size}<extra></extra>",
           "hovertext": [
            "כרמים ח.ת."
           ],
           "ids": [
            "כרמים ח.ת."
           ],
           "legendgroup": "כרמים ח.ת.",
           "marker": {
            "color": "#636efa",
            "size": [
             65
            ],
            "sizemode": "area",
            "sizeref": 0.0153,
            "symbol": "circle"
           },
           "mode": "markers",
           "name": "כרמים ח.ת.",
           "showlegend": true,
           "type": "scatter",
           "x": [
            0
           ],
           "xaxis": "x",
           "y": [
            12
           ],
           "yaxis": "y"
          },
          {
           "hovertemplate": "<b>%{hovertext}</b><br><br>pharma_n=מודיעין ר\"ג ח.ת.<br>yyyy_mm=2018-5<br>p_meeting=%{x}<br>unscheduled=%{y}<br>pchanges_pd=%{marker.size}<extra></extra>",
           "hovertext": [
            "מודיעין ר\"ג ח.ת."
           ],
           "ids": [
            "מודיעין ר\"ג ח.ת."
           ],
           "legendgroup": "מודיעין ר\"ג ח.ת.",
           "marker": {
            "color": "#EF553B",
            "size": [
             70
            ],
            "sizemode": "area",
            "sizeref": 0.0153,
            "symbol": "circle"
           },
           "mode": "markers",
           "name": "מודיעין ר\"ג ח.ת.",
           "showlegend": true,
           "type": "scatter",
           "x": [
            1
           ],
           "xaxis": "x",
           "y": [
            10
           ],
           "yaxis": "y"
          },
          {
           "hovertemplate": "<b>%{hovertext}</b><br><br>pharma_n=קיראון ח.ת.<br>yyyy_mm=2018-5<br>p_meeting=%{x}<br>unscheduled=%{y}<br>pchanges_pd=%{marker.size}<extra></extra>",
           "hovertext": [
            "קיראון ח.ת."
           ],
           "ids": [
            "קיראון ח.ת."
           ],
           "legendgroup": "קיראון ח.ת.",
           "marker": {
            "color": "#00cc96",
            "size": [
             49
            ],
            "sizemode": "area",
            "sizeref": 0.0153,
            "symbol": "circle"
           },
           "mode": "markers",
           "name": "קיראון ח.ת.",
           "showlegend": true,
           "type": "scatter",
           "x": [
            20
           ],
           "xaxis": "x",
           "y": [
            11
           ],
           "yaxis": "y"
          }
         ],
         "name": "2018-5"
        },
        {
         "data": [
          {
           "hovertemplate": "<b>%{hovertext}</b><br><br>pharma_n=כרמים ח.ת.<br>yyyy_mm=2018-6<br>p_meeting=%{x}<br>unscheduled=%{y}<br>pchanges_pd=%{marker.size}<extra></extra>",
           "hovertext": [
            "כרמים ח.ת."
           ],
           "ids": [
            "כרמים ח.ת."
           ],
           "legendgroup": "כרמים ח.ת.",
           "marker": {
            "color": "#636efa",
            "size": [
             61
            ],
            "sizemode": "area",
            "sizeref": 0.0153,
            "symbol": "circle"
           },
           "mode": "markers",
           "name": "כרמים ח.ת.",
           "showlegend": true,
           "type": "scatter",
           "x": [
            9
           ],
           "xaxis": "x",
           "y": [
            13
           ],
           "yaxis": "y"
          },
          {
           "hovertemplate": "<b>%{hovertext}</b><br><br>pharma_n=מודיעין ר\"ג ח.ת.<br>yyyy_mm=2018-6<br>p_meeting=%{x}<br>unscheduled=%{y}<br>pchanges_pd=%{marker.size}<extra></extra>",
           "hovertext": [
            "מודיעין ר\"ג ח.ת."
           ],
           "ids": [
            "מודיעין ר\"ג ח.ת."
           ],
           "legendgroup": "מודיעין ר\"ג ח.ת.",
           "marker": {
            "color": "#EF553B",
            "size": [
             65
            ],
            "sizemode": "area",
            "sizeref": 0.0153,
            "symbol": "circle"
           },
           "mode": "markers",
           "name": "מודיעין ר\"ג ח.ת.",
           "showlegend": true,
           "type": "scatter",
           "x": [
            3
           ],
           "xaxis": "x",
           "y": [
            8
           ],
           "yaxis": "y"
          },
          {
           "hovertemplate": "<b>%{hovertext}</b><br><br>pharma_n=קיראון ח.ת.<br>yyyy_mm=2018-6<br>p_meeting=%{x}<br>unscheduled=%{y}<br>pchanges_pd=%{marker.size}<extra></extra>",
           "hovertext": [
            "קיראון ח.ת."
           ],
           "ids": [
            "קיראון ח.ת."
           ],
           "legendgroup": "קיראון ח.ת.",
           "marker": {
            "color": "#00cc96",
            "size": [
             49
            ],
            "sizemode": "area",
            "sizeref": 0.0153,
            "symbol": "circle"
           },
           "mode": "markers",
           "name": "קיראון ח.ת.",
           "showlegend": true,
           "type": "scatter",
           "x": [
            12
           ],
           "xaxis": "x",
           "y": [
            10
           ],
           "yaxis": "y"
          },
          {
           "hovertemplate": "<b>%{hovertext}</b><br><br>pharma_n=חולון מקצ ח.ת.<br>yyyy_mm=2018-6<br>p_meeting=%{x}<br>unscheduled=%{y}<br>pchanges_pd=%{marker.size}<extra></extra>",
           "hovertext": [
            "חולון מקצ ח.ת."
           ],
           "ids": [
            "חולון מקצ ח.ת."
           ],
           "legendgroup": "חולון מקצ ח.ת.",
           "marker": {
            "color": "#ab63fa",
            "size": [
             153
            ],
            "sizemode": "area",
            "sizeref": 0.0153,
            "symbol": "circle"
           },
           "mode": "markers",
           "name": "חולון מקצ ח.ת.",
           "showlegend": true,
           "type": "scatter",
           "x": [
            583
           ],
           "xaxis": "x",
           "y": [
            22
           ],
           "yaxis": "y"
          }
         ],
         "name": "2018-6"
        },
        {
         "data": [
          {
           "hovertemplate": "<b>%{hovertext}</b><br><br>pharma_n=כרמים ח.ת.<br>yyyy_mm=2018-7<br>p_meeting=%{x}<br>unscheduled=%{y}<br>pchanges_pd=%{marker.size}<extra></extra>",
           "hovertext": [
            "כרמים ח.ת."
           ],
           "ids": [
            "כרמים ח.ת."
           ],
           "legendgroup": "כרמים ח.ת.",
           "marker": {
            "color": "#636efa",
            "size": [
             55
            ],
            "sizemode": "area",
            "sizeref": 0.0153,
            "symbol": "circle"
           },
           "mode": "markers",
           "name": "כרמים ח.ת.",
           "showlegend": true,
           "type": "scatter",
           "x": [
            25
           ],
           "xaxis": "x",
           "y": [
            15
           ],
           "yaxis": "y"
          },
          {
           "hovertemplate": "<b>%{hovertext}</b><br><br>pharma_n=מודיעין ר\"ג ח.ת.<br>yyyy_mm=2018-7<br>p_meeting=%{x}<br>unscheduled=%{y}<br>pchanges_pd=%{marker.size}<extra></extra>",
           "hovertext": [
            "מודיעין ר\"ג ח.ת."
           ],
           "ids": [
            "מודיעין ר\"ג ח.ת."
           ],
           "legendgroup": "מודיעין ר\"ג ח.ת.",
           "marker": {
            "color": "#EF553B",
            "size": [
             70
            ],
            "sizemode": "area",
            "sizeref": 0.0153,
            "symbol": "circle"
           },
           "mode": "markers",
           "name": "מודיעין ר\"ג ח.ת.",
           "showlegend": true,
           "type": "scatter",
           "x": [
            7
           ],
           "xaxis": "x",
           "y": [
            7
           ],
           "yaxis": "y"
          },
          {
           "hovertemplate": "<b>%{hovertext}</b><br><br>pharma_n=קיראון ח.ת.<br>yyyy_mm=2018-7<br>p_meeting=%{x}<br>unscheduled=%{y}<br>pchanges_pd=%{marker.size}<extra></extra>",
           "hovertext": [
            "קיראון ח.ת."
           ],
           "ids": [
            "קיראון ח.ת."
           ],
           "legendgroup": "קיראון ח.ת.",
           "marker": {
            "color": "#00cc96",
            "size": [
             49
            ],
            "sizemode": "area",
            "sizeref": 0.0153,
            "symbol": "circle"
           },
           "mode": "markers",
           "name": "קיראון ח.ת.",
           "showlegend": true,
           "type": "scatter",
           "x": [
            6
           ],
           "xaxis": "x",
           "y": [
            8
           ],
           "yaxis": "y"
          },
          {
           "hovertemplate": "<b>%{hovertext}</b><br><br>pharma_n=חולון מקצ ח.ת.<br>yyyy_mm=2018-7<br>p_meeting=%{x}<br>unscheduled=%{y}<br>pchanges_pd=%{marker.size}<extra></extra>",
           "hovertext": [
            "חולון מקצ ח.ת."
           ],
           "ids": [
            "חולון מקצ ח.ת."
           ],
           "legendgroup": "חולון מקצ ח.ת.",
           "marker": {
            "color": "#ab63fa",
            "size": [
             136
            ],
            "sizemode": "area",
            "sizeref": 0.0153,
            "symbol": "circle"
           },
           "mode": "markers",
           "name": "חולון מקצ ח.ת.",
           "showlegend": true,
           "type": "scatter",
           "x": [
            169
           ],
           "xaxis": "x",
           "y": [
            20
           ],
           "yaxis": "y"
          }
         ],
         "name": "2018-7"
        },
        {
         "data": [
          {
           "hovertemplate": "<b>%{hovertext}</b><br><br>pharma_n=כרמים ח.ת.<br>yyyy_mm=2018-8<br>p_meeting=%{x}<br>unscheduled=%{y}<br>pchanges_pd=%{marker.size}<extra></extra>",
           "hovertext": [
            "כרמים ח.ת."
           ],
           "ids": [
            "כרמים ח.ת."
           ],
           "legendgroup": "כרמים ח.ת.",
           "marker": {
            "color": "#636efa",
            "size": [
             49
            ],
            "sizemode": "area",
            "sizeref": 0.0153,
            "symbol": "circle"
           },
           "mode": "markers",
           "name": "כרמים ח.ת.",
           "showlegend": true,
           "type": "scatter",
           "x": [
            10
           ],
           "xaxis": "x",
           "y": [
            12
           ],
           "yaxis": "y"
          },
          {
           "hovertemplate": "<b>%{hovertext}</b><br><br>pharma_n=מודיעין ר\"ג ח.ת.<br>yyyy_mm=2018-8<br>p_meeting=%{x}<br>unscheduled=%{y}<br>pchanges_pd=%{marker.size}<extra></extra>",
           "hovertext": [
            "מודיעין ר\"ג ח.ת."
           ],
           "ids": [
            "מודיעין ר\"ג ח.ת."
           ],
           "legendgroup": "מודיעין ר\"ג ח.ת.",
           "marker": {
            "color": "#EF553B",
            "size": [
             60
            ],
            "sizemode": "area",
            "sizeref": 0.0153,
            "symbol": "circle"
           },
           "mode": "markers",
           "name": "מודיעין ר\"ג ח.ת.",
           "showlegend": true,
           "type": "scatter",
           "x": [
            10
           ],
           "xaxis": "x",
           "y": [
            15
           ],
           "yaxis": "y"
          },
          {
           "hovertemplate": "<b>%{hovertext}</b><br><br>pharma_n=קיראון ח.ת.<br>yyyy_mm=2018-8<br>p_meeting=%{x}<br>unscheduled=%{y}<br>pchanges_pd=%{marker.size}<extra></extra>",
           "hovertext": [
            "קיראון ח.ת."
           ],
           "ids": [
            "קיראון ח.ת."
           ],
           "legendgroup": "קיראון ח.ת.",
           "marker": {
            "color": "#00cc96",
            "size": [
             54
            ],
            "sizemode": "area",
            "sizeref": 0.0153,
            "symbol": "circle"
           },
           "mode": "markers",
           "name": "קיראון ח.ת.",
           "showlegend": true,
           "type": "scatter",
           "x": [
            6
           ],
           "xaxis": "x",
           "y": [
            9
           ],
           "yaxis": "y"
          },
          {
           "hovertemplate": "<b>%{hovertext}</b><br><br>pharma_n=חולון מקצ ח.ת.<br>yyyy_mm=2018-8<br>p_meeting=%{x}<br>unscheduled=%{y}<br>pchanges_pd=%{marker.size}<extra></extra>",
           "hovertext": [
            "חולון מקצ ח.ת."
           ],
           "ids": [
            "חולון מקצ ח.ת."
           ],
           "legendgroup": "חולון מקצ ח.ת.",
           "marker": {
            "color": "#ab63fa",
            "size": [
             83
            ],
            "sizemode": "area",
            "sizeref": 0.0153,
            "symbol": "circle"
           },
           "mode": "markers",
           "name": "חולון מקצ ח.ת.",
           "showlegend": true,
           "type": "scatter",
           "x": [
            20
           ],
           "xaxis": "x",
           "y": [
            11
           ],
           "yaxis": "y"
          }
         ],
         "name": "2018-8"
        },
        {
         "data": [
          {
           "hovertemplate": "<b>%{hovertext}</b><br><br>pharma_n=כרמים ח.ת.<br>yyyy_mm=2018-9<br>p_meeting=%{x}<br>unscheduled=%{y}<br>pchanges_pd=%{marker.size}<extra></extra>",
           "hovertext": [
            "כרמים ח.ת."
           ],
           "ids": [
            "כרמים ח.ת."
           ],
           "legendgroup": "כרמים ח.ת.",
           "marker": {
            "color": "#636efa",
            "size": [
             46
            ],
            "sizemode": "area",
            "sizeref": 0.0153,
            "symbol": "circle"
           },
           "mode": "markers",
           "name": "כרמים ח.ת.",
           "showlegend": true,
           "type": "scatter",
           "x": [
            18
           ],
           "xaxis": "x",
           "y": [
            13
           ],
           "yaxis": "y"
          },
          {
           "hovertemplate": "<b>%{hovertext}</b><br><br>pharma_n=מודיעין ר\"ג ח.ת.<br>yyyy_mm=2018-9<br>p_meeting=%{x}<br>unscheduled=%{y}<br>pchanges_pd=%{marker.size}<extra></extra>",
           "hovertext": [
            "מודיעין ר\"ג ח.ת."
           ],
           "ids": [
            "מודיעין ר\"ג ח.ת."
           ],
           "legendgroup": "מודיעין ר\"ג ח.ת.",
           "marker": {
            "color": "#EF553B",
            "size": [
             75
            ],
            "sizemode": "area",
            "sizeref": 0.0153,
            "symbol": "circle"
           },
           "mode": "markers",
           "name": "מודיעין ר\"ג ח.ת.",
           "showlegend": true,
           "type": "scatter",
           "x": [
            10
           ],
           "xaxis": "x",
           "y": [
            10
           ],
           "yaxis": "y"
          },
          {
           "hovertemplate": "<b>%{hovertext}</b><br><br>pharma_n=קיראון ח.ת.<br>yyyy_mm=2018-9<br>p_meeting=%{x}<br>unscheduled=%{y}<br>pchanges_pd=%{marker.size}<extra></extra>",
           "hovertext": [
            "קיראון ח.ת."
           ],
           "ids": [
            "קיראון ח.ת."
           ],
           "legendgroup": "קיראון ח.ת.",
           "marker": {
            "color": "#00cc96",
            "size": [
             35
            ],
            "sizemode": "area",
            "sizeref": 0.0153,
            "symbol": "circle"
           },
           "mode": "markers",
           "name": "קיראון ח.ת.",
           "showlegend": true,
           "type": "scatter",
           "x": [
            7
           ],
           "xaxis": "x",
           "y": [
            6
           ],
           "yaxis": "y"
          },
          {
           "hovertemplate": "<b>%{hovertext}</b><br><br>pharma_n=חולון מקצ ח.ת.<br>yyyy_mm=2018-9<br>p_meeting=%{x}<br>unscheduled=%{y}<br>pchanges_pd=%{marker.size}<extra></extra>",
           "hovertext": [
            "חולון מקצ ח.ת."
           ],
           "ids": [
            "חולון מקצ ח.ת."
           ],
           "legendgroup": "חולון מקצ ח.ת.",
           "marker": {
            "color": "#ab63fa",
            "size": [
             66
            ],
            "sizemode": "area",
            "sizeref": 0.0153,
            "symbol": "circle"
           },
           "mode": "markers",
           "name": "חולון מקצ ח.ת.",
           "showlegend": true,
           "type": "scatter",
           "x": [
            103
           ],
           "xaxis": "x",
           "y": [
            5
           ],
           "yaxis": "y"
          }
         ],
         "name": "2018-9"
        },
        {
         "data": [
          {
           "hovertemplate": "<b>%{hovertext}</b><br><br>pharma_n=כרמים ח.ת.<br>yyyy_mm=2018-10<br>p_meeting=%{x}<br>unscheduled=%{y}<br>pchanges_pd=%{marker.size}<extra></extra>",
           "hovertext": [
            "כרמים ח.ת."
           ],
           "ids": [
            "כרמים ח.ת."
           ],
           "legendgroup": "כרמים ח.ת.",
           "marker": {
            "color": "#636efa",
            "size": [
             43
            ],
            "sizemode": "area",
            "sizeref": 0.0153,
            "symbol": "circle"
           },
           "mode": "markers",
           "name": "כרמים ח.ת.",
           "showlegend": true,
           "type": "scatter",
           "x": [
            37
           ],
           "xaxis": "x",
           "y": [
            19
           ],
           "yaxis": "y"
          },
          {
           "hovertemplate": "<b>%{hovertext}</b><br><br>pharma_n=מודיעין ר\"ג ח.ת.<br>yyyy_mm=2018-10<br>p_meeting=%{x}<br>unscheduled=%{y}<br>pchanges_pd=%{marker.size}<extra></extra>",
           "hovertext": [
            "מודיעין ר\"ג ח.ת."
           ],
           "ids": [
            "מודיעין ר\"ג ח.ת."
           ],
           "legendgroup": "מודיעין ר\"ג ח.ת.",
           "marker": {
            "color": "#EF553B",
            "size": [
             78
            ],
            "sizemode": "area",
            "sizeref": 0.0153,
            "symbol": "circle"
           },
           "mode": "markers",
           "name": "מודיעין ר\"ג ח.ת.",
           "showlegend": true,
           "type": "scatter",
           "x": [
            31
           ],
           "xaxis": "x",
           "y": [
            11
           ],
           "yaxis": "y"
          },
          {
           "hovertemplate": "<b>%{hovertext}</b><br><br>pharma_n=קיראון ח.ת.<br>yyyy_mm=2018-10<br>p_meeting=%{x}<br>unscheduled=%{y}<br>pchanges_pd=%{marker.size}<extra></extra>",
           "hovertext": [
            "קיראון ח.ת."
           ],
           "ids": [
            "קיראון ח.ת."
           ],
           "legendgroup": "קיראון ח.ת.",
           "marker": {
            "color": "#00cc96",
            "size": [
             53
            ],
            "sizemode": "area",
            "sizeref": 0.0153,
            "symbol": "circle"
           },
           "mode": "markers",
           "name": "קיראון ח.ת.",
           "showlegend": true,
           "type": "scatter",
           "x": [
            5
           ],
           "xaxis": "x",
           "y": [
            11
           ],
           "yaxis": "y"
          },
          {
           "hovertemplate": "<b>%{hovertext}</b><br><br>pharma_n=חולון מקצ ח.ת.<br>yyyy_mm=2018-10<br>p_meeting=%{x}<br>unscheduled=%{y}<br>pchanges_pd=%{marker.size}<extra></extra>",
           "hovertext": [
            "חולון מקצ ח.ת."
           ],
           "ids": [
            "חולון מקצ ח.ת."
           ],
           "legendgroup": "חולון מקצ ח.ת.",
           "marker": {
            "color": "#ab63fa",
            "size": [
             76
            ],
            "sizemode": "area",
            "sizeref": 0.0153,
            "symbol": "circle"
           },
           "mode": "markers",
           "name": "חולון מקצ ח.ת.",
           "showlegend": true,
           "type": "scatter",
           "x": [
            75
           ],
           "xaxis": "x",
           "y": [
            11
           ],
           "yaxis": "y"
          }
         ],
         "name": "2018-10"
        },
        {
         "data": [
          {
           "hovertemplate": "<b>%{hovertext}</b><br><br>pharma_n=כרמים ח.ת.<br>yyyy_mm=2018-11<br>p_meeting=%{x}<br>unscheduled=%{y}<br>pchanges_pd=%{marker.size}<extra></extra>",
           "hovertext": [
            "כרמים ח.ת."
           ],
           "ids": [
            "כרמים ח.ת."
           ],
           "legendgroup": "כרמים ח.ת.",
           "marker": {
            "color": "#636efa",
            "size": [
             43
            ],
            "sizemode": "area",
            "sizeref": 0.0153,
            "symbol": "circle"
           },
           "mode": "markers",
           "name": "כרמים ח.ת.",
           "showlegend": true,
           "type": "scatter",
           "x": [
            53
           ],
           "xaxis": "x",
           "y": [
            9
           ],
           "yaxis": "y"
          },
          {
           "hovertemplate": "<b>%{hovertext}</b><br><br>pharma_n=מודיעין ר\"ג ח.ת.<br>yyyy_mm=2018-11<br>p_meeting=%{x}<br>unscheduled=%{y}<br>pchanges_pd=%{marker.size}<extra></extra>",
           "hovertext": [
            "מודיעין ר\"ג ח.ת."
           ],
           "ids": [
            "מודיעין ר\"ג ח.ת."
           ],
           "legendgroup": "מודיעין ר\"ג ח.ת.",
           "marker": {
            "color": "#EF553B",
            "size": [
             65
            ],
            "sizemode": "area",
            "sizeref": 0.0153,
            "symbol": "circle"
           },
           "mode": "markers",
           "name": "מודיעין ר\"ג ח.ת.",
           "showlegend": true,
           "type": "scatter",
           "x": [
            60
           ],
           "xaxis": "x",
           "y": [
            6
           ],
           "yaxis": "y"
          },
          {
           "hovertemplate": "<b>%{hovertext}</b><br><br>pharma_n=קיראון ח.ת.<br>yyyy_mm=2018-11<br>p_meeting=%{x}<br>unscheduled=%{y}<br>pchanges_pd=%{marker.size}<extra></extra>",
           "hovertext": [
            "קיראון ח.ת."
           ],
           "ids": [
            "קיראון ח.ת."
           ],
           "legendgroup": "קיראון ח.ת.",
           "marker": {
            "color": "#00cc96",
            "size": [
             49
            ],
            "sizemode": "area",
            "sizeref": 0.0153,
            "symbol": "circle"
           },
           "mode": "markers",
           "name": "קיראון ח.ת.",
           "showlegend": true,
           "type": "scatter",
           "x": [
            4
           ],
           "xaxis": "x",
           "y": [
            12
           ],
           "yaxis": "y"
          },
          {
           "hovertemplate": "<b>%{hovertext}</b><br><br>pharma_n=חולון מקצ ח.ת.<br>yyyy_mm=2018-11<br>p_meeting=%{x}<br>unscheduled=%{y}<br>pchanges_pd=%{marker.size}<extra></extra>",
           "hovertext": [
            "חולון מקצ ח.ת."
           ],
           "ids": [
            "חולון מקצ ח.ת."
           ],
           "legendgroup": "חולון מקצ ח.ת.",
           "marker": {
            "color": "#ab63fa",
            "size": [
             92
            ],
            "sizemode": "area",
            "sizeref": 0.0153,
            "symbol": "circle"
           },
           "mode": "markers",
           "name": "חולון מקצ ח.ת.",
           "showlegend": true,
           "type": "scatter",
           "x": [
            58
           ],
           "xaxis": "x",
           "y": [
            8
           ],
           "yaxis": "y"
          }
         ],
         "name": "2018-11"
        },
        {
         "data": [
          {
           "hovertemplate": "<b>%{hovertext}</b><br><br>pharma_n=כרמים ח.ת.<br>yyyy_mm=2018-12<br>p_meeting=%{x}<br>unscheduled=%{y}<br>pchanges_pd=%{marker.size}<extra></extra>",
           "hovertext": [
            "כרמים ח.ת."
           ],
           "ids": [
            "כרמים ח.ת."
           ],
           "legendgroup": "כרמים ח.ת.",
           "marker": {
            "color": "#636efa",
            "size": [
             55
            ],
            "sizemode": "area",
            "sizeref": 0.0153,
            "symbol": "circle"
           },
           "mode": "markers",
           "name": "כרמים ח.ת.",
           "showlegend": true,
           "type": "scatter",
           "x": [
            51
           ],
           "xaxis": "x",
           "y": [
            16
           ],
           "yaxis": "y"
          },
          {
           "hovertemplate": "<b>%{hovertext}</b><br><br>pharma_n=מודיעין ר\"ג ח.ת.<br>yyyy_mm=2018-12<br>p_meeting=%{x}<br>unscheduled=%{y}<br>pchanges_pd=%{marker.size}<extra></extra>",
           "hovertext": [
            "מודיעין ר\"ג ח.ת."
           ],
           "ids": [
            "מודיעין ר\"ג ח.ת."
           ],
           "legendgroup": "מודיעין ר\"ג ח.ת.",
           "marker": {
            "color": "#EF553B",
            "size": [
             78
            ],
            "sizemode": "area",
            "sizeref": 0.0153,
            "symbol": "circle"
           },
           "mode": "markers",
           "name": "מודיעין ר\"ג ח.ת.",
           "showlegend": true,
           "type": "scatter",
           "x": [
            56
           ],
           "xaxis": "x",
           "y": [
            11
           ],
           "yaxis": "y"
          },
          {
           "hovertemplate": "<b>%{hovertext}</b><br><br>pharma_n=קיראון ח.ת.<br>yyyy_mm=2018-12<br>p_meeting=%{x}<br>unscheduled=%{y}<br>pchanges_pd=%{marker.size}<extra></extra>",
           "hovertext": [
            "קיראון ח.ת."
           ],
           "ids": [
            "קיראון ח.ת."
           ],
           "legendgroup": "קיראון ח.ת.",
           "marker": {
            "color": "#00cc96",
            "size": [
             49
            ],
            "sizemode": "area",
            "sizeref": 0.0153,
            "symbol": "circle"
           },
           "mode": "markers",
           "name": "קיראון ח.ת.",
           "showlegend": true,
           "type": "scatter",
           "x": [
            0
           ],
           "xaxis": "x",
           "y": [
            13
           ],
           "yaxis": "y"
          },
          {
           "hovertemplate": "<b>%{hovertext}</b><br><br>pharma_n=חולון מקצ ח.ת.<br>yyyy_mm=2018-12<br>p_meeting=%{x}<br>unscheduled=%{y}<br>pchanges_pd=%{marker.size}<extra></extra>",
           "hovertext": [
            "חולון מקצ ח.ת."
           ],
           "ids": [
            "חולון מקצ ח.ת."
           ],
           "legendgroup": "חולון מקצ ח.ת.",
           "marker": {
            "color": "#ab63fa",
            "size": [
             78
            ],
            "sizemode": "area",
            "sizeref": 0.0153,
            "symbol": "circle"
           },
           "mode": "markers",
           "name": "חולון מקצ ח.ת.",
           "showlegend": true,
           "type": "scatter",
           "x": [
            62
           ],
           "xaxis": "x",
           "y": [
            12
           ],
           "yaxis": "y"
          }
         ],
         "name": "2018-12"
        },
        {
         "data": [
          {
           "hovertemplate": "<b>%{hovertext}</b><br><br>pharma_n=כרמים ח.ת.<br>yyyy_mm=2019-1<br>p_meeting=%{x}<br>unscheduled=%{y}<br>pchanges_pd=%{marker.size}<extra></extra>",
           "hovertext": [
            "כרמים ח.ת."
           ],
           "ids": [
            "כרמים ח.ת."
           ],
           "legendgroup": "כרמים ח.ת.",
           "marker": {
            "color": "#636efa",
            "size": [
             50
            ],
            "sizemode": "area",
            "sizeref": 0.0153,
            "symbol": "circle"
           },
           "mode": "markers",
           "name": "כרמים ח.ת.",
           "showlegend": true,
           "type": "scatter",
           "x": [
            39
           ],
           "xaxis": "x",
           "y": [
            13
           ],
           "yaxis": "y"
          },
          {
           "hovertemplate": "<b>%{hovertext}</b><br><br>pharma_n=מודיעין ר\"ג ח.ת.<br>yyyy_mm=2019-1<br>p_meeting=%{x}<br>unscheduled=%{y}<br>pchanges_pd=%{marker.size}<extra></extra>",
           "hovertext": [
            "מודיעין ר\"ג ח.ת."
           ],
           "ids": [
            "מודיעין ר\"ג ח.ת."
           ],
           "legendgroup": "מודיעין ר\"ג ח.ת.",
           "marker": {
            "color": "#EF553B",
            "size": [
             49
            ],
            "sizemode": "area",
            "sizeref": 0.0153,
            "symbol": "circle"
           },
           "mode": "markers",
           "name": "מודיעין ר\"ג ח.ת.",
           "showlegend": true,
           "type": "scatter",
           "x": [
            42
           ],
           "xaxis": "x",
           "y": [
            14
           ],
           "yaxis": "y"
          },
          {
           "hovertemplate": "<b>%{hovertext}</b><br><br>pharma_n=קיראון ח.ת.<br>yyyy_mm=2019-1<br>p_meeting=%{x}<br>unscheduled=%{y}<br>pchanges_pd=%{marker.size}<extra></extra>",
           "hovertext": [
            "קיראון ח.ת."
           ],
           "ids": [
            "קיראון ח.ת."
           ],
           "legendgroup": "קיראון ח.ת.",
           "marker": {
            "color": "#00cc96",
            "size": [
             51
            ],
            "sizemode": "area",
            "sizeref": 0.0153,
            "symbol": "circle"
           },
           "mode": "markers",
           "name": "קיראון ח.ת.",
           "showlegend": true,
           "type": "scatter",
           "x": [
            10
           ],
           "xaxis": "x",
           "y": [
            11
           ],
           "yaxis": "y"
          },
          {
           "hovertemplate": "<b>%{hovertext}</b><br><br>pharma_n=חולון מקצ ח.ת.<br>yyyy_mm=2019-1<br>p_meeting=%{x}<br>unscheduled=%{y}<br>pchanges_pd=%{marker.size}<extra></extra>",
           "hovertext": [
            "חולון מקצ ח.ת."
           ],
           "ids": [
            "חולון מקצ ח.ת."
           ],
           "legendgroup": "חולון מקצ ח.ת.",
           "marker": {
            "color": "#ab63fa",
            "size": [
             82
            ],
            "sizemode": "area",
            "sizeref": 0.0153,
            "symbol": "circle"
           },
           "mode": "markers",
           "name": "חולון מקצ ח.ת.",
           "showlegend": true,
           "type": "scatter",
           "x": [
            52
           ],
           "xaxis": "x",
           "y": [
            10
           ],
           "yaxis": "y"
          }
         ],
         "name": "2019-1"
        },
        {
         "data": [
          {
           "hovertemplate": "<b>%{hovertext}</b><br><br>pharma_n=כרמים ח.ת.<br>yyyy_mm=2019-2<br>p_meeting=%{x}<br>unscheduled=%{y}<br>pchanges_pd=%{marker.size}<extra></extra>",
           "hovertext": [
            "כרמים ח.ת."
           ],
           "ids": [
            "כרמים ח.ת."
           ],
           "legendgroup": "כרמים ח.ת.",
           "marker": {
            "color": "#636efa",
            "size": [
             58
            ],
            "sizemode": "area",
            "sizeref": 0.0153,
            "symbol": "circle"
           },
           "mode": "markers",
           "name": "כרמים ח.ת.",
           "showlegend": true,
           "type": "scatter",
           "x": [
            59
           ],
           "xaxis": "x",
           "y": [
            11
           ],
           "yaxis": "y"
          },
          {
           "hovertemplate": "<b>%{hovertext}</b><br><br>pharma_n=מודיעין ר\"ג ח.ת.<br>yyyy_mm=2019-2<br>p_meeting=%{x}<br>unscheduled=%{y}<br>pchanges_pd=%{marker.size}<extra></extra>",
           "hovertext": [
            "מודיעין ר\"ג ח.ת."
           ],
           "ids": [
            "מודיעין ר\"ג ח.ת."
           ],
           "legendgroup": "מודיעין ר\"ג ח.ת.",
           "marker": {
            "color": "#EF553B",
            "size": [
             40
            ],
            "sizemode": "area",
            "sizeref": 0.0153,
            "symbol": "circle"
           },
           "mode": "markers",
           "name": "מודיעין ר\"ג ח.ת.",
           "showlegend": true,
           "type": "scatter",
           "x": [
            39
           ],
           "xaxis": "x",
           "y": [
            10
           ],
           "yaxis": "y"
          },
          {
           "hovertemplate": "<b>%{hovertext}</b><br><br>pharma_n=קיראון ח.ת.<br>yyyy_mm=2019-2<br>p_meeting=%{x}<br>unscheduled=%{y}<br>pchanges_pd=%{marker.size}<extra></extra>",
           "hovertext": [
            "קיראון ח.ת."
           ],
           "ids": [
            "קיראון ח.ת."
           ],
           "legendgroup": "קיראון ח.ת.",
           "marker": {
            "color": "#00cc96",
            "size": [
             56
            ],
            "sizemode": "area",
            "sizeref": 0.0153,
            "symbol": "circle"
           },
           "mode": "markers",
           "name": "קיראון ח.ת.",
           "showlegend": true,
           "type": "scatter",
           "x": [
            25
           ],
           "xaxis": "x",
           "y": [
            7
           ],
           "yaxis": "y"
          },
          {
           "hovertemplate": "<b>%{hovertext}</b><br><br>pharma_n=חולון מקצ ח.ת.<br>yyyy_mm=2019-2<br>p_meeting=%{x}<br>unscheduled=%{y}<br>pchanges_pd=%{marker.size}<extra></extra>",
           "hovertext": [
            "חולון מקצ ח.ת."
           ],
           "ids": [
            "חולון מקצ ח.ת."
           ],
           "legendgroup": "חולון מקצ ח.ת.",
           "marker": {
            "color": "#ab63fa",
            "size": [
             85
            ],
            "sizemode": "area",
            "sizeref": 0.0153,
            "symbol": "circle"
           },
           "mode": "markers",
           "name": "חולון מקצ ח.ת.",
           "showlegend": true,
           "type": "scatter",
           "x": [
            50
           ],
           "xaxis": "x",
           "y": [
            11
           ],
           "yaxis": "y"
          }
         ],
         "name": "2019-2"
        },
        {
         "data": [
          {
           "hovertemplate": "<b>%{hovertext}</b><br><br>pharma_n=כרמים ח.ת.<br>yyyy_mm=2019-3<br>p_meeting=%{x}<br>unscheduled=%{y}<br>pchanges_pd=%{marker.size}<extra></extra>",
           "hovertext": [
            "כרמים ח.ת."
           ],
           "ids": [
            "כרמים ח.ת."
           ],
           "legendgroup": "כרמים ח.ת.",
           "marker": {
            "color": "#636efa",
            "size": [
             60
            ],
            "sizemode": "area",
            "sizeref": 0.0153,
            "symbol": "circle"
           },
           "mode": "markers",
           "name": "כרמים ח.ת.",
           "showlegend": true,
           "type": "scatter",
           "x": [
            60
           ],
           "xaxis": "x",
           "y": [
            16
           ],
           "yaxis": "y"
          },
          {
           "hovertemplate": "<b>%{hovertext}</b><br><br>pharma_n=מודיעין ר\"ג ח.ת.<br>yyyy_mm=2019-3<br>p_meeting=%{x}<br>unscheduled=%{y}<br>pchanges_pd=%{marker.size}<extra></extra>",
           "hovertext": [
            "מודיעין ר\"ג ח.ת."
           ],
           "ids": [
            "מודיעין ר\"ג ח.ת."
           ],
           "legendgroup": "מודיעין ר\"ג ח.ת.",
           "marker": {
            "color": "#EF553B",
            "size": [
             50
            ],
            "sizemode": "area",
            "sizeref": 0.0153,
            "symbol": "circle"
           },
           "mode": "markers",
           "name": "מודיעין ר\"ג ח.ת.",
           "showlegend": true,
           "type": "scatter",
           "x": [
            57
           ],
           "xaxis": "x",
           "y": [
            15
           ],
           "yaxis": "y"
          },
          {
           "hovertemplate": "<b>%{hovertext}</b><br><br>pharma_n=קיראון ח.ת.<br>yyyy_mm=2019-3<br>p_meeting=%{x}<br>unscheduled=%{y}<br>pchanges_pd=%{marker.size}<extra></extra>",
           "hovertext": [
            "קיראון ח.ת."
           ],
           "ids": [
            "קיראון ח.ת."
           ],
           "legendgroup": "קיראון ח.ת.",
           "marker": {
            "color": "#00cc96",
            "size": [
             92
            ],
            "sizemode": "area",
            "sizeref": 0.0153,
            "symbol": "circle"
           },
           "mode": "markers",
           "name": "קיראון ח.ת.",
           "showlegend": true,
           "type": "scatter",
           "x": [
            22
           ],
           "xaxis": "x",
           "y": [
            5
           ],
           "yaxis": "y"
          },
          {
           "hovertemplate": "<b>%{hovertext}</b><br><br>pharma_n=חולון מקצ ח.ת.<br>yyyy_mm=2019-3<br>p_meeting=%{x}<br>unscheduled=%{y}<br>pchanges_pd=%{marker.size}<extra></extra>",
           "hovertext": [
            "חולון מקצ ח.ת."
           ],
           "ids": [
            "חולון מקצ ח.ת."
           ],
           "legendgroup": "חולון מקצ ח.ת.",
           "marker": {
            "color": "#ab63fa",
            "size": [
             92
            ],
            "sizemode": "area",
            "sizeref": 0.0153,
            "symbol": "circle"
           },
           "mode": "markers",
           "name": "חולון מקצ ח.ת.",
           "showlegend": true,
           "type": "scatter",
           "x": [
            51
           ],
           "xaxis": "x",
           "y": [
            16
           ],
           "yaxis": "y"
          }
         ],
         "name": "2019-3"
        },
        {
         "data": [
          {
           "hovertemplate": "<b>%{hovertext}</b><br><br>pharma_n=כרמים ח.ת.<br>yyyy_mm=2019-4<br>p_meeting=%{x}<br>unscheduled=%{y}<br>pchanges_pd=%{marker.size}<extra></extra>",
           "hovertext": [
            "כרמים ח.ת."
           ],
           "ids": [
            "כרמים ח.ת."
           ],
           "legendgroup": "כרמים ח.ת.",
           "marker": {
            "color": "#636efa",
            "size": [
             69
            ],
            "sizemode": "area",
            "sizeref": 0.0153,
            "symbol": "circle"
           },
           "mode": "markers",
           "name": "כרמים ח.ת.",
           "showlegend": true,
           "type": "scatter",
           "x": [
            71
           ],
           "xaxis": "x",
           "y": [
            13
           ],
           "yaxis": "y"
          },
          {
           "hovertemplate": "<b>%{hovertext}</b><br><br>pharma_n=מודיעין ר\"ג ח.ת.<br>yyyy_mm=2019-4<br>p_meeting=%{x}<br>unscheduled=%{y}<br>pchanges_pd=%{marker.size}<extra></extra>",
           "hovertext": [
            "מודיעין ר\"ג ח.ת."
           ],
           "ids": [
            "מודיעין ר\"ג ח.ת."
           ],
           "legendgroup": "מודיעין ר\"ג ח.ת.",
           "marker": {
            "color": "#EF553B",
            "size": [
             46
            ],
            "sizemode": "area",
            "sizeref": 0.0153,
            "symbol": "circle"
           },
           "mode": "markers",
           "name": "מודיעין ר\"ג ח.ת.",
           "showlegend": true,
           "type": "scatter",
           "x": [
            61
           ],
           "xaxis": "x",
           "y": [
            14
           ],
           "yaxis": "y"
          },
          {
           "hovertemplate": "<b>%{hovertext}</b><br><br>pharma_n=קיראון ח.ת.<br>yyyy_mm=2019-4<br>p_meeting=%{x}<br>unscheduled=%{y}<br>pchanges_pd=%{marker.size}<extra></extra>",
           "hovertext": [
            "קיראון ח.ת."
           ],
           "ids": [
            "קיראון ח.ת."
           ],
           "legendgroup": "קיראון ח.ת.",
           "marker": {
            "color": "#00cc96",
            "size": [
             75
            ],
            "sizemode": "area",
            "sizeref": 0.0153,
            "symbol": "circle"
           },
           "mode": "markers",
           "name": "קיראון ח.ת.",
           "showlegend": true,
           "type": "scatter",
           "x": [
            30
           ],
           "xaxis": "x",
           "y": [
            13
           ],
           "yaxis": "y"
          },
          {
           "hovertemplate": "<b>%{hovertext}</b><br><br>pharma_n=חולון מקצ ח.ת.<br>yyyy_mm=2019-4<br>p_meeting=%{x}<br>unscheduled=%{y}<br>pchanges_pd=%{marker.size}<extra></extra>",
           "hovertext": [
            "חולון מקצ ח.ת."
           ],
           "ids": [
            "חולון מקצ ח.ת."
           ],
           "legendgroup": "חולון מקצ ח.ת.",
           "marker": {
            "color": "#ab63fa",
            "size": [
             95
            ],
            "sizemode": "area",
            "sizeref": 0.0153,
            "symbol": "circle"
           },
           "mode": "markers",
           "name": "חולון מקצ ח.ת.",
           "showlegend": true,
           "type": "scatter",
           "x": [
            57
           ],
           "xaxis": "x",
           "y": [
            14
           ],
           "yaxis": "y"
          }
         ],
         "name": "2019-4"
        },
        {
         "data": [
          {
           "hovertemplate": "<b>%{hovertext}</b><br><br>pharma_n=כרמים ח.ת.<br>yyyy_mm=2019-5<br>p_meeting=%{x}<br>unscheduled=%{y}<br>pchanges_pd=%{marker.size}<extra></extra>",
           "hovertext": [
            "כרמים ח.ת."
           ],
           "ids": [
            "כרמים ח.ת."
           ],
           "legendgroup": "כרמים ח.ת.",
           "marker": {
            "color": "#636efa",
            "size": [
             67
            ],
            "sizemode": "area",
            "sizeref": 0.0153,
            "symbol": "circle"
           },
           "mode": "markers",
           "name": "כרמים ח.ת.",
           "showlegend": true,
           "type": "scatter",
           "x": [
            32
           ],
           "xaxis": "x",
           "y": [
            12
           ],
           "yaxis": "y"
          },
          {
           "hovertemplate": "<b>%{hovertext}</b><br><br>pharma_n=מודיעין ר\"ג ח.ת.<br>yyyy_mm=2019-5<br>p_meeting=%{x}<br>unscheduled=%{y}<br>pchanges_pd=%{marker.size}<extra></extra>",
           "hovertext": [
            "מודיעין ר\"ג ח.ת."
           ],
           "ids": [
            "מודיעין ר\"ג ח.ת."
           ],
           "legendgroup": "מודיעין ר\"ג ח.ת.",
           "marker": {
            "color": "#EF553B",
            "size": [
             78
            ],
            "sizemode": "area",
            "sizeref": 0.0153,
            "symbol": "circle"
           },
           "mode": "markers",
           "name": "מודיעין ר\"ג ח.ת.",
           "showlegend": true,
           "type": "scatter",
           "x": [
            79
           ],
           "xaxis": "x",
           "y": [
            9
           ],
           "yaxis": "y"
          },
          {
           "hovertemplate": "<b>%{hovertext}</b><br><br>pharma_n=קיראון ח.ת.<br>yyyy_mm=2019-5<br>p_meeting=%{x}<br>unscheduled=%{y}<br>pchanges_pd=%{marker.size}<extra></extra>",
           "hovertext": [
            "קיראון ח.ת."
           ],
           "ids": [
            "קיראון ח.ת."
           ],
           "legendgroup": "קיראון ח.ת.",
           "marker": {
            "color": "#00cc96",
            "size": [
             75
            ],
            "sizemode": "area",
            "sizeref": 0.0153,
            "symbol": "circle"
           },
           "mode": "markers",
           "name": "קיראון ח.ת.",
           "showlegend": true,
           "type": "scatter",
           "x": [
            41
           ],
           "xaxis": "x",
           "y": [
            10
           ],
           "yaxis": "y"
          },
          {
           "hovertemplate": "<b>%{hovertext}</b><br><br>pharma_n=חולון מקצ ח.ת.<br>yyyy_mm=2019-5<br>p_meeting=%{x}<br>unscheduled=%{y}<br>pchanges_pd=%{marker.size}<extra></extra>",
           "hovertext": [
            "חולון מקצ ח.ת."
           ],
           "ids": [
            "חולון מקצ ח.ת."
           ],
           "legendgroup": "חולון מקצ ח.ת.",
           "marker": {
            "color": "#ab63fa",
            "size": [
             107
            ],
            "sizemode": "area",
            "sizeref": 0.0153,
            "symbol": "circle"
           },
           "mode": "markers",
           "name": "חולון מקצ ח.ת.",
           "showlegend": true,
           "type": "scatter",
           "x": [
            32
           ],
           "xaxis": "x",
           "y": [
            16
           ],
           "yaxis": "y"
          }
         ],
         "name": "2019-5"
        },
        {
         "data": [
          {
           "hovertemplate": "<b>%{hovertext}</b><br><br>pharma_n=כרמים ח.ת.<br>yyyy_mm=2019-6<br>p_meeting=%{x}<br>unscheduled=%{y}<br>pchanges_pd=%{marker.size}<extra></extra>",
           "hovertext": [
            "כרמים ח.ת."
           ],
           "ids": [
            "כרמים ח.ת."
           ],
           "legendgroup": "כרמים ח.ת.",
           "marker": {
            "color": "#636efa",
            "size": [
             65
            ],
            "sizemode": "area",
            "sizeref": 0.0153,
            "symbol": "circle"
           },
           "mode": "markers",
           "name": "כרמים ח.ת.",
           "showlegend": true,
           "type": "scatter",
           "x": [
            8
           ],
           "xaxis": "x",
           "y": [
            14
           ],
           "yaxis": "y"
          },
          {
           "hovertemplate": "<b>%{hovertext}</b><br><br>pharma_n=מודיעין ר\"ג ח.ת.<br>yyyy_mm=2019-6<br>p_meeting=%{x}<br>unscheduled=%{y}<br>pchanges_pd=%{marker.size}<extra></extra>",
           "hovertext": [
            "מודיעין ר\"ג ח.ת."
           ],
           "ids": [
            "מודיעין ר\"ג ח.ת."
           ],
           "legendgroup": "מודיעין ר\"ג ח.ת.",
           "marker": {
            "color": "#EF553B",
            "size": [
             49
            ],
            "sizemode": "area",
            "sizeref": 0.0153,
            "symbol": "circle"
           },
           "mode": "markers",
           "name": "מודיעין ר\"ג ח.ת.",
           "showlegend": true,
           "type": "scatter",
           "x": [
            50
           ],
           "xaxis": "x",
           "y": [
            7
           ],
           "yaxis": "y"
          },
          {
           "hovertemplate": "<b>%{hovertext}</b><br><br>pharma_n=קיראון ח.ת.<br>yyyy_mm=2019-6<br>p_meeting=%{x}<br>unscheduled=%{y}<br>pchanges_pd=%{marker.size}<extra></extra>",
           "hovertext": [
            "קיראון ח.ת."
           ],
           "ids": [
            "קיראון ח.ת."
           ],
           "legendgroup": "קיראון ח.ת.",
           "marker": {
            "color": "#00cc96",
            "size": [
             76
            ],
            "sizemode": "area",
            "sizeref": 0.0153,
            "symbol": "circle"
           },
           "mode": "markers",
           "name": "קיראון ח.ת.",
           "showlegend": true,
           "type": "scatter",
           "x": [
            30
           ],
           "xaxis": "x",
           "y": [
            9
           ],
           "yaxis": "y"
          },
          {
           "hovertemplate": "<b>%{hovertext}</b><br><br>pharma_n=חולון מקצ ח.ת.<br>yyyy_mm=2019-6<br>p_meeting=%{x}<br>unscheduled=%{y}<br>pchanges_pd=%{marker.size}<extra></extra>",
           "hovertext": [
            "חולון מקצ ח.ת."
           ],
           "ids": [
            "חולון מקצ ח.ת."
           ],
           "legendgroup": "חולון מקצ ח.ת.",
           "marker": {
            "color": "#ab63fa",
            "size": [
             64
            ],
            "sizemode": "area",
            "sizeref": 0.0153,
            "symbol": "circle"
           },
           "mode": "markers",
           "name": "חולון מקצ ח.ת.",
           "showlegend": true,
           "type": "scatter",
           "x": [
            16
           ],
           "xaxis": "x",
           "y": [
            18
           ],
           "yaxis": "y"
          }
         ],
         "name": "2019-6"
        },
        {
         "data": [
          {
           "hovertemplate": "<b>%{hovertext}</b><br><br>pharma_n=כרמים ח.ת.<br>yyyy_mm=2019-7<br>p_meeting=%{x}<br>unscheduled=%{y}<br>pchanges_pd=%{marker.size}<extra></extra>",
           "hovertext": [
            "כרמים ח.ת."
           ],
           "ids": [
            "כרמים ח.ת."
           ],
           "legendgroup": "כרמים ח.ת.",
           "marker": {
            "color": "#636efa",
            "size": [
             64
            ],
            "sizemode": "area",
            "sizeref": 0.0153,
            "symbol": "circle"
           },
           "mode": "markers",
           "name": "כרמים ח.ת.",
           "showlegend": true,
           "type": "scatter",
           "x": [
            10
           ],
           "xaxis": "x",
           "y": [
            14
           ],
           "yaxis": "y"
          },
          {
           "hovertemplate": "<b>%{hovertext}</b><br><br>pharma_n=מודיעין ר\"ג ח.ת.<br>yyyy_mm=2019-7<br>p_meeting=%{x}<br>unscheduled=%{y}<br>pchanges_pd=%{marker.size}<extra></extra>",
           "hovertext": [
            "מודיעין ר\"ג ח.ת."
           ],
           "ids": [
            "מודיעין ר\"ג ח.ת."
           ],
           "legendgroup": "מודיעין ר\"ג ח.ת.",
           "marker": {
            "color": "#EF553B",
            "size": [
             40
            ],
            "sizemode": "area",
            "sizeref": 0.0153,
            "symbol": "circle"
           },
           "mode": "markers",
           "name": "מודיעין ר\"ג ח.ת.",
           "showlegend": true,
           "type": "scatter",
           "x": [
            39
           ],
           "xaxis": "x",
           "y": [
            13
           ],
           "yaxis": "y"
          },
          {
           "hovertemplate": "<b>%{hovertext}</b><br><br>pharma_n=קיראון ח.ת.<br>yyyy_mm=2019-7<br>p_meeting=%{x}<br>unscheduled=%{y}<br>pchanges_pd=%{marker.size}<extra></extra>",
           "hovertext": [
            "קיראון ח.ת."
           ],
           "ids": [
            "קיראון ח.ת."
           ],
           "legendgroup": "קיראון ח.ת.",
           "marker": {
            "color": "#00cc96",
            "size": [
             76
            ],
            "sizemode": "area",
            "sizeref": 0.0153,
            "symbol": "circle"
           },
           "mode": "markers",
           "name": "קיראון ח.ת.",
           "showlegend": true,
           "type": "scatter",
           "x": [
            27
           ],
           "xaxis": "x",
           "y": [
            8
           ],
           "yaxis": "y"
          },
          {
           "hovertemplate": "<b>%{hovertext}</b><br><br>pharma_n=חולון מקצ ח.ת.<br>yyyy_mm=2019-7<br>p_meeting=%{x}<br>unscheduled=%{y}<br>pchanges_pd=%{marker.size}<extra></extra>",
           "hovertext": [
            "חולון מקצ ח.ת."
           ],
           "ids": [
            "חולון מקצ ח.ת."
           ],
           "legendgroup": "חולון מקצ ח.ת.",
           "marker": {
            "color": "#ab63fa",
            "size": [
             66
            ],
            "sizemode": "area",
            "sizeref": 0.0153,
            "symbol": "circle"
           },
           "mode": "markers",
           "name": "חולון מקצ ח.ת.",
           "showlegend": true,
           "type": "scatter",
           "x": [
            4
           ],
           "xaxis": "x",
           "y": [
            17
           ],
           "yaxis": "y"
          }
         ],
         "name": "2019-7"
        },
        {
         "data": [
          {
           "hovertemplate": "<b>%{hovertext}</b><br><br>pharma_n=כרמים ח.ת.<br>yyyy_mm=2019-8<br>p_meeting=%{x}<br>unscheduled=%{y}<br>pchanges_pd=%{marker.size}<extra></extra>",
           "hovertext": [
            "כרמים ח.ת."
           ],
           "ids": [
            "כרמים ח.ת."
           ],
           "legendgroup": "כרמים ח.ת.",
           "marker": {
            "color": "#636efa",
            "size": [
             63
            ],
            "sizemode": "area",
            "sizeref": 0.0153,
            "symbol": "circle"
           },
           "mode": "markers",
           "name": "כרמים ח.ת.",
           "showlegend": true,
           "type": "scatter",
           "x": [
            18
           ],
           "xaxis": "x",
           "y": [
            9
           ],
           "yaxis": "y"
          },
          {
           "hovertemplate": "<b>%{hovertext}</b><br><br>pharma_n=מודיעין ר\"ג ח.ת.<br>yyyy_mm=2019-8<br>p_meeting=%{x}<br>unscheduled=%{y}<br>pchanges_pd=%{marker.size}<extra></extra>",
           "hovertext": [
            "מודיעין ר\"ג ח.ת."
           ],
           "ids": [
            "מודיעין ר\"ג ח.ת."
           ],
           "legendgroup": "מודיעין ר\"ג ח.ת.",
           "marker": {
            "color": "#EF553B",
            "size": [
             65
            ],
            "sizemode": "area",
            "sizeref": 0.0153,
            "symbol": "circle"
           },
           "mode": "markers",
           "name": "מודיעין ר\"ג ח.ת.",
           "showlegend": true,
           "type": "scatter",
           "x": [
            41
           ],
           "xaxis": "x",
           "y": [
            8
           ],
           "yaxis": "y"
          },
          {
           "hovertemplate": "<b>%{hovertext}</b><br><br>pharma_n=קיראון ח.ת.<br>yyyy_mm=2019-8<br>p_meeting=%{x}<br>unscheduled=%{y}<br>pchanges_pd=%{marker.size}<extra></extra>",
           "hovertext": [
            "קיראון ח.ת."
           ],
           "ids": [
            "קיראון ח.ת."
           ],
           "legendgroup": "קיראון ח.ת.",
           "marker": {
            "color": "#00cc96",
            "size": [
             57
            ],
            "sizemode": "area",
            "sizeref": 0.0153,
            "symbol": "circle"
           },
           "mode": "markers",
           "name": "קיראון ח.ת.",
           "showlegend": true,
           "type": "scatter",
           "x": [
            30
           ],
           "xaxis": "x",
           "y": [
            6
           ],
           "yaxis": "y"
          },
          {
           "hovertemplate": "<b>%{hovertext}</b><br><br>pharma_n=חולון מקצ ח.ת.<br>yyyy_mm=2019-8<br>p_meeting=%{x}<br>unscheduled=%{y}<br>pchanges_pd=%{marker.size}<extra></extra>",
           "hovertext": [
            "חולון מקצ ח.ת."
           ],
           "ids": [
            "חולון מקצ ח.ת."
           ],
           "legendgroup": "חולון מקצ ח.ת.",
           "marker": {
            "color": "#ab63fa",
            "size": [
             75
            ],
            "sizemode": "area",
            "sizeref": 0.0153,
            "symbol": "circle"
           },
           "mode": "markers",
           "name": "חולון מקצ ח.ת.",
           "showlegend": true,
           "type": "scatter",
           "x": [
            31
           ],
           "xaxis": "x",
           "y": [
            14
           ],
           "yaxis": "y"
          }
         ],
         "name": "2019-8"
        },
        {
         "data": [
          {
           "hovertemplate": "<b>%{hovertext}</b><br><br>pharma_n=כרמים ח.ת.<br>yyyy_mm=2019-9<br>p_meeting=%{x}<br>unscheduled=%{y}<br>pchanges_pd=%{marker.size}<extra></extra>",
           "hovertext": [
            "כרמים ח.ת."
           ],
           "ids": [
            "כרמים ח.ת."
           ],
           "legendgroup": "כרמים ח.ת.",
           "marker": {
            "color": "#636efa",
            "size": [
             68
            ],
            "sizemode": "area",
            "sizeref": 0.0153,
            "symbol": "circle"
           },
           "mode": "markers",
           "name": "כרמים ח.ת.",
           "showlegend": true,
           "type": "scatter",
           "x": [
            31
           ],
           "xaxis": "x",
           "y": [
            10
           ],
           "yaxis": "y"
          },
          {
           "hovertemplate": "<b>%{hovertext}</b><br><br>pharma_n=מודיעין ר\"ג ח.ת.<br>yyyy_mm=2019-9<br>p_meeting=%{x}<br>unscheduled=%{y}<br>pchanges_pd=%{marker.size}<extra></extra>",
           "hovertext": [
            "מודיעין ר\"ג ח.ת."
           ],
           "ids": [
            "מודיעין ר\"ג ח.ת."
           ],
           "legendgroup": "מודיעין ר\"ג ח.ת.",
           "marker": {
            "color": "#EF553B",
            "size": [
             78
            ],
            "sizemode": "area",
            "sizeref": 0.0153,
            "symbol": "circle"
           },
           "mode": "markers",
           "name": "מודיעין ר\"ג ח.ת.",
           "showlegend": true,
           "type": "scatter",
           "x": [
            37
           ],
           "xaxis": "x",
           "y": [
            11
           ],
           "yaxis": "y"
          },
          {
           "hovertemplate": "<b>%{hovertext}</b><br><br>pharma_n=קיראון ח.ת.<br>yyyy_mm=2019-9<br>p_meeting=%{x}<br>unscheduled=%{y}<br>pchanges_pd=%{marker.size}<extra></extra>",
           "hovertext": [
            "קיראון ח.ת."
           ],
           "ids": [
            "קיראון ח.ת."
           ],
           "legendgroup": "קיראון ח.ת.",
           "marker": {
            "color": "#00cc96",
            "size": [
             78
            ],
            "sizemode": "area",
            "sizeref": 0.0153,
            "symbol": "circle"
           },
           "mode": "markers",
           "name": "קיראון ח.ת.",
           "showlegend": true,
           "type": "scatter",
           "x": [
            24
           ],
           "xaxis": "x",
           "y": [
            11
           ],
           "yaxis": "y"
          },
          {
           "hovertemplate": "<b>%{hovertext}</b><br><br>pharma_n=חולון מקצ ח.ת.<br>yyyy_mm=2019-9<br>p_meeting=%{x}<br>unscheduled=%{y}<br>pchanges_pd=%{marker.size}<extra></extra>",
           "hovertext": [
            "חולון מקצ ח.ת."
           ],
           "ids": [
            "חולון מקצ ח.ת."
           ],
           "legendgroup": "חולון מקצ ח.ת.",
           "marker": {
            "color": "#ab63fa",
            "size": [
             87
            ],
            "sizemode": "area",
            "sizeref": 0.0153,
            "symbol": "circle"
           },
           "mode": "markers",
           "name": "חולון מקצ ח.ת.",
           "showlegend": true,
           "type": "scatter",
           "x": [
            19
           ],
           "xaxis": "x",
           "y": [
            16
           ],
           "yaxis": "y"
          }
         ],
         "name": "2019-9"
        },
        {
         "data": [
          {
           "hovertemplate": "<b>%{hovertext}</b><br><br>pharma_n=כרמים ח.ת.<br>yyyy_mm=2019-10<br>p_meeting=%{x}<br>unscheduled=%{y}<br>pchanges_pd=%{marker.size}<extra></extra>",
           "hovertext": [
            "כרמים ח.ת."
           ],
           "ids": [
            "כרמים ח.ת."
           ],
           "legendgroup": "כרמים ח.ת.",
           "marker": {
            "color": "#636efa",
            "size": [
             61
            ],
            "sizemode": "area",
            "sizeref": 0.0153,
            "symbol": "circle"
           },
           "mode": "markers",
           "name": "כרמים ח.ת.",
           "showlegend": true,
           "type": "scatter",
           "x": [
            24
           ],
           "xaxis": "x",
           "y": [
            7
           ],
           "yaxis": "y"
          },
          {
           "hovertemplate": "<b>%{hovertext}</b><br><br>pharma_n=מודיעין ר\"ג ח.ת.<br>yyyy_mm=2019-10<br>p_meeting=%{x}<br>unscheduled=%{y}<br>pchanges_pd=%{marker.size}<extra></extra>",
           "hovertext": [
            "מודיעין ר\"ג ח.ת."
           ],
           "ids": [
            "מודיעין ר\"ג ח.ת."
           ],
           "legendgroup": "מודיעין ר\"ג ח.ת.",
           "marker": {
            "color": "#EF553B",
            "size": [
             49
            ],
            "sizemode": "area",
            "sizeref": 0.0153,
            "symbol": "circle"
           },
           "mode": "markers",
           "name": "מודיעין ר\"ג ח.ת.",
           "showlegend": true,
           "type": "scatter",
           "x": [
            46
           ],
           "xaxis": "x",
           "y": [
            7
           ],
           "yaxis": "y"
          },
          {
           "hovertemplate": "<b>%{hovertext}</b><br><br>pharma_n=קיראון ח.ת.<br>yyyy_mm=2019-10<br>p_meeting=%{x}<br>unscheduled=%{y}<br>pchanges_pd=%{marker.size}<extra></extra>",
           "hovertext": [
            "קיראון ח.ת."
           ],
           "ids": [
            "קיראון ח.ת."
           ],
           "legendgroup": "קיראון ח.ת.",
           "marker": {
            "color": "#00cc96",
            "size": [
             62
            ],
            "sizemode": "area",
            "sizeref": 0.0153,
            "symbol": "circle"
           },
           "mode": "markers",
           "name": "קיראון ח.ת.",
           "showlegend": true,
           "type": "scatter",
           "x": [
            14
           ],
           "xaxis": "x",
           "y": [
            5
           ],
           "yaxis": "y"
          },
          {
           "hovertemplate": "<b>%{hovertext}</b><br><br>pharma_n=חולון מקצ ח.ת.<br>yyyy_mm=2019-10<br>p_meeting=%{x}<br>unscheduled=%{y}<br>pchanges_pd=%{marker.size}<extra></extra>",
           "hovertext": [
            "חולון מקצ ח.ת."
           ],
           "ids": [
            "חולון מקצ ח.ת."
           ],
           "legendgroup": "חולון מקצ ח.ת.",
           "marker": {
            "color": "#ab63fa",
            "size": [
             81
            ],
            "sizemode": "area",
            "sizeref": 0.0153,
            "symbol": "circle"
           },
           "mode": "markers",
           "name": "חולון מקצ ח.ת.",
           "showlegend": true,
           "type": "scatter",
           "x": [
            21
           ],
           "xaxis": "x",
           "y": [
            14
           ],
           "yaxis": "y"
          }
         ],
         "name": "2019-10"
        },
        {
         "data": [
          {
           "hovertemplate": "<b>%{hovertext}</b><br><br>pharma_n=כרמים ח.ת.<br>yyyy_mm=2019-11<br>p_meeting=%{x}<br>unscheduled=%{y}<br>pchanges_pd=%{marker.size}<extra></extra>",
           "hovertext": [
            "כרמים ח.ת."
           ],
           "ids": [
            "כרמים ח.ת."
           ],
           "legendgroup": "כרמים ח.ת.",
           "marker": {
            "color": "#636efa",
            "size": [
             59
            ],
            "sizemode": "area",
            "sizeref": 0.0153,
            "symbol": "circle"
           },
           "mode": "markers",
           "name": "כרמים ח.ת.",
           "showlegend": true,
           "type": "scatter",
           "x": [
            23
           ],
           "xaxis": "x",
           "y": [
            12
           ],
           "yaxis": "y"
          },
          {
           "hovertemplate": "<b>%{hovertext}</b><br><br>pharma_n=מודיעין ר\"ג ח.ת.<br>yyyy_mm=2019-11<br>p_meeting=%{x}<br>unscheduled=%{y}<br>pchanges_pd=%{marker.size}<extra></extra>",
           "hovertext": [
            "מודיעין ר\"ג ח.ת."
           ],
           "ids": [
            "מודיעין ר\"ג ח.ת."
           ],
           "legendgroup": "מודיעין ר\"ג ח.ת.",
           "marker": {
            "color": "#EF553B",
            "size": [
             102
            ],
            "sizemode": "area",
            "sizeref": 0.0153,
            "symbol": "circle"
           },
           "mode": "markers",
           "name": "מודיעין ר\"ג ח.ת.",
           "showlegend": true,
           "type": "scatter",
           "x": [
            60
           ],
           "xaxis": "x",
           "y": [
            8
           ],
           "yaxis": "y"
          },
          {
           "hovertemplate": "<b>%{hovertext}</b><br><br>pharma_n=קיראון ח.ת.<br>yyyy_mm=2019-11<br>p_meeting=%{x}<br>unscheduled=%{y}<br>pchanges_pd=%{marker.size}<extra></extra>",
           "hovertext": [
            "קיראון ח.ת."
           ],
           "ids": [
            "קיראון ח.ת."
           ],
           "legendgroup": "קיראון ח.ת.",
           "marker": {
            "color": "#00cc96",
            "size": [
             60
            ],
            "sizemode": "area",
            "sizeref": 0.0153,
            "symbol": "circle"
           },
           "mode": "markers",
           "name": "קיראון ח.ת.",
           "showlegend": true,
           "type": "scatter",
           "x": [
            0
           ],
           "xaxis": "x",
           "y": [
            6
           ],
           "yaxis": "y"
          },
          {
           "hovertemplate": "<b>%{hovertext}</b><br><br>pharma_n=חולון מקצ ח.ת.<br>yyyy_mm=2019-11<br>p_meeting=%{x}<br>unscheduled=%{y}<br>pchanges_pd=%{marker.size}<extra></extra>",
           "hovertext": [
            "חולון מקצ ח.ת."
           ],
           "ids": [
            "חולון מקצ ח.ת."
           ],
           "legendgroup": "חולון מקצ ח.ת.",
           "marker": {
            "color": "#ab63fa",
            "size": [
             97
            ],
            "sizemode": "area",
            "sizeref": 0.0153,
            "symbol": "circle"
           },
           "mode": "markers",
           "name": "חולון מקצ ח.ת.",
           "showlegend": true,
           "type": "scatter",
           "x": [
            5
           ],
           "xaxis": "x",
           "y": [
            16
           ],
           "yaxis": "y"
          }
         ],
         "name": "2019-11"
        },
        {
         "data": [
          {
           "hovertemplate": "<b>%{hovertext}</b><br><br>pharma_n=כרמים ח.ת.<br>yyyy_mm=2019-12<br>p_meeting=%{x}<br>unscheduled=%{y}<br>pchanges_pd=%{marker.size}<extra></extra>",
           "hovertext": [
            "כרמים ח.ת."
           ],
           "ids": [
            "כרמים ח.ת."
           ],
           "legendgroup": "כרמים ח.ת.",
           "marker": {
            "color": "#636efa",
            "size": [
             64
            ],
            "sizemode": "area",
            "sizeref": 0.0153,
            "symbol": "circle"
           },
           "mode": "markers",
           "name": "כרמים ח.ת.",
           "showlegend": true,
           "type": "scatter",
           "x": [
            0
           ],
           "xaxis": "x",
           "y": [
            13
           ],
           "yaxis": "y"
          },
          {
           "hovertemplate": "<b>%{hovertext}</b><br><br>pharma_n=מודיעין ר\"ג ח.ת.<br>yyyy_mm=2019-12<br>p_meeting=%{x}<br>unscheduled=%{y}<br>pchanges_pd=%{marker.size}<extra></extra>",
           "hovertext": [
            "מודיעין ר\"ג ח.ת."
           ],
           "ids": [
            "מודיעין ר\"ג ח.ת."
           ],
           "legendgroup": "מודיעין ר\"ג ח.ת.",
           "marker": {
            "color": "#EF553B",
            "size": [
             103
            ],
            "sizemode": "area",
            "sizeref": 0.0153,
            "symbol": "circle"
           },
           "mode": "markers",
           "name": "מודיעין ר\"ג ח.ת.",
           "showlegend": true,
           "type": "scatter",
           "x": [
            20
           ],
           "xaxis": "x",
           "y": [
            5
           ],
           "yaxis": "y"
          },
          {
           "hovertemplate": "<b>%{hovertext}</b><br><br>pharma_n=קיראון ח.ת.<br>yyyy_mm=2019-12<br>p_meeting=%{x}<br>unscheduled=%{y}<br>pchanges_pd=%{marker.size}<extra></extra>",
           "hovertext": [
            "קיראון ח.ת."
           ],
           "ids": [
            "קיראון ח.ת."
           ],
           "legendgroup": "קיראון ח.ת.",
           "marker": {
            "color": "#00cc96",
            "size": [
             63
            ],
            "sizemode": "area",
            "sizeref": 0.0153,
            "symbol": "circle"
           },
           "mode": "markers",
           "name": "קיראון ח.ת.",
           "showlegend": true,
           "type": "scatter",
           "x": [
            15
           ],
           "xaxis": "x",
           "y": [
            5
           ],
           "yaxis": "y"
          },
          {
           "hovertemplate": "<b>%{hovertext}</b><br><br>pharma_n=חולון מקצ ח.ת.<br>yyyy_mm=2019-12<br>p_meeting=%{x}<br>unscheduled=%{y}<br>pchanges_pd=%{marker.size}<extra></extra>",
           "hovertext": [
            "חולון מקצ ח.ת."
           ],
           "ids": [
            "חולון מקצ ח.ת."
           ],
           "legendgroup": "חולון מקצ ח.ת.",
           "marker": {
            "color": "#ab63fa",
            "size": [
             89
            ],
            "sizemode": "area",
            "sizeref": 0.0153,
            "symbol": "circle"
           },
           "mode": "markers",
           "name": "חולון מקצ ח.ת.",
           "showlegend": true,
           "type": "scatter",
           "x": [
            2
           ],
           "xaxis": "x",
           "y": [
            14
           ],
           "yaxis": "y"
          }
         ],
         "name": "2019-12"
        },
        {
         "data": [
          {
           "hovertemplate": "<b>%{hovertext}</b><br><br>pharma_n=כרמים ח.ת.<br>yyyy_mm=2020-1<br>p_meeting=%{x}<br>unscheduled=%{y}<br>pchanges_pd=%{marker.size}<extra></extra>",
           "hovertext": [
            "כרמים ח.ת."
           ],
           "ids": [
            "כרמים ח.ת."
           ],
           "legendgroup": "כרמים ח.ת.",
           "marker": {
            "color": "#636efa",
            "size": [
             61
            ],
            "sizemode": "area",
            "sizeref": 0.0153,
            "symbol": "circle"
           },
           "mode": "markers",
           "name": "כרמים ח.ת.",
           "showlegend": true,
           "type": "scatter",
           "x": [
            0
           ],
           "xaxis": "x",
           "y": [
            13
           ],
           "yaxis": "y"
          },
          {
           "hovertemplate": "<b>%{hovertext}</b><br><br>pharma_n=מודיעין ר\"ג ח.ת.<br>yyyy_mm=2020-1<br>p_meeting=%{x}<br>unscheduled=%{y}<br>pchanges_pd=%{marker.size}<extra></extra>",
           "hovertext": [
            "מודיעין ר\"ג ח.ת."
           ],
           "ids": [
            "מודיעין ר\"ג ח.ת."
           ],
           "legendgroup": "מודיעין ר\"ג ח.ת.",
           "marker": {
            "color": "#EF553B",
            "size": [
             100
            ],
            "sizemode": "area",
            "sizeref": 0.0153,
            "symbol": "circle"
           },
           "mode": "markers",
           "name": "מודיעין ר\"ג ח.ת.",
           "showlegend": true,
           "type": "scatter",
           "x": [
            25
           ],
           "xaxis": "x",
           "y": [
            11
           ],
           "yaxis": "y"
          },
          {
           "hovertemplate": "<b>%{hovertext}</b><br><br>pharma_n=קיראון ח.ת.<br>yyyy_mm=2020-1<br>p_meeting=%{x}<br>unscheduled=%{y}<br>pchanges_pd=%{marker.size}<extra></extra>",
           "hovertext": [
            "קיראון ח.ת."
           ],
           "ids": [
            "קיראון ח.ת."
           ],
           "legendgroup": "קיראון ח.ת.",
           "marker": {
            "color": "#00cc96",
            "size": [
             67
            ],
            "sizemode": "area",
            "sizeref": 0.0153,
            "symbol": "circle"
           },
           "mode": "markers",
           "name": "קיראון ח.ת.",
           "showlegend": true,
           "type": "scatter",
           "x": [
            23
           ],
           "xaxis": "x",
           "y": [
            6
           ],
           "yaxis": "y"
          },
          {
           "hovertemplate": "<b>%{hovertext}</b><br><br>pharma_n=חולון מקצ ח.ת.<br>yyyy_mm=2020-1<br>p_meeting=%{x}<br>unscheduled=%{y}<br>pchanges_pd=%{marker.size}<extra></extra>",
           "hovertext": [
            "חולון מקצ ח.ת."
           ],
           "ids": [
            "חולון מקצ ח.ת."
           ],
           "legendgroup": "חולון מקצ ח.ת.",
           "marker": {
            "color": "#ab63fa",
            "size": [
             106
            ],
            "sizemode": "area",
            "sizeref": 0.0153,
            "symbol": "circle"
           },
           "mode": "markers",
           "name": "חולון מקצ ח.ת.",
           "showlegend": true,
           "type": "scatter",
           "x": [
            17
           ],
           "xaxis": "x",
           "y": [
            15
           ],
           "yaxis": "y"
          }
         ],
         "name": "2020-1"
        },
        {
         "data": [
          {
           "hovertemplate": "<b>%{hovertext}</b><br><br>pharma_n=כרמים ח.ת.<br>yyyy_mm=2020-2<br>p_meeting=%{x}<br>unscheduled=%{y}<br>pchanges_pd=%{marker.size}<extra></extra>",
           "hovertext": [
            "כרמים ח.ת."
           ],
           "ids": [
            "כרמים ח.ת."
           ],
           "legendgroup": "כרמים ח.ת.",
           "marker": {
            "color": "#636efa",
            "size": [
             65
            ],
            "sizemode": "area",
            "sizeref": 0.0153,
            "symbol": "circle"
           },
           "mode": "markers",
           "name": "כרמים ח.ת.",
           "showlegend": true,
           "type": "scatter",
           "x": [
            0
           ],
           "xaxis": "x",
           "y": [
            11
           ],
           "yaxis": "y"
          },
          {
           "hovertemplate": "<b>%{hovertext}</b><br><br>pharma_n=מודיעין ר\"ג ח.ת.<br>yyyy_mm=2020-2<br>p_meeting=%{x}<br>unscheduled=%{y}<br>pchanges_pd=%{marker.size}<extra></extra>",
           "hovertext": [
            "מודיעין ר\"ג ח.ת."
           ],
           "ids": [
            "מודיעין ר\"ג ח.ת."
           ],
           "legendgroup": "מודיעין ר\"ג ח.ת.",
           "marker": {
            "color": "#EF553B",
            "size": [
             100
            ],
            "sizemode": "area",
            "sizeref": 0.0153,
            "symbol": "circle"
           },
           "mode": "markers",
           "name": "מודיעין ר\"ג ח.ת.",
           "showlegend": true,
           "type": "scatter",
           "x": [
            15
           ],
           "xaxis": "x",
           "y": [
            7
           ],
           "yaxis": "y"
          },
          {
           "hovertemplate": "<b>%{hovertext}</b><br><br>pharma_n=קיראון ח.ת.<br>yyyy_mm=2020-2<br>p_meeting=%{x}<br>unscheduled=%{y}<br>pchanges_pd=%{marker.size}<extra></extra>",
           "hovertext": [
            "קיראון ח.ת."
           ],
           "ids": [
            "קיראון ח.ת."
           ],
           "legendgroup": "קיראון ח.ת.",
           "marker": {
            "color": "#00cc96",
            "size": [
             62
            ],
            "sizemode": "area",
            "sizeref": 0.0153,
            "symbol": "circle"
           },
           "mode": "markers",
           "name": "קיראון ח.ת.",
           "showlegend": true,
           "type": "scatter",
           "x": [
            19
           ],
           "xaxis": "x",
           "y": [
            7
           ],
           "yaxis": "y"
          },
          {
           "hovertemplate": "<b>%{hovertext}</b><br><br>pharma_n=חולון מקצ ח.ת.<br>yyyy_mm=2020-2<br>p_meeting=%{x}<br>unscheduled=%{y}<br>pchanges_pd=%{marker.size}<extra></extra>",
           "hovertext": [
            "חולון מקצ ח.ת."
           ],
           "ids": [
            "חולון מקצ ח.ת."
           ],
           "legendgroup": "חולון מקצ ח.ת.",
           "marker": {
            "color": "#ab63fa",
            "size": [
             105
            ],
            "sizemode": "area",
            "sizeref": 0.0153,
            "symbol": "circle"
           },
           "mode": "markers",
           "name": "חולון מקצ ח.ת.",
           "showlegend": true,
           "type": "scatter",
           "x": [
            6
           ],
           "xaxis": "x",
           "y": [
            15
           ],
           "yaxis": "y"
          }
         ],
         "name": "2020-2"
        },
        {
         "data": [
          {
           "hovertemplate": "<b>%{hovertext}</b><br><br>pharma_n=כרמים ח.ת.<br>yyyy_mm=2020-3<br>p_meeting=%{x}<br>unscheduled=%{y}<br>pchanges_pd=%{marker.size}<extra></extra>",
           "hovertext": [
            "כרמים ח.ת."
           ],
           "ids": [
            "כרמים ח.ת."
           ],
           "legendgroup": "כרמים ח.ת.",
           "marker": {
            "color": "#636efa",
            "size": [
             63
            ],
            "sizemode": "area",
            "sizeref": 0.0153,
            "symbol": "circle"
           },
           "mode": "markers",
           "name": "כרמים ח.ת.",
           "showlegend": true,
           "type": "scatter",
           "x": [
            0
           ],
           "xaxis": "x",
           "y": [
            12
           ],
           "yaxis": "y"
          },
          {
           "hovertemplate": "<b>%{hovertext}</b><br><br>pharma_n=מודיעין ר\"ג ח.ת.<br>yyyy_mm=2020-3<br>p_meeting=%{x}<br>unscheduled=%{y}<br>pchanges_pd=%{marker.size}<extra></extra>",
           "hovertext": [
            "מודיעין ר\"ג ח.ת."
           ],
           "ids": [
            "מודיעין ר\"ג ח.ת."
           ],
           "legendgroup": "מודיעין ר\"ג ח.ת.",
           "marker": {
            "color": "#EF553B",
            "size": [
             104
            ],
            "sizemode": "area",
            "sizeref": 0.0153,
            "symbol": "circle"
           },
           "mode": "markers",
           "name": "מודיעין ר\"ג ח.ת.",
           "showlegend": true,
           "type": "scatter",
           "x": [
            38
           ],
           "xaxis": "x",
           "y": [
            18
           ],
           "yaxis": "y"
          },
          {
           "hovertemplate": "<b>%{hovertext}</b><br><br>pharma_n=קיראון ח.ת.<br>yyyy_mm=2020-3<br>p_meeting=%{x}<br>unscheduled=%{y}<br>pchanges_pd=%{marker.size}<extra></extra>",
           "hovertext": [
            "קיראון ח.ת."
           ],
           "ids": [
            "קיראון ח.ת."
           ],
           "legendgroup": "קיראון ח.ת.",
           "marker": {
            "color": "#00cc96",
            "size": [
             79
            ],
            "sizemode": "area",
            "sizeref": 0.0153,
            "symbol": "circle"
           },
           "mode": "markers",
           "name": "קיראון ח.ת.",
           "showlegend": true,
           "type": "scatter",
           "x": [
            1
           ],
           "xaxis": "x",
           "y": [
            12
           ],
           "yaxis": "y"
          },
          {
           "hovertemplate": "<b>%{hovertext}</b><br><br>pharma_n=חולון מקצ ח.ת.<br>yyyy_mm=2020-3<br>p_meeting=%{x}<br>unscheduled=%{y}<br>pchanges_pd=%{marker.size}<extra></extra>",
           "hovertext": [
            "חולון מקצ ח.ת."
           ],
           "ids": [
            "חולון מקצ ח.ת."
           ],
           "legendgroup": "חולון מקצ ח.ת.",
           "marker": {
            "color": "#ab63fa",
            "size": [
             87
            ],
            "sizemode": "area",
            "sizeref": 0.0153,
            "symbol": "circle"
           },
           "mode": "markers",
           "name": "חולון מקצ ח.ת.",
           "showlegend": true,
           "type": "scatter",
           "x": [
            0
           ],
           "xaxis": "x",
           "y": [
            25
           ],
           "yaxis": "y"
          }
         ],
         "name": "2020-3"
        },
        {
         "data": [
          {
           "hovertemplate": "<b>%{hovertext}</b><br><br>pharma_n=כרמים ח.ת.<br>yyyy_mm=2020-4<br>p_meeting=%{x}<br>unscheduled=%{y}<br>pchanges_pd=%{marker.size}<extra></extra>",
           "hovertext": [
            "כרמים ח.ת."
           ],
           "ids": [
            "כרמים ח.ת."
           ],
           "legendgroup": "כרמים ח.ת.",
           "marker": {
            "color": "#636efa",
            "size": [
             67
            ],
            "sizemode": "area",
            "sizeref": 0.0153,
            "symbol": "circle"
           },
           "mode": "markers",
           "name": "כרמים ח.ת.",
           "showlegend": true,
           "type": "scatter",
           "x": [
            23
           ],
           "xaxis": "x",
           "y": [
            5
           ],
           "yaxis": "y"
          },
          {
           "hovertemplate": "<b>%{hovertext}</b><br><br>pharma_n=מודיעין ר\"ג ח.ת.<br>yyyy_mm=2020-4<br>p_meeting=%{x}<br>unscheduled=%{y}<br>pchanges_pd=%{marker.size}<extra></extra>",
           "hovertext": [
            "מודיעין ר\"ג ח.ת."
           ],
           "ids": [
            "מודיעין ר\"ג ח.ת."
           ],
           "legendgroup": "מודיעין ר\"ג ח.ת.",
           "marker": {
            "color": "#EF553B",
            "size": [
             100
            ],
            "sizemode": "area",
            "sizeref": 0.0153,
            "symbol": "circle"
           },
           "mode": "markers",
           "name": "מודיעין ר\"ג ח.ת.",
           "showlegend": true,
           "type": "scatter",
           "x": [
            68
           ],
           "xaxis": "x",
           "y": [
            18
           ],
           "yaxis": "y"
          },
          {
           "hovertemplate": "<b>%{hovertext}</b><br><br>pharma_n=קיראון ח.ת.<br>yyyy_mm=2020-4<br>p_meeting=%{x}<br>unscheduled=%{y}<br>pchanges_pd=%{marker.size}<extra></extra>",
           "hovertext": [
            "קיראון ח.ת."
           ],
           "ids": [
            "קיראון ח.ת."
           ],
           "legendgroup": "קיראון ח.ת.",
           "marker": {
            "color": "#00cc96",
            "size": [
             75
            ],
            "sizemode": "area",
            "sizeref": 0.0153,
            "symbol": "circle"
           },
           "mode": "markers",
           "name": "קיראון ח.ת.",
           "showlegend": true,
           "type": "scatter",
           "x": [
            37
           ],
           "xaxis": "x",
           "y": [
            13
           ],
           "yaxis": "y"
          },
          {
           "hovertemplate": "<b>%{hovertext}</b><br><br>pharma_n=חולון מקצ ח.ת.<br>yyyy_mm=2020-4<br>p_meeting=%{x}<br>unscheduled=%{y}<br>pchanges_pd=%{marker.size}<extra></extra>",
           "hovertext": [
            "חולון מקצ ח.ת."
           ],
           "ids": [
            "חולון מקצ ח.ת."
           ],
           "legendgroup": "חולון מקצ ח.ת.",
           "marker": {
            "color": "#ab63fa",
            "size": [
             75
            ],
            "sizemode": "area",
            "sizeref": 0.0153,
            "symbol": "circle"
           },
           "mode": "markers",
           "name": "חולון מקצ ח.ת.",
           "showlegend": true,
           "type": "scatter",
           "x": [
            0
           ],
           "xaxis": "x",
           "y": [
            15
           ],
           "yaxis": "y"
          }
         ],
         "name": "2020-4"
        },
        {
         "data": [
          {
           "hovertemplate": "<b>%{hovertext}</b><br><br>pharma_n=כרמים ח.ת.<br>yyyy_mm=2020-5<br>p_meeting=%{x}<br>unscheduled=%{y}<br>pchanges_pd=%{marker.size}<extra></extra>",
           "hovertext": [
            "כרמים ח.ת."
           ],
           "ids": [
            "כרמים ח.ת."
           ],
           "legendgroup": "כרמים ח.ת.",
           "marker": {
            "color": "#636efa",
            "size": [
             71
            ],
            "sizemode": "area",
            "sizeref": 0.0153,
            "symbol": "circle"
           },
           "mode": "markers",
           "name": "כרמים ח.ת.",
           "showlegend": true,
           "type": "scatter",
           "x": [
            22
           ],
           "xaxis": "x",
           "y": [
            12
           ],
           "yaxis": "y"
          },
          {
           "hovertemplate": "<b>%{hovertext}</b><br><br>pharma_n=מודיעין ר\"ג ח.ת.<br>yyyy_mm=2020-5<br>p_meeting=%{x}<br>unscheduled=%{y}<br>pchanges_pd=%{marker.size}<extra></extra>",
           "hovertext": [
            "מודיעין ר\"ג ח.ת."
           ],
           "ids": [
            "מודיעין ר\"ג ח.ת."
           ],
           "legendgroup": "מודיעין ר\"ג ח.ת.",
           "marker": {
            "color": "#EF553B",
            "size": [
             101
            ],
            "sizemode": "area",
            "sizeref": 0.0153,
            "symbol": "circle"
           },
           "mode": "markers",
           "name": "מודיעין ר\"ג ח.ת.",
           "showlegend": true,
           "type": "scatter",
           "x": [
            51
           ],
           "xaxis": "x",
           "y": [
            10
           ],
           "yaxis": "y"
          },
          {
           "hovertemplate": "<b>%{hovertext}</b><br><br>pharma_n=קיראון ח.ת.<br>yyyy_mm=2020-5<br>p_meeting=%{x}<br>unscheduled=%{y}<br>pchanges_pd=%{marker.size}<extra></extra>",
           "hovertext": [
            "קיראון ח.ת."
           ],
           "ids": [
            "קיראון ח.ת."
           ],
           "legendgroup": "קיראון ח.ת.",
           "marker": {
            "color": "#00cc96",
            "size": [
             68
            ],
            "sizemode": "area",
            "sizeref": 0.0153,
            "symbol": "circle"
           },
           "mode": "markers",
           "name": "קיראון ח.ת.",
           "showlegend": true,
           "type": "scatter",
           "x": [
            27
           ],
           "xaxis": "x",
           "y": [
            13
           ],
           "yaxis": "y"
          },
          {
           "hovertemplate": "<b>%{hovertext}</b><br><br>pharma_n=חולון מקצ ח.ת.<br>yyyy_mm=2020-5<br>p_meeting=%{x}<br>unscheduled=%{y}<br>pchanges_pd=%{marker.size}<extra></extra>",
           "hovertext": [
            "חולון מקצ ח.ת."
           ],
           "ids": [
            "חולון מקצ ח.ת."
           ],
           "legendgroup": "חולון מקצ ח.ת.",
           "marker": {
            "color": "#ab63fa",
            "size": [
             74
            ],
            "sizemode": "area",
            "sizeref": 0.0153,
            "symbol": "circle"
           },
           "mode": "markers",
           "name": "חולון מקצ ח.ת.",
           "showlegend": true,
           "type": "scatter",
           "x": [
            0
           ],
           "xaxis": "x",
           "y": [
            21
           ],
           "yaxis": "y"
          }
         ],
         "name": "2020-5"
        },
        {
         "data": [
          {
           "hovertemplate": "<b>%{hovertext}</b><br><br>pharma_n=כרמים ח.ת.<br>yyyy_mm=2020-6<br>p_meeting=%{x}<br>unscheduled=%{y}<br>pchanges_pd=%{marker.size}<extra></extra>",
           "hovertext": [
            "כרמים ח.ת."
           ],
           "ids": [
            "כרמים ח.ת."
           ],
           "legendgroup": "כרמים ח.ת.",
           "marker": {
            "color": "#636efa",
            "size": [
             38
            ],
            "sizemode": "area",
            "sizeref": 0.0153,
            "symbol": "circle"
           },
           "mode": "markers",
           "name": "כרמים ח.ת.",
           "showlegend": true,
           "type": "scatter",
           "x": [
            36
           ],
           "xaxis": "x",
           "y": [
            15
           ],
           "yaxis": "y"
          },
          {
           "hovertemplate": "<b>%{hovertext}</b><br><br>pharma_n=מודיעין ר\"ג ח.ת.<br>yyyy_mm=2020-6<br>p_meeting=%{x}<br>unscheduled=%{y}<br>pchanges_pd=%{marker.size}<extra></extra>",
           "hovertext": [
            "מודיעין ר\"ג ח.ת."
           ],
           "ids": [
            "מודיעין ר\"ג ח.ת."
           ],
           "legendgroup": "מודיעין ר\"ג ח.ת.",
           "marker": {
            "color": "#EF553B",
            "size": [
             24
            ],
            "sizemode": "area",
            "sizeref": 0.0153,
            "symbol": "circle"
           },
           "mode": "markers",
           "name": "מודיעין ר\"ג ח.ת.",
           "showlegend": true,
           "type": "scatter",
           "x": [
            43
           ],
           "xaxis": "x",
           "y": [
            9
           ],
           "yaxis": "y"
          },
          {
           "hovertemplate": "<b>%{hovertext}</b><br><br>pharma_n=קיראון ח.ת.<br>yyyy_mm=2020-6<br>p_meeting=%{x}<br>unscheduled=%{y}<br>pchanges_pd=%{marker.size}<extra></extra>",
           "hovertext": [
            "קיראון ח.ת."
           ],
           "ids": [
            "קיראון ח.ת."
           ],
           "legendgroup": "קיראון ח.ת.",
           "marker": {
            "color": "#00cc96",
            "size": [
             60
            ],
            "sizemode": "area",
            "sizeref": 0.0153,
            "symbol": "circle"
           },
           "mode": "markers",
           "name": "קיראון ח.ת.",
           "showlegend": true,
           "type": "scatter",
           "x": [
            25
           ],
           "xaxis": "x",
           "y": [
            11
           ],
           "yaxis": "y"
          },
          {
           "hovertemplate": "<b>%{hovertext}</b><br><br>pharma_n=חולון מקצ ח.ת.<br>yyyy_mm=2020-6<br>p_meeting=%{x}<br>unscheduled=%{y}<br>pchanges_pd=%{marker.size}<extra></extra>",
           "hovertext": [
            "חולון מקצ ח.ת."
           ],
           "ids": [
            "חולון מקצ ח.ת."
           ],
           "legendgroup": "חולון מקצ ח.ת.",
           "marker": {
            "color": "#ab63fa",
            "size": [
             76
            ],
            "sizemode": "area",
            "sizeref": 0.0153,
            "symbol": "circle"
           },
           "mode": "markers",
           "name": "חולון מקצ ח.ת.",
           "showlegend": true,
           "type": "scatter",
           "x": [
            0
           ],
           "xaxis": "x",
           "y": [
            21
           ],
           "yaxis": "y"
          }
         ],
         "name": "2020-6"
        }
       ],
       "layout": {
        "legend": {
         "itemsizing": "constant",
         "title": {
          "text": "pharma_n"
         },
         "tracegroupgap": 0
        },
        "margin": {
         "t": 60
        },
        "sliders": [
         {
          "active": 0,
          "currentvalue": {
           "prefix": "yyyy_mm="
          },
          "len": 0.9,
          "pad": {
           "b": 10,
           "t": 60
          },
          "steps": [
           {
            "args": [
             [
              "2018-1"
             ],
             {
              "frame": {
               "duration": 0,
               "redraw": false
              },
              "fromcurrent": true,
              "mode": "immediate",
              "transition": {
               "duration": 0,
               "easing": "linear"
              }
             }
            ],
            "label": "2018-1",
            "method": "animate"
           },
           {
            "args": [
             [
              "2018-2"
             ],
             {
              "frame": {
               "duration": 0,
               "redraw": false
              },
              "fromcurrent": true,
              "mode": "immediate",
              "transition": {
               "duration": 0,
               "easing": "linear"
              }
             }
            ],
            "label": "2018-2",
            "method": "animate"
           },
           {
            "args": [
             [
              "2018-3"
             ],
             {
              "frame": {
               "duration": 0,
               "redraw": false
              },
              "fromcurrent": true,
              "mode": "immediate",
              "transition": {
               "duration": 0,
               "easing": "linear"
              }
             }
            ],
            "label": "2018-3",
            "method": "animate"
           },
           {
            "args": [
             [
              "2018-4"
             ],
             {
              "frame": {
               "duration": 0,
               "redraw": false
              },
              "fromcurrent": true,
              "mode": "immediate",
              "transition": {
               "duration": 0,
               "easing": "linear"
              }
             }
            ],
            "label": "2018-4",
            "method": "animate"
           },
           {
            "args": [
             [
              "2018-5"
             ],
             {
              "frame": {
               "duration": 0,
               "redraw": false
              },
              "fromcurrent": true,
              "mode": "immediate",
              "transition": {
               "duration": 0,
               "easing": "linear"
              }
             }
            ],
            "label": "2018-5",
            "method": "animate"
           },
           {
            "args": [
             [
              "2018-6"
             ],
             {
              "frame": {
               "duration": 0,
               "redraw": false
              },
              "fromcurrent": true,
              "mode": "immediate",
              "transition": {
               "duration": 0,
               "easing": "linear"
              }
             }
            ],
            "label": "2018-6",
            "method": "animate"
           },
           {
            "args": [
             [
              "2018-7"
             ],
             {
              "frame": {
               "duration": 0,
               "redraw": false
              },
              "fromcurrent": true,
              "mode": "immediate",
              "transition": {
               "duration": 0,
               "easing": "linear"
              }
             }
            ],
            "label": "2018-7",
            "method": "animate"
           },
           {
            "args": [
             [
              "2018-8"
             ],
             {
              "frame": {
               "duration": 0,
               "redraw": false
              },
              "fromcurrent": true,
              "mode": "immediate",
              "transition": {
               "duration": 0,
               "easing": "linear"
              }
             }
            ],
            "label": "2018-8",
            "method": "animate"
           },
           {
            "args": [
             [
              "2018-9"
             ],
             {
              "frame": {
               "duration": 0,
               "redraw": false
              },
              "fromcurrent": true,
              "mode": "immediate",
              "transition": {
               "duration": 0,
               "easing": "linear"
              }
             }
            ],
            "label": "2018-9",
            "method": "animate"
           },
           {
            "args": [
             [
              "2018-10"
             ],
             {
              "frame": {
               "duration": 0,
               "redraw": false
              },
              "fromcurrent": true,
              "mode": "immediate",
              "transition": {
               "duration": 0,
               "easing": "linear"
              }
             }
            ],
            "label": "2018-10",
            "method": "animate"
           },
           {
            "args": [
             [
              "2018-11"
             ],
             {
              "frame": {
               "duration": 0,
               "redraw": false
              },
              "fromcurrent": true,
              "mode": "immediate",
              "transition": {
               "duration": 0,
               "easing": "linear"
              }
             }
            ],
            "label": "2018-11",
            "method": "animate"
           },
           {
            "args": [
             [
              "2018-12"
             ],
             {
              "frame": {
               "duration": 0,
               "redraw": false
              },
              "fromcurrent": true,
              "mode": "immediate",
              "transition": {
               "duration": 0,
               "easing": "linear"
              }
             }
            ],
            "label": "2018-12",
            "method": "animate"
           },
           {
            "args": [
             [
              "2019-1"
             ],
             {
              "frame": {
               "duration": 0,
               "redraw": false
              },
              "fromcurrent": true,
              "mode": "immediate",
              "transition": {
               "duration": 0,
               "easing": "linear"
              }
             }
            ],
            "label": "2019-1",
            "method": "animate"
           },
           {
            "args": [
             [
              "2019-2"
             ],
             {
              "frame": {
               "duration": 0,
               "redraw": false
              },
              "fromcurrent": true,
              "mode": "immediate",
              "transition": {
               "duration": 0,
               "easing": "linear"
              }
             }
            ],
            "label": "2019-2",
            "method": "animate"
           },
           {
            "args": [
             [
              "2019-3"
             ],
             {
              "frame": {
               "duration": 0,
               "redraw": false
              },
              "fromcurrent": true,
              "mode": "immediate",
              "transition": {
               "duration": 0,
               "easing": "linear"
              }
             }
            ],
            "label": "2019-3",
            "method": "animate"
           },
           {
            "args": [
             [
              "2019-4"
             ],
             {
              "frame": {
               "duration": 0,
               "redraw": false
              },
              "fromcurrent": true,
              "mode": "immediate",
              "transition": {
               "duration": 0,
               "easing": "linear"
              }
             }
            ],
            "label": "2019-4",
            "method": "animate"
           },
           {
            "args": [
             [
              "2019-5"
             ],
             {
              "frame": {
               "duration": 0,
               "redraw": false
              },
              "fromcurrent": true,
              "mode": "immediate",
              "transition": {
               "duration": 0,
               "easing": "linear"
              }
             }
            ],
            "label": "2019-5",
            "method": "animate"
           },
           {
            "args": [
             [
              "2019-6"
             ],
             {
              "frame": {
               "duration": 0,
               "redraw": false
              },
              "fromcurrent": true,
              "mode": "immediate",
              "transition": {
               "duration": 0,
               "easing": "linear"
              }
             }
            ],
            "label": "2019-6",
            "method": "animate"
           },
           {
            "args": [
             [
              "2019-7"
             ],
             {
              "frame": {
               "duration": 0,
               "redraw": false
              },
              "fromcurrent": true,
              "mode": "immediate",
              "transition": {
               "duration": 0,
               "easing": "linear"
              }
             }
            ],
            "label": "2019-7",
            "method": "animate"
           },
           {
            "args": [
             [
              "2019-8"
             ],
             {
              "frame": {
               "duration": 0,
               "redraw": false
              },
              "fromcurrent": true,
              "mode": "immediate",
              "transition": {
               "duration": 0,
               "easing": "linear"
              }
             }
            ],
            "label": "2019-8",
            "method": "animate"
           },
           {
            "args": [
             [
              "2019-9"
             ],
             {
              "frame": {
               "duration": 0,
               "redraw": false
              },
              "fromcurrent": true,
              "mode": "immediate",
              "transition": {
               "duration": 0,
               "easing": "linear"
              }
             }
            ],
            "label": "2019-9",
            "method": "animate"
           },
           {
            "args": [
             [
              "2019-10"
             ],
             {
              "frame": {
               "duration": 0,
               "redraw": false
              },
              "fromcurrent": true,
              "mode": "immediate",
              "transition": {
               "duration": 0,
               "easing": "linear"
              }
             }
            ],
            "label": "2019-10",
            "method": "animate"
           },
           {
            "args": [
             [
              "2019-11"
             ],
             {
              "frame": {
               "duration": 0,
               "redraw": false
              },
              "fromcurrent": true,
              "mode": "immediate",
              "transition": {
               "duration": 0,
               "easing": "linear"
              }
             }
            ],
            "label": "2019-11",
            "method": "animate"
           },
           {
            "args": [
             [
              "2019-12"
             ],
             {
              "frame": {
               "duration": 0,
               "redraw": false
              },
              "fromcurrent": true,
              "mode": "immediate",
              "transition": {
               "duration": 0,
               "easing": "linear"
              }
             }
            ],
            "label": "2019-12",
            "method": "animate"
           },
           {
            "args": [
             [
              "2020-1"
             ],
             {
              "frame": {
               "duration": 0,
               "redraw": false
              },
              "fromcurrent": true,
              "mode": "immediate",
              "transition": {
               "duration": 0,
               "easing": "linear"
              }
             }
            ],
            "label": "2020-1",
            "method": "animate"
           },
           {
            "args": [
             [
              "2020-2"
             ],
             {
              "frame": {
               "duration": 0,
               "redraw": false
              },
              "fromcurrent": true,
              "mode": "immediate",
              "transition": {
               "duration": 0,
               "easing": "linear"
              }
             }
            ],
            "label": "2020-2",
            "method": "animate"
           },
           {
            "args": [
             [
              "2020-3"
             ],
             {
              "frame": {
               "duration": 0,
               "redraw": false
              },
              "fromcurrent": true,
              "mode": "immediate",
              "transition": {
               "duration": 0,
               "easing": "linear"
              }
             }
            ],
            "label": "2020-3",
            "method": "animate"
           },
           {
            "args": [
             [
              "2020-4"
             ],
             {
              "frame": {
               "duration": 0,
               "redraw": false
              },
              "fromcurrent": true,
              "mode": "immediate",
              "transition": {
               "duration": 0,
               "easing": "linear"
              }
             }
            ],
            "label": "2020-4",
            "method": "animate"
           },
           {
            "args": [
             [
              "2020-5"
             ],
             {
              "frame": {
               "duration": 0,
               "redraw": false
              },
              "fromcurrent": true,
              "mode": "immediate",
              "transition": {
               "duration": 0,
               "easing": "linear"
              }
             }
            ],
            "label": "2020-5",
            "method": "animate"
           },
           {
            "args": [
             [
              "2020-6"
             ],
             {
              "frame": {
               "duration": 0,
               "redraw": false
              },
              "fromcurrent": true,
              "mode": "immediate",
              "transition": {
               "duration": 0,
               "easing": "linear"
              }
             }
            ],
            "label": "2020-6",
            "method": "animate"
           }
          ],
          "x": 0.1,
          "xanchor": "left",
          "y": 0,
          "yanchor": "top"
         }
        ],
        "template": {
         "data": {
          "bar": [
           {
            "error_x": {
             "color": "#2a3f5f"
            },
            "error_y": {
             "color": "#2a3f5f"
            },
            "marker": {
             "line": {
              "color": "#E5ECF6",
              "width": 0.5
             }
            },
            "type": "bar"
           }
          ],
          "barpolar": [
           {
            "marker": {
             "line": {
              "color": "#E5ECF6",
              "width": 0.5
             }
            },
            "type": "barpolar"
           }
          ],
          "carpet": [
           {
            "aaxis": {
             "endlinecolor": "#2a3f5f",
             "gridcolor": "white",
             "linecolor": "white",
             "minorgridcolor": "white",
             "startlinecolor": "#2a3f5f"
            },
            "baxis": {
             "endlinecolor": "#2a3f5f",
             "gridcolor": "white",
             "linecolor": "white",
             "minorgridcolor": "white",
             "startlinecolor": "#2a3f5f"
            },
            "type": "carpet"
           }
          ],
          "choropleth": [
           {
            "colorbar": {
             "outlinewidth": 0,
             "ticks": ""
            },
            "type": "choropleth"
           }
          ],
          "contour": [
           {
            "colorbar": {
             "outlinewidth": 0,
             "ticks": ""
            },
            "colorscale": [
             [
              0,
              "#0d0887"
             ],
             [
              0.1111111111111111,
              "#46039f"
             ],
             [
              0.2222222222222222,
              "#7201a8"
             ],
             [
              0.3333333333333333,
              "#9c179e"
             ],
             [
              0.4444444444444444,
              "#bd3786"
             ],
             [
              0.5555555555555556,
              "#d8576b"
             ],
             [
              0.6666666666666666,
              "#ed7953"
             ],
             [
              0.7777777777777778,
              "#fb9f3a"
             ],
             [
              0.8888888888888888,
              "#fdca26"
             ],
             [
              1,
              "#f0f921"
             ]
            ],
            "type": "contour"
           }
          ],
          "contourcarpet": [
           {
            "colorbar": {
             "outlinewidth": 0,
             "ticks": ""
            },
            "type": "contourcarpet"
           }
          ],
          "heatmap": [
           {
            "colorbar": {
             "outlinewidth": 0,
             "ticks": ""
            },
            "colorscale": [
             [
              0,
              "#0d0887"
             ],
             [
              0.1111111111111111,
              "#46039f"
             ],
             [
              0.2222222222222222,
              "#7201a8"
             ],
             [
              0.3333333333333333,
              "#9c179e"
             ],
             [
              0.4444444444444444,
              "#bd3786"
             ],
             [
              0.5555555555555556,
              "#d8576b"
             ],
             [
              0.6666666666666666,
              "#ed7953"
             ],
             [
              0.7777777777777778,
              "#fb9f3a"
             ],
             [
              0.8888888888888888,
              "#fdca26"
             ],
             [
              1,
              "#f0f921"
             ]
            ],
            "type": "heatmap"
           }
          ],
          "heatmapgl": [
           {
            "colorbar": {
             "outlinewidth": 0,
             "ticks": ""
            },
            "colorscale": [
             [
              0,
              "#0d0887"
             ],
             [
              0.1111111111111111,
              "#46039f"
             ],
             [
              0.2222222222222222,
              "#7201a8"
             ],
             [
              0.3333333333333333,
              "#9c179e"
             ],
             [
              0.4444444444444444,
              "#bd3786"
             ],
             [
              0.5555555555555556,
              "#d8576b"
             ],
             [
              0.6666666666666666,
              "#ed7953"
             ],
             [
              0.7777777777777778,
              "#fb9f3a"
             ],
             [
              0.8888888888888888,
              "#fdca26"
             ],
             [
              1,
              "#f0f921"
             ]
            ],
            "type": "heatmapgl"
           }
          ],
          "histogram": [
           {
            "marker": {
             "colorbar": {
              "outlinewidth": 0,
              "ticks": ""
             }
            },
            "type": "histogram"
           }
          ],
          "histogram2d": [
           {
            "colorbar": {
             "outlinewidth": 0,
             "ticks": ""
            },
            "colorscale": [
             [
              0,
              "#0d0887"
             ],
             [
              0.1111111111111111,
              "#46039f"
             ],
             [
              0.2222222222222222,
              "#7201a8"
             ],
             [
              0.3333333333333333,
              "#9c179e"
             ],
             [
              0.4444444444444444,
              "#bd3786"
             ],
             [
              0.5555555555555556,
              "#d8576b"
             ],
             [
              0.6666666666666666,
              "#ed7953"
             ],
             [
              0.7777777777777778,
              "#fb9f3a"
             ],
             [
              0.8888888888888888,
              "#fdca26"
             ],
             [
              1,
              "#f0f921"
             ]
            ],
            "type": "histogram2d"
           }
          ],
          "histogram2dcontour": [
           {
            "colorbar": {
             "outlinewidth": 0,
             "ticks": ""
            },
            "colorscale": [
             [
              0,
              "#0d0887"
             ],
             [
              0.1111111111111111,
              "#46039f"
             ],
             [
              0.2222222222222222,
              "#7201a8"
             ],
             [
              0.3333333333333333,
              "#9c179e"
             ],
             [
              0.4444444444444444,
              "#bd3786"
             ],
             [
              0.5555555555555556,
              "#d8576b"
             ],
             [
              0.6666666666666666,
              "#ed7953"
             ],
             [
              0.7777777777777778,
              "#fb9f3a"
             ],
             [
              0.8888888888888888,
              "#fdca26"
             ],
             [
              1,
              "#f0f921"
             ]
            ],
            "type": "histogram2dcontour"
           }
          ],
          "mesh3d": [
           {
            "colorbar": {
             "outlinewidth": 0,
             "ticks": ""
            },
            "type": "mesh3d"
           }
          ],
          "parcoords": [
           {
            "line": {
             "colorbar": {
              "outlinewidth": 0,
              "ticks": ""
             }
            },
            "type": "parcoords"
           }
          ],
          "pie": [
           {
            "automargin": true,
            "type": "pie"
           }
          ],
          "scatter": [
           {
            "marker": {
             "colorbar": {
              "outlinewidth": 0,
              "ticks": ""
             }
            },
            "type": "scatter"
           }
          ],
          "scatter3d": [
           {
            "line": {
             "colorbar": {
              "outlinewidth": 0,
              "ticks": ""
             }
            },
            "marker": {
             "colorbar": {
              "outlinewidth": 0,
              "ticks": ""
             }
            },
            "type": "scatter3d"
           }
          ],
          "scattercarpet": [
           {
            "marker": {
             "colorbar": {
              "outlinewidth": 0,
              "ticks": ""
             }
            },
            "type": "scattercarpet"
           }
          ],
          "scattergeo": [
           {
            "marker": {
             "colorbar": {
              "outlinewidth": 0,
              "ticks": ""
             }
            },
            "type": "scattergeo"
           }
          ],
          "scattergl": [
           {
            "marker": {
             "colorbar": {
              "outlinewidth": 0,
              "ticks": ""
             }
            },
            "type": "scattergl"
           }
          ],
          "scattermapbox": [
           {
            "marker": {
             "colorbar": {
              "outlinewidth": 0,
              "ticks": ""
             }
            },
            "type": "scattermapbox"
           }
          ],
          "scatterpolar": [
           {
            "marker": {
             "colorbar": {
              "outlinewidth": 0,
              "ticks": ""
             }
            },
            "type": "scatterpolar"
           }
          ],
          "scatterpolargl": [
           {
            "marker": {
             "colorbar": {
              "outlinewidth": 0,
              "ticks": ""
             }
            },
            "type": "scatterpolargl"
           }
          ],
          "scatterternary": [
           {
            "marker": {
             "colorbar": {
              "outlinewidth": 0,
              "ticks": ""
             }
            },
            "type": "scatterternary"
           }
          ],
          "surface": [
           {
            "colorbar": {
             "outlinewidth": 0,
             "ticks": ""
            },
            "colorscale": [
             [
              0,
              "#0d0887"
             ],
             [
              0.1111111111111111,
              "#46039f"
             ],
             [
              0.2222222222222222,
              "#7201a8"
             ],
             [
              0.3333333333333333,
              "#9c179e"
             ],
             [
              0.4444444444444444,
              "#bd3786"
             ],
             [
              0.5555555555555556,
              "#d8576b"
             ],
             [
              0.6666666666666666,
              "#ed7953"
             ],
             [
              0.7777777777777778,
              "#fb9f3a"
             ],
             [
              0.8888888888888888,
              "#fdca26"
             ],
             [
              1,
              "#f0f921"
             ]
            ],
            "type": "surface"
           }
          ],
          "table": [
           {
            "cells": {
             "fill": {
              "color": "#EBF0F8"
             },
             "line": {
              "color": "white"
             }
            },
            "header": {
             "fill": {
              "color": "#C8D4E3"
             },
             "line": {
              "color": "white"
             }
            },
            "type": "table"
           }
          ]
         },
         "layout": {
          "annotationdefaults": {
           "arrowcolor": "#2a3f5f",
           "arrowhead": 0,
           "arrowwidth": 1
          },
          "coloraxis": {
           "colorbar": {
            "outlinewidth": 0,
            "ticks": ""
           }
          },
          "colorscale": {
           "diverging": [
            [
             0,
             "#8e0152"
            ],
            [
             0.1,
             "#c51b7d"
            ],
            [
             0.2,
             "#de77ae"
            ],
            [
             0.3,
             "#f1b6da"
            ],
            [
             0.4,
             "#fde0ef"
            ],
            [
             0.5,
             "#f7f7f7"
            ],
            [
             0.6,
             "#e6f5d0"
            ],
            [
             0.7,
             "#b8e186"
            ],
            [
             0.8,
             "#7fbc41"
            ],
            [
             0.9,
             "#4d9221"
            ],
            [
             1,
             "#276419"
            ]
           ],
           "sequential": [
            [
             0,
             "#0d0887"
            ],
            [
             0.1111111111111111,
             "#46039f"
            ],
            [
             0.2222222222222222,
             "#7201a8"
            ],
            [
             0.3333333333333333,
             "#9c179e"
            ],
            [
             0.4444444444444444,
             "#bd3786"
            ],
            [
             0.5555555555555556,
             "#d8576b"
            ],
            [
             0.6666666666666666,
             "#ed7953"
            ],
            [
             0.7777777777777778,
             "#fb9f3a"
            ],
            [
             0.8888888888888888,
             "#fdca26"
            ],
            [
             1,
             "#f0f921"
            ]
           ],
           "sequentialminus": [
            [
             0,
             "#0d0887"
            ],
            [
             0.1111111111111111,
             "#46039f"
            ],
            [
             0.2222222222222222,
             "#7201a8"
            ],
            [
             0.3333333333333333,
             "#9c179e"
            ],
            [
             0.4444444444444444,
             "#bd3786"
            ],
            [
             0.5555555555555556,
             "#d8576b"
            ],
            [
             0.6666666666666666,
             "#ed7953"
            ],
            [
             0.7777777777777778,
             "#fb9f3a"
            ],
            [
             0.8888888888888888,
             "#fdca26"
            ],
            [
             1,
             "#f0f921"
            ]
           ]
          },
          "colorway": [
           "#636efa",
           "#EF553B",
           "#00cc96",
           "#ab63fa",
           "#FFA15A",
           "#19d3f3",
           "#FF6692",
           "#B6E880",
           "#FF97FF",
           "#FECB52"
          ],
          "font": {
           "color": "#2a3f5f"
          },
          "geo": {
           "bgcolor": "white",
           "lakecolor": "white",
           "landcolor": "#E5ECF6",
           "showlakes": true,
           "showland": true,
           "subunitcolor": "white"
          },
          "hoverlabel": {
           "align": "left"
          },
          "hovermode": "closest",
          "mapbox": {
           "style": "light"
          },
          "paper_bgcolor": "white",
          "plot_bgcolor": "#E5ECF6",
          "polar": {
           "angularaxis": {
            "gridcolor": "white",
            "linecolor": "white",
            "ticks": ""
           },
           "bgcolor": "#E5ECF6",
           "radialaxis": {
            "gridcolor": "white",
            "linecolor": "white",
            "ticks": ""
           }
          },
          "scene": {
           "xaxis": {
            "backgroundcolor": "#E5ECF6",
            "gridcolor": "white",
            "gridwidth": 2,
            "linecolor": "white",
            "showbackground": true,
            "ticks": "",
            "zerolinecolor": "white"
           },
           "yaxis": {
            "backgroundcolor": "#E5ECF6",
            "gridcolor": "white",
            "gridwidth": 2,
            "linecolor": "white",
            "showbackground": true,
            "ticks": "",
            "zerolinecolor": "white"
           },
           "zaxis": {
            "backgroundcolor": "#E5ECF6",
            "gridcolor": "white",
            "gridwidth": 2,
            "linecolor": "white",
            "showbackground": true,
            "ticks": "",
            "zerolinecolor": "white"
           }
          },
          "shapedefaults": {
           "line": {
            "color": "#2a3f5f"
           }
          },
          "ternary": {
           "aaxis": {
            "gridcolor": "white",
            "linecolor": "white",
            "ticks": ""
           },
           "baxis": {
            "gridcolor": "white",
            "linecolor": "white",
            "ticks": ""
           },
           "bgcolor": "#E5ECF6",
           "caxis": {
            "gridcolor": "white",
            "linecolor": "white",
            "ticks": ""
           }
          },
          "title": {
           "x": 0.05
          },
          "xaxis": {
           "automargin": true,
           "gridcolor": "white",
           "linecolor": "white",
           "ticks": "",
           "title": {
            "standoff": 15
           },
           "zerolinecolor": "white",
           "zerolinewidth": 2
          },
          "yaxis": {
           "automargin": true,
           "gridcolor": "white",
           "linecolor": "white",
           "ticks": "",
           "title": {
            "standoff": 15
           },
           "zerolinecolor": "white",
           "zerolinewidth": 2
          }
         }
        },
        "updatemenus": [
         {
          "buttons": [
           {
            "args": [
             null,
             {
              "frame": {
               "duration": 500,
               "redraw": false
              },
              "fromcurrent": true,
              "mode": "immediate",
              "transition": {
               "duration": 500,
               "easing": "linear"
              }
             }
            ],
            "label": "&#9654;",
            "method": "animate"
           },
           {
            "args": [
             [
              null
             ],
             {
              "frame": {
               "duration": 0,
               "redraw": false
              },
              "fromcurrent": true,
              "mode": "immediate",
              "transition": {
               "duration": 0,
               "easing": "linear"
              }
             }
            ],
            "label": "&#9724;",
            "method": "animate"
           }
          ],
          "direction": "left",
          "pad": {
           "r": 10,
           "t": 70
          },
          "showactive": false,
          "type": "buttons",
          "x": 0.1,
          "xanchor": "right",
          "y": 0,
          "yanchor": "top"
         }
        ],
        "xaxis": {
         "anchor": "y",
         "domain": [
          0,
          1
         ],
         "range": [
          1,
          100
         ],
         "title": {
          "text": "p_meeting"
         }
        },
        "yaxis": {
         "anchor": "x",
         "domain": [
          0,
          1
         ],
         "range": [
          1,
          30
         ],
         "title": {
          "text": "unscheduled"
         }
        }
       }
      },
      "text/html": [
       "<div>\n",
       "        \n",
       "        \n",
       "            <div id=\"e091196f-27ef-4678-8776-1210efd61520\" class=\"plotly-graph-div\" style=\"height:525px; width:100%;\"></div>\n",
       "            <script type=\"text/javascript\">\n",
       "                require([\"plotly\"], function(Plotly) {\n",
       "                    window.PLOTLYENV=window.PLOTLYENV || {};\n",
       "                    \n",
       "                if (document.getElementById(\"e091196f-27ef-4678-8776-1210efd61520\")) {\n",
       "                    Plotly.newPlot(\n",
       "                        'e091196f-27ef-4678-8776-1210efd61520',\n",
       "                        [{\"hovertemplate\": \"<b>%{hovertext}</b><br><br>pharma_n=\\u05db\\u05e8\\u05de\\u05d9\\u05dd \\u05d7.\\u05ea.<br>yyyy_mm=2018-1<br>p_meeting=%{x}<br>unscheduled=%{y}<br>pchanges_pd=%{marker.size}<extra></extra>\", \"hovertext\": [\"\\u05db\\u05e8\\u05de\\u05d9\\u05dd \\u05d7.\\u05ea.\"], \"ids\": [\"\\u05db\\u05e8\\u05de\\u05d9\\u05dd \\u05d7.\\u05ea.\"], \"legendgroup\": \"\\u05db\\u05e8\\u05de\\u05d9\\u05dd \\u05d7.\\u05ea.\", \"marker\": {\"color\": \"#636efa\", \"size\": [56], \"sizemode\": \"area\", \"sizeref\": 0.0153, \"symbol\": \"circle\"}, \"mode\": \"markers\", \"name\": \"\\u05db\\u05e8\\u05de\\u05d9\\u05dd \\u05d7.\\u05ea.\", \"showlegend\": true, \"type\": \"scatter\", \"x\": [4], \"xaxis\": \"x\", \"y\": [17], \"yaxis\": \"y\"}, {\"hovertemplate\": \"<b>%{hovertext}</b><br><br>pharma_n=\\u05de\\u05d5\\u05d3\\u05d9\\u05e2\\u05d9\\u05df \\u05e8\\\"\\u05d2 \\u05d7.\\u05ea.<br>yyyy_mm=2018-1<br>p_meeting=%{x}<br>unscheduled=%{y}<br>pchanges_pd=%{marker.size}<extra></extra>\", \"hovertext\": [\"\\u05de\\u05d5\\u05d3\\u05d9\\u05e2\\u05d9\\u05df \\u05e8\\\"\\u05d2 \\u05d7.\\u05ea.\"], \"ids\": [\"\\u05de\\u05d5\\u05d3\\u05d9\\u05e2\\u05d9\\u05df \\u05e8\\\"\\u05d2 \\u05d7.\\u05ea.\"], \"legendgroup\": \"\\u05de\\u05d5\\u05d3\\u05d9\\u05e2\\u05d9\\u05df \\u05e8\\\"\\u05d2 \\u05d7.\\u05ea.\", \"marker\": {\"color\": \"#EF553B\", \"size\": [58], \"sizemode\": \"area\", \"sizeref\": 0.0153, \"symbol\": \"circle\"}, \"mode\": \"markers\", \"name\": \"\\u05de\\u05d5\\u05d3\\u05d9\\u05e2\\u05d9\\u05df \\u05e8\\\"\\u05d2 \\u05d7.\\u05ea.\", \"showlegend\": true, \"type\": \"scatter\", \"x\": [22], \"xaxis\": \"x\", \"y\": [11], \"yaxis\": \"y\"}, {\"hovertemplate\": \"<b>%{hovertext}</b><br><br>pharma_n=\\u05e7\\u05d9\\u05e8\\u05d0\\u05d5\\u05df \\u05d7.\\u05ea.<br>yyyy_mm=2018-1<br>p_meeting=%{x}<br>unscheduled=%{y}<br>pchanges_pd=%{marker.size}<extra></extra>\", \"hovertext\": [\"\\u05e7\\u05d9\\u05e8\\u05d0\\u05d5\\u05df \\u05d7.\\u05ea.\"], \"ids\": [\"\\u05e7\\u05d9\\u05e8\\u05d0\\u05d5\\u05df \\u05d7.\\u05ea.\"], \"legendgroup\": \"\\u05e7\\u05d9\\u05e8\\u05d0\\u05d5\\u05df \\u05d7.\\u05ea.\", \"marker\": {\"color\": \"#00cc96\", \"size\": [49], \"sizemode\": \"area\", \"sizeref\": 0.0153, \"symbol\": \"circle\"}, \"mode\": \"markers\", \"name\": \"\\u05e7\\u05d9\\u05e8\\u05d0\\u05d5\\u05df \\u05d7.\\u05ea.\", \"showlegend\": true, \"type\": \"scatter\", \"x\": [5], \"xaxis\": \"x\", \"y\": [13], \"yaxis\": \"y\"}],\n",
       "                        {\"legend\": {\"itemsizing\": \"constant\", \"title\": {\"text\": \"pharma_n\"}, \"tracegroupgap\": 0}, \"margin\": {\"t\": 60}, \"sliders\": [{\"active\": 0, \"currentvalue\": {\"prefix\": \"yyyy_mm=\"}, \"len\": 0.9, \"pad\": {\"b\": 10, \"t\": 60}, \"steps\": [{\"args\": [[\"2018-1\"], {\"frame\": {\"duration\": 0, \"redraw\": false}, \"fromcurrent\": true, \"mode\": \"immediate\", \"transition\": {\"duration\": 0, \"easing\": \"linear\"}}], \"label\": \"2018-1\", \"method\": \"animate\"}, {\"args\": [[\"2018-2\"], {\"frame\": {\"duration\": 0, \"redraw\": false}, \"fromcurrent\": true, \"mode\": \"immediate\", \"transition\": {\"duration\": 0, \"easing\": \"linear\"}}], \"label\": \"2018-2\", \"method\": \"animate\"}, {\"args\": [[\"2018-3\"], {\"frame\": {\"duration\": 0, \"redraw\": false}, \"fromcurrent\": true, \"mode\": \"immediate\", \"transition\": {\"duration\": 0, \"easing\": \"linear\"}}], \"label\": \"2018-3\", \"method\": \"animate\"}, {\"args\": [[\"2018-4\"], {\"frame\": {\"duration\": 0, \"redraw\": false}, \"fromcurrent\": true, \"mode\": \"immediate\", \"transition\": {\"duration\": 0, \"easing\": \"linear\"}}], \"label\": \"2018-4\", \"method\": \"animate\"}, {\"args\": [[\"2018-5\"], {\"frame\": {\"duration\": 0, \"redraw\": false}, \"fromcurrent\": true, \"mode\": \"immediate\", \"transition\": {\"duration\": 0, \"easing\": \"linear\"}}], \"label\": \"2018-5\", \"method\": \"animate\"}, {\"args\": [[\"2018-6\"], {\"frame\": {\"duration\": 0, \"redraw\": false}, \"fromcurrent\": true, \"mode\": \"immediate\", \"transition\": {\"duration\": 0, \"easing\": \"linear\"}}], \"label\": \"2018-6\", \"method\": \"animate\"}, {\"args\": [[\"2018-7\"], {\"frame\": {\"duration\": 0, \"redraw\": false}, \"fromcurrent\": true, \"mode\": \"immediate\", \"transition\": {\"duration\": 0, \"easing\": \"linear\"}}], \"label\": \"2018-7\", \"method\": \"animate\"}, {\"args\": [[\"2018-8\"], {\"frame\": {\"duration\": 0, \"redraw\": false}, \"fromcurrent\": true, \"mode\": \"immediate\", \"transition\": {\"duration\": 0, \"easing\": \"linear\"}}], \"label\": \"2018-8\", \"method\": \"animate\"}, {\"args\": [[\"2018-9\"], {\"frame\": {\"duration\": 0, \"redraw\": false}, \"fromcurrent\": true, \"mode\": \"immediate\", \"transition\": {\"duration\": 0, \"easing\": \"linear\"}}], \"label\": \"2018-9\", \"method\": \"animate\"}, {\"args\": [[\"2018-10\"], {\"frame\": {\"duration\": 0, \"redraw\": false}, \"fromcurrent\": true, \"mode\": \"immediate\", \"transition\": {\"duration\": 0, \"easing\": \"linear\"}}], \"label\": \"2018-10\", \"method\": \"animate\"}, {\"args\": [[\"2018-11\"], {\"frame\": {\"duration\": 0, \"redraw\": false}, \"fromcurrent\": true, \"mode\": \"immediate\", \"transition\": {\"duration\": 0, \"easing\": \"linear\"}}], \"label\": \"2018-11\", \"method\": \"animate\"}, {\"args\": [[\"2018-12\"], {\"frame\": {\"duration\": 0, \"redraw\": false}, \"fromcurrent\": true, \"mode\": \"immediate\", \"transition\": {\"duration\": 0, \"easing\": \"linear\"}}], \"label\": \"2018-12\", \"method\": \"animate\"}, {\"args\": [[\"2019-1\"], {\"frame\": {\"duration\": 0, \"redraw\": false}, \"fromcurrent\": true, \"mode\": \"immediate\", \"transition\": {\"duration\": 0, \"easing\": \"linear\"}}], \"label\": \"2019-1\", \"method\": \"animate\"}, {\"args\": [[\"2019-2\"], {\"frame\": {\"duration\": 0, \"redraw\": false}, \"fromcurrent\": true, \"mode\": \"immediate\", \"transition\": {\"duration\": 0, \"easing\": \"linear\"}}], \"label\": \"2019-2\", \"method\": \"animate\"}, {\"args\": [[\"2019-3\"], {\"frame\": {\"duration\": 0, \"redraw\": false}, \"fromcurrent\": true, \"mode\": \"immediate\", \"transition\": {\"duration\": 0, \"easing\": \"linear\"}}], \"label\": \"2019-3\", \"method\": \"animate\"}, {\"args\": [[\"2019-4\"], {\"frame\": {\"duration\": 0, \"redraw\": false}, \"fromcurrent\": true, \"mode\": \"immediate\", \"transition\": {\"duration\": 0, \"easing\": \"linear\"}}], \"label\": \"2019-4\", \"method\": \"animate\"}, {\"args\": [[\"2019-5\"], {\"frame\": {\"duration\": 0, \"redraw\": false}, \"fromcurrent\": true, \"mode\": \"immediate\", \"transition\": {\"duration\": 0, \"easing\": \"linear\"}}], \"label\": \"2019-5\", \"method\": \"animate\"}, {\"args\": [[\"2019-6\"], {\"frame\": {\"duration\": 0, \"redraw\": false}, \"fromcurrent\": true, \"mode\": \"immediate\", \"transition\": {\"duration\": 0, \"easing\": \"linear\"}}], \"label\": \"2019-6\", \"method\": \"animate\"}, {\"args\": [[\"2019-7\"], {\"frame\": {\"duration\": 0, \"redraw\": false}, \"fromcurrent\": true, \"mode\": \"immediate\", \"transition\": {\"duration\": 0, \"easing\": \"linear\"}}], \"label\": \"2019-7\", \"method\": \"animate\"}, {\"args\": [[\"2019-8\"], {\"frame\": {\"duration\": 0, \"redraw\": false}, \"fromcurrent\": true, \"mode\": \"immediate\", \"transition\": {\"duration\": 0, \"easing\": \"linear\"}}], \"label\": \"2019-8\", \"method\": \"animate\"}, {\"args\": [[\"2019-9\"], {\"frame\": {\"duration\": 0, \"redraw\": false}, \"fromcurrent\": true, \"mode\": \"immediate\", \"transition\": {\"duration\": 0, \"easing\": \"linear\"}}], \"label\": \"2019-9\", \"method\": \"animate\"}, {\"args\": [[\"2019-10\"], {\"frame\": {\"duration\": 0, \"redraw\": false}, \"fromcurrent\": true, \"mode\": \"immediate\", \"transition\": {\"duration\": 0, \"easing\": \"linear\"}}], \"label\": \"2019-10\", \"method\": \"animate\"}, {\"args\": [[\"2019-11\"], {\"frame\": {\"duration\": 0, \"redraw\": false}, \"fromcurrent\": true, \"mode\": \"immediate\", \"transition\": {\"duration\": 0, \"easing\": \"linear\"}}], \"label\": \"2019-11\", \"method\": \"animate\"}, {\"args\": [[\"2019-12\"], {\"frame\": {\"duration\": 0, \"redraw\": false}, \"fromcurrent\": true, \"mode\": \"immediate\", \"transition\": {\"duration\": 0, \"easing\": \"linear\"}}], \"label\": \"2019-12\", \"method\": \"animate\"}, {\"args\": [[\"2020-1\"], {\"frame\": {\"duration\": 0, \"redraw\": false}, \"fromcurrent\": true, \"mode\": \"immediate\", \"transition\": {\"duration\": 0, \"easing\": \"linear\"}}], \"label\": \"2020-1\", \"method\": \"animate\"}, {\"args\": [[\"2020-2\"], {\"frame\": {\"duration\": 0, \"redraw\": false}, \"fromcurrent\": true, \"mode\": \"immediate\", \"transition\": {\"duration\": 0, \"easing\": \"linear\"}}], \"label\": \"2020-2\", \"method\": \"animate\"}, {\"args\": [[\"2020-3\"], {\"frame\": {\"duration\": 0, \"redraw\": false}, \"fromcurrent\": true, \"mode\": \"immediate\", \"transition\": {\"duration\": 0, \"easing\": \"linear\"}}], \"label\": \"2020-3\", \"method\": \"animate\"}, {\"args\": [[\"2020-4\"], {\"frame\": {\"duration\": 0, \"redraw\": false}, \"fromcurrent\": true, \"mode\": \"immediate\", \"transition\": {\"duration\": 0, \"easing\": \"linear\"}}], \"label\": \"2020-4\", \"method\": \"animate\"}, {\"args\": [[\"2020-5\"], {\"frame\": {\"duration\": 0, \"redraw\": false}, \"fromcurrent\": true, \"mode\": \"immediate\", \"transition\": {\"duration\": 0, \"easing\": \"linear\"}}], \"label\": \"2020-5\", \"method\": \"animate\"}, {\"args\": [[\"2020-6\"], {\"frame\": {\"duration\": 0, \"redraw\": false}, \"fromcurrent\": true, \"mode\": \"immediate\", \"transition\": {\"duration\": 0, \"easing\": \"linear\"}}], \"label\": \"2020-6\", \"method\": \"animate\"}], \"x\": 0.1, \"xanchor\": \"left\", \"y\": 0, \"yanchor\": \"top\"}], \"template\": {\"data\": {\"bar\": [{\"error_x\": {\"color\": \"#2a3f5f\"}, \"error_y\": {\"color\": \"#2a3f5f\"}, \"marker\": {\"line\": {\"color\": \"#E5ECF6\", \"width\": 0.5}}, \"type\": \"bar\"}], \"barpolar\": [{\"marker\": {\"line\": {\"color\": \"#E5ECF6\", \"width\": 0.5}}, \"type\": \"barpolar\"}], \"carpet\": [{\"aaxis\": {\"endlinecolor\": \"#2a3f5f\", \"gridcolor\": \"white\", \"linecolor\": \"white\", \"minorgridcolor\": \"white\", \"startlinecolor\": \"#2a3f5f\"}, \"baxis\": {\"endlinecolor\": \"#2a3f5f\", \"gridcolor\": \"white\", \"linecolor\": \"white\", \"minorgridcolor\": \"white\", \"startlinecolor\": \"#2a3f5f\"}, \"type\": \"carpet\"}], \"choropleth\": [{\"colorbar\": {\"outlinewidth\": 0, \"ticks\": \"\"}, \"type\": \"choropleth\"}], \"contour\": [{\"colorbar\": {\"outlinewidth\": 0, \"ticks\": \"\"}, \"colorscale\": [[0.0, \"#0d0887\"], [0.1111111111111111, \"#46039f\"], [0.2222222222222222, \"#7201a8\"], [0.3333333333333333, \"#9c179e\"], [0.4444444444444444, \"#bd3786\"], [0.5555555555555556, \"#d8576b\"], [0.6666666666666666, \"#ed7953\"], [0.7777777777777778, \"#fb9f3a\"], [0.8888888888888888, \"#fdca26\"], [1.0, \"#f0f921\"]], \"type\": \"contour\"}], \"contourcarpet\": [{\"colorbar\": {\"outlinewidth\": 0, \"ticks\": \"\"}, \"type\": \"contourcarpet\"}], \"heatmap\": [{\"colorbar\": {\"outlinewidth\": 0, \"ticks\": \"\"}, \"colorscale\": [[0.0, \"#0d0887\"], [0.1111111111111111, \"#46039f\"], [0.2222222222222222, \"#7201a8\"], [0.3333333333333333, \"#9c179e\"], [0.4444444444444444, \"#bd3786\"], [0.5555555555555556, \"#d8576b\"], [0.6666666666666666, \"#ed7953\"], [0.7777777777777778, \"#fb9f3a\"], [0.8888888888888888, \"#fdca26\"], [1.0, \"#f0f921\"]], \"type\": \"heatmap\"}], \"heatmapgl\": [{\"colorbar\": {\"outlinewidth\": 0, \"ticks\": \"\"}, \"colorscale\": [[0.0, \"#0d0887\"], [0.1111111111111111, \"#46039f\"], [0.2222222222222222, \"#7201a8\"], [0.3333333333333333, \"#9c179e\"], [0.4444444444444444, \"#bd3786\"], [0.5555555555555556, \"#d8576b\"], [0.6666666666666666, \"#ed7953\"], [0.7777777777777778, \"#fb9f3a\"], [0.8888888888888888, \"#fdca26\"], [1.0, \"#f0f921\"]], \"type\": \"heatmapgl\"}], \"histogram\": [{\"marker\": {\"colorbar\": {\"outlinewidth\": 0, \"ticks\": \"\"}}, \"type\": \"histogram\"}], \"histogram2d\": [{\"colorbar\": {\"outlinewidth\": 0, \"ticks\": \"\"}, \"colorscale\": [[0.0, \"#0d0887\"], [0.1111111111111111, \"#46039f\"], [0.2222222222222222, \"#7201a8\"], [0.3333333333333333, \"#9c179e\"], [0.4444444444444444, \"#bd3786\"], [0.5555555555555556, \"#d8576b\"], [0.6666666666666666, \"#ed7953\"], [0.7777777777777778, \"#fb9f3a\"], [0.8888888888888888, \"#fdca26\"], [1.0, \"#f0f921\"]], \"type\": \"histogram2d\"}], \"histogram2dcontour\": [{\"colorbar\": {\"outlinewidth\": 0, \"ticks\": \"\"}, \"colorscale\": [[0.0, \"#0d0887\"], [0.1111111111111111, \"#46039f\"], [0.2222222222222222, \"#7201a8\"], [0.3333333333333333, \"#9c179e\"], [0.4444444444444444, \"#bd3786\"], [0.5555555555555556, \"#d8576b\"], [0.6666666666666666, \"#ed7953\"], [0.7777777777777778, \"#fb9f3a\"], [0.8888888888888888, \"#fdca26\"], [1.0, \"#f0f921\"]], \"type\": \"histogram2dcontour\"}], \"mesh3d\": [{\"colorbar\": {\"outlinewidth\": 0, \"ticks\": \"\"}, \"type\": \"mesh3d\"}], \"parcoords\": [{\"line\": {\"colorbar\": {\"outlinewidth\": 0, \"ticks\": \"\"}}, \"type\": \"parcoords\"}], \"pie\": [{\"automargin\": true, \"type\": \"pie\"}], \"scatter\": [{\"marker\": {\"colorbar\": {\"outlinewidth\": 0, \"ticks\": \"\"}}, \"type\": \"scatter\"}], \"scatter3d\": [{\"line\": {\"colorbar\": {\"outlinewidth\": 0, \"ticks\": \"\"}}, \"marker\": {\"colorbar\": {\"outlinewidth\": 0, \"ticks\": \"\"}}, \"type\": \"scatter3d\"}], \"scattercarpet\": [{\"marker\": {\"colorbar\": {\"outlinewidth\": 0, \"ticks\": \"\"}}, \"type\": \"scattercarpet\"}], \"scattergeo\": [{\"marker\": {\"colorbar\": {\"outlinewidth\": 0, \"ticks\": \"\"}}, \"type\": \"scattergeo\"}], \"scattergl\": [{\"marker\": {\"colorbar\": {\"outlinewidth\": 0, \"ticks\": \"\"}}, \"type\": \"scattergl\"}], \"scattermapbox\": [{\"marker\": {\"colorbar\": {\"outlinewidth\": 0, \"ticks\": \"\"}}, \"type\": \"scattermapbox\"}], \"scatterpolar\": [{\"marker\": {\"colorbar\": {\"outlinewidth\": 0, \"ticks\": \"\"}}, \"type\": \"scatterpolar\"}], \"scatterpolargl\": [{\"marker\": {\"colorbar\": {\"outlinewidth\": 0, \"ticks\": \"\"}}, \"type\": \"scatterpolargl\"}], \"scatterternary\": [{\"marker\": {\"colorbar\": {\"outlinewidth\": 0, \"ticks\": \"\"}}, \"type\": \"scatterternary\"}], \"surface\": [{\"colorbar\": {\"outlinewidth\": 0, \"ticks\": \"\"}, \"colorscale\": [[0.0, \"#0d0887\"], [0.1111111111111111, \"#46039f\"], [0.2222222222222222, \"#7201a8\"], [0.3333333333333333, \"#9c179e\"], [0.4444444444444444, \"#bd3786\"], [0.5555555555555556, \"#d8576b\"], [0.6666666666666666, \"#ed7953\"], [0.7777777777777778, \"#fb9f3a\"], [0.8888888888888888, \"#fdca26\"], [1.0, \"#f0f921\"]], \"type\": \"surface\"}], \"table\": [{\"cells\": {\"fill\": {\"color\": \"#EBF0F8\"}, \"line\": {\"color\": \"white\"}}, \"header\": {\"fill\": {\"color\": \"#C8D4E3\"}, \"line\": {\"color\": \"white\"}}, \"type\": \"table\"}]}, \"layout\": {\"annotationdefaults\": {\"arrowcolor\": \"#2a3f5f\", \"arrowhead\": 0, \"arrowwidth\": 1}, \"coloraxis\": {\"colorbar\": {\"outlinewidth\": 0, \"ticks\": \"\"}}, \"colorscale\": {\"diverging\": [[0, \"#8e0152\"], [0.1, \"#c51b7d\"], [0.2, \"#de77ae\"], [0.3, \"#f1b6da\"], [0.4, \"#fde0ef\"], [0.5, \"#f7f7f7\"], [0.6, \"#e6f5d0\"], [0.7, \"#b8e186\"], [0.8, \"#7fbc41\"], [0.9, \"#4d9221\"], [1, \"#276419\"]], \"sequential\": [[0.0, \"#0d0887\"], [0.1111111111111111, \"#46039f\"], [0.2222222222222222, \"#7201a8\"], [0.3333333333333333, \"#9c179e\"], [0.4444444444444444, \"#bd3786\"], [0.5555555555555556, \"#d8576b\"], [0.6666666666666666, \"#ed7953\"], [0.7777777777777778, \"#fb9f3a\"], [0.8888888888888888, \"#fdca26\"], [1.0, \"#f0f921\"]], \"sequentialminus\": [[0.0, \"#0d0887\"], [0.1111111111111111, \"#46039f\"], [0.2222222222222222, \"#7201a8\"], [0.3333333333333333, \"#9c179e\"], [0.4444444444444444, \"#bd3786\"], [0.5555555555555556, \"#d8576b\"], [0.6666666666666666, \"#ed7953\"], [0.7777777777777778, \"#fb9f3a\"], [0.8888888888888888, \"#fdca26\"], [1.0, \"#f0f921\"]]}, \"colorway\": [\"#636efa\", \"#EF553B\", \"#00cc96\", \"#ab63fa\", \"#FFA15A\", \"#19d3f3\", \"#FF6692\", \"#B6E880\", \"#FF97FF\", \"#FECB52\"], \"font\": {\"color\": \"#2a3f5f\"}, \"geo\": {\"bgcolor\": \"white\", \"lakecolor\": \"white\", \"landcolor\": \"#E5ECF6\", \"showlakes\": true, \"showland\": true, \"subunitcolor\": \"white\"}, \"hoverlabel\": {\"align\": \"left\"}, \"hovermode\": \"closest\", \"mapbox\": {\"style\": \"light\"}, \"paper_bgcolor\": \"white\", \"plot_bgcolor\": \"#E5ECF6\", \"polar\": {\"angularaxis\": {\"gridcolor\": \"white\", \"linecolor\": \"white\", \"ticks\": \"\"}, \"bgcolor\": \"#E5ECF6\", \"radialaxis\": {\"gridcolor\": \"white\", \"linecolor\": \"white\", \"ticks\": \"\"}}, \"scene\": {\"xaxis\": {\"backgroundcolor\": \"#E5ECF6\", \"gridcolor\": \"white\", \"gridwidth\": 2, \"linecolor\": \"white\", \"showbackground\": true, \"ticks\": \"\", \"zerolinecolor\": \"white\"}, \"yaxis\": {\"backgroundcolor\": \"#E5ECF6\", \"gridcolor\": \"white\", \"gridwidth\": 2, \"linecolor\": \"white\", \"showbackground\": true, \"ticks\": \"\", \"zerolinecolor\": \"white\"}, \"zaxis\": {\"backgroundcolor\": \"#E5ECF6\", \"gridcolor\": \"white\", \"gridwidth\": 2, \"linecolor\": \"white\", \"showbackground\": true, \"ticks\": \"\", \"zerolinecolor\": \"white\"}}, \"shapedefaults\": {\"line\": {\"color\": \"#2a3f5f\"}}, \"ternary\": {\"aaxis\": {\"gridcolor\": \"white\", \"linecolor\": \"white\", \"ticks\": \"\"}, \"baxis\": {\"gridcolor\": \"white\", \"linecolor\": \"white\", \"ticks\": \"\"}, \"bgcolor\": \"#E5ECF6\", \"caxis\": {\"gridcolor\": \"white\", \"linecolor\": \"white\", \"ticks\": \"\"}}, \"title\": {\"x\": 0.05}, \"xaxis\": {\"automargin\": true, \"gridcolor\": \"white\", \"linecolor\": \"white\", \"ticks\": \"\", \"title\": {\"standoff\": 15}, \"zerolinecolor\": \"white\", \"zerolinewidth\": 2}, \"yaxis\": {\"automargin\": true, \"gridcolor\": \"white\", \"linecolor\": \"white\", \"ticks\": \"\", \"title\": {\"standoff\": 15}, \"zerolinecolor\": \"white\", \"zerolinewidth\": 2}}}, \"updatemenus\": [{\"buttons\": [{\"args\": [null, {\"frame\": {\"duration\": 500, \"redraw\": false}, \"fromcurrent\": true, \"mode\": \"immediate\", \"transition\": {\"duration\": 500, \"easing\": \"linear\"}}], \"label\": \"&#9654;\", \"method\": \"animate\"}, {\"args\": [[null], {\"frame\": {\"duration\": 0, \"redraw\": false}, \"fromcurrent\": true, \"mode\": \"immediate\", \"transition\": {\"duration\": 0, \"easing\": \"linear\"}}], \"label\": \"&#9724;\", \"method\": \"animate\"}], \"direction\": \"left\", \"pad\": {\"r\": 10, \"t\": 70}, \"showactive\": false, \"type\": \"buttons\", \"x\": 0.1, \"xanchor\": \"right\", \"y\": 0, \"yanchor\": \"top\"}], \"xaxis\": {\"anchor\": \"y\", \"domain\": [0.0, 1.0], \"range\": [1, 100], \"title\": {\"text\": \"p_meeting\"}}, \"yaxis\": {\"anchor\": \"x\", \"domain\": [0.0, 1.0], \"range\": [1, 30], \"title\": {\"text\": \"unscheduled\"}}},\n",
       "                        {\"responsive\": true}\n",
       "                    ).then(function(){\n",
       "                            Plotly.addFrames('e091196f-27ef-4678-8776-1210efd61520', [{\"data\": [{\"hovertemplate\": \"<b>%{hovertext}</b><br><br>pharma_n=\\u05db\\u05e8\\u05de\\u05d9\\u05dd \\u05d7.\\u05ea.<br>yyyy_mm=2018-1<br>p_meeting=%{x}<br>unscheduled=%{y}<br>pchanges_pd=%{marker.size}<extra></extra>\", \"hovertext\": [\"\\u05db\\u05e8\\u05de\\u05d9\\u05dd \\u05d7.\\u05ea.\"], \"ids\": [\"\\u05db\\u05e8\\u05de\\u05d9\\u05dd \\u05d7.\\u05ea.\"], \"legendgroup\": \"\\u05db\\u05e8\\u05de\\u05d9\\u05dd \\u05d7.\\u05ea.\", \"marker\": {\"color\": \"#636efa\", \"size\": [56], \"sizemode\": \"area\", \"sizeref\": 0.0153, \"symbol\": \"circle\"}, \"mode\": \"markers\", \"name\": \"\\u05db\\u05e8\\u05de\\u05d9\\u05dd \\u05d7.\\u05ea.\", \"showlegend\": true, \"x\": [4], \"xaxis\": \"x\", \"y\": [17], \"yaxis\": \"y\", \"type\": \"scatter\"}, {\"hovertemplate\": \"<b>%{hovertext}</b><br><br>pharma_n=\\u05de\\u05d5\\u05d3\\u05d9\\u05e2\\u05d9\\u05df \\u05e8\\\"\\u05d2 \\u05d7.\\u05ea.<br>yyyy_mm=2018-1<br>p_meeting=%{x}<br>unscheduled=%{y}<br>pchanges_pd=%{marker.size}<extra></extra>\", \"hovertext\": [\"\\u05de\\u05d5\\u05d3\\u05d9\\u05e2\\u05d9\\u05df \\u05e8\\\"\\u05d2 \\u05d7.\\u05ea.\"], \"ids\": [\"\\u05de\\u05d5\\u05d3\\u05d9\\u05e2\\u05d9\\u05df \\u05e8\\\"\\u05d2 \\u05d7.\\u05ea.\"], \"legendgroup\": \"\\u05de\\u05d5\\u05d3\\u05d9\\u05e2\\u05d9\\u05df \\u05e8\\\"\\u05d2 \\u05d7.\\u05ea.\", \"marker\": {\"color\": \"#EF553B\", \"size\": [58], \"sizemode\": \"area\", \"sizeref\": 0.0153, \"symbol\": \"circle\"}, \"mode\": \"markers\", \"name\": \"\\u05de\\u05d5\\u05d3\\u05d9\\u05e2\\u05d9\\u05df \\u05e8\\\"\\u05d2 \\u05d7.\\u05ea.\", \"showlegend\": true, \"x\": [22], \"xaxis\": \"x\", \"y\": [11], \"yaxis\": \"y\", \"type\": \"scatter\"}, {\"hovertemplate\": \"<b>%{hovertext}</b><br><br>pharma_n=\\u05e7\\u05d9\\u05e8\\u05d0\\u05d5\\u05df \\u05d7.\\u05ea.<br>yyyy_mm=2018-1<br>p_meeting=%{x}<br>unscheduled=%{y}<br>pchanges_pd=%{marker.size}<extra></extra>\", \"hovertext\": [\"\\u05e7\\u05d9\\u05e8\\u05d0\\u05d5\\u05df \\u05d7.\\u05ea.\"], \"ids\": [\"\\u05e7\\u05d9\\u05e8\\u05d0\\u05d5\\u05df \\u05d7.\\u05ea.\"], \"legendgroup\": \"\\u05e7\\u05d9\\u05e8\\u05d0\\u05d5\\u05df \\u05d7.\\u05ea.\", \"marker\": {\"color\": \"#00cc96\", \"size\": [49], \"sizemode\": \"area\", \"sizeref\": 0.0153, \"symbol\": \"circle\"}, \"mode\": \"markers\", \"name\": \"\\u05e7\\u05d9\\u05e8\\u05d0\\u05d5\\u05df \\u05d7.\\u05ea.\", \"showlegend\": true, \"x\": [5], \"xaxis\": \"x\", \"y\": [13], \"yaxis\": \"y\", \"type\": \"scatter\"}], \"name\": \"2018-1\"}, {\"data\": [{\"hovertemplate\": \"<b>%{hovertext}</b><br><br>pharma_n=\\u05db\\u05e8\\u05de\\u05d9\\u05dd \\u05d7.\\u05ea.<br>yyyy_mm=2018-2<br>p_meeting=%{x}<br>unscheduled=%{y}<br>pchanges_pd=%{marker.size}<extra></extra>\", \"hovertext\": [\"\\u05db\\u05e8\\u05de\\u05d9\\u05dd \\u05d7.\\u05ea.\"], \"ids\": [\"\\u05db\\u05e8\\u05de\\u05d9\\u05dd \\u05d7.\\u05ea.\"], \"legendgroup\": \"\\u05db\\u05e8\\u05de\\u05d9\\u05dd \\u05d7.\\u05ea.\", \"marker\": {\"color\": \"#636efa\", \"size\": [66], \"sizemode\": \"area\", \"sizeref\": 0.0153, \"symbol\": \"circle\"}, \"mode\": \"markers\", \"name\": \"\\u05db\\u05e8\\u05de\\u05d9\\u05dd \\u05d7.\\u05ea.\", \"showlegend\": true, \"x\": [10], \"xaxis\": \"x\", \"y\": [16], \"yaxis\": \"y\", \"type\": \"scatter\"}, {\"hovertemplate\": \"<b>%{hovertext}</b><br><br>pharma_n=\\u05de\\u05d5\\u05d3\\u05d9\\u05e2\\u05d9\\u05df \\u05e8\\\"\\u05d2 \\u05d7.\\u05ea.<br>yyyy_mm=2018-2<br>p_meeting=%{x}<br>unscheduled=%{y}<br>pchanges_pd=%{marker.size}<extra></extra>\", \"hovertext\": [\"\\u05de\\u05d5\\u05d3\\u05d9\\u05e2\\u05d9\\u05df \\u05e8\\\"\\u05d2 \\u05d7.\\u05ea.\"], \"ids\": [\"\\u05de\\u05d5\\u05d3\\u05d9\\u05e2\\u05d9\\u05df \\u05e8\\\"\\u05d2 \\u05d7.\\u05ea.\"], \"legendgroup\": \"\\u05de\\u05d5\\u05d3\\u05d9\\u05e2\\u05d9\\u05df \\u05e8\\\"\\u05d2 \\u05d7.\\u05ea.\", \"marker\": {\"color\": \"#EF553B\", \"size\": [58], \"sizemode\": \"area\", \"sizeref\": 0.0153, \"symbol\": \"circle\"}, \"mode\": \"markers\", \"name\": \"\\u05de\\u05d5\\u05d3\\u05d9\\u05e2\\u05d9\\u05df \\u05e8\\\"\\u05d2 \\u05d7.\\u05ea.\", \"showlegend\": true, \"x\": [45], \"xaxis\": \"x\", \"y\": [8], \"yaxis\": \"y\", \"type\": \"scatter\"}, {\"hovertemplate\": \"<b>%{hovertext}</b><br><br>pharma_n=\\u05e7\\u05d9\\u05e8\\u05d0\\u05d5\\u05df \\u05d7.\\u05ea.<br>yyyy_mm=2018-2<br>p_meeting=%{x}<br>unscheduled=%{y}<br>pchanges_pd=%{marker.size}<extra></extra>\", \"hovertext\": [\"\\u05e7\\u05d9\\u05e8\\u05d0\\u05d5\\u05df \\u05d7.\\u05ea.\"], \"ids\": [\"\\u05e7\\u05d9\\u05e8\\u05d0\\u05d5\\u05df \\u05d7.\\u05ea.\"], \"legendgroup\": \"\\u05e7\\u05d9\\u05e8\\u05d0\\u05d5\\u05df \\u05d7.\\u05ea.\", \"marker\": {\"color\": \"#00cc96\", \"size\": [48], \"sizemode\": \"area\", \"sizeref\": 0.0153, \"symbol\": \"circle\"}, \"mode\": \"markers\", \"name\": \"\\u05e7\\u05d9\\u05e8\\u05d0\\u05d5\\u05df \\u05d7.\\u05ea.\", \"showlegend\": true, \"x\": [3], \"xaxis\": \"x\", \"y\": [9], \"yaxis\": \"y\", \"type\": \"scatter\"}], \"name\": \"2018-2\"}, {\"data\": [{\"hovertemplate\": \"<b>%{hovertext}</b><br><br>pharma_n=\\u05db\\u05e8\\u05de\\u05d9\\u05dd \\u05d7.\\u05ea.<br>yyyy_mm=2018-3<br>p_meeting=%{x}<br>unscheduled=%{y}<br>pchanges_pd=%{marker.size}<extra></extra>\", \"hovertext\": [\"\\u05db\\u05e8\\u05de\\u05d9\\u05dd \\u05d7.\\u05ea.\"], \"ids\": [\"\\u05db\\u05e8\\u05de\\u05d9\\u05dd \\u05d7.\\u05ea.\"], \"legendgroup\": \"\\u05db\\u05e8\\u05de\\u05d9\\u05dd \\u05d7.\\u05ea.\", \"marker\": {\"color\": \"#636efa\", \"size\": [63], \"sizemode\": \"area\", \"sizeref\": 0.0153, \"symbol\": \"circle\"}, \"mode\": \"markers\", \"name\": \"\\u05db\\u05e8\\u05de\\u05d9\\u05dd \\u05d7.\\u05ea.\", \"showlegend\": true, \"x\": [6], \"xaxis\": \"x\", \"y\": [10], \"yaxis\": \"y\", \"type\": \"scatter\"}, {\"hovertemplate\": \"<b>%{hovertext}</b><br><br>pharma_n=\\u05de\\u05d5\\u05d3\\u05d9\\u05e2\\u05d9\\u05df \\u05e8\\\"\\u05d2 \\u05d7.\\u05ea.<br>yyyy_mm=2018-3<br>p_meeting=%{x}<br>unscheduled=%{y}<br>pchanges_pd=%{marker.size}<extra></extra>\", \"hovertext\": [\"\\u05de\\u05d5\\u05d3\\u05d9\\u05e2\\u05d9\\u05df \\u05e8\\\"\\u05d2 \\u05d7.\\u05ea.\"], \"ids\": [\"\\u05de\\u05d5\\u05d3\\u05d9\\u05e2\\u05d9\\u05df \\u05e8\\\"\\u05d2 \\u05d7.\\u05ea.\"], \"legendgroup\": \"\\u05de\\u05d5\\u05d3\\u05d9\\u05e2\\u05d9\\u05df \\u05e8\\\"\\u05d2 \\u05d7.\\u05ea.\", \"marker\": {\"color\": \"#EF553B\", \"size\": [63], \"sizemode\": \"area\", \"sizeref\": 0.0153, \"symbol\": \"circle\"}, \"mode\": \"markers\", \"name\": \"\\u05de\\u05d5\\u05d3\\u05d9\\u05e2\\u05d9\\u05df \\u05e8\\\"\\u05d2 \\u05d7.\\u05ea.\", \"showlegend\": true, \"x\": [27], \"xaxis\": \"x\", \"y\": [4], \"yaxis\": \"y\", \"type\": \"scatter\"}, {\"hovertemplate\": \"<b>%{hovertext}</b><br><br>pharma_n=\\u05e7\\u05d9\\u05e8\\u05d0\\u05d5\\u05df \\u05d7.\\u05ea.<br>yyyy_mm=2018-3<br>p_meeting=%{x}<br>unscheduled=%{y}<br>pchanges_pd=%{marker.size}<extra></extra>\", \"hovertext\": [\"\\u05e7\\u05d9\\u05e8\\u05d0\\u05d5\\u05df \\u05d7.\\u05ea.\"], \"ids\": [\"\\u05e7\\u05d9\\u05e8\\u05d0\\u05d5\\u05df \\u05d7.\\u05ea.\"], \"legendgroup\": \"\\u05e7\\u05d9\\u05e8\\u05d0\\u05d5\\u05df \\u05d7.\\u05ea.\", \"marker\": {\"color\": \"#00cc96\", \"size\": [52], \"sizemode\": \"area\", \"sizeref\": 0.0153, \"symbol\": \"circle\"}, \"mode\": \"markers\", \"name\": \"\\u05e7\\u05d9\\u05e8\\u05d0\\u05d5\\u05df \\u05d7.\\u05ea.\", \"showlegend\": true, \"x\": [0], \"xaxis\": \"x\", \"y\": [5], \"yaxis\": \"y\", \"type\": \"scatter\"}], \"name\": \"2018-3\"}, {\"data\": [{\"hovertemplate\": \"<b>%{hovertext}</b><br><br>pharma_n=\\u05db\\u05e8\\u05de\\u05d9\\u05dd \\u05d7.\\u05ea.<br>yyyy_mm=2018-4<br>p_meeting=%{x}<br>unscheduled=%{y}<br>pchanges_pd=%{marker.size}<extra></extra>\", \"hovertext\": [\"\\u05db\\u05e8\\u05de\\u05d9\\u05dd \\u05d7.\\u05ea.\"], \"ids\": [\"\\u05db\\u05e8\\u05de\\u05d9\\u05dd \\u05d7.\\u05ea.\"], \"legendgroup\": \"\\u05db\\u05e8\\u05de\\u05d9\\u05dd \\u05d7.\\u05ea.\", \"marker\": {\"color\": \"#636efa\", \"size\": [66], \"sizemode\": \"area\", \"sizeref\": 0.0153, \"symbol\": \"circle\"}, \"mode\": \"markers\", \"name\": \"\\u05db\\u05e8\\u05de\\u05d9\\u05dd \\u05d7.\\u05ea.\", \"showlegend\": true, \"x\": [0], \"xaxis\": \"x\", \"y\": [8], \"yaxis\": \"y\", \"type\": \"scatter\"}, {\"hovertemplate\": \"<b>%{hovertext}</b><br><br>pharma_n=\\u05de\\u05d5\\u05d3\\u05d9\\u05e2\\u05d9\\u05df \\u05e8\\\"\\u05d2 \\u05d7.\\u05ea.<br>yyyy_mm=2018-4<br>p_meeting=%{x}<br>unscheduled=%{y}<br>pchanges_pd=%{marker.size}<extra></extra>\", \"hovertext\": [\"\\u05de\\u05d5\\u05d3\\u05d9\\u05e2\\u05d9\\u05df \\u05e8\\\"\\u05d2 \\u05d7.\\u05ea.\"], \"ids\": [\"\\u05de\\u05d5\\u05d3\\u05d9\\u05e2\\u05d9\\u05df \\u05e8\\\"\\u05d2 \\u05d7.\\u05ea.\"], \"legendgroup\": \"\\u05de\\u05d5\\u05d3\\u05d9\\u05e2\\u05d9\\u05df \\u05e8\\\"\\u05d2 \\u05d7.\\u05ea.\", \"marker\": {\"color\": \"#EF553B\", \"size\": [68], \"sizemode\": \"area\", \"sizeref\": 0.0153, \"symbol\": \"circle\"}, \"mode\": \"markers\", \"name\": \"\\u05de\\u05d5\\u05d3\\u05d9\\u05e2\\u05d9\\u05df \\u05e8\\\"\\u05d2 \\u05d7.\\u05ea.\", \"showlegend\": true, \"x\": [20], \"xaxis\": \"x\", \"y\": [7], \"yaxis\": \"y\", \"type\": \"scatter\"}, {\"hovertemplate\": \"<b>%{hovertext}</b><br><br>pharma_n=\\u05e7\\u05d9\\u05e8\\u05d0\\u05d5\\u05df \\u05d7.\\u05ea.<br>yyyy_mm=2018-4<br>p_meeting=%{x}<br>unscheduled=%{y}<br>pchanges_pd=%{marker.size}<extra></extra>\", \"hovertext\": [\"\\u05e7\\u05d9\\u05e8\\u05d0\\u05d5\\u05df \\u05d7.\\u05ea.\"], \"ids\": [\"\\u05e7\\u05d9\\u05e8\\u05d0\\u05d5\\u05df \\u05d7.\\u05ea.\"], \"legendgroup\": \"\\u05e7\\u05d9\\u05e8\\u05d0\\u05d5\\u05df \\u05d7.\\u05ea.\", \"marker\": {\"color\": \"#00cc96\", \"size\": [46], \"sizemode\": \"area\", \"sizeref\": 0.0153, \"symbol\": \"circle\"}, \"mode\": \"markers\", \"name\": \"\\u05e7\\u05d9\\u05e8\\u05d0\\u05d5\\u05df \\u05d7.\\u05ea.\", \"showlegend\": true, \"x\": [4], \"xaxis\": \"x\", \"y\": [11], \"yaxis\": \"y\", \"type\": \"scatter\"}], \"name\": \"2018-4\"}, {\"data\": [{\"hovertemplate\": \"<b>%{hovertext}</b><br><br>pharma_n=\\u05db\\u05e8\\u05de\\u05d9\\u05dd \\u05d7.\\u05ea.<br>yyyy_mm=2018-5<br>p_meeting=%{x}<br>unscheduled=%{y}<br>pchanges_pd=%{marker.size}<extra></extra>\", \"hovertext\": [\"\\u05db\\u05e8\\u05de\\u05d9\\u05dd \\u05d7.\\u05ea.\"], \"ids\": [\"\\u05db\\u05e8\\u05de\\u05d9\\u05dd \\u05d7.\\u05ea.\"], \"legendgroup\": \"\\u05db\\u05e8\\u05de\\u05d9\\u05dd \\u05d7.\\u05ea.\", \"marker\": {\"color\": \"#636efa\", \"size\": [65], \"sizemode\": \"area\", \"sizeref\": 0.0153, \"symbol\": \"circle\"}, \"mode\": \"markers\", \"name\": \"\\u05db\\u05e8\\u05de\\u05d9\\u05dd \\u05d7.\\u05ea.\", \"showlegend\": true, \"x\": [0], \"xaxis\": \"x\", \"y\": [12], \"yaxis\": \"y\", \"type\": \"scatter\"}, {\"hovertemplate\": \"<b>%{hovertext}</b><br><br>pharma_n=\\u05de\\u05d5\\u05d3\\u05d9\\u05e2\\u05d9\\u05df \\u05e8\\\"\\u05d2 \\u05d7.\\u05ea.<br>yyyy_mm=2018-5<br>p_meeting=%{x}<br>unscheduled=%{y}<br>pchanges_pd=%{marker.size}<extra></extra>\", \"hovertext\": [\"\\u05de\\u05d5\\u05d3\\u05d9\\u05e2\\u05d9\\u05df \\u05e8\\\"\\u05d2 \\u05d7.\\u05ea.\"], \"ids\": [\"\\u05de\\u05d5\\u05d3\\u05d9\\u05e2\\u05d9\\u05df \\u05e8\\\"\\u05d2 \\u05d7.\\u05ea.\"], \"legendgroup\": \"\\u05de\\u05d5\\u05d3\\u05d9\\u05e2\\u05d9\\u05df \\u05e8\\\"\\u05d2 \\u05d7.\\u05ea.\", \"marker\": {\"color\": \"#EF553B\", \"size\": [70], \"sizemode\": \"area\", \"sizeref\": 0.0153, \"symbol\": \"circle\"}, \"mode\": \"markers\", \"name\": \"\\u05de\\u05d5\\u05d3\\u05d9\\u05e2\\u05d9\\u05df \\u05e8\\\"\\u05d2 \\u05d7.\\u05ea.\", \"showlegend\": true, \"x\": [1], \"xaxis\": \"x\", \"y\": [10], \"yaxis\": \"y\", \"type\": \"scatter\"}, {\"hovertemplate\": \"<b>%{hovertext}</b><br><br>pharma_n=\\u05e7\\u05d9\\u05e8\\u05d0\\u05d5\\u05df \\u05d7.\\u05ea.<br>yyyy_mm=2018-5<br>p_meeting=%{x}<br>unscheduled=%{y}<br>pchanges_pd=%{marker.size}<extra></extra>\", \"hovertext\": [\"\\u05e7\\u05d9\\u05e8\\u05d0\\u05d5\\u05df \\u05d7.\\u05ea.\"], \"ids\": [\"\\u05e7\\u05d9\\u05e8\\u05d0\\u05d5\\u05df \\u05d7.\\u05ea.\"], \"legendgroup\": \"\\u05e7\\u05d9\\u05e8\\u05d0\\u05d5\\u05df \\u05d7.\\u05ea.\", \"marker\": {\"color\": \"#00cc96\", \"size\": [49], \"sizemode\": \"area\", \"sizeref\": 0.0153, \"symbol\": \"circle\"}, \"mode\": \"markers\", \"name\": \"\\u05e7\\u05d9\\u05e8\\u05d0\\u05d5\\u05df \\u05d7.\\u05ea.\", \"showlegend\": true, \"x\": [20], \"xaxis\": \"x\", \"y\": [11], \"yaxis\": \"y\", \"type\": \"scatter\"}], \"name\": \"2018-5\"}, {\"data\": [{\"hovertemplate\": \"<b>%{hovertext}</b><br><br>pharma_n=\\u05db\\u05e8\\u05de\\u05d9\\u05dd \\u05d7.\\u05ea.<br>yyyy_mm=2018-6<br>p_meeting=%{x}<br>unscheduled=%{y}<br>pchanges_pd=%{marker.size}<extra></extra>\", \"hovertext\": [\"\\u05db\\u05e8\\u05de\\u05d9\\u05dd \\u05d7.\\u05ea.\"], \"ids\": [\"\\u05db\\u05e8\\u05de\\u05d9\\u05dd \\u05d7.\\u05ea.\"], \"legendgroup\": \"\\u05db\\u05e8\\u05de\\u05d9\\u05dd \\u05d7.\\u05ea.\", \"marker\": {\"color\": \"#636efa\", \"size\": [61], \"sizemode\": \"area\", \"sizeref\": 0.0153, \"symbol\": \"circle\"}, \"mode\": \"markers\", \"name\": \"\\u05db\\u05e8\\u05de\\u05d9\\u05dd \\u05d7.\\u05ea.\", \"showlegend\": true, \"x\": [9], \"xaxis\": \"x\", \"y\": [13], \"yaxis\": \"y\", \"type\": \"scatter\"}, {\"hovertemplate\": \"<b>%{hovertext}</b><br><br>pharma_n=\\u05de\\u05d5\\u05d3\\u05d9\\u05e2\\u05d9\\u05df \\u05e8\\\"\\u05d2 \\u05d7.\\u05ea.<br>yyyy_mm=2018-6<br>p_meeting=%{x}<br>unscheduled=%{y}<br>pchanges_pd=%{marker.size}<extra></extra>\", \"hovertext\": [\"\\u05de\\u05d5\\u05d3\\u05d9\\u05e2\\u05d9\\u05df \\u05e8\\\"\\u05d2 \\u05d7.\\u05ea.\"], \"ids\": [\"\\u05de\\u05d5\\u05d3\\u05d9\\u05e2\\u05d9\\u05df \\u05e8\\\"\\u05d2 \\u05d7.\\u05ea.\"], \"legendgroup\": \"\\u05de\\u05d5\\u05d3\\u05d9\\u05e2\\u05d9\\u05df \\u05e8\\\"\\u05d2 \\u05d7.\\u05ea.\", \"marker\": {\"color\": \"#EF553B\", \"size\": [65], \"sizemode\": \"area\", \"sizeref\": 0.0153, \"symbol\": \"circle\"}, \"mode\": \"markers\", \"name\": \"\\u05de\\u05d5\\u05d3\\u05d9\\u05e2\\u05d9\\u05df \\u05e8\\\"\\u05d2 \\u05d7.\\u05ea.\", \"showlegend\": true, \"x\": [3], \"xaxis\": \"x\", \"y\": [8], \"yaxis\": \"y\", \"type\": \"scatter\"}, {\"hovertemplate\": \"<b>%{hovertext}</b><br><br>pharma_n=\\u05e7\\u05d9\\u05e8\\u05d0\\u05d5\\u05df \\u05d7.\\u05ea.<br>yyyy_mm=2018-6<br>p_meeting=%{x}<br>unscheduled=%{y}<br>pchanges_pd=%{marker.size}<extra></extra>\", \"hovertext\": [\"\\u05e7\\u05d9\\u05e8\\u05d0\\u05d5\\u05df \\u05d7.\\u05ea.\"], \"ids\": [\"\\u05e7\\u05d9\\u05e8\\u05d0\\u05d5\\u05df \\u05d7.\\u05ea.\"], \"legendgroup\": \"\\u05e7\\u05d9\\u05e8\\u05d0\\u05d5\\u05df \\u05d7.\\u05ea.\", \"marker\": {\"color\": \"#00cc96\", \"size\": [49], \"sizemode\": \"area\", \"sizeref\": 0.0153, \"symbol\": \"circle\"}, \"mode\": \"markers\", \"name\": \"\\u05e7\\u05d9\\u05e8\\u05d0\\u05d5\\u05df \\u05d7.\\u05ea.\", \"showlegend\": true, \"x\": [12], \"xaxis\": \"x\", \"y\": [10], \"yaxis\": \"y\", \"type\": \"scatter\"}, {\"hovertemplate\": \"<b>%{hovertext}</b><br><br>pharma_n=\\u05d7\\u05d5\\u05dc\\u05d5\\u05df \\u05de\\u05e7\\u05e6 \\u05d7.\\u05ea.<br>yyyy_mm=2018-6<br>p_meeting=%{x}<br>unscheduled=%{y}<br>pchanges_pd=%{marker.size}<extra></extra>\", \"hovertext\": [\"\\u05d7\\u05d5\\u05dc\\u05d5\\u05df \\u05de\\u05e7\\u05e6 \\u05d7.\\u05ea.\"], \"ids\": [\"\\u05d7\\u05d5\\u05dc\\u05d5\\u05df \\u05de\\u05e7\\u05e6 \\u05d7.\\u05ea.\"], \"legendgroup\": \"\\u05d7\\u05d5\\u05dc\\u05d5\\u05df \\u05de\\u05e7\\u05e6 \\u05d7.\\u05ea.\", \"marker\": {\"color\": \"#ab63fa\", \"size\": [153], \"sizemode\": \"area\", \"sizeref\": 0.0153, \"symbol\": \"circle\"}, \"mode\": \"markers\", \"name\": \"\\u05d7\\u05d5\\u05dc\\u05d5\\u05df \\u05de\\u05e7\\u05e6 \\u05d7.\\u05ea.\", \"showlegend\": true, \"x\": [583], \"xaxis\": \"x\", \"y\": [22], \"yaxis\": \"y\", \"type\": \"scatter\"}], \"name\": \"2018-6\"}, {\"data\": [{\"hovertemplate\": \"<b>%{hovertext}</b><br><br>pharma_n=\\u05db\\u05e8\\u05de\\u05d9\\u05dd \\u05d7.\\u05ea.<br>yyyy_mm=2018-7<br>p_meeting=%{x}<br>unscheduled=%{y}<br>pchanges_pd=%{marker.size}<extra></extra>\", \"hovertext\": [\"\\u05db\\u05e8\\u05de\\u05d9\\u05dd \\u05d7.\\u05ea.\"], \"ids\": [\"\\u05db\\u05e8\\u05de\\u05d9\\u05dd \\u05d7.\\u05ea.\"], \"legendgroup\": \"\\u05db\\u05e8\\u05de\\u05d9\\u05dd \\u05d7.\\u05ea.\", \"marker\": {\"color\": \"#636efa\", \"size\": [55], \"sizemode\": \"area\", \"sizeref\": 0.0153, \"symbol\": \"circle\"}, \"mode\": \"markers\", \"name\": \"\\u05db\\u05e8\\u05de\\u05d9\\u05dd \\u05d7.\\u05ea.\", \"showlegend\": true, \"x\": [25], \"xaxis\": \"x\", \"y\": [15], \"yaxis\": \"y\", \"type\": \"scatter\"}, {\"hovertemplate\": \"<b>%{hovertext}</b><br><br>pharma_n=\\u05de\\u05d5\\u05d3\\u05d9\\u05e2\\u05d9\\u05df \\u05e8\\\"\\u05d2 \\u05d7.\\u05ea.<br>yyyy_mm=2018-7<br>p_meeting=%{x}<br>unscheduled=%{y}<br>pchanges_pd=%{marker.size}<extra></extra>\", \"hovertext\": [\"\\u05de\\u05d5\\u05d3\\u05d9\\u05e2\\u05d9\\u05df \\u05e8\\\"\\u05d2 \\u05d7.\\u05ea.\"], \"ids\": [\"\\u05de\\u05d5\\u05d3\\u05d9\\u05e2\\u05d9\\u05df \\u05e8\\\"\\u05d2 \\u05d7.\\u05ea.\"], \"legendgroup\": \"\\u05de\\u05d5\\u05d3\\u05d9\\u05e2\\u05d9\\u05df \\u05e8\\\"\\u05d2 \\u05d7.\\u05ea.\", \"marker\": {\"color\": \"#EF553B\", \"size\": [70], \"sizemode\": \"area\", \"sizeref\": 0.0153, \"symbol\": \"circle\"}, \"mode\": \"markers\", \"name\": \"\\u05de\\u05d5\\u05d3\\u05d9\\u05e2\\u05d9\\u05df \\u05e8\\\"\\u05d2 \\u05d7.\\u05ea.\", \"showlegend\": true, \"x\": [7], \"xaxis\": \"x\", \"y\": [7], \"yaxis\": \"y\", \"type\": \"scatter\"}, {\"hovertemplate\": \"<b>%{hovertext}</b><br><br>pharma_n=\\u05e7\\u05d9\\u05e8\\u05d0\\u05d5\\u05df \\u05d7.\\u05ea.<br>yyyy_mm=2018-7<br>p_meeting=%{x}<br>unscheduled=%{y}<br>pchanges_pd=%{marker.size}<extra></extra>\", \"hovertext\": [\"\\u05e7\\u05d9\\u05e8\\u05d0\\u05d5\\u05df \\u05d7.\\u05ea.\"], \"ids\": [\"\\u05e7\\u05d9\\u05e8\\u05d0\\u05d5\\u05df \\u05d7.\\u05ea.\"], \"legendgroup\": \"\\u05e7\\u05d9\\u05e8\\u05d0\\u05d5\\u05df \\u05d7.\\u05ea.\", \"marker\": {\"color\": \"#00cc96\", \"size\": [49], \"sizemode\": \"area\", \"sizeref\": 0.0153, \"symbol\": \"circle\"}, \"mode\": \"markers\", \"name\": \"\\u05e7\\u05d9\\u05e8\\u05d0\\u05d5\\u05df \\u05d7.\\u05ea.\", \"showlegend\": true, \"x\": [6], \"xaxis\": \"x\", \"y\": [8], \"yaxis\": \"y\", \"type\": \"scatter\"}, {\"hovertemplate\": \"<b>%{hovertext}</b><br><br>pharma_n=\\u05d7\\u05d5\\u05dc\\u05d5\\u05df \\u05de\\u05e7\\u05e6 \\u05d7.\\u05ea.<br>yyyy_mm=2018-7<br>p_meeting=%{x}<br>unscheduled=%{y}<br>pchanges_pd=%{marker.size}<extra></extra>\", \"hovertext\": [\"\\u05d7\\u05d5\\u05dc\\u05d5\\u05df \\u05de\\u05e7\\u05e6 \\u05d7.\\u05ea.\"], \"ids\": [\"\\u05d7\\u05d5\\u05dc\\u05d5\\u05df \\u05de\\u05e7\\u05e6 \\u05d7.\\u05ea.\"], \"legendgroup\": \"\\u05d7\\u05d5\\u05dc\\u05d5\\u05df \\u05de\\u05e7\\u05e6 \\u05d7.\\u05ea.\", \"marker\": {\"color\": \"#ab63fa\", \"size\": [136], \"sizemode\": \"area\", \"sizeref\": 0.0153, \"symbol\": \"circle\"}, \"mode\": \"markers\", \"name\": \"\\u05d7\\u05d5\\u05dc\\u05d5\\u05df \\u05de\\u05e7\\u05e6 \\u05d7.\\u05ea.\", \"showlegend\": true, \"x\": [169], \"xaxis\": \"x\", \"y\": [20], \"yaxis\": \"y\", \"type\": \"scatter\"}], \"name\": \"2018-7\"}, {\"data\": [{\"hovertemplate\": \"<b>%{hovertext}</b><br><br>pharma_n=\\u05db\\u05e8\\u05de\\u05d9\\u05dd \\u05d7.\\u05ea.<br>yyyy_mm=2018-8<br>p_meeting=%{x}<br>unscheduled=%{y}<br>pchanges_pd=%{marker.size}<extra></extra>\", \"hovertext\": [\"\\u05db\\u05e8\\u05de\\u05d9\\u05dd \\u05d7.\\u05ea.\"], \"ids\": [\"\\u05db\\u05e8\\u05de\\u05d9\\u05dd \\u05d7.\\u05ea.\"], \"legendgroup\": \"\\u05db\\u05e8\\u05de\\u05d9\\u05dd \\u05d7.\\u05ea.\", \"marker\": {\"color\": \"#636efa\", \"size\": [49], \"sizemode\": \"area\", \"sizeref\": 0.0153, \"symbol\": \"circle\"}, \"mode\": \"markers\", \"name\": \"\\u05db\\u05e8\\u05de\\u05d9\\u05dd \\u05d7.\\u05ea.\", \"showlegend\": true, \"x\": [10], \"xaxis\": \"x\", \"y\": [12], \"yaxis\": \"y\", \"type\": \"scatter\"}, {\"hovertemplate\": \"<b>%{hovertext}</b><br><br>pharma_n=\\u05de\\u05d5\\u05d3\\u05d9\\u05e2\\u05d9\\u05df \\u05e8\\\"\\u05d2 \\u05d7.\\u05ea.<br>yyyy_mm=2018-8<br>p_meeting=%{x}<br>unscheduled=%{y}<br>pchanges_pd=%{marker.size}<extra></extra>\", \"hovertext\": [\"\\u05de\\u05d5\\u05d3\\u05d9\\u05e2\\u05d9\\u05df \\u05e8\\\"\\u05d2 \\u05d7.\\u05ea.\"], \"ids\": [\"\\u05de\\u05d5\\u05d3\\u05d9\\u05e2\\u05d9\\u05df \\u05e8\\\"\\u05d2 \\u05d7.\\u05ea.\"], \"legendgroup\": \"\\u05de\\u05d5\\u05d3\\u05d9\\u05e2\\u05d9\\u05df \\u05e8\\\"\\u05d2 \\u05d7.\\u05ea.\", \"marker\": {\"color\": \"#EF553B\", \"size\": [60], \"sizemode\": \"area\", \"sizeref\": 0.0153, \"symbol\": \"circle\"}, \"mode\": \"markers\", \"name\": \"\\u05de\\u05d5\\u05d3\\u05d9\\u05e2\\u05d9\\u05df \\u05e8\\\"\\u05d2 \\u05d7.\\u05ea.\", \"showlegend\": true, \"x\": [10], \"xaxis\": \"x\", \"y\": [15], \"yaxis\": \"y\", \"type\": \"scatter\"}, {\"hovertemplate\": \"<b>%{hovertext}</b><br><br>pharma_n=\\u05e7\\u05d9\\u05e8\\u05d0\\u05d5\\u05df \\u05d7.\\u05ea.<br>yyyy_mm=2018-8<br>p_meeting=%{x}<br>unscheduled=%{y}<br>pchanges_pd=%{marker.size}<extra></extra>\", \"hovertext\": [\"\\u05e7\\u05d9\\u05e8\\u05d0\\u05d5\\u05df \\u05d7.\\u05ea.\"], \"ids\": [\"\\u05e7\\u05d9\\u05e8\\u05d0\\u05d5\\u05df \\u05d7.\\u05ea.\"], \"legendgroup\": \"\\u05e7\\u05d9\\u05e8\\u05d0\\u05d5\\u05df \\u05d7.\\u05ea.\", \"marker\": {\"color\": \"#00cc96\", \"size\": [54], \"sizemode\": \"area\", \"sizeref\": 0.0153, \"symbol\": \"circle\"}, \"mode\": \"markers\", \"name\": \"\\u05e7\\u05d9\\u05e8\\u05d0\\u05d5\\u05df \\u05d7.\\u05ea.\", \"showlegend\": true, \"x\": [6], \"xaxis\": \"x\", \"y\": [9], \"yaxis\": \"y\", \"type\": \"scatter\"}, {\"hovertemplate\": \"<b>%{hovertext}</b><br><br>pharma_n=\\u05d7\\u05d5\\u05dc\\u05d5\\u05df \\u05de\\u05e7\\u05e6 \\u05d7.\\u05ea.<br>yyyy_mm=2018-8<br>p_meeting=%{x}<br>unscheduled=%{y}<br>pchanges_pd=%{marker.size}<extra></extra>\", \"hovertext\": [\"\\u05d7\\u05d5\\u05dc\\u05d5\\u05df \\u05de\\u05e7\\u05e6 \\u05d7.\\u05ea.\"], \"ids\": [\"\\u05d7\\u05d5\\u05dc\\u05d5\\u05df \\u05de\\u05e7\\u05e6 \\u05d7.\\u05ea.\"], \"legendgroup\": \"\\u05d7\\u05d5\\u05dc\\u05d5\\u05df \\u05de\\u05e7\\u05e6 \\u05d7.\\u05ea.\", \"marker\": {\"color\": \"#ab63fa\", \"size\": [83], \"sizemode\": \"area\", \"sizeref\": 0.0153, \"symbol\": \"circle\"}, \"mode\": \"markers\", \"name\": \"\\u05d7\\u05d5\\u05dc\\u05d5\\u05df \\u05de\\u05e7\\u05e6 \\u05d7.\\u05ea.\", \"showlegend\": true, \"x\": [20], \"xaxis\": \"x\", \"y\": [11], \"yaxis\": \"y\", \"type\": \"scatter\"}], \"name\": \"2018-8\"}, {\"data\": [{\"hovertemplate\": \"<b>%{hovertext}</b><br><br>pharma_n=\\u05db\\u05e8\\u05de\\u05d9\\u05dd \\u05d7.\\u05ea.<br>yyyy_mm=2018-9<br>p_meeting=%{x}<br>unscheduled=%{y}<br>pchanges_pd=%{marker.size}<extra></extra>\", \"hovertext\": [\"\\u05db\\u05e8\\u05de\\u05d9\\u05dd \\u05d7.\\u05ea.\"], \"ids\": [\"\\u05db\\u05e8\\u05de\\u05d9\\u05dd \\u05d7.\\u05ea.\"], \"legendgroup\": \"\\u05db\\u05e8\\u05de\\u05d9\\u05dd \\u05d7.\\u05ea.\", \"marker\": {\"color\": \"#636efa\", \"size\": [46], \"sizemode\": \"area\", \"sizeref\": 0.0153, \"symbol\": \"circle\"}, \"mode\": \"markers\", \"name\": \"\\u05db\\u05e8\\u05de\\u05d9\\u05dd \\u05d7.\\u05ea.\", \"showlegend\": true, \"x\": [18], \"xaxis\": \"x\", \"y\": [13], \"yaxis\": \"y\", \"type\": \"scatter\"}, {\"hovertemplate\": \"<b>%{hovertext}</b><br><br>pharma_n=\\u05de\\u05d5\\u05d3\\u05d9\\u05e2\\u05d9\\u05df \\u05e8\\\"\\u05d2 \\u05d7.\\u05ea.<br>yyyy_mm=2018-9<br>p_meeting=%{x}<br>unscheduled=%{y}<br>pchanges_pd=%{marker.size}<extra></extra>\", \"hovertext\": [\"\\u05de\\u05d5\\u05d3\\u05d9\\u05e2\\u05d9\\u05df \\u05e8\\\"\\u05d2 \\u05d7.\\u05ea.\"], \"ids\": [\"\\u05de\\u05d5\\u05d3\\u05d9\\u05e2\\u05d9\\u05df \\u05e8\\\"\\u05d2 \\u05d7.\\u05ea.\"], \"legendgroup\": \"\\u05de\\u05d5\\u05d3\\u05d9\\u05e2\\u05d9\\u05df \\u05e8\\\"\\u05d2 \\u05d7.\\u05ea.\", \"marker\": {\"color\": \"#EF553B\", \"size\": [75], \"sizemode\": \"area\", \"sizeref\": 0.0153, \"symbol\": \"circle\"}, \"mode\": \"markers\", \"name\": \"\\u05de\\u05d5\\u05d3\\u05d9\\u05e2\\u05d9\\u05df \\u05e8\\\"\\u05d2 \\u05d7.\\u05ea.\", \"showlegend\": true, \"x\": [10], \"xaxis\": \"x\", \"y\": [10], \"yaxis\": \"y\", \"type\": \"scatter\"}, {\"hovertemplate\": \"<b>%{hovertext}</b><br><br>pharma_n=\\u05e7\\u05d9\\u05e8\\u05d0\\u05d5\\u05df \\u05d7.\\u05ea.<br>yyyy_mm=2018-9<br>p_meeting=%{x}<br>unscheduled=%{y}<br>pchanges_pd=%{marker.size}<extra></extra>\", \"hovertext\": [\"\\u05e7\\u05d9\\u05e8\\u05d0\\u05d5\\u05df \\u05d7.\\u05ea.\"], \"ids\": [\"\\u05e7\\u05d9\\u05e8\\u05d0\\u05d5\\u05df \\u05d7.\\u05ea.\"], \"legendgroup\": \"\\u05e7\\u05d9\\u05e8\\u05d0\\u05d5\\u05df \\u05d7.\\u05ea.\", \"marker\": {\"color\": \"#00cc96\", \"size\": [35], \"sizemode\": \"area\", \"sizeref\": 0.0153, \"symbol\": \"circle\"}, \"mode\": \"markers\", \"name\": \"\\u05e7\\u05d9\\u05e8\\u05d0\\u05d5\\u05df \\u05d7.\\u05ea.\", \"showlegend\": true, \"x\": [7], \"xaxis\": \"x\", \"y\": [6], \"yaxis\": \"y\", \"type\": \"scatter\"}, {\"hovertemplate\": \"<b>%{hovertext}</b><br><br>pharma_n=\\u05d7\\u05d5\\u05dc\\u05d5\\u05df \\u05de\\u05e7\\u05e6 \\u05d7.\\u05ea.<br>yyyy_mm=2018-9<br>p_meeting=%{x}<br>unscheduled=%{y}<br>pchanges_pd=%{marker.size}<extra></extra>\", \"hovertext\": [\"\\u05d7\\u05d5\\u05dc\\u05d5\\u05df \\u05de\\u05e7\\u05e6 \\u05d7.\\u05ea.\"], \"ids\": [\"\\u05d7\\u05d5\\u05dc\\u05d5\\u05df \\u05de\\u05e7\\u05e6 \\u05d7.\\u05ea.\"], \"legendgroup\": \"\\u05d7\\u05d5\\u05dc\\u05d5\\u05df \\u05de\\u05e7\\u05e6 \\u05d7.\\u05ea.\", \"marker\": {\"color\": \"#ab63fa\", \"size\": [66], \"sizemode\": \"area\", \"sizeref\": 0.0153, \"symbol\": \"circle\"}, \"mode\": \"markers\", \"name\": \"\\u05d7\\u05d5\\u05dc\\u05d5\\u05df \\u05de\\u05e7\\u05e6 \\u05d7.\\u05ea.\", \"showlegend\": true, \"x\": [103], \"xaxis\": \"x\", \"y\": [5], \"yaxis\": \"y\", \"type\": \"scatter\"}], \"name\": \"2018-9\"}, {\"data\": [{\"hovertemplate\": \"<b>%{hovertext}</b><br><br>pharma_n=\\u05db\\u05e8\\u05de\\u05d9\\u05dd \\u05d7.\\u05ea.<br>yyyy_mm=2018-10<br>p_meeting=%{x}<br>unscheduled=%{y}<br>pchanges_pd=%{marker.size}<extra></extra>\", \"hovertext\": [\"\\u05db\\u05e8\\u05de\\u05d9\\u05dd \\u05d7.\\u05ea.\"], \"ids\": [\"\\u05db\\u05e8\\u05de\\u05d9\\u05dd \\u05d7.\\u05ea.\"], \"legendgroup\": \"\\u05db\\u05e8\\u05de\\u05d9\\u05dd \\u05d7.\\u05ea.\", \"marker\": {\"color\": \"#636efa\", \"size\": [43], \"sizemode\": \"area\", \"sizeref\": 0.0153, \"symbol\": \"circle\"}, \"mode\": \"markers\", \"name\": \"\\u05db\\u05e8\\u05de\\u05d9\\u05dd \\u05d7.\\u05ea.\", \"showlegend\": true, \"x\": [37], \"xaxis\": \"x\", \"y\": [19], \"yaxis\": \"y\", \"type\": \"scatter\"}, {\"hovertemplate\": \"<b>%{hovertext}</b><br><br>pharma_n=\\u05de\\u05d5\\u05d3\\u05d9\\u05e2\\u05d9\\u05df \\u05e8\\\"\\u05d2 \\u05d7.\\u05ea.<br>yyyy_mm=2018-10<br>p_meeting=%{x}<br>unscheduled=%{y}<br>pchanges_pd=%{marker.size}<extra></extra>\", \"hovertext\": [\"\\u05de\\u05d5\\u05d3\\u05d9\\u05e2\\u05d9\\u05df \\u05e8\\\"\\u05d2 \\u05d7.\\u05ea.\"], \"ids\": [\"\\u05de\\u05d5\\u05d3\\u05d9\\u05e2\\u05d9\\u05df \\u05e8\\\"\\u05d2 \\u05d7.\\u05ea.\"], \"legendgroup\": \"\\u05de\\u05d5\\u05d3\\u05d9\\u05e2\\u05d9\\u05df \\u05e8\\\"\\u05d2 \\u05d7.\\u05ea.\", \"marker\": {\"color\": \"#EF553B\", \"size\": [78], \"sizemode\": \"area\", \"sizeref\": 0.0153, \"symbol\": \"circle\"}, \"mode\": \"markers\", \"name\": \"\\u05de\\u05d5\\u05d3\\u05d9\\u05e2\\u05d9\\u05df \\u05e8\\\"\\u05d2 \\u05d7.\\u05ea.\", \"showlegend\": true, \"x\": [31], \"xaxis\": \"x\", \"y\": [11], \"yaxis\": \"y\", \"type\": \"scatter\"}, {\"hovertemplate\": \"<b>%{hovertext}</b><br><br>pharma_n=\\u05e7\\u05d9\\u05e8\\u05d0\\u05d5\\u05df \\u05d7.\\u05ea.<br>yyyy_mm=2018-10<br>p_meeting=%{x}<br>unscheduled=%{y}<br>pchanges_pd=%{marker.size}<extra></extra>\", \"hovertext\": [\"\\u05e7\\u05d9\\u05e8\\u05d0\\u05d5\\u05df \\u05d7.\\u05ea.\"], \"ids\": [\"\\u05e7\\u05d9\\u05e8\\u05d0\\u05d5\\u05df \\u05d7.\\u05ea.\"], \"legendgroup\": \"\\u05e7\\u05d9\\u05e8\\u05d0\\u05d5\\u05df \\u05d7.\\u05ea.\", \"marker\": {\"color\": \"#00cc96\", \"size\": [53], \"sizemode\": \"area\", \"sizeref\": 0.0153, \"symbol\": \"circle\"}, \"mode\": \"markers\", \"name\": \"\\u05e7\\u05d9\\u05e8\\u05d0\\u05d5\\u05df \\u05d7.\\u05ea.\", \"showlegend\": true, \"x\": [5], \"xaxis\": \"x\", \"y\": [11], \"yaxis\": \"y\", \"type\": \"scatter\"}, {\"hovertemplate\": \"<b>%{hovertext}</b><br><br>pharma_n=\\u05d7\\u05d5\\u05dc\\u05d5\\u05df \\u05de\\u05e7\\u05e6 \\u05d7.\\u05ea.<br>yyyy_mm=2018-10<br>p_meeting=%{x}<br>unscheduled=%{y}<br>pchanges_pd=%{marker.size}<extra></extra>\", \"hovertext\": [\"\\u05d7\\u05d5\\u05dc\\u05d5\\u05df \\u05de\\u05e7\\u05e6 \\u05d7.\\u05ea.\"], \"ids\": [\"\\u05d7\\u05d5\\u05dc\\u05d5\\u05df \\u05de\\u05e7\\u05e6 \\u05d7.\\u05ea.\"], \"legendgroup\": \"\\u05d7\\u05d5\\u05dc\\u05d5\\u05df \\u05de\\u05e7\\u05e6 \\u05d7.\\u05ea.\", \"marker\": {\"color\": \"#ab63fa\", \"size\": [76], \"sizemode\": \"area\", \"sizeref\": 0.0153, \"symbol\": \"circle\"}, \"mode\": \"markers\", \"name\": \"\\u05d7\\u05d5\\u05dc\\u05d5\\u05df \\u05de\\u05e7\\u05e6 \\u05d7.\\u05ea.\", \"showlegend\": true, \"x\": [75], \"xaxis\": \"x\", \"y\": [11], \"yaxis\": \"y\", \"type\": \"scatter\"}], \"name\": \"2018-10\"}, {\"data\": [{\"hovertemplate\": \"<b>%{hovertext}</b><br><br>pharma_n=\\u05db\\u05e8\\u05de\\u05d9\\u05dd \\u05d7.\\u05ea.<br>yyyy_mm=2018-11<br>p_meeting=%{x}<br>unscheduled=%{y}<br>pchanges_pd=%{marker.size}<extra></extra>\", \"hovertext\": [\"\\u05db\\u05e8\\u05de\\u05d9\\u05dd \\u05d7.\\u05ea.\"], \"ids\": [\"\\u05db\\u05e8\\u05de\\u05d9\\u05dd \\u05d7.\\u05ea.\"], \"legendgroup\": \"\\u05db\\u05e8\\u05de\\u05d9\\u05dd \\u05d7.\\u05ea.\", \"marker\": {\"color\": \"#636efa\", \"size\": [43], \"sizemode\": \"area\", \"sizeref\": 0.0153, \"symbol\": \"circle\"}, \"mode\": \"markers\", \"name\": \"\\u05db\\u05e8\\u05de\\u05d9\\u05dd \\u05d7.\\u05ea.\", \"showlegend\": true, \"x\": [53], \"xaxis\": \"x\", \"y\": [9], \"yaxis\": \"y\", \"type\": \"scatter\"}, {\"hovertemplate\": \"<b>%{hovertext}</b><br><br>pharma_n=\\u05de\\u05d5\\u05d3\\u05d9\\u05e2\\u05d9\\u05df \\u05e8\\\"\\u05d2 \\u05d7.\\u05ea.<br>yyyy_mm=2018-11<br>p_meeting=%{x}<br>unscheduled=%{y}<br>pchanges_pd=%{marker.size}<extra></extra>\", \"hovertext\": [\"\\u05de\\u05d5\\u05d3\\u05d9\\u05e2\\u05d9\\u05df \\u05e8\\\"\\u05d2 \\u05d7.\\u05ea.\"], \"ids\": [\"\\u05de\\u05d5\\u05d3\\u05d9\\u05e2\\u05d9\\u05df \\u05e8\\\"\\u05d2 \\u05d7.\\u05ea.\"], \"legendgroup\": \"\\u05de\\u05d5\\u05d3\\u05d9\\u05e2\\u05d9\\u05df \\u05e8\\\"\\u05d2 \\u05d7.\\u05ea.\", \"marker\": {\"color\": \"#EF553B\", \"size\": [65], \"sizemode\": \"area\", \"sizeref\": 0.0153, \"symbol\": \"circle\"}, \"mode\": \"markers\", \"name\": \"\\u05de\\u05d5\\u05d3\\u05d9\\u05e2\\u05d9\\u05df \\u05e8\\\"\\u05d2 \\u05d7.\\u05ea.\", \"showlegend\": true, \"x\": [60], \"xaxis\": \"x\", \"y\": [6], \"yaxis\": \"y\", \"type\": \"scatter\"}, {\"hovertemplate\": \"<b>%{hovertext}</b><br><br>pharma_n=\\u05e7\\u05d9\\u05e8\\u05d0\\u05d5\\u05df \\u05d7.\\u05ea.<br>yyyy_mm=2018-11<br>p_meeting=%{x}<br>unscheduled=%{y}<br>pchanges_pd=%{marker.size}<extra></extra>\", \"hovertext\": [\"\\u05e7\\u05d9\\u05e8\\u05d0\\u05d5\\u05df \\u05d7.\\u05ea.\"], \"ids\": [\"\\u05e7\\u05d9\\u05e8\\u05d0\\u05d5\\u05df \\u05d7.\\u05ea.\"], \"legendgroup\": \"\\u05e7\\u05d9\\u05e8\\u05d0\\u05d5\\u05df \\u05d7.\\u05ea.\", \"marker\": {\"color\": \"#00cc96\", \"size\": [49], \"sizemode\": \"area\", \"sizeref\": 0.0153, \"symbol\": \"circle\"}, \"mode\": \"markers\", \"name\": \"\\u05e7\\u05d9\\u05e8\\u05d0\\u05d5\\u05df \\u05d7.\\u05ea.\", \"showlegend\": true, \"x\": [4], \"xaxis\": \"x\", \"y\": [12], \"yaxis\": \"y\", \"type\": \"scatter\"}, {\"hovertemplate\": \"<b>%{hovertext}</b><br><br>pharma_n=\\u05d7\\u05d5\\u05dc\\u05d5\\u05df \\u05de\\u05e7\\u05e6 \\u05d7.\\u05ea.<br>yyyy_mm=2018-11<br>p_meeting=%{x}<br>unscheduled=%{y}<br>pchanges_pd=%{marker.size}<extra></extra>\", \"hovertext\": [\"\\u05d7\\u05d5\\u05dc\\u05d5\\u05df \\u05de\\u05e7\\u05e6 \\u05d7.\\u05ea.\"], \"ids\": [\"\\u05d7\\u05d5\\u05dc\\u05d5\\u05df \\u05de\\u05e7\\u05e6 \\u05d7.\\u05ea.\"], \"legendgroup\": \"\\u05d7\\u05d5\\u05dc\\u05d5\\u05df \\u05de\\u05e7\\u05e6 \\u05d7.\\u05ea.\", \"marker\": {\"color\": \"#ab63fa\", \"size\": [92], \"sizemode\": \"area\", \"sizeref\": 0.0153, \"symbol\": \"circle\"}, \"mode\": \"markers\", \"name\": \"\\u05d7\\u05d5\\u05dc\\u05d5\\u05df \\u05de\\u05e7\\u05e6 \\u05d7.\\u05ea.\", \"showlegend\": true, \"x\": [58], \"xaxis\": \"x\", \"y\": [8], \"yaxis\": \"y\", \"type\": \"scatter\"}], \"name\": \"2018-11\"}, {\"data\": [{\"hovertemplate\": \"<b>%{hovertext}</b><br><br>pharma_n=\\u05db\\u05e8\\u05de\\u05d9\\u05dd \\u05d7.\\u05ea.<br>yyyy_mm=2018-12<br>p_meeting=%{x}<br>unscheduled=%{y}<br>pchanges_pd=%{marker.size}<extra></extra>\", \"hovertext\": [\"\\u05db\\u05e8\\u05de\\u05d9\\u05dd \\u05d7.\\u05ea.\"], \"ids\": [\"\\u05db\\u05e8\\u05de\\u05d9\\u05dd \\u05d7.\\u05ea.\"], \"legendgroup\": \"\\u05db\\u05e8\\u05de\\u05d9\\u05dd \\u05d7.\\u05ea.\", \"marker\": {\"color\": \"#636efa\", \"size\": [55], \"sizemode\": \"area\", \"sizeref\": 0.0153, \"symbol\": \"circle\"}, \"mode\": \"markers\", \"name\": \"\\u05db\\u05e8\\u05de\\u05d9\\u05dd \\u05d7.\\u05ea.\", \"showlegend\": true, \"x\": [51], \"xaxis\": \"x\", \"y\": [16], \"yaxis\": \"y\", \"type\": \"scatter\"}, {\"hovertemplate\": \"<b>%{hovertext}</b><br><br>pharma_n=\\u05de\\u05d5\\u05d3\\u05d9\\u05e2\\u05d9\\u05df \\u05e8\\\"\\u05d2 \\u05d7.\\u05ea.<br>yyyy_mm=2018-12<br>p_meeting=%{x}<br>unscheduled=%{y}<br>pchanges_pd=%{marker.size}<extra></extra>\", \"hovertext\": [\"\\u05de\\u05d5\\u05d3\\u05d9\\u05e2\\u05d9\\u05df \\u05e8\\\"\\u05d2 \\u05d7.\\u05ea.\"], \"ids\": [\"\\u05de\\u05d5\\u05d3\\u05d9\\u05e2\\u05d9\\u05df \\u05e8\\\"\\u05d2 \\u05d7.\\u05ea.\"], \"legendgroup\": \"\\u05de\\u05d5\\u05d3\\u05d9\\u05e2\\u05d9\\u05df \\u05e8\\\"\\u05d2 \\u05d7.\\u05ea.\", \"marker\": {\"color\": \"#EF553B\", \"size\": [78], \"sizemode\": \"area\", \"sizeref\": 0.0153, \"symbol\": \"circle\"}, \"mode\": \"markers\", \"name\": \"\\u05de\\u05d5\\u05d3\\u05d9\\u05e2\\u05d9\\u05df \\u05e8\\\"\\u05d2 \\u05d7.\\u05ea.\", \"showlegend\": true, \"x\": [56], \"xaxis\": \"x\", \"y\": [11], \"yaxis\": \"y\", \"type\": \"scatter\"}, {\"hovertemplate\": \"<b>%{hovertext}</b><br><br>pharma_n=\\u05e7\\u05d9\\u05e8\\u05d0\\u05d5\\u05df \\u05d7.\\u05ea.<br>yyyy_mm=2018-12<br>p_meeting=%{x}<br>unscheduled=%{y}<br>pchanges_pd=%{marker.size}<extra></extra>\", \"hovertext\": [\"\\u05e7\\u05d9\\u05e8\\u05d0\\u05d5\\u05df \\u05d7.\\u05ea.\"], \"ids\": [\"\\u05e7\\u05d9\\u05e8\\u05d0\\u05d5\\u05df \\u05d7.\\u05ea.\"], \"legendgroup\": \"\\u05e7\\u05d9\\u05e8\\u05d0\\u05d5\\u05df \\u05d7.\\u05ea.\", \"marker\": {\"color\": \"#00cc96\", \"size\": [49], \"sizemode\": \"area\", \"sizeref\": 0.0153, \"symbol\": \"circle\"}, \"mode\": \"markers\", \"name\": \"\\u05e7\\u05d9\\u05e8\\u05d0\\u05d5\\u05df \\u05d7.\\u05ea.\", \"showlegend\": true, \"x\": [0], \"xaxis\": \"x\", \"y\": [13], \"yaxis\": \"y\", \"type\": \"scatter\"}, {\"hovertemplate\": \"<b>%{hovertext}</b><br><br>pharma_n=\\u05d7\\u05d5\\u05dc\\u05d5\\u05df \\u05de\\u05e7\\u05e6 \\u05d7.\\u05ea.<br>yyyy_mm=2018-12<br>p_meeting=%{x}<br>unscheduled=%{y}<br>pchanges_pd=%{marker.size}<extra></extra>\", \"hovertext\": [\"\\u05d7\\u05d5\\u05dc\\u05d5\\u05df \\u05de\\u05e7\\u05e6 \\u05d7.\\u05ea.\"], \"ids\": [\"\\u05d7\\u05d5\\u05dc\\u05d5\\u05df \\u05de\\u05e7\\u05e6 \\u05d7.\\u05ea.\"], \"legendgroup\": \"\\u05d7\\u05d5\\u05dc\\u05d5\\u05df \\u05de\\u05e7\\u05e6 \\u05d7.\\u05ea.\", \"marker\": {\"color\": \"#ab63fa\", \"size\": [78], \"sizemode\": \"area\", \"sizeref\": 0.0153, \"symbol\": \"circle\"}, \"mode\": \"markers\", \"name\": \"\\u05d7\\u05d5\\u05dc\\u05d5\\u05df \\u05de\\u05e7\\u05e6 \\u05d7.\\u05ea.\", \"showlegend\": true, \"x\": [62], \"xaxis\": \"x\", \"y\": [12], \"yaxis\": \"y\", \"type\": \"scatter\"}], \"name\": \"2018-12\"}, {\"data\": [{\"hovertemplate\": \"<b>%{hovertext}</b><br><br>pharma_n=\\u05db\\u05e8\\u05de\\u05d9\\u05dd \\u05d7.\\u05ea.<br>yyyy_mm=2019-1<br>p_meeting=%{x}<br>unscheduled=%{y}<br>pchanges_pd=%{marker.size}<extra></extra>\", \"hovertext\": [\"\\u05db\\u05e8\\u05de\\u05d9\\u05dd \\u05d7.\\u05ea.\"], \"ids\": [\"\\u05db\\u05e8\\u05de\\u05d9\\u05dd \\u05d7.\\u05ea.\"], \"legendgroup\": \"\\u05db\\u05e8\\u05de\\u05d9\\u05dd \\u05d7.\\u05ea.\", \"marker\": {\"color\": \"#636efa\", \"size\": [50], \"sizemode\": \"area\", \"sizeref\": 0.0153, \"symbol\": \"circle\"}, \"mode\": \"markers\", \"name\": \"\\u05db\\u05e8\\u05de\\u05d9\\u05dd \\u05d7.\\u05ea.\", \"showlegend\": true, \"x\": [39], \"xaxis\": \"x\", \"y\": [13], \"yaxis\": \"y\", \"type\": \"scatter\"}, {\"hovertemplate\": \"<b>%{hovertext}</b><br><br>pharma_n=\\u05de\\u05d5\\u05d3\\u05d9\\u05e2\\u05d9\\u05df \\u05e8\\\"\\u05d2 \\u05d7.\\u05ea.<br>yyyy_mm=2019-1<br>p_meeting=%{x}<br>unscheduled=%{y}<br>pchanges_pd=%{marker.size}<extra></extra>\", \"hovertext\": [\"\\u05de\\u05d5\\u05d3\\u05d9\\u05e2\\u05d9\\u05df \\u05e8\\\"\\u05d2 \\u05d7.\\u05ea.\"], \"ids\": [\"\\u05de\\u05d5\\u05d3\\u05d9\\u05e2\\u05d9\\u05df \\u05e8\\\"\\u05d2 \\u05d7.\\u05ea.\"], \"legendgroup\": \"\\u05de\\u05d5\\u05d3\\u05d9\\u05e2\\u05d9\\u05df \\u05e8\\\"\\u05d2 \\u05d7.\\u05ea.\", \"marker\": {\"color\": \"#EF553B\", \"size\": [49], \"sizemode\": \"area\", \"sizeref\": 0.0153, \"symbol\": \"circle\"}, \"mode\": \"markers\", \"name\": \"\\u05de\\u05d5\\u05d3\\u05d9\\u05e2\\u05d9\\u05df \\u05e8\\\"\\u05d2 \\u05d7.\\u05ea.\", \"showlegend\": true, \"x\": [42], \"xaxis\": \"x\", \"y\": [14], \"yaxis\": \"y\", \"type\": \"scatter\"}, {\"hovertemplate\": \"<b>%{hovertext}</b><br><br>pharma_n=\\u05e7\\u05d9\\u05e8\\u05d0\\u05d5\\u05df \\u05d7.\\u05ea.<br>yyyy_mm=2019-1<br>p_meeting=%{x}<br>unscheduled=%{y}<br>pchanges_pd=%{marker.size}<extra></extra>\", \"hovertext\": [\"\\u05e7\\u05d9\\u05e8\\u05d0\\u05d5\\u05df \\u05d7.\\u05ea.\"], \"ids\": [\"\\u05e7\\u05d9\\u05e8\\u05d0\\u05d5\\u05df \\u05d7.\\u05ea.\"], \"legendgroup\": \"\\u05e7\\u05d9\\u05e8\\u05d0\\u05d5\\u05df \\u05d7.\\u05ea.\", \"marker\": {\"color\": \"#00cc96\", \"size\": [51], \"sizemode\": \"area\", \"sizeref\": 0.0153, \"symbol\": \"circle\"}, \"mode\": \"markers\", \"name\": \"\\u05e7\\u05d9\\u05e8\\u05d0\\u05d5\\u05df \\u05d7.\\u05ea.\", \"showlegend\": true, \"x\": [10], \"xaxis\": \"x\", \"y\": [11], \"yaxis\": \"y\", \"type\": \"scatter\"}, {\"hovertemplate\": \"<b>%{hovertext}</b><br><br>pharma_n=\\u05d7\\u05d5\\u05dc\\u05d5\\u05df \\u05de\\u05e7\\u05e6 \\u05d7.\\u05ea.<br>yyyy_mm=2019-1<br>p_meeting=%{x}<br>unscheduled=%{y}<br>pchanges_pd=%{marker.size}<extra></extra>\", \"hovertext\": [\"\\u05d7\\u05d5\\u05dc\\u05d5\\u05df \\u05de\\u05e7\\u05e6 \\u05d7.\\u05ea.\"], \"ids\": [\"\\u05d7\\u05d5\\u05dc\\u05d5\\u05df \\u05de\\u05e7\\u05e6 \\u05d7.\\u05ea.\"], \"legendgroup\": \"\\u05d7\\u05d5\\u05dc\\u05d5\\u05df \\u05de\\u05e7\\u05e6 \\u05d7.\\u05ea.\", \"marker\": {\"color\": \"#ab63fa\", \"size\": [82], \"sizemode\": \"area\", \"sizeref\": 0.0153, \"symbol\": \"circle\"}, \"mode\": \"markers\", \"name\": \"\\u05d7\\u05d5\\u05dc\\u05d5\\u05df \\u05de\\u05e7\\u05e6 \\u05d7.\\u05ea.\", \"showlegend\": true, \"x\": [52], \"xaxis\": \"x\", \"y\": [10], \"yaxis\": \"y\", \"type\": \"scatter\"}], \"name\": \"2019-1\"}, {\"data\": [{\"hovertemplate\": \"<b>%{hovertext}</b><br><br>pharma_n=\\u05db\\u05e8\\u05de\\u05d9\\u05dd \\u05d7.\\u05ea.<br>yyyy_mm=2019-2<br>p_meeting=%{x}<br>unscheduled=%{y}<br>pchanges_pd=%{marker.size}<extra></extra>\", \"hovertext\": [\"\\u05db\\u05e8\\u05de\\u05d9\\u05dd \\u05d7.\\u05ea.\"], \"ids\": [\"\\u05db\\u05e8\\u05de\\u05d9\\u05dd \\u05d7.\\u05ea.\"], \"legendgroup\": \"\\u05db\\u05e8\\u05de\\u05d9\\u05dd \\u05d7.\\u05ea.\", \"marker\": {\"color\": \"#636efa\", \"size\": [58], \"sizemode\": \"area\", \"sizeref\": 0.0153, \"symbol\": \"circle\"}, \"mode\": \"markers\", \"name\": \"\\u05db\\u05e8\\u05de\\u05d9\\u05dd \\u05d7.\\u05ea.\", \"showlegend\": true, \"x\": [59], \"xaxis\": \"x\", \"y\": [11], \"yaxis\": \"y\", \"type\": \"scatter\"}, {\"hovertemplate\": \"<b>%{hovertext}</b><br><br>pharma_n=\\u05de\\u05d5\\u05d3\\u05d9\\u05e2\\u05d9\\u05df \\u05e8\\\"\\u05d2 \\u05d7.\\u05ea.<br>yyyy_mm=2019-2<br>p_meeting=%{x}<br>unscheduled=%{y}<br>pchanges_pd=%{marker.size}<extra></extra>\", \"hovertext\": [\"\\u05de\\u05d5\\u05d3\\u05d9\\u05e2\\u05d9\\u05df \\u05e8\\\"\\u05d2 \\u05d7.\\u05ea.\"], \"ids\": [\"\\u05de\\u05d5\\u05d3\\u05d9\\u05e2\\u05d9\\u05df \\u05e8\\\"\\u05d2 \\u05d7.\\u05ea.\"], \"legendgroup\": \"\\u05de\\u05d5\\u05d3\\u05d9\\u05e2\\u05d9\\u05df \\u05e8\\\"\\u05d2 \\u05d7.\\u05ea.\", \"marker\": {\"color\": \"#EF553B\", \"size\": [40], \"sizemode\": \"area\", \"sizeref\": 0.0153, \"symbol\": \"circle\"}, \"mode\": \"markers\", \"name\": \"\\u05de\\u05d5\\u05d3\\u05d9\\u05e2\\u05d9\\u05df \\u05e8\\\"\\u05d2 \\u05d7.\\u05ea.\", \"showlegend\": true, \"x\": [39], \"xaxis\": \"x\", \"y\": [10], \"yaxis\": \"y\", \"type\": \"scatter\"}, {\"hovertemplate\": \"<b>%{hovertext}</b><br><br>pharma_n=\\u05e7\\u05d9\\u05e8\\u05d0\\u05d5\\u05df \\u05d7.\\u05ea.<br>yyyy_mm=2019-2<br>p_meeting=%{x}<br>unscheduled=%{y}<br>pchanges_pd=%{marker.size}<extra></extra>\", \"hovertext\": [\"\\u05e7\\u05d9\\u05e8\\u05d0\\u05d5\\u05df \\u05d7.\\u05ea.\"], \"ids\": [\"\\u05e7\\u05d9\\u05e8\\u05d0\\u05d5\\u05df \\u05d7.\\u05ea.\"], \"legendgroup\": \"\\u05e7\\u05d9\\u05e8\\u05d0\\u05d5\\u05df \\u05d7.\\u05ea.\", \"marker\": {\"color\": \"#00cc96\", \"size\": [56], \"sizemode\": \"area\", \"sizeref\": 0.0153, \"symbol\": \"circle\"}, \"mode\": \"markers\", \"name\": \"\\u05e7\\u05d9\\u05e8\\u05d0\\u05d5\\u05df \\u05d7.\\u05ea.\", \"showlegend\": true, \"x\": [25], \"xaxis\": \"x\", \"y\": [7], \"yaxis\": \"y\", \"type\": \"scatter\"}, {\"hovertemplate\": \"<b>%{hovertext}</b><br><br>pharma_n=\\u05d7\\u05d5\\u05dc\\u05d5\\u05df \\u05de\\u05e7\\u05e6 \\u05d7.\\u05ea.<br>yyyy_mm=2019-2<br>p_meeting=%{x}<br>unscheduled=%{y}<br>pchanges_pd=%{marker.size}<extra></extra>\", \"hovertext\": [\"\\u05d7\\u05d5\\u05dc\\u05d5\\u05df \\u05de\\u05e7\\u05e6 \\u05d7.\\u05ea.\"], \"ids\": [\"\\u05d7\\u05d5\\u05dc\\u05d5\\u05df \\u05de\\u05e7\\u05e6 \\u05d7.\\u05ea.\"], \"legendgroup\": \"\\u05d7\\u05d5\\u05dc\\u05d5\\u05df \\u05de\\u05e7\\u05e6 \\u05d7.\\u05ea.\", \"marker\": {\"color\": \"#ab63fa\", \"size\": [85], \"sizemode\": \"area\", \"sizeref\": 0.0153, \"symbol\": \"circle\"}, \"mode\": \"markers\", \"name\": \"\\u05d7\\u05d5\\u05dc\\u05d5\\u05df \\u05de\\u05e7\\u05e6 \\u05d7.\\u05ea.\", \"showlegend\": true, \"x\": [50], \"xaxis\": \"x\", \"y\": [11], \"yaxis\": \"y\", \"type\": \"scatter\"}], \"name\": \"2019-2\"}, {\"data\": [{\"hovertemplate\": \"<b>%{hovertext}</b><br><br>pharma_n=\\u05db\\u05e8\\u05de\\u05d9\\u05dd \\u05d7.\\u05ea.<br>yyyy_mm=2019-3<br>p_meeting=%{x}<br>unscheduled=%{y}<br>pchanges_pd=%{marker.size}<extra></extra>\", \"hovertext\": [\"\\u05db\\u05e8\\u05de\\u05d9\\u05dd \\u05d7.\\u05ea.\"], \"ids\": [\"\\u05db\\u05e8\\u05de\\u05d9\\u05dd \\u05d7.\\u05ea.\"], \"legendgroup\": \"\\u05db\\u05e8\\u05de\\u05d9\\u05dd \\u05d7.\\u05ea.\", \"marker\": {\"color\": \"#636efa\", \"size\": [60], \"sizemode\": \"area\", \"sizeref\": 0.0153, \"symbol\": \"circle\"}, \"mode\": \"markers\", \"name\": \"\\u05db\\u05e8\\u05de\\u05d9\\u05dd \\u05d7.\\u05ea.\", \"showlegend\": true, \"x\": [60], \"xaxis\": \"x\", \"y\": [16], \"yaxis\": \"y\", \"type\": \"scatter\"}, {\"hovertemplate\": \"<b>%{hovertext}</b><br><br>pharma_n=\\u05de\\u05d5\\u05d3\\u05d9\\u05e2\\u05d9\\u05df \\u05e8\\\"\\u05d2 \\u05d7.\\u05ea.<br>yyyy_mm=2019-3<br>p_meeting=%{x}<br>unscheduled=%{y}<br>pchanges_pd=%{marker.size}<extra></extra>\", \"hovertext\": [\"\\u05de\\u05d5\\u05d3\\u05d9\\u05e2\\u05d9\\u05df \\u05e8\\\"\\u05d2 \\u05d7.\\u05ea.\"], \"ids\": [\"\\u05de\\u05d5\\u05d3\\u05d9\\u05e2\\u05d9\\u05df \\u05e8\\\"\\u05d2 \\u05d7.\\u05ea.\"], \"legendgroup\": \"\\u05de\\u05d5\\u05d3\\u05d9\\u05e2\\u05d9\\u05df \\u05e8\\\"\\u05d2 \\u05d7.\\u05ea.\", \"marker\": {\"color\": \"#EF553B\", \"size\": [50], \"sizemode\": \"area\", \"sizeref\": 0.0153, \"symbol\": \"circle\"}, \"mode\": \"markers\", \"name\": \"\\u05de\\u05d5\\u05d3\\u05d9\\u05e2\\u05d9\\u05df \\u05e8\\\"\\u05d2 \\u05d7.\\u05ea.\", \"showlegend\": true, \"x\": [57], \"xaxis\": \"x\", \"y\": [15], \"yaxis\": \"y\", \"type\": \"scatter\"}, {\"hovertemplate\": \"<b>%{hovertext}</b><br><br>pharma_n=\\u05e7\\u05d9\\u05e8\\u05d0\\u05d5\\u05df \\u05d7.\\u05ea.<br>yyyy_mm=2019-3<br>p_meeting=%{x}<br>unscheduled=%{y}<br>pchanges_pd=%{marker.size}<extra></extra>\", \"hovertext\": [\"\\u05e7\\u05d9\\u05e8\\u05d0\\u05d5\\u05df \\u05d7.\\u05ea.\"], \"ids\": [\"\\u05e7\\u05d9\\u05e8\\u05d0\\u05d5\\u05df \\u05d7.\\u05ea.\"], \"legendgroup\": \"\\u05e7\\u05d9\\u05e8\\u05d0\\u05d5\\u05df \\u05d7.\\u05ea.\", \"marker\": {\"color\": \"#00cc96\", \"size\": [92], \"sizemode\": \"area\", \"sizeref\": 0.0153, \"symbol\": \"circle\"}, \"mode\": \"markers\", \"name\": \"\\u05e7\\u05d9\\u05e8\\u05d0\\u05d5\\u05df \\u05d7.\\u05ea.\", \"showlegend\": true, \"x\": [22], \"xaxis\": \"x\", \"y\": [5], \"yaxis\": \"y\", \"type\": \"scatter\"}, {\"hovertemplate\": \"<b>%{hovertext}</b><br><br>pharma_n=\\u05d7\\u05d5\\u05dc\\u05d5\\u05df \\u05de\\u05e7\\u05e6 \\u05d7.\\u05ea.<br>yyyy_mm=2019-3<br>p_meeting=%{x}<br>unscheduled=%{y}<br>pchanges_pd=%{marker.size}<extra></extra>\", \"hovertext\": [\"\\u05d7\\u05d5\\u05dc\\u05d5\\u05df \\u05de\\u05e7\\u05e6 \\u05d7.\\u05ea.\"], \"ids\": [\"\\u05d7\\u05d5\\u05dc\\u05d5\\u05df \\u05de\\u05e7\\u05e6 \\u05d7.\\u05ea.\"], \"legendgroup\": \"\\u05d7\\u05d5\\u05dc\\u05d5\\u05df \\u05de\\u05e7\\u05e6 \\u05d7.\\u05ea.\", \"marker\": {\"color\": \"#ab63fa\", \"size\": [92], \"sizemode\": \"area\", \"sizeref\": 0.0153, \"symbol\": \"circle\"}, \"mode\": \"markers\", \"name\": \"\\u05d7\\u05d5\\u05dc\\u05d5\\u05df \\u05de\\u05e7\\u05e6 \\u05d7.\\u05ea.\", \"showlegend\": true, \"x\": [51], \"xaxis\": \"x\", \"y\": [16], \"yaxis\": \"y\", \"type\": \"scatter\"}], \"name\": \"2019-3\"}, {\"data\": [{\"hovertemplate\": \"<b>%{hovertext}</b><br><br>pharma_n=\\u05db\\u05e8\\u05de\\u05d9\\u05dd \\u05d7.\\u05ea.<br>yyyy_mm=2019-4<br>p_meeting=%{x}<br>unscheduled=%{y}<br>pchanges_pd=%{marker.size}<extra></extra>\", \"hovertext\": [\"\\u05db\\u05e8\\u05de\\u05d9\\u05dd \\u05d7.\\u05ea.\"], \"ids\": [\"\\u05db\\u05e8\\u05de\\u05d9\\u05dd \\u05d7.\\u05ea.\"], \"legendgroup\": \"\\u05db\\u05e8\\u05de\\u05d9\\u05dd \\u05d7.\\u05ea.\", \"marker\": {\"color\": \"#636efa\", \"size\": [69], \"sizemode\": \"area\", \"sizeref\": 0.0153, \"symbol\": \"circle\"}, \"mode\": \"markers\", \"name\": \"\\u05db\\u05e8\\u05de\\u05d9\\u05dd \\u05d7.\\u05ea.\", \"showlegend\": true, \"x\": [71], \"xaxis\": \"x\", \"y\": [13], \"yaxis\": \"y\", \"type\": \"scatter\"}, {\"hovertemplate\": \"<b>%{hovertext}</b><br><br>pharma_n=\\u05de\\u05d5\\u05d3\\u05d9\\u05e2\\u05d9\\u05df \\u05e8\\\"\\u05d2 \\u05d7.\\u05ea.<br>yyyy_mm=2019-4<br>p_meeting=%{x}<br>unscheduled=%{y}<br>pchanges_pd=%{marker.size}<extra></extra>\", \"hovertext\": [\"\\u05de\\u05d5\\u05d3\\u05d9\\u05e2\\u05d9\\u05df \\u05e8\\\"\\u05d2 \\u05d7.\\u05ea.\"], \"ids\": [\"\\u05de\\u05d5\\u05d3\\u05d9\\u05e2\\u05d9\\u05df \\u05e8\\\"\\u05d2 \\u05d7.\\u05ea.\"], \"legendgroup\": \"\\u05de\\u05d5\\u05d3\\u05d9\\u05e2\\u05d9\\u05df \\u05e8\\\"\\u05d2 \\u05d7.\\u05ea.\", \"marker\": {\"color\": \"#EF553B\", \"size\": [46], \"sizemode\": \"area\", \"sizeref\": 0.0153, \"symbol\": \"circle\"}, \"mode\": \"markers\", \"name\": \"\\u05de\\u05d5\\u05d3\\u05d9\\u05e2\\u05d9\\u05df \\u05e8\\\"\\u05d2 \\u05d7.\\u05ea.\", \"showlegend\": true, \"x\": [61], \"xaxis\": \"x\", \"y\": [14], \"yaxis\": \"y\", \"type\": \"scatter\"}, {\"hovertemplate\": \"<b>%{hovertext}</b><br><br>pharma_n=\\u05e7\\u05d9\\u05e8\\u05d0\\u05d5\\u05df \\u05d7.\\u05ea.<br>yyyy_mm=2019-4<br>p_meeting=%{x}<br>unscheduled=%{y}<br>pchanges_pd=%{marker.size}<extra></extra>\", \"hovertext\": [\"\\u05e7\\u05d9\\u05e8\\u05d0\\u05d5\\u05df \\u05d7.\\u05ea.\"], \"ids\": [\"\\u05e7\\u05d9\\u05e8\\u05d0\\u05d5\\u05df \\u05d7.\\u05ea.\"], \"legendgroup\": \"\\u05e7\\u05d9\\u05e8\\u05d0\\u05d5\\u05df \\u05d7.\\u05ea.\", \"marker\": {\"color\": \"#00cc96\", \"size\": [75], \"sizemode\": \"area\", \"sizeref\": 0.0153, \"symbol\": \"circle\"}, \"mode\": \"markers\", \"name\": \"\\u05e7\\u05d9\\u05e8\\u05d0\\u05d5\\u05df \\u05d7.\\u05ea.\", \"showlegend\": true, \"x\": [30], \"xaxis\": \"x\", \"y\": [13], \"yaxis\": \"y\", \"type\": \"scatter\"}, {\"hovertemplate\": \"<b>%{hovertext}</b><br><br>pharma_n=\\u05d7\\u05d5\\u05dc\\u05d5\\u05df \\u05de\\u05e7\\u05e6 \\u05d7.\\u05ea.<br>yyyy_mm=2019-4<br>p_meeting=%{x}<br>unscheduled=%{y}<br>pchanges_pd=%{marker.size}<extra></extra>\", \"hovertext\": [\"\\u05d7\\u05d5\\u05dc\\u05d5\\u05df \\u05de\\u05e7\\u05e6 \\u05d7.\\u05ea.\"], \"ids\": [\"\\u05d7\\u05d5\\u05dc\\u05d5\\u05df \\u05de\\u05e7\\u05e6 \\u05d7.\\u05ea.\"], \"legendgroup\": \"\\u05d7\\u05d5\\u05dc\\u05d5\\u05df \\u05de\\u05e7\\u05e6 \\u05d7.\\u05ea.\", \"marker\": {\"color\": \"#ab63fa\", \"size\": [95], \"sizemode\": \"area\", \"sizeref\": 0.0153, \"symbol\": \"circle\"}, \"mode\": \"markers\", \"name\": \"\\u05d7\\u05d5\\u05dc\\u05d5\\u05df \\u05de\\u05e7\\u05e6 \\u05d7.\\u05ea.\", \"showlegend\": true, \"x\": [57], \"xaxis\": \"x\", \"y\": [14], \"yaxis\": \"y\", \"type\": \"scatter\"}], \"name\": \"2019-4\"}, {\"data\": [{\"hovertemplate\": \"<b>%{hovertext}</b><br><br>pharma_n=\\u05db\\u05e8\\u05de\\u05d9\\u05dd \\u05d7.\\u05ea.<br>yyyy_mm=2019-5<br>p_meeting=%{x}<br>unscheduled=%{y}<br>pchanges_pd=%{marker.size}<extra></extra>\", \"hovertext\": [\"\\u05db\\u05e8\\u05de\\u05d9\\u05dd \\u05d7.\\u05ea.\"], \"ids\": [\"\\u05db\\u05e8\\u05de\\u05d9\\u05dd \\u05d7.\\u05ea.\"], \"legendgroup\": \"\\u05db\\u05e8\\u05de\\u05d9\\u05dd \\u05d7.\\u05ea.\", \"marker\": {\"color\": \"#636efa\", \"size\": [67], \"sizemode\": \"area\", \"sizeref\": 0.0153, \"symbol\": \"circle\"}, \"mode\": \"markers\", \"name\": \"\\u05db\\u05e8\\u05de\\u05d9\\u05dd \\u05d7.\\u05ea.\", \"showlegend\": true, \"x\": [32], \"xaxis\": \"x\", \"y\": [12], \"yaxis\": \"y\", \"type\": \"scatter\"}, {\"hovertemplate\": \"<b>%{hovertext}</b><br><br>pharma_n=\\u05de\\u05d5\\u05d3\\u05d9\\u05e2\\u05d9\\u05df \\u05e8\\\"\\u05d2 \\u05d7.\\u05ea.<br>yyyy_mm=2019-5<br>p_meeting=%{x}<br>unscheduled=%{y}<br>pchanges_pd=%{marker.size}<extra></extra>\", \"hovertext\": [\"\\u05de\\u05d5\\u05d3\\u05d9\\u05e2\\u05d9\\u05df \\u05e8\\\"\\u05d2 \\u05d7.\\u05ea.\"], \"ids\": [\"\\u05de\\u05d5\\u05d3\\u05d9\\u05e2\\u05d9\\u05df \\u05e8\\\"\\u05d2 \\u05d7.\\u05ea.\"], \"legendgroup\": \"\\u05de\\u05d5\\u05d3\\u05d9\\u05e2\\u05d9\\u05df \\u05e8\\\"\\u05d2 \\u05d7.\\u05ea.\", \"marker\": {\"color\": \"#EF553B\", \"size\": [78], \"sizemode\": \"area\", \"sizeref\": 0.0153, \"symbol\": \"circle\"}, \"mode\": \"markers\", \"name\": \"\\u05de\\u05d5\\u05d3\\u05d9\\u05e2\\u05d9\\u05df \\u05e8\\\"\\u05d2 \\u05d7.\\u05ea.\", \"showlegend\": true, \"x\": [79], \"xaxis\": \"x\", \"y\": [9], \"yaxis\": \"y\", \"type\": \"scatter\"}, {\"hovertemplate\": \"<b>%{hovertext}</b><br><br>pharma_n=\\u05e7\\u05d9\\u05e8\\u05d0\\u05d5\\u05df \\u05d7.\\u05ea.<br>yyyy_mm=2019-5<br>p_meeting=%{x}<br>unscheduled=%{y}<br>pchanges_pd=%{marker.size}<extra></extra>\", \"hovertext\": [\"\\u05e7\\u05d9\\u05e8\\u05d0\\u05d5\\u05df \\u05d7.\\u05ea.\"], \"ids\": [\"\\u05e7\\u05d9\\u05e8\\u05d0\\u05d5\\u05df \\u05d7.\\u05ea.\"], \"legendgroup\": \"\\u05e7\\u05d9\\u05e8\\u05d0\\u05d5\\u05df \\u05d7.\\u05ea.\", \"marker\": {\"color\": \"#00cc96\", \"size\": [75], \"sizemode\": \"area\", \"sizeref\": 0.0153, \"symbol\": \"circle\"}, \"mode\": \"markers\", \"name\": \"\\u05e7\\u05d9\\u05e8\\u05d0\\u05d5\\u05df \\u05d7.\\u05ea.\", \"showlegend\": true, \"x\": [41], \"xaxis\": \"x\", \"y\": [10], \"yaxis\": \"y\", \"type\": \"scatter\"}, {\"hovertemplate\": \"<b>%{hovertext}</b><br><br>pharma_n=\\u05d7\\u05d5\\u05dc\\u05d5\\u05df \\u05de\\u05e7\\u05e6 \\u05d7.\\u05ea.<br>yyyy_mm=2019-5<br>p_meeting=%{x}<br>unscheduled=%{y}<br>pchanges_pd=%{marker.size}<extra></extra>\", \"hovertext\": [\"\\u05d7\\u05d5\\u05dc\\u05d5\\u05df \\u05de\\u05e7\\u05e6 \\u05d7.\\u05ea.\"], \"ids\": [\"\\u05d7\\u05d5\\u05dc\\u05d5\\u05df \\u05de\\u05e7\\u05e6 \\u05d7.\\u05ea.\"], \"legendgroup\": \"\\u05d7\\u05d5\\u05dc\\u05d5\\u05df \\u05de\\u05e7\\u05e6 \\u05d7.\\u05ea.\", \"marker\": {\"color\": \"#ab63fa\", \"size\": [107], \"sizemode\": \"area\", \"sizeref\": 0.0153, \"symbol\": \"circle\"}, \"mode\": \"markers\", \"name\": \"\\u05d7\\u05d5\\u05dc\\u05d5\\u05df \\u05de\\u05e7\\u05e6 \\u05d7.\\u05ea.\", \"showlegend\": true, \"x\": [32], \"xaxis\": \"x\", \"y\": [16], \"yaxis\": \"y\", \"type\": \"scatter\"}], \"name\": \"2019-5\"}, {\"data\": [{\"hovertemplate\": \"<b>%{hovertext}</b><br><br>pharma_n=\\u05db\\u05e8\\u05de\\u05d9\\u05dd \\u05d7.\\u05ea.<br>yyyy_mm=2019-6<br>p_meeting=%{x}<br>unscheduled=%{y}<br>pchanges_pd=%{marker.size}<extra></extra>\", \"hovertext\": [\"\\u05db\\u05e8\\u05de\\u05d9\\u05dd \\u05d7.\\u05ea.\"], \"ids\": [\"\\u05db\\u05e8\\u05de\\u05d9\\u05dd \\u05d7.\\u05ea.\"], \"legendgroup\": \"\\u05db\\u05e8\\u05de\\u05d9\\u05dd \\u05d7.\\u05ea.\", \"marker\": {\"color\": \"#636efa\", \"size\": [65], \"sizemode\": \"area\", \"sizeref\": 0.0153, \"symbol\": \"circle\"}, \"mode\": \"markers\", \"name\": \"\\u05db\\u05e8\\u05de\\u05d9\\u05dd \\u05d7.\\u05ea.\", \"showlegend\": true, \"x\": [8], \"xaxis\": \"x\", \"y\": [14], \"yaxis\": \"y\", \"type\": \"scatter\"}, {\"hovertemplate\": \"<b>%{hovertext}</b><br><br>pharma_n=\\u05de\\u05d5\\u05d3\\u05d9\\u05e2\\u05d9\\u05df \\u05e8\\\"\\u05d2 \\u05d7.\\u05ea.<br>yyyy_mm=2019-6<br>p_meeting=%{x}<br>unscheduled=%{y}<br>pchanges_pd=%{marker.size}<extra></extra>\", \"hovertext\": [\"\\u05de\\u05d5\\u05d3\\u05d9\\u05e2\\u05d9\\u05df \\u05e8\\\"\\u05d2 \\u05d7.\\u05ea.\"], \"ids\": [\"\\u05de\\u05d5\\u05d3\\u05d9\\u05e2\\u05d9\\u05df \\u05e8\\\"\\u05d2 \\u05d7.\\u05ea.\"], \"legendgroup\": \"\\u05de\\u05d5\\u05d3\\u05d9\\u05e2\\u05d9\\u05df \\u05e8\\\"\\u05d2 \\u05d7.\\u05ea.\", \"marker\": {\"color\": \"#EF553B\", \"size\": [49], \"sizemode\": \"area\", \"sizeref\": 0.0153, \"symbol\": \"circle\"}, \"mode\": \"markers\", \"name\": \"\\u05de\\u05d5\\u05d3\\u05d9\\u05e2\\u05d9\\u05df \\u05e8\\\"\\u05d2 \\u05d7.\\u05ea.\", \"showlegend\": true, \"x\": [50], \"xaxis\": \"x\", \"y\": [7], \"yaxis\": \"y\", \"type\": \"scatter\"}, {\"hovertemplate\": \"<b>%{hovertext}</b><br><br>pharma_n=\\u05e7\\u05d9\\u05e8\\u05d0\\u05d5\\u05df \\u05d7.\\u05ea.<br>yyyy_mm=2019-6<br>p_meeting=%{x}<br>unscheduled=%{y}<br>pchanges_pd=%{marker.size}<extra></extra>\", \"hovertext\": [\"\\u05e7\\u05d9\\u05e8\\u05d0\\u05d5\\u05df \\u05d7.\\u05ea.\"], \"ids\": [\"\\u05e7\\u05d9\\u05e8\\u05d0\\u05d5\\u05df \\u05d7.\\u05ea.\"], \"legendgroup\": \"\\u05e7\\u05d9\\u05e8\\u05d0\\u05d5\\u05df \\u05d7.\\u05ea.\", \"marker\": {\"color\": \"#00cc96\", \"size\": [76], \"sizemode\": \"area\", \"sizeref\": 0.0153, \"symbol\": \"circle\"}, \"mode\": \"markers\", \"name\": \"\\u05e7\\u05d9\\u05e8\\u05d0\\u05d5\\u05df \\u05d7.\\u05ea.\", \"showlegend\": true, \"x\": [30], \"xaxis\": \"x\", \"y\": [9], \"yaxis\": \"y\", \"type\": \"scatter\"}, {\"hovertemplate\": \"<b>%{hovertext}</b><br><br>pharma_n=\\u05d7\\u05d5\\u05dc\\u05d5\\u05df \\u05de\\u05e7\\u05e6 \\u05d7.\\u05ea.<br>yyyy_mm=2019-6<br>p_meeting=%{x}<br>unscheduled=%{y}<br>pchanges_pd=%{marker.size}<extra></extra>\", \"hovertext\": [\"\\u05d7\\u05d5\\u05dc\\u05d5\\u05df \\u05de\\u05e7\\u05e6 \\u05d7.\\u05ea.\"], \"ids\": [\"\\u05d7\\u05d5\\u05dc\\u05d5\\u05df \\u05de\\u05e7\\u05e6 \\u05d7.\\u05ea.\"], \"legendgroup\": \"\\u05d7\\u05d5\\u05dc\\u05d5\\u05df \\u05de\\u05e7\\u05e6 \\u05d7.\\u05ea.\", \"marker\": {\"color\": \"#ab63fa\", \"size\": [64], \"sizemode\": \"area\", \"sizeref\": 0.0153, \"symbol\": \"circle\"}, \"mode\": \"markers\", \"name\": \"\\u05d7\\u05d5\\u05dc\\u05d5\\u05df \\u05de\\u05e7\\u05e6 \\u05d7.\\u05ea.\", \"showlegend\": true, \"x\": [16], \"xaxis\": \"x\", \"y\": [18], \"yaxis\": \"y\", \"type\": \"scatter\"}], \"name\": \"2019-6\"}, {\"data\": [{\"hovertemplate\": \"<b>%{hovertext}</b><br><br>pharma_n=\\u05db\\u05e8\\u05de\\u05d9\\u05dd \\u05d7.\\u05ea.<br>yyyy_mm=2019-7<br>p_meeting=%{x}<br>unscheduled=%{y}<br>pchanges_pd=%{marker.size}<extra></extra>\", \"hovertext\": [\"\\u05db\\u05e8\\u05de\\u05d9\\u05dd \\u05d7.\\u05ea.\"], \"ids\": [\"\\u05db\\u05e8\\u05de\\u05d9\\u05dd \\u05d7.\\u05ea.\"], \"legendgroup\": \"\\u05db\\u05e8\\u05de\\u05d9\\u05dd \\u05d7.\\u05ea.\", \"marker\": {\"color\": \"#636efa\", \"size\": [64], \"sizemode\": \"area\", \"sizeref\": 0.0153, \"symbol\": \"circle\"}, \"mode\": \"markers\", \"name\": \"\\u05db\\u05e8\\u05de\\u05d9\\u05dd \\u05d7.\\u05ea.\", \"showlegend\": true, \"x\": [10], \"xaxis\": \"x\", \"y\": [14], \"yaxis\": \"y\", \"type\": \"scatter\"}, {\"hovertemplate\": \"<b>%{hovertext}</b><br><br>pharma_n=\\u05de\\u05d5\\u05d3\\u05d9\\u05e2\\u05d9\\u05df \\u05e8\\\"\\u05d2 \\u05d7.\\u05ea.<br>yyyy_mm=2019-7<br>p_meeting=%{x}<br>unscheduled=%{y}<br>pchanges_pd=%{marker.size}<extra></extra>\", \"hovertext\": [\"\\u05de\\u05d5\\u05d3\\u05d9\\u05e2\\u05d9\\u05df \\u05e8\\\"\\u05d2 \\u05d7.\\u05ea.\"], \"ids\": [\"\\u05de\\u05d5\\u05d3\\u05d9\\u05e2\\u05d9\\u05df \\u05e8\\\"\\u05d2 \\u05d7.\\u05ea.\"], \"legendgroup\": \"\\u05de\\u05d5\\u05d3\\u05d9\\u05e2\\u05d9\\u05df \\u05e8\\\"\\u05d2 \\u05d7.\\u05ea.\", \"marker\": {\"color\": \"#EF553B\", \"size\": [40], \"sizemode\": \"area\", \"sizeref\": 0.0153, \"symbol\": \"circle\"}, \"mode\": \"markers\", \"name\": \"\\u05de\\u05d5\\u05d3\\u05d9\\u05e2\\u05d9\\u05df \\u05e8\\\"\\u05d2 \\u05d7.\\u05ea.\", \"showlegend\": true, \"x\": [39], \"xaxis\": \"x\", \"y\": [13], \"yaxis\": \"y\", \"type\": \"scatter\"}, {\"hovertemplate\": \"<b>%{hovertext}</b><br><br>pharma_n=\\u05e7\\u05d9\\u05e8\\u05d0\\u05d5\\u05df \\u05d7.\\u05ea.<br>yyyy_mm=2019-7<br>p_meeting=%{x}<br>unscheduled=%{y}<br>pchanges_pd=%{marker.size}<extra></extra>\", \"hovertext\": [\"\\u05e7\\u05d9\\u05e8\\u05d0\\u05d5\\u05df \\u05d7.\\u05ea.\"], \"ids\": [\"\\u05e7\\u05d9\\u05e8\\u05d0\\u05d5\\u05df \\u05d7.\\u05ea.\"], \"legendgroup\": \"\\u05e7\\u05d9\\u05e8\\u05d0\\u05d5\\u05df \\u05d7.\\u05ea.\", \"marker\": {\"color\": \"#00cc96\", \"size\": [76], \"sizemode\": \"area\", \"sizeref\": 0.0153, \"symbol\": \"circle\"}, \"mode\": \"markers\", \"name\": \"\\u05e7\\u05d9\\u05e8\\u05d0\\u05d5\\u05df \\u05d7.\\u05ea.\", \"showlegend\": true, \"x\": [27], \"xaxis\": \"x\", \"y\": [8], \"yaxis\": \"y\", \"type\": \"scatter\"}, {\"hovertemplate\": \"<b>%{hovertext}</b><br><br>pharma_n=\\u05d7\\u05d5\\u05dc\\u05d5\\u05df \\u05de\\u05e7\\u05e6 \\u05d7.\\u05ea.<br>yyyy_mm=2019-7<br>p_meeting=%{x}<br>unscheduled=%{y}<br>pchanges_pd=%{marker.size}<extra></extra>\", \"hovertext\": [\"\\u05d7\\u05d5\\u05dc\\u05d5\\u05df \\u05de\\u05e7\\u05e6 \\u05d7.\\u05ea.\"], \"ids\": [\"\\u05d7\\u05d5\\u05dc\\u05d5\\u05df \\u05de\\u05e7\\u05e6 \\u05d7.\\u05ea.\"], \"legendgroup\": \"\\u05d7\\u05d5\\u05dc\\u05d5\\u05df \\u05de\\u05e7\\u05e6 \\u05d7.\\u05ea.\", \"marker\": {\"color\": \"#ab63fa\", \"size\": [66], \"sizemode\": \"area\", \"sizeref\": 0.0153, \"symbol\": \"circle\"}, \"mode\": \"markers\", \"name\": \"\\u05d7\\u05d5\\u05dc\\u05d5\\u05df \\u05de\\u05e7\\u05e6 \\u05d7.\\u05ea.\", \"showlegend\": true, \"x\": [4], \"xaxis\": \"x\", \"y\": [17], \"yaxis\": \"y\", \"type\": \"scatter\"}], \"name\": \"2019-7\"}, {\"data\": [{\"hovertemplate\": \"<b>%{hovertext}</b><br><br>pharma_n=\\u05db\\u05e8\\u05de\\u05d9\\u05dd \\u05d7.\\u05ea.<br>yyyy_mm=2019-8<br>p_meeting=%{x}<br>unscheduled=%{y}<br>pchanges_pd=%{marker.size}<extra></extra>\", \"hovertext\": [\"\\u05db\\u05e8\\u05de\\u05d9\\u05dd \\u05d7.\\u05ea.\"], \"ids\": [\"\\u05db\\u05e8\\u05de\\u05d9\\u05dd \\u05d7.\\u05ea.\"], \"legendgroup\": \"\\u05db\\u05e8\\u05de\\u05d9\\u05dd \\u05d7.\\u05ea.\", \"marker\": {\"color\": \"#636efa\", \"size\": [63], \"sizemode\": \"area\", \"sizeref\": 0.0153, \"symbol\": \"circle\"}, \"mode\": \"markers\", \"name\": \"\\u05db\\u05e8\\u05de\\u05d9\\u05dd \\u05d7.\\u05ea.\", \"showlegend\": true, \"x\": [18], \"xaxis\": \"x\", \"y\": [9], \"yaxis\": \"y\", \"type\": \"scatter\"}, {\"hovertemplate\": \"<b>%{hovertext}</b><br><br>pharma_n=\\u05de\\u05d5\\u05d3\\u05d9\\u05e2\\u05d9\\u05df \\u05e8\\\"\\u05d2 \\u05d7.\\u05ea.<br>yyyy_mm=2019-8<br>p_meeting=%{x}<br>unscheduled=%{y}<br>pchanges_pd=%{marker.size}<extra></extra>\", \"hovertext\": [\"\\u05de\\u05d5\\u05d3\\u05d9\\u05e2\\u05d9\\u05df \\u05e8\\\"\\u05d2 \\u05d7.\\u05ea.\"], \"ids\": [\"\\u05de\\u05d5\\u05d3\\u05d9\\u05e2\\u05d9\\u05df \\u05e8\\\"\\u05d2 \\u05d7.\\u05ea.\"], \"legendgroup\": \"\\u05de\\u05d5\\u05d3\\u05d9\\u05e2\\u05d9\\u05df \\u05e8\\\"\\u05d2 \\u05d7.\\u05ea.\", \"marker\": {\"color\": \"#EF553B\", \"size\": [65], \"sizemode\": \"area\", \"sizeref\": 0.0153, \"symbol\": \"circle\"}, \"mode\": \"markers\", \"name\": \"\\u05de\\u05d5\\u05d3\\u05d9\\u05e2\\u05d9\\u05df \\u05e8\\\"\\u05d2 \\u05d7.\\u05ea.\", \"showlegend\": true, \"x\": [41], \"xaxis\": \"x\", \"y\": [8], \"yaxis\": \"y\", \"type\": \"scatter\"}, {\"hovertemplate\": \"<b>%{hovertext}</b><br><br>pharma_n=\\u05e7\\u05d9\\u05e8\\u05d0\\u05d5\\u05df \\u05d7.\\u05ea.<br>yyyy_mm=2019-8<br>p_meeting=%{x}<br>unscheduled=%{y}<br>pchanges_pd=%{marker.size}<extra></extra>\", \"hovertext\": [\"\\u05e7\\u05d9\\u05e8\\u05d0\\u05d5\\u05df \\u05d7.\\u05ea.\"], \"ids\": [\"\\u05e7\\u05d9\\u05e8\\u05d0\\u05d5\\u05df \\u05d7.\\u05ea.\"], \"legendgroup\": \"\\u05e7\\u05d9\\u05e8\\u05d0\\u05d5\\u05df \\u05d7.\\u05ea.\", \"marker\": {\"color\": \"#00cc96\", \"size\": [57], \"sizemode\": \"area\", \"sizeref\": 0.0153, \"symbol\": \"circle\"}, \"mode\": \"markers\", \"name\": \"\\u05e7\\u05d9\\u05e8\\u05d0\\u05d5\\u05df \\u05d7.\\u05ea.\", \"showlegend\": true, \"x\": [30], \"xaxis\": \"x\", \"y\": [6], \"yaxis\": \"y\", \"type\": \"scatter\"}, {\"hovertemplate\": \"<b>%{hovertext}</b><br><br>pharma_n=\\u05d7\\u05d5\\u05dc\\u05d5\\u05df \\u05de\\u05e7\\u05e6 \\u05d7.\\u05ea.<br>yyyy_mm=2019-8<br>p_meeting=%{x}<br>unscheduled=%{y}<br>pchanges_pd=%{marker.size}<extra></extra>\", \"hovertext\": [\"\\u05d7\\u05d5\\u05dc\\u05d5\\u05df \\u05de\\u05e7\\u05e6 \\u05d7.\\u05ea.\"], \"ids\": [\"\\u05d7\\u05d5\\u05dc\\u05d5\\u05df \\u05de\\u05e7\\u05e6 \\u05d7.\\u05ea.\"], \"legendgroup\": \"\\u05d7\\u05d5\\u05dc\\u05d5\\u05df \\u05de\\u05e7\\u05e6 \\u05d7.\\u05ea.\", \"marker\": {\"color\": \"#ab63fa\", \"size\": [75], \"sizemode\": \"area\", \"sizeref\": 0.0153, \"symbol\": \"circle\"}, \"mode\": \"markers\", \"name\": \"\\u05d7\\u05d5\\u05dc\\u05d5\\u05df \\u05de\\u05e7\\u05e6 \\u05d7.\\u05ea.\", \"showlegend\": true, \"x\": [31], \"xaxis\": \"x\", \"y\": [14], \"yaxis\": \"y\", \"type\": \"scatter\"}], \"name\": \"2019-8\"}, {\"data\": [{\"hovertemplate\": \"<b>%{hovertext}</b><br><br>pharma_n=\\u05db\\u05e8\\u05de\\u05d9\\u05dd \\u05d7.\\u05ea.<br>yyyy_mm=2019-9<br>p_meeting=%{x}<br>unscheduled=%{y}<br>pchanges_pd=%{marker.size}<extra></extra>\", \"hovertext\": [\"\\u05db\\u05e8\\u05de\\u05d9\\u05dd \\u05d7.\\u05ea.\"], \"ids\": [\"\\u05db\\u05e8\\u05de\\u05d9\\u05dd \\u05d7.\\u05ea.\"], \"legendgroup\": \"\\u05db\\u05e8\\u05de\\u05d9\\u05dd \\u05d7.\\u05ea.\", \"marker\": {\"color\": \"#636efa\", \"size\": [68], \"sizemode\": \"area\", \"sizeref\": 0.0153, \"symbol\": \"circle\"}, \"mode\": \"markers\", \"name\": \"\\u05db\\u05e8\\u05de\\u05d9\\u05dd \\u05d7.\\u05ea.\", \"showlegend\": true, \"x\": [31], \"xaxis\": \"x\", \"y\": [10], \"yaxis\": \"y\", \"type\": \"scatter\"}, {\"hovertemplate\": \"<b>%{hovertext}</b><br><br>pharma_n=\\u05de\\u05d5\\u05d3\\u05d9\\u05e2\\u05d9\\u05df \\u05e8\\\"\\u05d2 \\u05d7.\\u05ea.<br>yyyy_mm=2019-9<br>p_meeting=%{x}<br>unscheduled=%{y}<br>pchanges_pd=%{marker.size}<extra></extra>\", \"hovertext\": [\"\\u05de\\u05d5\\u05d3\\u05d9\\u05e2\\u05d9\\u05df \\u05e8\\\"\\u05d2 \\u05d7.\\u05ea.\"], \"ids\": [\"\\u05de\\u05d5\\u05d3\\u05d9\\u05e2\\u05d9\\u05df \\u05e8\\\"\\u05d2 \\u05d7.\\u05ea.\"], \"legendgroup\": \"\\u05de\\u05d5\\u05d3\\u05d9\\u05e2\\u05d9\\u05df \\u05e8\\\"\\u05d2 \\u05d7.\\u05ea.\", \"marker\": {\"color\": \"#EF553B\", \"size\": [78], \"sizemode\": \"area\", \"sizeref\": 0.0153, \"symbol\": \"circle\"}, \"mode\": \"markers\", \"name\": \"\\u05de\\u05d5\\u05d3\\u05d9\\u05e2\\u05d9\\u05df \\u05e8\\\"\\u05d2 \\u05d7.\\u05ea.\", \"showlegend\": true, \"x\": [37], \"xaxis\": \"x\", \"y\": [11], \"yaxis\": \"y\", \"type\": \"scatter\"}, {\"hovertemplate\": \"<b>%{hovertext}</b><br><br>pharma_n=\\u05e7\\u05d9\\u05e8\\u05d0\\u05d5\\u05df \\u05d7.\\u05ea.<br>yyyy_mm=2019-9<br>p_meeting=%{x}<br>unscheduled=%{y}<br>pchanges_pd=%{marker.size}<extra></extra>\", \"hovertext\": [\"\\u05e7\\u05d9\\u05e8\\u05d0\\u05d5\\u05df \\u05d7.\\u05ea.\"], \"ids\": [\"\\u05e7\\u05d9\\u05e8\\u05d0\\u05d5\\u05df \\u05d7.\\u05ea.\"], \"legendgroup\": \"\\u05e7\\u05d9\\u05e8\\u05d0\\u05d5\\u05df \\u05d7.\\u05ea.\", \"marker\": {\"color\": \"#00cc96\", \"size\": [78], \"sizemode\": \"area\", \"sizeref\": 0.0153, \"symbol\": \"circle\"}, \"mode\": \"markers\", \"name\": \"\\u05e7\\u05d9\\u05e8\\u05d0\\u05d5\\u05df \\u05d7.\\u05ea.\", \"showlegend\": true, \"x\": [24], \"xaxis\": \"x\", \"y\": [11], \"yaxis\": \"y\", \"type\": \"scatter\"}, {\"hovertemplate\": \"<b>%{hovertext}</b><br><br>pharma_n=\\u05d7\\u05d5\\u05dc\\u05d5\\u05df \\u05de\\u05e7\\u05e6 \\u05d7.\\u05ea.<br>yyyy_mm=2019-9<br>p_meeting=%{x}<br>unscheduled=%{y}<br>pchanges_pd=%{marker.size}<extra></extra>\", \"hovertext\": [\"\\u05d7\\u05d5\\u05dc\\u05d5\\u05df \\u05de\\u05e7\\u05e6 \\u05d7.\\u05ea.\"], \"ids\": [\"\\u05d7\\u05d5\\u05dc\\u05d5\\u05df \\u05de\\u05e7\\u05e6 \\u05d7.\\u05ea.\"], \"legendgroup\": \"\\u05d7\\u05d5\\u05dc\\u05d5\\u05df \\u05de\\u05e7\\u05e6 \\u05d7.\\u05ea.\", \"marker\": {\"color\": \"#ab63fa\", \"size\": [87], \"sizemode\": \"area\", \"sizeref\": 0.0153, \"symbol\": \"circle\"}, \"mode\": \"markers\", \"name\": \"\\u05d7\\u05d5\\u05dc\\u05d5\\u05df \\u05de\\u05e7\\u05e6 \\u05d7.\\u05ea.\", \"showlegend\": true, \"x\": [19], \"xaxis\": \"x\", \"y\": [16], \"yaxis\": \"y\", \"type\": \"scatter\"}], \"name\": \"2019-9\"}, {\"data\": [{\"hovertemplate\": \"<b>%{hovertext}</b><br><br>pharma_n=\\u05db\\u05e8\\u05de\\u05d9\\u05dd \\u05d7.\\u05ea.<br>yyyy_mm=2019-10<br>p_meeting=%{x}<br>unscheduled=%{y}<br>pchanges_pd=%{marker.size}<extra></extra>\", \"hovertext\": [\"\\u05db\\u05e8\\u05de\\u05d9\\u05dd \\u05d7.\\u05ea.\"], \"ids\": [\"\\u05db\\u05e8\\u05de\\u05d9\\u05dd \\u05d7.\\u05ea.\"], \"legendgroup\": \"\\u05db\\u05e8\\u05de\\u05d9\\u05dd \\u05d7.\\u05ea.\", \"marker\": {\"color\": \"#636efa\", \"size\": [61], \"sizemode\": \"area\", \"sizeref\": 0.0153, \"symbol\": \"circle\"}, \"mode\": \"markers\", \"name\": \"\\u05db\\u05e8\\u05de\\u05d9\\u05dd \\u05d7.\\u05ea.\", \"showlegend\": true, \"x\": [24], \"xaxis\": \"x\", \"y\": [7], \"yaxis\": \"y\", \"type\": \"scatter\"}, {\"hovertemplate\": \"<b>%{hovertext}</b><br><br>pharma_n=\\u05de\\u05d5\\u05d3\\u05d9\\u05e2\\u05d9\\u05df \\u05e8\\\"\\u05d2 \\u05d7.\\u05ea.<br>yyyy_mm=2019-10<br>p_meeting=%{x}<br>unscheduled=%{y}<br>pchanges_pd=%{marker.size}<extra></extra>\", \"hovertext\": [\"\\u05de\\u05d5\\u05d3\\u05d9\\u05e2\\u05d9\\u05df \\u05e8\\\"\\u05d2 \\u05d7.\\u05ea.\"], \"ids\": [\"\\u05de\\u05d5\\u05d3\\u05d9\\u05e2\\u05d9\\u05df \\u05e8\\\"\\u05d2 \\u05d7.\\u05ea.\"], \"legendgroup\": \"\\u05de\\u05d5\\u05d3\\u05d9\\u05e2\\u05d9\\u05df \\u05e8\\\"\\u05d2 \\u05d7.\\u05ea.\", \"marker\": {\"color\": \"#EF553B\", \"size\": [49], \"sizemode\": \"area\", \"sizeref\": 0.0153, \"symbol\": \"circle\"}, \"mode\": \"markers\", \"name\": \"\\u05de\\u05d5\\u05d3\\u05d9\\u05e2\\u05d9\\u05df \\u05e8\\\"\\u05d2 \\u05d7.\\u05ea.\", \"showlegend\": true, \"x\": [46], \"xaxis\": \"x\", \"y\": [7], \"yaxis\": \"y\", \"type\": \"scatter\"}, {\"hovertemplate\": \"<b>%{hovertext}</b><br><br>pharma_n=\\u05e7\\u05d9\\u05e8\\u05d0\\u05d5\\u05df \\u05d7.\\u05ea.<br>yyyy_mm=2019-10<br>p_meeting=%{x}<br>unscheduled=%{y}<br>pchanges_pd=%{marker.size}<extra></extra>\", \"hovertext\": [\"\\u05e7\\u05d9\\u05e8\\u05d0\\u05d5\\u05df \\u05d7.\\u05ea.\"], \"ids\": [\"\\u05e7\\u05d9\\u05e8\\u05d0\\u05d5\\u05df \\u05d7.\\u05ea.\"], \"legendgroup\": \"\\u05e7\\u05d9\\u05e8\\u05d0\\u05d5\\u05df \\u05d7.\\u05ea.\", \"marker\": {\"color\": \"#00cc96\", \"size\": [62], \"sizemode\": \"area\", \"sizeref\": 0.0153, \"symbol\": \"circle\"}, \"mode\": \"markers\", \"name\": \"\\u05e7\\u05d9\\u05e8\\u05d0\\u05d5\\u05df \\u05d7.\\u05ea.\", \"showlegend\": true, \"x\": [14], \"xaxis\": \"x\", \"y\": [5], \"yaxis\": \"y\", \"type\": \"scatter\"}, {\"hovertemplate\": \"<b>%{hovertext}</b><br><br>pharma_n=\\u05d7\\u05d5\\u05dc\\u05d5\\u05df \\u05de\\u05e7\\u05e6 \\u05d7.\\u05ea.<br>yyyy_mm=2019-10<br>p_meeting=%{x}<br>unscheduled=%{y}<br>pchanges_pd=%{marker.size}<extra></extra>\", \"hovertext\": [\"\\u05d7\\u05d5\\u05dc\\u05d5\\u05df \\u05de\\u05e7\\u05e6 \\u05d7.\\u05ea.\"], \"ids\": [\"\\u05d7\\u05d5\\u05dc\\u05d5\\u05df \\u05de\\u05e7\\u05e6 \\u05d7.\\u05ea.\"], \"legendgroup\": \"\\u05d7\\u05d5\\u05dc\\u05d5\\u05df \\u05de\\u05e7\\u05e6 \\u05d7.\\u05ea.\", \"marker\": {\"color\": \"#ab63fa\", \"size\": [81], \"sizemode\": \"area\", \"sizeref\": 0.0153, \"symbol\": \"circle\"}, \"mode\": \"markers\", \"name\": \"\\u05d7\\u05d5\\u05dc\\u05d5\\u05df \\u05de\\u05e7\\u05e6 \\u05d7.\\u05ea.\", \"showlegend\": true, \"x\": [21], \"xaxis\": \"x\", \"y\": [14], \"yaxis\": \"y\", \"type\": \"scatter\"}], \"name\": \"2019-10\"}, {\"data\": [{\"hovertemplate\": \"<b>%{hovertext}</b><br><br>pharma_n=\\u05db\\u05e8\\u05de\\u05d9\\u05dd \\u05d7.\\u05ea.<br>yyyy_mm=2019-11<br>p_meeting=%{x}<br>unscheduled=%{y}<br>pchanges_pd=%{marker.size}<extra></extra>\", \"hovertext\": [\"\\u05db\\u05e8\\u05de\\u05d9\\u05dd \\u05d7.\\u05ea.\"], \"ids\": [\"\\u05db\\u05e8\\u05de\\u05d9\\u05dd \\u05d7.\\u05ea.\"], \"legendgroup\": \"\\u05db\\u05e8\\u05de\\u05d9\\u05dd \\u05d7.\\u05ea.\", \"marker\": {\"color\": \"#636efa\", \"size\": [59], \"sizemode\": \"area\", \"sizeref\": 0.0153, \"symbol\": \"circle\"}, \"mode\": \"markers\", \"name\": \"\\u05db\\u05e8\\u05de\\u05d9\\u05dd \\u05d7.\\u05ea.\", \"showlegend\": true, \"x\": [23], \"xaxis\": \"x\", \"y\": [12], \"yaxis\": \"y\", \"type\": \"scatter\"}, {\"hovertemplate\": \"<b>%{hovertext}</b><br><br>pharma_n=\\u05de\\u05d5\\u05d3\\u05d9\\u05e2\\u05d9\\u05df \\u05e8\\\"\\u05d2 \\u05d7.\\u05ea.<br>yyyy_mm=2019-11<br>p_meeting=%{x}<br>unscheduled=%{y}<br>pchanges_pd=%{marker.size}<extra></extra>\", \"hovertext\": [\"\\u05de\\u05d5\\u05d3\\u05d9\\u05e2\\u05d9\\u05df \\u05e8\\\"\\u05d2 \\u05d7.\\u05ea.\"], \"ids\": [\"\\u05de\\u05d5\\u05d3\\u05d9\\u05e2\\u05d9\\u05df \\u05e8\\\"\\u05d2 \\u05d7.\\u05ea.\"], \"legendgroup\": \"\\u05de\\u05d5\\u05d3\\u05d9\\u05e2\\u05d9\\u05df \\u05e8\\\"\\u05d2 \\u05d7.\\u05ea.\", \"marker\": {\"color\": \"#EF553B\", \"size\": [102], \"sizemode\": \"area\", \"sizeref\": 0.0153, \"symbol\": \"circle\"}, \"mode\": \"markers\", \"name\": \"\\u05de\\u05d5\\u05d3\\u05d9\\u05e2\\u05d9\\u05df \\u05e8\\\"\\u05d2 \\u05d7.\\u05ea.\", \"showlegend\": true, \"x\": [60], \"xaxis\": \"x\", \"y\": [8], \"yaxis\": \"y\", \"type\": \"scatter\"}, {\"hovertemplate\": \"<b>%{hovertext}</b><br><br>pharma_n=\\u05e7\\u05d9\\u05e8\\u05d0\\u05d5\\u05df \\u05d7.\\u05ea.<br>yyyy_mm=2019-11<br>p_meeting=%{x}<br>unscheduled=%{y}<br>pchanges_pd=%{marker.size}<extra></extra>\", \"hovertext\": [\"\\u05e7\\u05d9\\u05e8\\u05d0\\u05d5\\u05df \\u05d7.\\u05ea.\"], \"ids\": [\"\\u05e7\\u05d9\\u05e8\\u05d0\\u05d5\\u05df \\u05d7.\\u05ea.\"], \"legendgroup\": \"\\u05e7\\u05d9\\u05e8\\u05d0\\u05d5\\u05df \\u05d7.\\u05ea.\", \"marker\": {\"color\": \"#00cc96\", \"size\": [60], \"sizemode\": \"area\", \"sizeref\": 0.0153, \"symbol\": \"circle\"}, \"mode\": \"markers\", \"name\": \"\\u05e7\\u05d9\\u05e8\\u05d0\\u05d5\\u05df \\u05d7.\\u05ea.\", \"showlegend\": true, \"x\": [0], \"xaxis\": \"x\", \"y\": [6], \"yaxis\": \"y\", \"type\": \"scatter\"}, {\"hovertemplate\": \"<b>%{hovertext}</b><br><br>pharma_n=\\u05d7\\u05d5\\u05dc\\u05d5\\u05df \\u05de\\u05e7\\u05e6 \\u05d7.\\u05ea.<br>yyyy_mm=2019-11<br>p_meeting=%{x}<br>unscheduled=%{y}<br>pchanges_pd=%{marker.size}<extra></extra>\", \"hovertext\": [\"\\u05d7\\u05d5\\u05dc\\u05d5\\u05df \\u05de\\u05e7\\u05e6 \\u05d7.\\u05ea.\"], \"ids\": [\"\\u05d7\\u05d5\\u05dc\\u05d5\\u05df \\u05de\\u05e7\\u05e6 \\u05d7.\\u05ea.\"], \"legendgroup\": \"\\u05d7\\u05d5\\u05dc\\u05d5\\u05df \\u05de\\u05e7\\u05e6 \\u05d7.\\u05ea.\", \"marker\": {\"color\": \"#ab63fa\", \"size\": [97], \"sizemode\": \"area\", \"sizeref\": 0.0153, \"symbol\": \"circle\"}, \"mode\": \"markers\", \"name\": \"\\u05d7\\u05d5\\u05dc\\u05d5\\u05df \\u05de\\u05e7\\u05e6 \\u05d7.\\u05ea.\", \"showlegend\": true, \"x\": [5], \"xaxis\": \"x\", \"y\": [16], \"yaxis\": \"y\", \"type\": \"scatter\"}], \"name\": \"2019-11\"}, {\"data\": [{\"hovertemplate\": \"<b>%{hovertext}</b><br><br>pharma_n=\\u05db\\u05e8\\u05de\\u05d9\\u05dd \\u05d7.\\u05ea.<br>yyyy_mm=2019-12<br>p_meeting=%{x}<br>unscheduled=%{y}<br>pchanges_pd=%{marker.size}<extra></extra>\", \"hovertext\": [\"\\u05db\\u05e8\\u05de\\u05d9\\u05dd \\u05d7.\\u05ea.\"], \"ids\": [\"\\u05db\\u05e8\\u05de\\u05d9\\u05dd \\u05d7.\\u05ea.\"], \"legendgroup\": \"\\u05db\\u05e8\\u05de\\u05d9\\u05dd \\u05d7.\\u05ea.\", \"marker\": {\"color\": \"#636efa\", \"size\": [64], \"sizemode\": \"area\", \"sizeref\": 0.0153, \"symbol\": \"circle\"}, \"mode\": \"markers\", \"name\": \"\\u05db\\u05e8\\u05de\\u05d9\\u05dd \\u05d7.\\u05ea.\", \"showlegend\": true, \"x\": [0], \"xaxis\": \"x\", \"y\": [13], \"yaxis\": \"y\", \"type\": \"scatter\"}, {\"hovertemplate\": \"<b>%{hovertext}</b><br><br>pharma_n=\\u05de\\u05d5\\u05d3\\u05d9\\u05e2\\u05d9\\u05df \\u05e8\\\"\\u05d2 \\u05d7.\\u05ea.<br>yyyy_mm=2019-12<br>p_meeting=%{x}<br>unscheduled=%{y}<br>pchanges_pd=%{marker.size}<extra></extra>\", \"hovertext\": [\"\\u05de\\u05d5\\u05d3\\u05d9\\u05e2\\u05d9\\u05df \\u05e8\\\"\\u05d2 \\u05d7.\\u05ea.\"], \"ids\": [\"\\u05de\\u05d5\\u05d3\\u05d9\\u05e2\\u05d9\\u05df \\u05e8\\\"\\u05d2 \\u05d7.\\u05ea.\"], \"legendgroup\": \"\\u05de\\u05d5\\u05d3\\u05d9\\u05e2\\u05d9\\u05df \\u05e8\\\"\\u05d2 \\u05d7.\\u05ea.\", \"marker\": {\"color\": \"#EF553B\", \"size\": [103], \"sizemode\": \"area\", \"sizeref\": 0.0153, \"symbol\": \"circle\"}, \"mode\": \"markers\", \"name\": \"\\u05de\\u05d5\\u05d3\\u05d9\\u05e2\\u05d9\\u05df \\u05e8\\\"\\u05d2 \\u05d7.\\u05ea.\", \"showlegend\": true, \"x\": [20], \"xaxis\": \"x\", \"y\": [5], \"yaxis\": \"y\", \"type\": \"scatter\"}, {\"hovertemplate\": \"<b>%{hovertext}</b><br><br>pharma_n=\\u05e7\\u05d9\\u05e8\\u05d0\\u05d5\\u05df \\u05d7.\\u05ea.<br>yyyy_mm=2019-12<br>p_meeting=%{x}<br>unscheduled=%{y}<br>pchanges_pd=%{marker.size}<extra></extra>\", \"hovertext\": [\"\\u05e7\\u05d9\\u05e8\\u05d0\\u05d5\\u05df \\u05d7.\\u05ea.\"], \"ids\": [\"\\u05e7\\u05d9\\u05e8\\u05d0\\u05d5\\u05df \\u05d7.\\u05ea.\"], \"legendgroup\": \"\\u05e7\\u05d9\\u05e8\\u05d0\\u05d5\\u05df \\u05d7.\\u05ea.\", \"marker\": {\"color\": \"#00cc96\", \"size\": [63], \"sizemode\": \"area\", \"sizeref\": 0.0153, \"symbol\": \"circle\"}, \"mode\": \"markers\", \"name\": \"\\u05e7\\u05d9\\u05e8\\u05d0\\u05d5\\u05df \\u05d7.\\u05ea.\", \"showlegend\": true, \"x\": [15], \"xaxis\": \"x\", \"y\": [5], \"yaxis\": \"y\", \"type\": \"scatter\"}, {\"hovertemplate\": \"<b>%{hovertext}</b><br><br>pharma_n=\\u05d7\\u05d5\\u05dc\\u05d5\\u05df \\u05de\\u05e7\\u05e6 \\u05d7.\\u05ea.<br>yyyy_mm=2019-12<br>p_meeting=%{x}<br>unscheduled=%{y}<br>pchanges_pd=%{marker.size}<extra></extra>\", \"hovertext\": [\"\\u05d7\\u05d5\\u05dc\\u05d5\\u05df \\u05de\\u05e7\\u05e6 \\u05d7.\\u05ea.\"], \"ids\": [\"\\u05d7\\u05d5\\u05dc\\u05d5\\u05df \\u05de\\u05e7\\u05e6 \\u05d7.\\u05ea.\"], \"legendgroup\": \"\\u05d7\\u05d5\\u05dc\\u05d5\\u05df \\u05de\\u05e7\\u05e6 \\u05d7.\\u05ea.\", \"marker\": {\"color\": \"#ab63fa\", \"size\": [89], \"sizemode\": \"area\", \"sizeref\": 0.0153, \"symbol\": \"circle\"}, \"mode\": \"markers\", \"name\": \"\\u05d7\\u05d5\\u05dc\\u05d5\\u05df \\u05de\\u05e7\\u05e6 \\u05d7.\\u05ea.\", \"showlegend\": true, \"x\": [2], \"xaxis\": \"x\", \"y\": [14], \"yaxis\": \"y\", \"type\": \"scatter\"}], \"name\": \"2019-12\"}, {\"data\": [{\"hovertemplate\": \"<b>%{hovertext}</b><br><br>pharma_n=\\u05db\\u05e8\\u05de\\u05d9\\u05dd \\u05d7.\\u05ea.<br>yyyy_mm=2020-1<br>p_meeting=%{x}<br>unscheduled=%{y}<br>pchanges_pd=%{marker.size}<extra></extra>\", \"hovertext\": [\"\\u05db\\u05e8\\u05de\\u05d9\\u05dd \\u05d7.\\u05ea.\"], \"ids\": [\"\\u05db\\u05e8\\u05de\\u05d9\\u05dd \\u05d7.\\u05ea.\"], \"legendgroup\": \"\\u05db\\u05e8\\u05de\\u05d9\\u05dd \\u05d7.\\u05ea.\", \"marker\": {\"color\": \"#636efa\", \"size\": [61], \"sizemode\": \"area\", \"sizeref\": 0.0153, \"symbol\": \"circle\"}, \"mode\": \"markers\", \"name\": \"\\u05db\\u05e8\\u05de\\u05d9\\u05dd \\u05d7.\\u05ea.\", \"showlegend\": true, \"x\": [0], \"xaxis\": \"x\", \"y\": [13], \"yaxis\": \"y\", \"type\": \"scatter\"}, {\"hovertemplate\": \"<b>%{hovertext}</b><br><br>pharma_n=\\u05de\\u05d5\\u05d3\\u05d9\\u05e2\\u05d9\\u05df \\u05e8\\\"\\u05d2 \\u05d7.\\u05ea.<br>yyyy_mm=2020-1<br>p_meeting=%{x}<br>unscheduled=%{y}<br>pchanges_pd=%{marker.size}<extra></extra>\", \"hovertext\": [\"\\u05de\\u05d5\\u05d3\\u05d9\\u05e2\\u05d9\\u05df \\u05e8\\\"\\u05d2 \\u05d7.\\u05ea.\"], \"ids\": [\"\\u05de\\u05d5\\u05d3\\u05d9\\u05e2\\u05d9\\u05df \\u05e8\\\"\\u05d2 \\u05d7.\\u05ea.\"], \"legendgroup\": \"\\u05de\\u05d5\\u05d3\\u05d9\\u05e2\\u05d9\\u05df \\u05e8\\\"\\u05d2 \\u05d7.\\u05ea.\", \"marker\": {\"color\": \"#EF553B\", \"size\": [100], \"sizemode\": \"area\", \"sizeref\": 0.0153, \"symbol\": \"circle\"}, \"mode\": \"markers\", \"name\": \"\\u05de\\u05d5\\u05d3\\u05d9\\u05e2\\u05d9\\u05df \\u05e8\\\"\\u05d2 \\u05d7.\\u05ea.\", \"showlegend\": true, \"x\": [25], \"xaxis\": \"x\", \"y\": [11], \"yaxis\": \"y\", \"type\": \"scatter\"}, {\"hovertemplate\": \"<b>%{hovertext}</b><br><br>pharma_n=\\u05e7\\u05d9\\u05e8\\u05d0\\u05d5\\u05df \\u05d7.\\u05ea.<br>yyyy_mm=2020-1<br>p_meeting=%{x}<br>unscheduled=%{y}<br>pchanges_pd=%{marker.size}<extra></extra>\", \"hovertext\": [\"\\u05e7\\u05d9\\u05e8\\u05d0\\u05d5\\u05df \\u05d7.\\u05ea.\"], \"ids\": [\"\\u05e7\\u05d9\\u05e8\\u05d0\\u05d5\\u05df \\u05d7.\\u05ea.\"], \"legendgroup\": \"\\u05e7\\u05d9\\u05e8\\u05d0\\u05d5\\u05df \\u05d7.\\u05ea.\", \"marker\": {\"color\": \"#00cc96\", \"size\": [67], \"sizemode\": \"area\", \"sizeref\": 0.0153, \"symbol\": \"circle\"}, \"mode\": \"markers\", \"name\": \"\\u05e7\\u05d9\\u05e8\\u05d0\\u05d5\\u05df \\u05d7.\\u05ea.\", \"showlegend\": true, \"x\": [23], \"xaxis\": \"x\", \"y\": [6], \"yaxis\": \"y\", \"type\": \"scatter\"}, {\"hovertemplate\": \"<b>%{hovertext}</b><br><br>pharma_n=\\u05d7\\u05d5\\u05dc\\u05d5\\u05df \\u05de\\u05e7\\u05e6 \\u05d7.\\u05ea.<br>yyyy_mm=2020-1<br>p_meeting=%{x}<br>unscheduled=%{y}<br>pchanges_pd=%{marker.size}<extra></extra>\", \"hovertext\": [\"\\u05d7\\u05d5\\u05dc\\u05d5\\u05df \\u05de\\u05e7\\u05e6 \\u05d7.\\u05ea.\"], \"ids\": [\"\\u05d7\\u05d5\\u05dc\\u05d5\\u05df \\u05de\\u05e7\\u05e6 \\u05d7.\\u05ea.\"], \"legendgroup\": \"\\u05d7\\u05d5\\u05dc\\u05d5\\u05df \\u05de\\u05e7\\u05e6 \\u05d7.\\u05ea.\", \"marker\": {\"color\": \"#ab63fa\", \"size\": [106], \"sizemode\": \"area\", \"sizeref\": 0.0153, \"symbol\": \"circle\"}, \"mode\": \"markers\", \"name\": \"\\u05d7\\u05d5\\u05dc\\u05d5\\u05df \\u05de\\u05e7\\u05e6 \\u05d7.\\u05ea.\", \"showlegend\": true, \"x\": [17], \"xaxis\": \"x\", \"y\": [15], \"yaxis\": \"y\", \"type\": \"scatter\"}], \"name\": \"2020-1\"}, {\"data\": [{\"hovertemplate\": \"<b>%{hovertext}</b><br><br>pharma_n=\\u05db\\u05e8\\u05de\\u05d9\\u05dd \\u05d7.\\u05ea.<br>yyyy_mm=2020-2<br>p_meeting=%{x}<br>unscheduled=%{y}<br>pchanges_pd=%{marker.size}<extra></extra>\", \"hovertext\": [\"\\u05db\\u05e8\\u05de\\u05d9\\u05dd \\u05d7.\\u05ea.\"], \"ids\": [\"\\u05db\\u05e8\\u05de\\u05d9\\u05dd \\u05d7.\\u05ea.\"], \"legendgroup\": \"\\u05db\\u05e8\\u05de\\u05d9\\u05dd \\u05d7.\\u05ea.\", \"marker\": {\"color\": \"#636efa\", \"size\": [65], \"sizemode\": \"area\", \"sizeref\": 0.0153, \"symbol\": \"circle\"}, \"mode\": \"markers\", \"name\": \"\\u05db\\u05e8\\u05de\\u05d9\\u05dd \\u05d7.\\u05ea.\", \"showlegend\": true, \"x\": [0], \"xaxis\": \"x\", \"y\": [11], \"yaxis\": \"y\", \"type\": \"scatter\"}, {\"hovertemplate\": \"<b>%{hovertext}</b><br><br>pharma_n=\\u05de\\u05d5\\u05d3\\u05d9\\u05e2\\u05d9\\u05df \\u05e8\\\"\\u05d2 \\u05d7.\\u05ea.<br>yyyy_mm=2020-2<br>p_meeting=%{x}<br>unscheduled=%{y}<br>pchanges_pd=%{marker.size}<extra></extra>\", \"hovertext\": [\"\\u05de\\u05d5\\u05d3\\u05d9\\u05e2\\u05d9\\u05df \\u05e8\\\"\\u05d2 \\u05d7.\\u05ea.\"], \"ids\": [\"\\u05de\\u05d5\\u05d3\\u05d9\\u05e2\\u05d9\\u05df \\u05e8\\\"\\u05d2 \\u05d7.\\u05ea.\"], \"legendgroup\": \"\\u05de\\u05d5\\u05d3\\u05d9\\u05e2\\u05d9\\u05df \\u05e8\\\"\\u05d2 \\u05d7.\\u05ea.\", \"marker\": {\"color\": \"#EF553B\", \"size\": [100], \"sizemode\": \"area\", \"sizeref\": 0.0153, \"symbol\": \"circle\"}, \"mode\": \"markers\", \"name\": \"\\u05de\\u05d5\\u05d3\\u05d9\\u05e2\\u05d9\\u05df \\u05e8\\\"\\u05d2 \\u05d7.\\u05ea.\", \"showlegend\": true, \"x\": [15], \"xaxis\": \"x\", \"y\": [7], \"yaxis\": \"y\", \"type\": \"scatter\"}, {\"hovertemplate\": \"<b>%{hovertext}</b><br><br>pharma_n=\\u05e7\\u05d9\\u05e8\\u05d0\\u05d5\\u05df \\u05d7.\\u05ea.<br>yyyy_mm=2020-2<br>p_meeting=%{x}<br>unscheduled=%{y}<br>pchanges_pd=%{marker.size}<extra></extra>\", \"hovertext\": [\"\\u05e7\\u05d9\\u05e8\\u05d0\\u05d5\\u05df \\u05d7.\\u05ea.\"], \"ids\": [\"\\u05e7\\u05d9\\u05e8\\u05d0\\u05d5\\u05df \\u05d7.\\u05ea.\"], \"legendgroup\": \"\\u05e7\\u05d9\\u05e8\\u05d0\\u05d5\\u05df \\u05d7.\\u05ea.\", \"marker\": {\"color\": \"#00cc96\", \"size\": [62], \"sizemode\": \"area\", \"sizeref\": 0.0153, \"symbol\": \"circle\"}, \"mode\": \"markers\", \"name\": \"\\u05e7\\u05d9\\u05e8\\u05d0\\u05d5\\u05df \\u05d7.\\u05ea.\", \"showlegend\": true, \"x\": [19], \"xaxis\": \"x\", \"y\": [7], \"yaxis\": \"y\", \"type\": \"scatter\"}, {\"hovertemplate\": \"<b>%{hovertext}</b><br><br>pharma_n=\\u05d7\\u05d5\\u05dc\\u05d5\\u05df \\u05de\\u05e7\\u05e6 \\u05d7.\\u05ea.<br>yyyy_mm=2020-2<br>p_meeting=%{x}<br>unscheduled=%{y}<br>pchanges_pd=%{marker.size}<extra></extra>\", \"hovertext\": [\"\\u05d7\\u05d5\\u05dc\\u05d5\\u05df \\u05de\\u05e7\\u05e6 \\u05d7.\\u05ea.\"], \"ids\": [\"\\u05d7\\u05d5\\u05dc\\u05d5\\u05df \\u05de\\u05e7\\u05e6 \\u05d7.\\u05ea.\"], \"legendgroup\": \"\\u05d7\\u05d5\\u05dc\\u05d5\\u05df \\u05de\\u05e7\\u05e6 \\u05d7.\\u05ea.\", \"marker\": {\"color\": \"#ab63fa\", \"size\": [105], \"sizemode\": \"area\", \"sizeref\": 0.0153, \"symbol\": \"circle\"}, \"mode\": \"markers\", \"name\": \"\\u05d7\\u05d5\\u05dc\\u05d5\\u05df \\u05de\\u05e7\\u05e6 \\u05d7.\\u05ea.\", \"showlegend\": true, \"x\": [6], \"xaxis\": \"x\", \"y\": [15], \"yaxis\": \"y\", \"type\": \"scatter\"}], \"name\": \"2020-2\"}, {\"data\": [{\"hovertemplate\": \"<b>%{hovertext}</b><br><br>pharma_n=\\u05db\\u05e8\\u05de\\u05d9\\u05dd \\u05d7.\\u05ea.<br>yyyy_mm=2020-3<br>p_meeting=%{x}<br>unscheduled=%{y}<br>pchanges_pd=%{marker.size}<extra></extra>\", \"hovertext\": [\"\\u05db\\u05e8\\u05de\\u05d9\\u05dd \\u05d7.\\u05ea.\"], \"ids\": [\"\\u05db\\u05e8\\u05de\\u05d9\\u05dd \\u05d7.\\u05ea.\"], \"legendgroup\": \"\\u05db\\u05e8\\u05de\\u05d9\\u05dd \\u05d7.\\u05ea.\", \"marker\": {\"color\": \"#636efa\", \"size\": [63], \"sizemode\": \"area\", \"sizeref\": 0.0153, \"symbol\": \"circle\"}, \"mode\": \"markers\", \"name\": \"\\u05db\\u05e8\\u05de\\u05d9\\u05dd \\u05d7.\\u05ea.\", \"showlegend\": true, \"x\": [0], \"xaxis\": \"x\", \"y\": [12], \"yaxis\": \"y\", \"type\": \"scatter\"}, {\"hovertemplate\": \"<b>%{hovertext}</b><br><br>pharma_n=\\u05de\\u05d5\\u05d3\\u05d9\\u05e2\\u05d9\\u05df \\u05e8\\\"\\u05d2 \\u05d7.\\u05ea.<br>yyyy_mm=2020-3<br>p_meeting=%{x}<br>unscheduled=%{y}<br>pchanges_pd=%{marker.size}<extra></extra>\", \"hovertext\": [\"\\u05de\\u05d5\\u05d3\\u05d9\\u05e2\\u05d9\\u05df \\u05e8\\\"\\u05d2 \\u05d7.\\u05ea.\"], \"ids\": [\"\\u05de\\u05d5\\u05d3\\u05d9\\u05e2\\u05d9\\u05df \\u05e8\\\"\\u05d2 \\u05d7.\\u05ea.\"], \"legendgroup\": \"\\u05de\\u05d5\\u05d3\\u05d9\\u05e2\\u05d9\\u05df \\u05e8\\\"\\u05d2 \\u05d7.\\u05ea.\", \"marker\": {\"color\": \"#EF553B\", \"size\": [104], \"sizemode\": \"area\", \"sizeref\": 0.0153, \"symbol\": \"circle\"}, \"mode\": \"markers\", \"name\": \"\\u05de\\u05d5\\u05d3\\u05d9\\u05e2\\u05d9\\u05df \\u05e8\\\"\\u05d2 \\u05d7.\\u05ea.\", \"showlegend\": true, \"x\": [38], \"xaxis\": \"x\", \"y\": [18], \"yaxis\": \"y\", \"type\": \"scatter\"}, {\"hovertemplate\": \"<b>%{hovertext}</b><br><br>pharma_n=\\u05e7\\u05d9\\u05e8\\u05d0\\u05d5\\u05df \\u05d7.\\u05ea.<br>yyyy_mm=2020-3<br>p_meeting=%{x}<br>unscheduled=%{y}<br>pchanges_pd=%{marker.size}<extra></extra>\", \"hovertext\": [\"\\u05e7\\u05d9\\u05e8\\u05d0\\u05d5\\u05df \\u05d7.\\u05ea.\"], \"ids\": [\"\\u05e7\\u05d9\\u05e8\\u05d0\\u05d5\\u05df \\u05d7.\\u05ea.\"], \"legendgroup\": \"\\u05e7\\u05d9\\u05e8\\u05d0\\u05d5\\u05df \\u05d7.\\u05ea.\", \"marker\": {\"color\": \"#00cc96\", \"size\": [79], \"sizemode\": \"area\", \"sizeref\": 0.0153, \"symbol\": \"circle\"}, \"mode\": \"markers\", \"name\": \"\\u05e7\\u05d9\\u05e8\\u05d0\\u05d5\\u05df \\u05d7.\\u05ea.\", \"showlegend\": true, \"x\": [1], \"xaxis\": \"x\", \"y\": [12], \"yaxis\": \"y\", \"type\": \"scatter\"}, {\"hovertemplate\": \"<b>%{hovertext}</b><br><br>pharma_n=\\u05d7\\u05d5\\u05dc\\u05d5\\u05df \\u05de\\u05e7\\u05e6 \\u05d7.\\u05ea.<br>yyyy_mm=2020-3<br>p_meeting=%{x}<br>unscheduled=%{y}<br>pchanges_pd=%{marker.size}<extra></extra>\", \"hovertext\": [\"\\u05d7\\u05d5\\u05dc\\u05d5\\u05df \\u05de\\u05e7\\u05e6 \\u05d7.\\u05ea.\"], \"ids\": [\"\\u05d7\\u05d5\\u05dc\\u05d5\\u05df \\u05de\\u05e7\\u05e6 \\u05d7.\\u05ea.\"], \"legendgroup\": \"\\u05d7\\u05d5\\u05dc\\u05d5\\u05df \\u05de\\u05e7\\u05e6 \\u05d7.\\u05ea.\", \"marker\": {\"color\": \"#ab63fa\", \"size\": [87], \"sizemode\": \"area\", \"sizeref\": 0.0153, \"symbol\": \"circle\"}, \"mode\": \"markers\", \"name\": \"\\u05d7\\u05d5\\u05dc\\u05d5\\u05df \\u05de\\u05e7\\u05e6 \\u05d7.\\u05ea.\", \"showlegend\": true, \"x\": [0], \"xaxis\": \"x\", \"y\": [25], \"yaxis\": \"y\", \"type\": \"scatter\"}], \"name\": \"2020-3\"}, {\"data\": [{\"hovertemplate\": \"<b>%{hovertext}</b><br><br>pharma_n=\\u05db\\u05e8\\u05de\\u05d9\\u05dd \\u05d7.\\u05ea.<br>yyyy_mm=2020-4<br>p_meeting=%{x}<br>unscheduled=%{y}<br>pchanges_pd=%{marker.size}<extra></extra>\", \"hovertext\": [\"\\u05db\\u05e8\\u05de\\u05d9\\u05dd \\u05d7.\\u05ea.\"], \"ids\": [\"\\u05db\\u05e8\\u05de\\u05d9\\u05dd \\u05d7.\\u05ea.\"], \"legendgroup\": \"\\u05db\\u05e8\\u05de\\u05d9\\u05dd \\u05d7.\\u05ea.\", \"marker\": {\"color\": \"#636efa\", \"size\": [67], \"sizemode\": \"area\", \"sizeref\": 0.0153, \"symbol\": \"circle\"}, \"mode\": \"markers\", \"name\": \"\\u05db\\u05e8\\u05de\\u05d9\\u05dd \\u05d7.\\u05ea.\", \"showlegend\": true, \"x\": [23], \"xaxis\": \"x\", \"y\": [5], \"yaxis\": \"y\", \"type\": \"scatter\"}, {\"hovertemplate\": \"<b>%{hovertext}</b><br><br>pharma_n=\\u05de\\u05d5\\u05d3\\u05d9\\u05e2\\u05d9\\u05df \\u05e8\\\"\\u05d2 \\u05d7.\\u05ea.<br>yyyy_mm=2020-4<br>p_meeting=%{x}<br>unscheduled=%{y}<br>pchanges_pd=%{marker.size}<extra></extra>\", \"hovertext\": [\"\\u05de\\u05d5\\u05d3\\u05d9\\u05e2\\u05d9\\u05df \\u05e8\\\"\\u05d2 \\u05d7.\\u05ea.\"], \"ids\": [\"\\u05de\\u05d5\\u05d3\\u05d9\\u05e2\\u05d9\\u05df \\u05e8\\\"\\u05d2 \\u05d7.\\u05ea.\"], \"legendgroup\": \"\\u05de\\u05d5\\u05d3\\u05d9\\u05e2\\u05d9\\u05df \\u05e8\\\"\\u05d2 \\u05d7.\\u05ea.\", \"marker\": {\"color\": \"#EF553B\", \"size\": [100], \"sizemode\": \"area\", \"sizeref\": 0.0153, \"symbol\": \"circle\"}, \"mode\": \"markers\", \"name\": \"\\u05de\\u05d5\\u05d3\\u05d9\\u05e2\\u05d9\\u05df \\u05e8\\\"\\u05d2 \\u05d7.\\u05ea.\", \"showlegend\": true, \"x\": [68], \"xaxis\": \"x\", \"y\": [18], \"yaxis\": \"y\", \"type\": \"scatter\"}, {\"hovertemplate\": \"<b>%{hovertext}</b><br><br>pharma_n=\\u05e7\\u05d9\\u05e8\\u05d0\\u05d5\\u05df \\u05d7.\\u05ea.<br>yyyy_mm=2020-4<br>p_meeting=%{x}<br>unscheduled=%{y}<br>pchanges_pd=%{marker.size}<extra></extra>\", \"hovertext\": [\"\\u05e7\\u05d9\\u05e8\\u05d0\\u05d5\\u05df \\u05d7.\\u05ea.\"], \"ids\": [\"\\u05e7\\u05d9\\u05e8\\u05d0\\u05d5\\u05df \\u05d7.\\u05ea.\"], \"legendgroup\": \"\\u05e7\\u05d9\\u05e8\\u05d0\\u05d5\\u05df \\u05d7.\\u05ea.\", \"marker\": {\"color\": \"#00cc96\", \"size\": [75], \"sizemode\": \"area\", \"sizeref\": 0.0153, \"symbol\": \"circle\"}, \"mode\": \"markers\", \"name\": \"\\u05e7\\u05d9\\u05e8\\u05d0\\u05d5\\u05df \\u05d7.\\u05ea.\", \"showlegend\": true, \"x\": [37], \"xaxis\": \"x\", \"y\": [13], \"yaxis\": \"y\", \"type\": \"scatter\"}, {\"hovertemplate\": \"<b>%{hovertext}</b><br><br>pharma_n=\\u05d7\\u05d5\\u05dc\\u05d5\\u05df \\u05de\\u05e7\\u05e6 \\u05d7.\\u05ea.<br>yyyy_mm=2020-4<br>p_meeting=%{x}<br>unscheduled=%{y}<br>pchanges_pd=%{marker.size}<extra></extra>\", \"hovertext\": [\"\\u05d7\\u05d5\\u05dc\\u05d5\\u05df \\u05de\\u05e7\\u05e6 \\u05d7.\\u05ea.\"], \"ids\": [\"\\u05d7\\u05d5\\u05dc\\u05d5\\u05df \\u05de\\u05e7\\u05e6 \\u05d7.\\u05ea.\"], \"legendgroup\": \"\\u05d7\\u05d5\\u05dc\\u05d5\\u05df \\u05de\\u05e7\\u05e6 \\u05d7.\\u05ea.\", \"marker\": {\"color\": \"#ab63fa\", \"size\": [75], \"sizemode\": \"area\", \"sizeref\": 0.0153, \"symbol\": \"circle\"}, \"mode\": \"markers\", \"name\": \"\\u05d7\\u05d5\\u05dc\\u05d5\\u05df \\u05de\\u05e7\\u05e6 \\u05d7.\\u05ea.\", \"showlegend\": true, \"x\": [0], \"xaxis\": \"x\", \"y\": [15], \"yaxis\": \"y\", \"type\": \"scatter\"}], \"name\": \"2020-4\"}, {\"data\": [{\"hovertemplate\": \"<b>%{hovertext}</b><br><br>pharma_n=\\u05db\\u05e8\\u05de\\u05d9\\u05dd \\u05d7.\\u05ea.<br>yyyy_mm=2020-5<br>p_meeting=%{x}<br>unscheduled=%{y}<br>pchanges_pd=%{marker.size}<extra></extra>\", \"hovertext\": [\"\\u05db\\u05e8\\u05de\\u05d9\\u05dd \\u05d7.\\u05ea.\"], \"ids\": [\"\\u05db\\u05e8\\u05de\\u05d9\\u05dd \\u05d7.\\u05ea.\"], \"legendgroup\": \"\\u05db\\u05e8\\u05de\\u05d9\\u05dd \\u05d7.\\u05ea.\", \"marker\": {\"color\": \"#636efa\", \"size\": [71], \"sizemode\": \"area\", \"sizeref\": 0.0153, \"symbol\": \"circle\"}, \"mode\": \"markers\", \"name\": \"\\u05db\\u05e8\\u05de\\u05d9\\u05dd \\u05d7.\\u05ea.\", \"showlegend\": true, \"x\": [22], \"xaxis\": \"x\", \"y\": [12], \"yaxis\": \"y\", \"type\": \"scatter\"}, {\"hovertemplate\": \"<b>%{hovertext}</b><br><br>pharma_n=\\u05de\\u05d5\\u05d3\\u05d9\\u05e2\\u05d9\\u05df \\u05e8\\\"\\u05d2 \\u05d7.\\u05ea.<br>yyyy_mm=2020-5<br>p_meeting=%{x}<br>unscheduled=%{y}<br>pchanges_pd=%{marker.size}<extra></extra>\", \"hovertext\": [\"\\u05de\\u05d5\\u05d3\\u05d9\\u05e2\\u05d9\\u05df \\u05e8\\\"\\u05d2 \\u05d7.\\u05ea.\"], \"ids\": [\"\\u05de\\u05d5\\u05d3\\u05d9\\u05e2\\u05d9\\u05df \\u05e8\\\"\\u05d2 \\u05d7.\\u05ea.\"], \"legendgroup\": \"\\u05de\\u05d5\\u05d3\\u05d9\\u05e2\\u05d9\\u05df \\u05e8\\\"\\u05d2 \\u05d7.\\u05ea.\", \"marker\": {\"color\": \"#EF553B\", \"size\": [101], \"sizemode\": \"area\", \"sizeref\": 0.0153, \"symbol\": \"circle\"}, \"mode\": \"markers\", \"name\": \"\\u05de\\u05d5\\u05d3\\u05d9\\u05e2\\u05d9\\u05df \\u05e8\\\"\\u05d2 \\u05d7.\\u05ea.\", \"showlegend\": true, \"x\": [51], \"xaxis\": \"x\", \"y\": [10], \"yaxis\": \"y\", \"type\": \"scatter\"}, {\"hovertemplate\": \"<b>%{hovertext}</b><br><br>pharma_n=\\u05e7\\u05d9\\u05e8\\u05d0\\u05d5\\u05df \\u05d7.\\u05ea.<br>yyyy_mm=2020-5<br>p_meeting=%{x}<br>unscheduled=%{y}<br>pchanges_pd=%{marker.size}<extra></extra>\", \"hovertext\": [\"\\u05e7\\u05d9\\u05e8\\u05d0\\u05d5\\u05df \\u05d7.\\u05ea.\"], \"ids\": [\"\\u05e7\\u05d9\\u05e8\\u05d0\\u05d5\\u05df \\u05d7.\\u05ea.\"], \"legendgroup\": \"\\u05e7\\u05d9\\u05e8\\u05d0\\u05d5\\u05df \\u05d7.\\u05ea.\", \"marker\": {\"color\": \"#00cc96\", \"size\": [68], \"sizemode\": \"area\", \"sizeref\": 0.0153, \"symbol\": \"circle\"}, \"mode\": \"markers\", \"name\": \"\\u05e7\\u05d9\\u05e8\\u05d0\\u05d5\\u05df \\u05d7.\\u05ea.\", \"showlegend\": true, \"x\": [27], \"xaxis\": \"x\", \"y\": [13], \"yaxis\": \"y\", \"type\": \"scatter\"}, {\"hovertemplate\": \"<b>%{hovertext}</b><br><br>pharma_n=\\u05d7\\u05d5\\u05dc\\u05d5\\u05df \\u05de\\u05e7\\u05e6 \\u05d7.\\u05ea.<br>yyyy_mm=2020-5<br>p_meeting=%{x}<br>unscheduled=%{y}<br>pchanges_pd=%{marker.size}<extra></extra>\", \"hovertext\": [\"\\u05d7\\u05d5\\u05dc\\u05d5\\u05df \\u05de\\u05e7\\u05e6 \\u05d7.\\u05ea.\"], \"ids\": [\"\\u05d7\\u05d5\\u05dc\\u05d5\\u05df \\u05de\\u05e7\\u05e6 \\u05d7.\\u05ea.\"], \"legendgroup\": \"\\u05d7\\u05d5\\u05dc\\u05d5\\u05df \\u05de\\u05e7\\u05e6 \\u05d7.\\u05ea.\", \"marker\": {\"color\": \"#ab63fa\", \"size\": [74], \"sizemode\": \"area\", \"sizeref\": 0.0153, \"symbol\": \"circle\"}, \"mode\": \"markers\", \"name\": \"\\u05d7\\u05d5\\u05dc\\u05d5\\u05df \\u05de\\u05e7\\u05e6 \\u05d7.\\u05ea.\", \"showlegend\": true, \"x\": [0], \"xaxis\": \"x\", \"y\": [21], \"yaxis\": \"y\", \"type\": \"scatter\"}], \"name\": \"2020-5\"}, {\"data\": [{\"hovertemplate\": \"<b>%{hovertext}</b><br><br>pharma_n=\\u05db\\u05e8\\u05de\\u05d9\\u05dd \\u05d7.\\u05ea.<br>yyyy_mm=2020-6<br>p_meeting=%{x}<br>unscheduled=%{y}<br>pchanges_pd=%{marker.size}<extra></extra>\", \"hovertext\": [\"\\u05db\\u05e8\\u05de\\u05d9\\u05dd \\u05d7.\\u05ea.\"], \"ids\": [\"\\u05db\\u05e8\\u05de\\u05d9\\u05dd \\u05d7.\\u05ea.\"], \"legendgroup\": \"\\u05db\\u05e8\\u05de\\u05d9\\u05dd \\u05d7.\\u05ea.\", \"marker\": {\"color\": \"#636efa\", \"size\": [38], \"sizemode\": \"area\", \"sizeref\": 0.0153, \"symbol\": \"circle\"}, \"mode\": \"markers\", \"name\": \"\\u05db\\u05e8\\u05de\\u05d9\\u05dd \\u05d7.\\u05ea.\", \"showlegend\": true, \"x\": [36], \"xaxis\": \"x\", \"y\": [15], \"yaxis\": \"y\", \"type\": \"scatter\"}, {\"hovertemplate\": \"<b>%{hovertext}</b><br><br>pharma_n=\\u05de\\u05d5\\u05d3\\u05d9\\u05e2\\u05d9\\u05df \\u05e8\\\"\\u05d2 \\u05d7.\\u05ea.<br>yyyy_mm=2020-6<br>p_meeting=%{x}<br>unscheduled=%{y}<br>pchanges_pd=%{marker.size}<extra></extra>\", \"hovertext\": [\"\\u05de\\u05d5\\u05d3\\u05d9\\u05e2\\u05d9\\u05df \\u05e8\\\"\\u05d2 \\u05d7.\\u05ea.\"], \"ids\": [\"\\u05de\\u05d5\\u05d3\\u05d9\\u05e2\\u05d9\\u05df \\u05e8\\\"\\u05d2 \\u05d7.\\u05ea.\"], \"legendgroup\": \"\\u05de\\u05d5\\u05d3\\u05d9\\u05e2\\u05d9\\u05df \\u05e8\\\"\\u05d2 \\u05d7.\\u05ea.\", \"marker\": {\"color\": \"#EF553B\", \"size\": [24], \"sizemode\": \"area\", \"sizeref\": 0.0153, \"symbol\": \"circle\"}, \"mode\": \"markers\", \"name\": \"\\u05de\\u05d5\\u05d3\\u05d9\\u05e2\\u05d9\\u05df \\u05e8\\\"\\u05d2 \\u05d7.\\u05ea.\", \"showlegend\": true, \"x\": [43], \"xaxis\": \"x\", \"y\": [9], \"yaxis\": \"y\", \"type\": \"scatter\"}, {\"hovertemplate\": \"<b>%{hovertext}</b><br><br>pharma_n=\\u05e7\\u05d9\\u05e8\\u05d0\\u05d5\\u05df \\u05d7.\\u05ea.<br>yyyy_mm=2020-6<br>p_meeting=%{x}<br>unscheduled=%{y}<br>pchanges_pd=%{marker.size}<extra></extra>\", \"hovertext\": [\"\\u05e7\\u05d9\\u05e8\\u05d0\\u05d5\\u05df \\u05d7.\\u05ea.\"], \"ids\": [\"\\u05e7\\u05d9\\u05e8\\u05d0\\u05d5\\u05df \\u05d7.\\u05ea.\"], \"legendgroup\": \"\\u05e7\\u05d9\\u05e8\\u05d0\\u05d5\\u05df \\u05d7.\\u05ea.\", \"marker\": {\"color\": \"#00cc96\", \"size\": [60], \"sizemode\": \"area\", \"sizeref\": 0.0153, \"symbol\": \"circle\"}, \"mode\": \"markers\", \"name\": \"\\u05e7\\u05d9\\u05e8\\u05d0\\u05d5\\u05df \\u05d7.\\u05ea.\", \"showlegend\": true, \"x\": [25], \"xaxis\": \"x\", \"y\": [11], \"yaxis\": \"y\", \"type\": \"scatter\"}, {\"hovertemplate\": \"<b>%{hovertext}</b><br><br>pharma_n=\\u05d7\\u05d5\\u05dc\\u05d5\\u05df \\u05de\\u05e7\\u05e6 \\u05d7.\\u05ea.<br>yyyy_mm=2020-6<br>p_meeting=%{x}<br>unscheduled=%{y}<br>pchanges_pd=%{marker.size}<extra></extra>\", \"hovertext\": [\"\\u05d7\\u05d5\\u05dc\\u05d5\\u05df \\u05de\\u05e7\\u05e6 \\u05d7.\\u05ea.\"], \"ids\": [\"\\u05d7\\u05d5\\u05dc\\u05d5\\u05df \\u05de\\u05e7\\u05e6 \\u05d7.\\u05ea.\"], \"legendgroup\": \"\\u05d7\\u05d5\\u05dc\\u05d5\\u05df \\u05de\\u05e7\\u05e6 \\u05d7.\\u05ea.\", \"marker\": {\"color\": \"#ab63fa\", \"size\": [76], \"sizemode\": \"area\", \"sizeref\": 0.0153, \"symbol\": \"circle\"}, \"mode\": \"markers\", \"name\": \"\\u05d7\\u05d5\\u05dc\\u05d5\\u05df \\u05de\\u05e7\\u05e6 \\u05d7.\\u05ea.\", \"showlegend\": true, \"x\": [0], \"xaxis\": \"x\", \"y\": [21], \"yaxis\": \"y\", \"type\": \"scatter\"}], \"name\": \"2020-6\"}]);\n",
       "                        }).then(function(){\n",
       "                            \n",
       "var gd = document.getElementById('e091196f-27ef-4678-8776-1210efd61520');\n",
       "var x = new MutationObserver(function (mutations, observer) {{\n",
       "        var display = window.getComputedStyle(gd).display;\n",
       "        if (!display || display === 'none') {{\n",
       "            console.log([gd, 'removed!']);\n",
       "            Plotly.purge(gd);\n",
       "            observer.disconnect();\n",
       "        }}\n",
       "}});\n",
       "\n",
       "// Listen for the removal of the full notebook cells\n",
       "var notebookContainer = gd.closest('#notebook-container');\n",
       "if (notebookContainer) {{\n",
       "    x.observe(notebookContainer, {childList: true});\n",
       "}}\n",
       "\n",
       "// Listen for the clearing of the current output cell\n",
       "var outputEl = gd.closest('.output');\n",
       "if (outputEl) {{\n",
       "    x.observe(outputEl, {childList: true});\n",
       "}}\n",
       "\n",
       "                        })\n",
       "                };\n",
       "                });\n",
       "            </script>\n",
       "        </div>"
      ]
     },
     "metadata": {},
     "output_type": "display_data"
    }
   ],
   "source": [
    "import plotly.express as px\n",
    "#df1 = px.data.df1()\n",
    "px.scatter(df1, x= \"p_meeting\", y=\"unscheduled\", animation_frame=\"yyyy_mm\", animation_group=\"pharma_n\",\n",
    "           size=\"pchanges_pd\", color=\"pharma_n\", hover_name=\"pharma_n\",\n",
    "           size_max=100, range_x=[1,100], range_y=[1,30])"
   ]
  },
  {
   "cell_type": "code",
   "execution_count": 16,
   "metadata": {},
   "outputs": [
    {
     "data": {
      "text/html": [
       "<div>\n",
       "<style scoped>\n",
       "    .dataframe tbody tr th:only-of-type {\n",
       "        vertical-align: middle;\n",
       "    }\n",
       "\n",
       "    .dataframe tbody tr th {\n",
       "        vertical-align: top;\n",
       "    }\n",
       "\n",
       "    .dataframe thead th {\n",
       "        text-align: right;\n",
       "    }\n",
       "</style>\n",
       "<table border=\"1\" class=\"dataframe\">\n",
       "  <thead>\n",
       "    <tr style=\"text-align: right;\">\n",
       "      <th></th>\n",
       "      <th>district</th>\n",
       "      <th>pharm_n</th>\n",
       "      <th>date</th>\n",
       "      <th>weeknum</th>\n",
       "      <th>yyyy</th>\n",
       "      <th>mm</th>\n",
       "      <th>yyyy-mm</th>\n",
       "      <th>week_yyyy</th>\n",
       "      <th>pdax_c</th>\n",
       "      <th>unscheduled</th>\n",
       "    </tr>\n",
       "  </thead>\n",
       "  <tbody>\n",
       "    <tr>\n",
       "      <th>0</th>\n",
       "      <td>מחוז תל אביב</td>\n",
       "      <td>חולון מקצ ח.ת.</td>\n",
       "      <td>7/29/2018</td>\n",
       "      <td>31</td>\n",
       "      <td>2018</td>\n",
       "      <td>7</td>\n",
       "      <td>2018-7</td>\n",
       "      <td>31-2018</td>\n",
       "      <td>96%</td>\n",
       "      <td>18</td>\n",
       "    </tr>\n",
       "    <tr>\n",
       "      <th>1</th>\n",
       "      <td>מחוז דן</td>\n",
       "      <td>קיראון ח.ת.</td>\n",
       "      <td>7/31/2018</td>\n",
       "      <td>31</td>\n",
       "      <td>2018</td>\n",
       "      <td>7</td>\n",
       "      <td>2018-7</td>\n",
       "      <td>31-2018</td>\n",
       "      <td>53%</td>\n",
       "      <td>8</td>\n",
       "    </tr>\n",
       "    <tr>\n",
       "      <th>2</th>\n",
       "      <td>מחוז דן</td>\n",
       "      <td>מודיעין ר\"ג ח.ת.</td>\n",
       "      <td>7/31/2018</td>\n",
       "      <td>31</td>\n",
       "      <td>2018</td>\n",
       "      <td>7</td>\n",
       "      <td>2018-7</td>\n",
       "      <td>31-2018</td>\n",
       "      <td>60%</td>\n",
       "      <td>7</td>\n",
       "    </tr>\n",
       "    <tr>\n",
       "      <th>3</th>\n",
       "      <td>מחוז מרכז</td>\n",
       "      <td>כרמים ח.ת.</td>\n",
       "      <td>7/31/2018</td>\n",
       "      <td>31</td>\n",
       "      <td>2018</td>\n",
       "      <td>7</td>\n",
       "      <td>2018-7</td>\n",
       "      <td>31-2018</td>\n",
       "      <td>48%</td>\n",
       "      <td>15</td>\n",
       "    </tr>\n",
       "    <tr>\n",
       "      <th>4</th>\n",
       "      <td>מחוז דן</td>\n",
       "      <td>קיראון ח.ת.</td>\n",
       "      <td>8/7/2018</td>\n",
       "      <td>32</td>\n",
       "      <td>2018</td>\n",
       "      <td>8</td>\n",
       "      <td>2018-8</td>\n",
       "      <td>32-2018</td>\n",
       "      <td>49%</td>\n",
       "      <td>10</td>\n",
       "    </tr>\n",
       "  </tbody>\n",
       "</table>\n",
       "</div>"
      ],
      "text/plain": [
       "       district           pharm_n       date  weeknum  yyyy  mm yyyy-mm  \\\n",
       "0  מחוז תל אביב    חולון מקצ ח.ת.  7/29/2018       31  2018   7  2018-7   \n",
       "1       מחוז דן       קיראון ח.ת.  7/31/2018       31  2018   7  2018-7   \n",
       "2       מחוז דן  מודיעין ר\"ג ח.ת.  7/31/2018       31  2018   7  2018-7   \n",
       "3     מחוז מרכז        כרמים ח.ת.  7/31/2018       31  2018   7  2018-7   \n",
       "4       מחוז דן       קיראון ח.ת.   8/7/2018       32  2018   8  2018-8   \n",
       "\n",
       "  week_yyyy pdax_c  unscheduled  \n",
       "0   31-2018    96%           18  \n",
       "1   31-2018    53%            8  \n",
       "2   31-2018    60%            7  \n",
       "3   31-2018    48%           15  \n",
       "4   32-2018    49%           10  "
      ]
     },
     "execution_count": 16,
     "metadata": {},
     "output_type": "execute_result"
    }
   ],
   "source": [
    "import pandas as pd\n",
    "\n",
    "df2 = pd.read_csv (r'C:\\Users\\DANIEL\\Documents\\DataScience\\data\\pharma_pilot.csv')\n",
    "df2.head()"
   ]
  },
  {
   "cell_type": "code",
   "execution_count": 17,
   "metadata": {},
   "outputs": [],
   "source": [
    "df2[\"pdax_c\"] = df2.pdax_c.str.replace(\"%\", \"\").astype(int) #extract % from values\n",
    "#df[\"pchanges_pd\"] = df.pchanges_pd.str.replace(\"%\", \"\").astype(int)  #extract % from values"
   ]
  },
  {
   "cell_type": "code",
   "execution_count": 11,
   "metadata": {},
   "outputs": [
    {
     "data": {
      "text/plain": [
       "4"
      ]
     },
     "execution_count": 11,
     "metadata": {},
     "output_type": "execute_result"
    }
   ],
   "source": [
    "#df2['pdax_c'].max()\n",
    "df2['pdax_c'].min()"
   ]
  },
  {
   "cell_type": "code",
   "execution_count": 18,
   "metadata": {},
   "outputs": [
    {
     "data": {
      "application/vnd.plotly.v1+json": {
       "config": {
        "plotlyServerURL": "https://plot.ly"
       },
       "data": [
        {
         "hovertemplate": "<b>%{hovertext}</b><br><br>pharm_n=חולון מקצ ח.ת.<br>yyyy-mm=2018-7<br>pdax_c=%{marker.size}<br>unscheduled=%{y}<extra></extra>",
         "hovertext": [
          "חולון מקצ ח.ת."
         ],
         "ids": [
          "חולון מקצ ח.ת."
         ],
         "legendgroup": "חולון מקצ ח.ת.",
         "marker": {
          "color": "#636efa",
          "size": [
           96
          ],
          "sizemode": "area",
          "sizeref": 0.0162,
          "symbol": "circle"
         },
         "mode": "markers",
         "name": "חולון מקצ ח.ת.",
         "showlegend": true,
         "type": "scatter",
         "x": [
          96
         ],
         "xaxis": "x",
         "y": [
          18
         ],
         "yaxis": "y"
        },
        {
         "hovertemplate": "<b>%{hovertext}</b><br><br>pharm_n=קיראון ח.ת.<br>yyyy-mm=2018-7<br>pdax_c=%{marker.size}<br>unscheduled=%{y}<extra></extra>",
         "hovertext": [
          "קיראון ח.ת."
         ],
         "ids": [
          "קיראון ח.ת."
         ],
         "legendgroup": "קיראון ח.ת.",
         "marker": {
          "color": "#EF553B",
          "size": [
           53
          ],
          "sizemode": "area",
          "sizeref": 0.0162,
          "symbol": "circle"
         },
         "mode": "markers",
         "name": "קיראון ח.ת.",
         "showlegend": true,
         "type": "scatter",
         "x": [
          53
         ],
         "xaxis": "x",
         "y": [
          8
         ],
         "yaxis": "y"
        },
        {
         "hovertemplate": "<b>%{hovertext}</b><br><br>pharm_n=מודיעין ר\"ג ח.ת.<br>yyyy-mm=2018-7<br>pdax_c=%{marker.size}<br>unscheduled=%{y}<extra></extra>",
         "hovertext": [
          "מודיעין ר\"ג ח.ת."
         ],
         "ids": [
          "מודיעין ר\"ג ח.ת."
         ],
         "legendgroup": "מודיעין ר\"ג ח.ת.",
         "marker": {
          "color": "#00cc96",
          "size": [
           60
          ],
          "sizemode": "area",
          "sizeref": 0.0162,
          "symbol": "circle"
         },
         "mode": "markers",
         "name": "מודיעין ר\"ג ח.ת.",
         "showlegend": true,
         "type": "scatter",
         "x": [
          60
         ],
         "xaxis": "x",
         "y": [
          7
         ],
         "yaxis": "y"
        },
        {
         "hovertemplate": "<b>%{hovertext}</b><br><br>pharm_n=כרמים ח.ת.<br>yyyy-mm=2018-7<br>pdax_c=%{marker.size}<br>unscheduled=%{y}<extra></extra>",
         "hovertext": [
          "כרמים ח.ת."
         ],
         "ids": [
          "כרמים ח.ת."
         ],
         "legendgroup": "כרמים ח.ת.",
         "marker": {
          "color": "#ab63fa",
          "size": [
           48
          ],
          "sizemode": "area",
          "sizeref": 0.0162,
          "symbol": "circle"
         },
         "mode": "markers",
         "name": "כרמים ח.ת.",
         "showlegend": true,
         "type": "scatter",
         "x": [
          48
         ],
         "xaxis": "x",
         "y": [
          15
         ],
         "yaxis": "y"
        }
       ],
       "frames": [
        {
         "data": [
          {
           "hovertemplate": "<b>%{hovertext}</b><br><br>pharm_n=חולון מקצ ח.ת.<br>yyyy-mm=2018-7<br>pdax_c=%{marker.size}<br>unscheduled=%{y}<extra></extra>",
           "hovertext": [
            "חולון מקצ ח.ת."
           ],
           "ids": [
            "חולון מקצ ח.ת."
           ],
           "legendgroup": "חולון מקצ ח.ת.",
           "marker": {
            "color": "#636efa",
            "size": [
             96
            ],
            "sizemode": "area",
            "sizeref": 0.0162,
            "symbol": "circle"
           },
           "mode": "markers",
           "name": "חולון מקצ ח.ת.",
           "showlegend": true,
           "type": "scatter",
           "x": [
            96
           ],
           "xaxis": "x",
           "y": [
            18
           ],
           "yaxis": "y"
          },
          {
           "hovertemplate": "<b>%{hovertext}</b><br><br>pharm_n=קיראון ח.ת.<br>yyyy-mm=2018-7<br>pdax_c=%{marker.size}<br>unscheduled=%{y}<extra></extra>",
           "hovertext": [
            "קיראון ח.ת."
           ],
           "ids": [
            "קיראון ח.ת."
           ],
           "legendgroup": "קיראון ח.ת.",
           "marker": {
            "color": "#EF553B",
            "size": [
             53
            ],
            "sizemode": "area",
            "sizeref": 0.0162,
            "symbol": "circle"
           },
           "mode": "markers",
           "name": "קיראון ח.ת.",
           "showlegend": true,
           "type": "scatter",
           "x": [
            53
           ],
           "xaxis": "x",
           "y": [
            8
           ],
           "yaxis": "y"
          },
          {
           "hovertemplate": "<b>%{hovertext}</b><br><br>pharm_n=מודיעין ר\"ג ח.ת.<br>yyyy-mm=2018-7<br>pdax_c=%{marker.size}<br>unscheduled=%{y}<extra></extra>",
           "hovertext": [
            "מודיעין ר\"ג ח.ת."
           ],
           "ids": [
            "מודיעין ר\"ג ח.ת."
           ],
           "legendgroup": "מודיעין ר\"ג ח.ת.",
           "marker": {
            "color": "#00cc96",
            "size": [
             60
            ],
            "sizemode": "area",
            "sizeref": 0.0162,
            "symbol": "circle"
           },
           "mode": "markers",
           "name": "מודיעין ר\"ג ח.ת.",
           "showlegend": true,
           "type": "scatter",
           "x": [
            60
           ],
           "xaxis": "x",
           "y": [
            7
           ],
           "yaxis": "y"
          },
          {
           "hovertemplate": "<b>%{hovertext}</b><br><br>pharm_n=כרמים ח.ת.<br>yyyy-mm=2018-7<br>pdax_c=%{marker.size}<br>unscheduled=%{y}<extra></extra>",
           "hovertext": [
            "כרמים ח.ת."
           ],
           "ids": [
            "כרמים ח.ת."
           ],
           "legendgroup": "כרמים ח.ת.",
           "marker": {
            "color": "#ab63fa",
            "size": [
             48
            ],
            "sizemode": "area",
            "sizeref": 0.0162,
            "symbol": "circle"
           },
           "mode": "markers",
           "name": "כרמים ח.ת.",
           "showlegend": true,
           "type": "scatter",
           "x": [
            48
           ],
           "xaxis": "x",
           "y": [
            15
           ],
           "yaxis": "y"
          }
         ],
         "name": "2018-7"
        },
        {
         "data": [
          {
           "hovertemplate": "<b>%{hovertext}</b><br><br>pharm_n=חולון מקצ ח.ת.<br>yyyy-mm=2018-8<br>pdax_c=%{marker.size}<br>unscheduled=%{y}<extra></extra>",
           "hovertext": [
            "חולון מקצ ח.ת.",
            "חולון מקצ ח.ת.",
            "חולון מקצ ח.ת.",
            "חולון מקצ ח.ת."
           ],
           "ids": [
            "חולון מקצ ח.ת.",
            "חולון מקצ ח.ת.",
            "חולון מקצ ח.ת.",
            "חולון מקצ ח.ת."
           ],
           "legendgroup": "חולון מקצ ח.ת.",
           "marker": {
            "color": "#636efa",
            "size": [
             41,
             81,
             141,
             74
            ],
            "sizemode": "area",
            "sizeref": 0.0162,
            "symbol": "circle"
           },
           "mode": "markers",
           "name": "חולון מקצ ח.ת.",
           "showlegend": true,
           "type": "scatter",
           "x": [
            41,
            81,
            141,
            74
           ],
           "xaxis": "x",
           "y": [
            10,
            10,
            10,
            10
           ],
           "yaxis": "y"
          },
          {
           "hovertemplate": "<b>%{hovertext}</b><br><br>pharm_n=קיראון ח.ת.<br>yyyy-mm=2018-8<br>pdax_c=%{marker.size}<br>unscheduled=%{y}<extra></extra>",
           "hovertext": [
            "קיראון ח.ת.",
            "קיראון ח.ת.",
            "קיראון ח.ת.",
            "קיראון ח.ת."
           ],
           "ids": [
            "קיראון ח.ת.",
            "קיראון ח.ת.",
            "קיראון ח.ת.",
            "קיראון ח.ת."
           ],
           "legendgroup": "קיראון ח.ת.",
           "marker": {
            "color": "#EF553B",
            "size": [
             49,
             53,
             62,
             45
            ],
            "sizemode": "area",
            "sizeref": 0.0162,
            "symbol": "circle"
           },
           "mode": "markers",
           "name": "קיראון ח.ת.",
           "showlegend": true,
           "type": "scatter",
           "x": [
            49,
            53,
            62,
            45
           ],
           "xaxis": "x",
           "y": [
            10,
            10,
            10,
            10
           ],
           "yaxis": "y"
          },
          {
           "hovertemplate": "<b>%{hovertext}</b><br><br>pharm_n=כרמים ח.ת.<br>yyyy-mm=2018-8<br>pdax_c=%{marker.size}<br>unscheduled=%{y}<extra></extra>",
           "hovertext": [
            "כרמים ח.ת.",
            "כרמים ח.ת.",
            "כרמים ח.ת.",
            "כרמים ח.ת."
           ],
           "ids": [
            "כרמים ח.ת.",
            "כרמים ח.ת.",
            "כרמים ח.ת.",
            "כרמים ח.ת."
           ],
           "legendgroup": "כרמים ח.ת.",
           "marker": {
            "color": "#ab63fa",
            "size": [
             43,
             57,
             47,
             55
            ],
            "sizemode": "area",
            "sizeref": 0.0162,
            "symbol": "circle"
           },
           "mode": "markers",
           "name": "כרמים ח.ת.",
           "showlegend": true,
           "type": "scatter",
           "x": [
            43,
            57,
            47,
            55
           ],
           "xaxis": "x",
           "y": [
            12,
            12,
            12,
            12
           ],
           "yaxis": "y"
          }
         ],
         "name": "2018-8"
        },
        {
         "data": [
          {
           "hovertemplate": "<b>%{hovertext}</b><br><br>pharm_n=חולון מקצ ח.ת.<br>yyyy-mm=2018-9<br>pdax_c=%{marker.size}<br>unscheduled=%{y}<extra></extra>",
           "hovertext": [
            "חולון מקצ ח.ת.",
            "חולון מקצ ח.ת.",
            "חולון מקצ ח.ת."
           ],
           "ids": [
            "חולון מקצ ח.ת.",
            "חולון מקצ ח.ת.",
            "חולון מקצ ח.ת."
           ],
           "legendgroup": "חולון מקצ ח.ת.",
           "marker": {
            "color": "#636efa",
            "size": [
             59,
             66,
             28
            ],
            "sizemode": "area",
            "sizeref": 0.0162,
            "symbol": "circle"
           },
           "mode": "markers",
           "name": "חולון מקצ ח.ת.",
           "showlegend": true,
           "type": "scatter",
           "x": [
            59,
            66,
            28
           ],
           "xaxis": "x",
           "y": [
            5,
            5,
            5
           ],
           "yaxis": "y"
          },
          {
           "hovertemplate": "<b>%{hovertext}</b><br><br>pharm_n=קיראון ח.ת.<br>yyyy-mm=2018-9<br>pdax_c=%{marker.size}<br>unscheduled=%{y}<extra></extra>",
           "hovertext": [
            "קיראון ח.ת.",
            "קיראון ח.ת."
           ],
           "ids": [
            "קיראון ח.ת.",
            "קיראון ח.ת."
           ],
           "legendgroup": "קיראון ח.ת.",
           "marker": {
            "color": "#EF553B",
            "size": [
             28,
             42
            ],
            "sizemode": "area",
            "sizeref": 0.0162,
            "symbol": "circle"
           },
           "mode": "markers",
           "name": "קיראון ח.ת.",
           "showlegend": true,
           "type": "scatter",
           "x": [
            28,
            42
           ],
           "xaxis": "x",
           "y": [
            6,
            6
           ],
           "yaxis": "y"
          },
          {
           "hovertemplate": "<b>%{hovertext}</b><br><br>pharm_n=כרמים ח.ת.<br>yyyy-mm=2018-9<br>pdax_c=%{marker.size}<br>unscheduled=%{y}<extra></extra>",
           "hovertext": [
            "כרמים ח.ת.",
            "כרמים ח.ת."
           ],
           "ids": [
            "כרמים ח.ת.",
            "כרמים ח.ת."
           ],
           "legendgroup": "כרמים ח.ת.",
           "marker": {
            "color": "#ab63fa",
            "size": [
             36,
             40
            ],
            "sizemode": "area",
            "sizeref": 0.0162,
            "symbol": "circle"
           },
           "mode": "markers",
           "name": "כרמים ח.ת.",
           "showlegend": true,
           "type": "scatter",
           "x": [
            36,
            40
           ],
           "xaxis": "x",
           "y": [
            12,
            12
           ],
           "yaxis": "y"
          }
         ],
         "name": "2018-9"
        },
        {
         "data": [
          {
           "hovertemplate": "<b>%{hovertext}</b><br><br>pharm_n=חולון מקצ ח.ת.<br>yyyy-mm=2018-10<br>pdax_c=%{marker.size}<br>unscheduled=%{y}<extra></extra>",
           "hovertext": [
            "חולון מקצ ח.ת.",
            "חולון מקצ ח.ת.",
            "חולון מקצ ח.ת.",
            "חולון מקצ ח.ת.",
            "חולון מקצ ח.ת."
           ],
           "ids": [
            "חולון מקצ ח.ת.",
            "חולון מקצ ח.ת.",
            "חולון מקצ ח.ת.",
            "חולון מקצ ח.ת.",
            "חולון מקצ ח.ת."
           ],
           "legendgroup": "חולון מקצ ח.ת.",
           "marker": {
            "color": "#636efa",
            "size": [
             70,
             59,
             105,
             123,
             97
            ],
            "sizemode": "area",
            "sizeref": 0.0162,
            "symbol": "circle"
           },
           "mode": "markers",
           "name": "חולון מקצ ח.ת.",
           "showlegend": true,
           "type": "scatter",
           "x": [
            70,
            59,
            105,
            123,
            97
           ],
           "xaxis": "x",
           "y": [
            10,
            10,
            10,
            10,
            10
           ],
           "yaxis": "y"
          },
          {
           "hovertemplate": "<b>%{hovertext}</b><br><br>pharm_n=קיראון ח.ת.<br>yyyy-mm=2018-10<br>pdax_c=%{marker.size}<br>unscheduled=%{y}<extra></extra>",
           "hovertext": [
            "קיראון ח.ת.",
            "קיראון ח.ת.",
            "קיראון ח.ת.",
            "קיראון ח.ת."
           ],
           "ids": [
            "קיראון ח.ת.",
            "קיראון ח.ת.",
            "קיראון ח.ת.",
            "קיראון ח.ת."
           ],
           "legendgroup": "קיראון ח.ת.",
           "marker": {
            "color": "#EF553B",
            "size": [
             51,
             48,
             69,
             41
            ],
            "sizemode": "area",
            "sizeref": 0.0162,
            "symbol": "circle"
           },
           "mode": "markers",
           "name": "קיראון ח.ת.",
           "showlegend": true,
           "type": "scatter",
           "x": [
            51,
            48,
            69,
            41
           ],
           "xaxis": "x",
           "y": [
            10,
            10,
            10,
            10
           ],
           "yaxis": "y"
          },
          {
           "hovertemplate": "<b>%{hovertext}</b><br><br>pharm_n=כרמים ח.ת.<br>yyyy-mm=2018-10<br>pdax_c=%{marker.size}<br>unscheduled=%{y}<extra></extra>",
           "hovertext": [
            "כרמים ח.ת.",
            "כרמים ח.ת.",
            "כרמים ח.ת."
           ],
           "ids": [
            "כרמים ח.ת.",
            "כרמים ח.ת.",
            "כרמים ח.ת."
           ],
           "legendgroup": "כרמים ח.ת.",
           "marker": {
            "color": "#ab63fa",
            "size": [
             41,
             48,
             43
            ],
            "sizemode": "area",
            "sizeref": 0.0162,
            "symbol": "circle"
           },
           "mode": "markers",
           "name": "כרמים ח.ת.",
           "showlegend": true,
           "type": "scatter",
           "x": [
            41,
            48,
            43
           ],
           "xaxis": "x",
           "y": [
            16,
            16,
            16
           ],
           "yaxis": "y"
          }
         ],
         "name": "2018-10"
        },
        {
         "data": [
          {
           "hovertemplate": "<b>%{hovertext}</b><br><br>pharm_n=חולון מקצ ח.ת.<br>yyyy-mm=2018-11<br>pdax_c=%{marker.size}<br>unscheduled=%{y}<extra></extra>",
           "hovertext": [
            "חולון מקצ ח.ת.",
            "חולון מקצ ח.ת.",
            "חולון מקצ ח.ת.",
            "חולון מקצ ח.ת."
           ],
           "ids": [
            "חולון מקצ ח.ת.",
            "חולון מקצ ח.ת.",
            "חולון מקצ ח.ת.",
            "חולון מקצ ח.ת."
           ],
           "legendgroup": "חולון מקצ ח.ת.",
           "marker": {
            "color": "#636efa",
            "size": [
             78,
             108,
             85,
             99
            ],
            "sizemode": "area",
            "sizeref": 0.0162,
            "symbol": "circle"
           },
           "mode": "markers",
           "name": "חולון מקצ ח.ת.",
           "showlegend": true,
           "type": "scatter",
           "x": [
            78,
            108,
            85,
            99
           ],
           "xaxis": "x",
           "y": [
            7,
            7,
            7,
            7
           ],
           "yaxis": "y"
          },
          {
           "hovertemplate": "<b>%{hovertext}</b><br><br>pharm_n=קיראון ח.ת.<br>yyyy-mm=2018-11<br>pdax_c=%{marker.size}<br>unscheduled=%{y}<extra></extra>",
           "hovertext": [
            "קיראון ח.ת.",
            "קיראון ח.ת.",
            "קיראון ח.ת.",
            "קיראון ח.ת."
           ],
           "ids": [
            "קיראון ח.ת.",
            "קיראון ח.ת.",
            "קיראון ח.ת.",
            "קיראון ח.ת."
           ],
           "legendgroup": "קיראון ח.ת.",
           "marker": {
            "color": "#EF553B",
            "size": [
             51,
             57,
             47,
             45
            ],
            "sizemode": "area",
            "sizeref": 0.0162,
            "symbol": "circle"
           },
           "mode": "markers",
           "name": "קיראון ח.ת.",
           "showlegend": true,
           "type": "scatter",
           "x": [
            51,
            57,
            47,
            45
           ],
           "xaxis": "x",
           "y": [
            12,
            12,
            12,
            12
           ],
           "yaxis": "y"
          },
          {
           "hovertemplate": "<b>%{hovertext}</b><br><br>pharm_n=כרמים ח.ת.<br>yyyy-mm=2018-11<br>pdax_c=%{marker.size}<br>unscheduled=%{y}<extra></extra>",
           "hovertext": [
            "כרמים ח.ת.",
            "כרמים ח.ת.",
            "כרמים ח.ת.",
            "כרמים ח.ת.",
            "כרמים ח.ת."
           ],
           "ids": [
            "כרמים ח.ת.",
            "כרמים ח.ת.",
            "כרמים ח.ת.",
            "כרמים ח.ת.",
            "כרמים ח.ת."
           ],
           "legendgroup": "כרמים ח.ת.",
           "marker": {
            "color": "#ab63fa",
            "size": [
             51,
             41,
             42,
             41,
             63
            ],
            "sizemode": "area",
            "sizeref": 0.0162,
            "symbol": "circle"
           },
           "mode": "markers",
           "name": "כרמים ח.ת.",
           "showlegend": true,
           "type": "scatter",
           "x": [
            51,
            41,
            42,
            41,
            63
           ],
           "xaxis": "x",
           "y": [
            8,
            8,
            8,
            8,
            8
           ],
           "yaxis": "y"
          }
         ],
         "name": "2018-11"
        },
        {
         "data": [
          {
           "hovertemplate": "<b>%{hovertext}</b><br><br>pharm_n=חולון מקצ ח.ת.<br>yyyy-mm=2018-12<br>pdax_c=%{marker.size}<br>unscheduled=%{y}<extra></extra>",
           "hovertext": [
            "חולון מקצ ח.ת.",
            "חולון מקצ ח.ת.",
            "חולון מקצ ח.ת.",
            "חולון מקצ ח.ת."
           ],
           "ids": [
            "חולון מקצ ח.ת.",
            "חולון מקצ ח.ת.",
            "חולון מקצ ח.ת.",
            "חולון מקצ ח.ת."
           ],
           "legendgroup": "חולון מקצ ח.ת.",
           "marker": {
            "color": "#636efa",
            "size": [
             73,
             45,
             92,
             83
            ],
            "sizemode": "area",
            "sizeref": 0.0162,
            "symbol": "circle"
           },
           "mode": "markers",
           "name": "חולון מקצ ח.ת.",
           "showlegend": true,
           "type": "scatter",
           "x": [
            73,
            45,
            92,
            83
           ],
           "xaxis": "x",
           "y": [
            10,
            10,
            10,
            10
           ],
           "yaxis": "y"
          },
          {
           "hovertemplate": "<b>%{hovertext}</b><br><br>pharm_n=קיראון ח.ת.<br>yyyy-mm=2018-12<br>pdax_c=%{marker.size}<br>unscheduled=%{y}<extra></extra>",
           "hovertext": [
            "קיראון ח.ת.",
            "קיראון ח.ת.",
            "קיראון ח.ת.",
            "קיראון ח.ת."
           ],
           "ids": [
            "קיראון ח.ת.",
            "קיראון ח.ת.",
            "קיראון ח.ת.",
            "קיראון ח.ת."
           ],
           "legendgroup": "קיראון ח.ת.",
           "marker": {
            "color": "#EF553B",
            "size": [
             54,
             46,
             51,
             53
            ],
            "sizemode": "area",
            "sizeref": 0.0162,
            "symbol": "circle"
           },
           "mode": "markers",
           "name": "קיראון ח.ת.",
           "showlegend": true,
           "type": "scatter",
           "x": [
            54,
            46,
            51,
            53
           ],
           "xaxis": "x",
           "y": [
            13,
            13,
            13,
            13
           ],
           "yaxis": "y"
          },
          {
           "hovertemplate": "<b>%{hovertext}</b><br><br>pharm_n=כרמים ח.ת.<br>yyyy-mm=2018-12<br>pdax_c=%{marker.size}<br>unscheduled=%{y}<extra></extra>",
           "hovertext": [
            "כרמים ח.ת.",
            "כרמים ח.ת.",
            "כרמים ח.ת.",
            "כרמים ח.ת."
           ],
           "ids": [
            "כרמים ח.ת.",
            "כרמים ח.ת.",
            "כרמים ח.ת.",
            "כרמים ח.ת."
           ],
           "legendgroup": "כרמים ח.ת.",
           "marker": {
            "color": "#ab63fa",
            "size": [
             57,
             55,
             48,
             36
            ],
            "sizemode": "area",
            "sizeref": 0.0162,
            "symbol": "circle"
           },
           "mode": "markers",
           "name": "כרמים ח.ת.",
           "showlegend": true,
           "type": "scatter",
           "x": [
            57,
            55,
            48,
            36
           ],
           "xaxis": "x",
           "y": [
            16,
            16,
            16,
            16
           ],
           "yaxis": "y"
          }
         ],
         "name": "2018-12"
        },
        {
         "data": [
          {
           "hovertemplate": "<b>%{hovertext}</b><br><br>pharm_n=חולון מקצ ח.ת.<br>yyyy-mm=2019-1<br>pdax_c=%{marker.size}<br>unscheduled=%{y}<extra></extra>",
           "hovertext": [
            "חולון מקצ ח.ת.",
            "חולון מקצ ח.ת.",
            "חולון מקצ ח.ת.",
            "חולון מקצ ח.ת.",
            "חולון מקצ ח.ת."
           ],
           "ids": [
            "חולון מקצ ח.ת.",
            "חולון מקצ ח.ת.",
            "חולון מקצ ח.ת.",
            "חולון מקצ ח.ת.",
            "חולון מקצ ח.ת."
           ],
           "legendgroup": "חולון מקצ ח.ת.",
           "marker": {
            "color": "#636efa",
            "size": [
             95,
             78,
             88,
             70,
             114
            ],
            "sizemode": "area",
            "sizeref": 0.0162,
            "symbol": "circle"
           },
           "mode": "markers",
           "name": "חולון מקצ ח.ת.",
           "showlegend": true,
           "type": "scatter",
           "x": [
            95,
            78,
            88,
            70,
            114
           ],
           "xaxis": "x",
           "y": [
            10,
            10,
            10,
            10,
            10
           ],
           "yaxis": "y"
          },
          {
           "hovertemplate": "<b>%{hovertext}</b><br><br>pharm_n=קיראון ח.ת.<br>yyyy-mm=2019-1<br>pdax_c=%{marker.size}<br>unscheduled=%{y}<extra></extra>",
           "hovertext": [
            "קיראון ח.ת.",
            "קיראון ח.ת.",
            "קיראון ח.ת.",
            "קיראון ח.ת.",
            "קיראון ח.ת."
           ],
           "ids": [
            "קיראון ח.ת.",
            "קיראון ח.ת.",
            "קיראון ח.ת.",
            "קיראון ח.ת.",
            "קיראון ח.ת."
           ],
           "legendgroup": "קיראון ח.ת.",
           "marker": {
            "color": "#EF553B",
            "size": [
             54,
             47,
             52,
             51,
             38
            ],
            "sizemode": "area",
            "sizeref": 0.0162,
            "symbol": "circle"
           },
           "mode": "markers",
           "name": "קיראון ח.ת.",
           "showlegend": true,
           "type": "scatter",
           "x": [
            54,
            47,
            52,
            51,
            38
           ],
           "xaxis": "x",
           "y": [
            11,
            11,
            11,
            11,
            11
           ],
           "yaxis": "y"
          },
          {
           "hovertemplate": "<b>%{hovertext}</b><br><br>pharm_n=כרמים ח.ת.<br>yyyy-mm=2019-1<br>pdax_c=%{marker.size}<br>unscheduled=%{y}<extra></extra>",
           "hovertext": [
            "כרמים ח.ת.",
            "כרמים ח.ת.",
            "כרמים ח.ת.",
            "כרמים ח.ת."
           ],
           "ids": [
            "כרמים ח.ת.",
            "כרמים ח.ת.",
            "כרמים ח.ת.",
            "כרמים ח.ת."
           ],
           "legendgroup": "כרמים ח.ת.",
           "marker": {
            "color": "#ab63fa",
            "size": [
             51,
             52,
             60,
             64
            ],
            "sizemode": "area",
            "sizeref": 0.0162,
            "symbol": "circle"
           },
           "mode": "markers",
           "name": "כרמים ח.ת.",
           "showlegend": true,
           "type": "scatter",
           "x": [
            51,
            52,
            60,
            64
           ],
           "xaxis": "x",
           "y": [
            13,
            13,
            13,
            13
           ],
           "yaxis": "y"
          }
         ],
         "name": "2019-1"
        },
        {
         "data": [
          {
           "hovertemplate": "<b>%{hovertext}</b><br><br>pharm_n=חולון מקצ ח.ת.<br>yyyy-mm=2019-2<br>pdax_c=%{marker.size}<br>unscheduled=%{y}<extra></extra>",
           "hovertext": [
            "חולון מקצ ח.ת.",
            "חולון מקצ ח.ת.",
            "חולון מקצ ח.ת.",
            "חולון מקצ ח.ת."
           ],
           "ids": [
            "חולון מקצ ח.ת.",
            "חולון מקצ ח.ת.",
            "חולון מקצ ח.ת.",
            "חולון מקצ ח.ת."
           ],
           "legendgroup": "חולון מקצ ח.ת.",
           "marker": {
            "color": "#636efa",
            "size": [
             76,
             82,
             66,
             72
            ],
            "sizemode": "area",
            "sizeref": 0.0162,
            "symbol": "circle"
           },
           "mode": "markers",
           "name": "חולון מקצ ח.ת.",
           "showlegend": true,
           "type": "scatter",
           "x": [
            76,
            82,
            66,
            72
           ],
           "xaxis": "x",
           "y": [
            11,
            11,
            11,
            11
           ],
           "yaxis": "y"
          },
          {
           "hovertemplate": "<b>%{hovertext}</b><br><br>pharm_n=קיראון ח.ת.<br>yyyy-mm=2019-2<br>pdax_c=%{marker.size}<br>unscheduled=%{y}<extra></extra>",
           "hovertext": [
            "קיראון ח.ת.",
            "קיראון ח.ת.",
            "קיראון ח.ת.",
            "קיראון ח.ת."
           ],
           "ids": [
            "קיראון ח.ת.",
            "קיראון ח.ת.",
            "קיראון ח.ת.",
            "קיראון ח.ת."
           ],
           "legendgroup": "קיראון ח.ת.",
           "marker": {
            "color": "#EF553B",
            "size": [
             49,
             62,
             96,
             70
            ],
            "sizemode": "area",
            "sizeref": 0.0162,
            "symbol": "circle"
           },
           "mode": "markers",
           "name": "קיראון ח.ת.",
           "showlegend": true,
           "type": "scatter",
           "x": [
            49,
            62,
            96,
            70
           ],
           "xaxis": "x",
           "y": [
            7,
            7,
            7,
            7
           ],
           "yaxis": "y"
          },
          {
           "hovertemplate": "<b>%{hovertext}</b><br><br>pharm_n=כרמים ח.ת.<br>yyyy-mm=2019-2<br>pdax_c=%{marker.size}<br>unscheduled=%{y}<extra></extra>",
           "hovertext": [
            "כרמים ח.ת.",
            "כרמים ח.ת.",
            "כרמים ח.ת.",
            "כרמים ח.ת."
           ],
           "ids": [
            "כרמים ח.ת.",
            "כרמים ח.ת.",
            "כרמים ח.ת.",
            "כרמים ח.ת."
           ],
           "legendgroup": "כרמים ח.ת.",
           "marker": {
            "color": "#ab63fa",
            "size": [
             51,
             53,
             65,
             54
            ],
            "sizemode": "area",
            "sizeref": 0.0162,
            "symbol": "circle"
           },
           "mode": "markers",
           "name": "כרמים ח.ת.",
           "showlegend": true,
           "type": "scatter",
           "x": [
            51,
            53,
            65,
            54
           ],
           "xaxis": "x",
           "y": [
            11,
            11,
            11,
            11
           ],
           "yaxis": "y"
          }
         ],
         "name": "2019-2"
        },
        {
         "data": [
          {
           "hovertemplate": "<b>%{hovertext}</b><br><br>pharm_n=חולון מקצ ח.ת.<br>yyyy-mm=2019-3<br>pdax_c=%{marker.size}<br>unscheduled=%{y}<extra></extra>",
           "hovertext": [
            "חולון מקצ ח.ת.",
            "חולון מקצ ח.ת.",
            "חולון מקצ ח.ת.",
            "חולון מקצ ח.ת."
           ],
           "ids": [
            "חולון מקצ ח.ת.",
            "חולון מקצ ח.ת.",
            "חולון מקצ ח.ת.",
            "חולון מקצ ח.ת."
           ],
           "legendgroup": "חולון מקצ ח.ת.",
           "marker": {
            "color": "#636efa",
            "size": [
             112,
             86,
             100,
             92
            ],
            "sizemode": "area",
            "sizeref": 0.0162,
            "symbol": "circle"
           },
           "mode": "markers",
           "name": "חולון מקצ ח.ת.",
           "showlegend": true,
           "type": "scatter",
           "x": [
            112,
            86,
            100,
            92
           ],
           "xaxis": "x",
           "y": [
            16,
            16,
            16,
            16
           ],
           "yaxis": "y"
          },
          {
           "hovertemplate": "<b>%{hovertext}</b><br><br>pharm_n=קיראון ח.ת.<br>yyyy-mm=2019-3<br>pdax_c=%{marker.size}<br>unscheduled=%{y}<extra></extra>",
           "hovertext": [
            "קיראון ח.ת.",
            "קיראון ח.ת.",
            "קיראון ח.ת.",
            "קיראון ח.ת."
           ],
           "ids": [
            "קיראון ח.ת.",
            "קיראון ח.ת.",
            "קיראון ח.ת.",
            "קיראון ח.ת."
           ],
           "legendgroup": "קיראון ח.ת.",
           "marker": {
            "color": "#EF553B",
            "size": [
             107,
             92,
             100,
             90
            ],
            "sizemode": "area",
            "sizeref": 0.0162,
            "symbol": "circle"
           },
           "mode": "markers",
           "name": "קיראון ח.ת.",
           "showlegend": true,
           "type": "scatter",
           "x": [
            107,
            92,
            100,
            90
           ],
           "xaxis": "x",
           "y": [
            5,
            5,
            5,
            5
           ],
           "yaxis": "y"
          },
          {
           "hovertemplate": "<b>%{hovertext}</b><br><br>pharm_n=כרמים ח.ת.<br>yyyy-mm=2019-3<br>pdax_c=%{marker.size}<br>unscheduled=%{y}<extra></extra>",
           "hovertext": [
            "כרמים ח.ת.",
            "כרמים ח.ת.",
            "כרמים ח.ת.",
            "כרמים ח.ת."
           ],
           "ids": [
            "כרמים ח.ת.",
            "כרמים ח.ת.",
            "כרמים ח.ת.",
            "כרמים ח.ת."
           ],
           "legendgroup": "כרמים ח.ת.",
           "marker": {
            "color": "#ab63fa",
            "size": [
             61,
             63,
             63,
             74
            ],
            "sizemode": "area",
            "sizeref": 0.0162,
            "symbol": "circle"
           },
           "mode": "markers",
           "name": "כרמים ח.ת.",
           "showlegend": true,
           "type": "scatter",
           "x": [
            61,
            63,
            63,
            74
           ],
           "xaxis": "x",
           "y": [
            15,
            15,
            15,
            15
           ],
           "yaxis": "y"
          }
         ],
         "name": "2019-3"
        },
        {
         "data": [
          {
           "hovertemplate": "<b>%{hovertext}</b><br><br>pharm_n=חולון מקצ ח.ת.<br>yyyy-mm=2019-4<br>pdax_c=%{marker.size}<br>unscheduled=%{y}<extra></extra>",
           "hovertext": [
            "חולון מקצ ח.ת.",
            "חולון מקצ ח.ת.",
            "חולון מקצ ח.ת.",
            "חולון מקצ ח.ת."
           ],
           "ids": [
            "חולון מקצ ח.ת.",
            "חולון מקצ ח.ת.",
            "חולון מקצ ח.ת.",
            "חולון מקצ ח.ת."
           ],
           "legendgroup": "חולון מקצ ח.ת.",
           "marker": {
            "color": "#636efa",
            "size": [
             94,
             117,
             75,
             139
            ],
            "sizemode": "area",
            "sizeref": 0.0162,
            "symbol": "circle"
           },
           "mode": "markers",
           "name": "חולון מקצ ח.ת.",
           "showlegend": true,
           "type": "scatter",
           "x": [
            94,
            117,
            75,
            139
           ],
           "xaxis": "x",
           "y": [
            14,
            14,
            14,
            14
           ],
           "yaxis": "y"
          },
          {
           "hovertemplate": "<b>%{hovertext}</b><br><br>pharm_n=קיראון ח.ת.<br>yyyy-mm=2019-4<br>pdax_c=%{marker.size}<br>unscheduled=%{y}<extra></extra>",
           "hovertext": [
            "קיראון ח.ת.",
            "קיראון ח.ת.",
            "קיראון ח.ת."
           ],
           "ids": [
            "קיראון ח.ת.",
            "קיראון ח.ת.",
            "קיראון ח.ת."
           ],
           "legendgroup": "קיראון ח.ת.",
           "marker": {
            "color": "#EF553B",
            "size": [
             80,
             58,
             106
            ],
            "sizemode": "area",
            "sizeref": 0.0162,
            "symbol": "circle"
           },
           "mode": "markers",
           "name": "קיראון ח.ת.",
           "showlegend": true,
           "type": "scatter",
           "x": [
            80,
            58,
            106
           ],
           "xaxis": "x",
           "y": [
            13,
            13,
            13
           ],
           "yaxis": "y"
          },
          {
           "hovertemplate": "<b>%{hovertext}</b><br><br>pharm_n=כרמים ח.ת.<br>yyyy-mm=2019-4<br>pdax_c=%{marker.size}<br>unscheduled=%{y}<extra></extra>",
           "hovertext": [
            "כרמים ח.ת.",
            "כרמים ח.ת.",
            "כרמים ח.ת.",
            "כרמים ח.ת.",
            "כרמים ח.ת."
           ],
           "ids": [
            "כרמים ח.ת.",
            "כרמים ח.ת.",
            "כרמים ח.ת.",
            "כרמים ח.ת.",
            "כרמים ח.ת."
           ],
           "legendgroup": "כרמים ח.ת.",
           "marker": {
            "color": "#ab63fa",
            "size": [
             73,
             65,
             70,
             63,
             60
            ],
            "sizemode": "area",
            "sizeref": 0.0162,
            "symbol": "circle"
           },
           "mode": "markers",
           "name": "כרמים ח.ת.",
           "showlegend": true,
           "type": "scatter",
           "x": [
            73,
            65,
            70,
            63,
            60
           ],
           "xaxis": "x",
           "y": [
            13,
            13,
            13,
            13,
            13
           ],
           "yaxis": "y"
          }
         ],
         "name": "2019-4"
        },
        {
         "data": [
          {
           "hovertemplate": "<b>%{hovertext}</b><br><br>pharm_n=חולון מקצ ח.ת.<br>yyyy-mm=2019-5<br>pdax_c=%{marker.size}<br>unscheduled=%{y}<extra></extra>",
           "hovertext": [
            "חולון מקצ ח.ת.",
            "חולון מקצ ח.ת.",
            "חולון מקצ ח.ת.",
            "חולון מקצ ח.ת.",
            "חולון מקצ ח.ת."
           ],
           "ids": [
            "חולון מקצ ח.ת.",
            "חולון מקצ ח.ת.",
            "חולון מקצ ח.ת.",
            "חולון מקצ ח.ת.",
            "חולון מקצ ח.ת."
           ],
           "legendgroup": "חולון מקצ ח.ת.",
           "marker": {
            "color": "#636efa",
            "size": [
             91,
             115,
             123,
             75,
             59
            ],
            "sizemode": "area",
            "sizeref": 0.0162,
            "symbol": "circle"
           },
           "mode": "markers",
           "name": "חולון מקצ ח.ת.",
           "showlegend": true,
           "type": "scatter",
           "x": [
            91,
            115,
            123,
            75,
            59
           ],
           "xaxis": "x",
           "y": [
            16,
            16,
            16,
            16,
            16
           ],
           "yaxis": "y"
          },
          {
           "hovertemplate": "<b>%{hovertext}</b><br><br>pharm_n=קיראון ח.ת.<br>yyyy-mm=2019-5<br>pdax_c=%{marker.size}<br>unscheduled=%{y}<extra></extra>",
           "hovertext": [
            "קיראון ח.ת.",
            "קיראון ח.ת.",
            "קיראון ח.ת.",
            "קיראון ח.ת."
           ],
           "ids": [
            "קיראון ח.ת.",
            "קיראון ח.ת.",
            "קיראון ח.ת.",
            "קיראון ח.ת."
           ],
           "legendgroup": "קיראון ח.ת.",
           "marker": {
            "color": "#EF553B",
            "size": [
             50,
             86,
             74,
             103
            ],
            "sizemode": "area",
            "sizeref": 0.0162,
            "symbol": "circle"
           },
           "mode": "markers",
           "name": "קיראון ח.ת.",
           "showlegend": true,
           "type": "scatter",
           "x": [
            50,
            86,
            74,
            103
           ],
           "xaxis": "x",
           "y": [
            9,
            9,
            9,
            9
           ],
           "yaxis": "y"
          },
          {
           "hovertemplate": "<b>%{hovertext}</b><br><br>pharm_n=כרמים ח.ת.<br>yyyy-mm=2019-5<br>pdax_c=%{marker.size}<br>unscheduled=%{y}<extra></extra>",
           "hovertext": [
            "כרמים ח.ת.",
            "כרמים ח.ת.",
            "כרמים ח.ת.",
            "כרמים ח.ת."
           ],
           "ids": [
            "כרמים ח.ת.",
            "כרמים ח.ת.",
            "כרמים ח.ת.",
            "כרמים ח.ת."
           ],
           "legendgroup": "כרמים ח.ת.",
           "marker": {
            "color": "#ab63fa",
            "size": [
             65,
             71,
             74,
             60
            ],
            "sizemode": "area",
            "sizeref": 0.0162,
            "symbol": "circle"
           },
           "mode": "markers",
           "name": "כרמים ח.ת.",
           "showlegend": true,
           "type": "scatter",
           "x": [
            65,
            71,
            74,
            60
           ],
           "xaxis": "x",
           "y": [
            12,
            12,
            12,
            12
           ],
           "yaxis": "y"
          }
         ],
         "name": "2019-5"
        },
        {
         "data": [
          {
           "hovertemplate": "<b>%{hovertext}</b><br><br>pharm_n=חולון מקצ ח.ת.<br>yyyy-mm=2019-6<br>pdax_c=%{marker.size}<br>unscheduled=%{y}<extra></extra>",
           "hovertext": [
            "חולון מקצ ח.ת.",
            "חולון מקצ ח.ת.",
            "חולון מקצ ח.ת.",
            "חולון מקצ ח.ת."
           ],
           "ids": [
            "חולון מקצ ח.ת.",
            "חולון מקצ ח.ת.",
            "חולון מקצ ח.ת.",
            "חולון מקצ ח.ת."
           ],
           "legendgroup": "חולון מקצ ח.ת.",
           "marker": {
            "color": "#636efa",
            "size": [
             58,
             76,
             62,
             95
            ],
            "sizemode": "area",
            "sizeref": 0.0162,
            "symbol": "circle"
           },
           "mode": "markers",
           "name": "חולון מקצ ח.ת.",
           "showlegend": true,
           "type": "scatter",
           "x": [
            58,
            76,
            62,
            95
           ],
           "xaxis": "x",
           "y": [
            17,
            17,
            17,
            17
           ],
           "yaxis": "y"
          },
          {
           "hovertemplate": "<b>%{hovertext}</b><br><br>pharm_n=קיראון ח.ת.<br>yyyy-mm=2019-6<br>pdax_c=%{marker.size}<br>unscheduled=%{y}<extra></extra>",
           "hovertext": [
            "קיראון ח.ת.",
            "קיראון ח.ת.",
            "קיראון ח.ת.",
            "קיראון ח.ת."
           ],
           "ids": [
            "קיראון ח.ת.",
            "קיראון ח.ת.",
            "קיראון ח.ת.",
            "קיראון ח.ת."
           ],
           "legendgroup": "קיראון ח.ת.",
           "marker": {
            "color": "#EF553B",
            "size": [
             79,
             90,
             50,
             108
            ],
            "sizemode": "area",
            "sizeref": 0.0162,
            "symbol": "circle"
           },
           "mode": "markers",
           "name": "קיראון ח.ת.",
           "showlegend": true,
           "type": "scatter",
           "x": [
            79,
            90,
            50,
            108
           ],
           "xaxis": "x",
           "y": [
            8,
            8,
            8,
            8
           ],
           "yaxis": "y"
          },
          {
           "hovertemplate": "<b>%{hovertext}</b><br><br>pharm_n=כרמים ח.ת.<br>yyyy-mm=2019-6<br>pdax_c=%{marker.size}<br>unscheduled=%{y}<extra></extra>",
           "hovertext": [
            "כרמים ח.ת.",
            "כרמים ח.ת.",
            "כרמים ח.ת.",
            "כרמים ח.ת."
           ],
           "ids": [
            "כרמים ח.ת.",
            "כרמים ח.ת.",
            "כרמים ח.ת.",
            "כרמים ח.ת."
           ],
           "legendgroup": "כרמים ח.ת.",
           "marker": {
            "color": "#ab63fa",
            "size": [
             69,
             62,
             66,
             67
            ],
            "sizemode": "area",
            "sizeref": 0.0162,
            "symbol": "circle"
           },
           "mode": "markers",
           "name": "כרמים ח.ת.",
           "showlegend": true,
           "type": "scatter",
           "x": [
            69,
            62,
            66,
            67
           ],
           "xaxis": "x",
           "y": [
            14,
            14,
            14,
            14
           ],
           "yaxis": "y"
          }
         ],
         "name": "2019-6"
        },
        {
         "data": [
          {
           "hovertemplate": "<b>%{hovertext}</b><br><br>pharm_n=חולון מקצ ח.ת.<br>yyyy-mm=2019-7<br>pdax_c=%{marker.size}<br>unscheduled=%{y}<extra></extra>",
           "hovertext": [
            "חולון מקצ ח.ת.",
            "חולון מקצ ח.ת.",
            "חולון מקצ ח.ת.",
            "חולון מקצ ח.ת.",
            "חולון מקצ ח.ת."
           ],
           "ids": [
            "חולון מקצ ח.ת.",
            "חולון מקצ ח.ת.",
            "חולון מקצ ח.ת.",
            "חולון מקצ ח.ת.",
            "חולון מקצ ח.ת."
           ],
           "legendgroup": "חולון מקצ ח.ת.",
           "marker": {
            "color": "#636efa",
            "size": [
             65,
             59,
             57,
             58,
             60
            ],
            "sizemode": "area",
            "sizeref": 0.0162,
            "symbol": "circle"
           },
           "mode": "markers",
           "name": "חולון מקצ ח.ת.",
           "showlegend": true,
           "type": "scatter",
           "x": [
            65,
            59,
            57,
            58,
            60
           ],
           "xaxis": "x",
           "y": [
            15,
            15,
            15,
            15,
            15
           ],
           "yaxis": "y"
          },
          {
           "hovertemplate": "<b>%{hovertext}</b><br><br>pharm_n=קיראון ח.ת.<br>yyyy-mm=2019-7<br>pdax_c=%{marker.size}<br>unscheduled=%{y}<extra></extra>",
           "hovertext": [
            "קיראון ח.ת.",
            "קיראון ח.ת.",
            "קיראון ח.ת.",
            "קיראון ח.ת.",
            "קיראון ח.ת."
           ],
           "ids": [
            "קיראון ח.ת.",
            "קיראון ח.ת.",
            "קיראון ח.ת.",
            "קיראון ח.ת.",
            "קיראון ח.ת."
           ],
           "legendgroup": "קיראון ח.ת.",
           "marker": {
            "color": "#EF553B",
            "size": [
             80,
             75,
             64,
             62,
             46
            ],
            "sizemode": "area",
            "sizeref": 0.0162,
            "symbol": "circle"
           },
           "mode": "markers",
           "name": "קיראון ח.ת.",
           "showlegend": true,
           "type": "scatter",
           "x": [
            80,
            75,
            64,
            62,
            46
           ],
           "xaxis": "x",
           "y": [
            8,
            8,
            8,
            8,
            8
           ],
           "yaxis": "y"
          },
          {
           "hovertemplate": "<b>%{hovertext}</b><br><br>pharm_n=כרמים ח.ת.<br>yyyy-mm=2019-7<br>pdax_c=%{marker.size}<br>unscheduled=%{y}<extra></extra>",
           "hovertext": [
            "כרמים ח.ת.",
            "כרמים ח.ת.",
            "כרמים ח.ת.",
            "כרמים ח.ת.",
            "כרמים ח.ת."
           ],
           "ids": [
            "כרמים ח.ת.",
            "כרמים ח.ת.",
            "כרמים ח.ת.",
            "כרמים ח.ת.",
            "כרמים ח.ת."
           ],
           "legendgroup": "כרמים ח.ת.",
           "marker": {
            "color": "#ab63fa",
            "size": [
             65,
             63,
             60,
             66,
             69
            ],
            "sizemode": "area",
            "sizeref": 0.0162,
            "symbol": "circle"
           },
           "mode": "markers",
           "name": "כרמים ח.ת.",
           "showlegend": true,
           "type": "scatter",
           "x": [
            65,
            63,
            60,
            66,
            69
           ],
           "xaxis": "x",
           "y": [
            14,
            14,
            14,
            14,
            14
           ],
           "yaxis": "y"
          }
         ],
         "name": "2019-7"
        },
        {
         "data": [
          {
           "hovertemplate": "<b>%{hovertext}</b><br><br>pharm_n=חולון מקצ ח.ת.<br>yyyy-mm=2019-8<br>pdax_c=%{marker.size}<br>unscheduled=%{y}<extra></extra>",
           "hovertext": [
            "חולון מקצ ח.ת.",
            "חולון מקצ ח.ת.",
            "חולון מקצ ח.ת."
           ],
           "ids": [
            "חולון מקצ ח.ת.",
            "חולון מקצ ח.ת.",
            "חולון מקצ ח.ת."
           ],
           "legendgroup": "חולון מקצ ח.ת.",
           "marker": {
            "color": "#636efa",
            "size": [
             58,
             107,
             65
            ],
            "sizemode": "area",
            "sizeref": 0.0162,
            "symbol": "circle"
           },
           "mode": "markers",
           "name": "חולון מקצ ח.ת.",
           "showlegend": true,
           "type": "scatter",
           "x": [
            58,
            107,
            65
           ],
           "xaxis": "x",
           "y": [
            14,
            14,
            14
           ],
           "yaxis": "y"
          },
          {
           "hovertemplate": "<b>%{hovertext}</b><br><br>pharm_n=קיראון ח.ת.<br>yyyy-mm=2019-8<br>pdax_c=%{marker.size}<br>unscheduled=%{y}<extra></extra>",
           "hovertext": [
            "קיראון ח.ת.",
            "קיראון ח.ת.",
            "קיראון ח.ת.",
            "קיראון ח.ת."
           ],
           "ids": [
            "קיראון ח.ת.",
            "קיראון ח.ת.",
            "קיראון ח.ת.",
            "קיראון ח.ת."
           ],
           "legendgroup": "קיראון ח.ת.",
           "marker": {
            "color": "#EF553B",
            "size": [
             68,
             63,
             56,
             65
            ],
            "sizemode": "area",
            "sizeref": 0.0162,
            "symbol": "circle"
           },
           "mode": "markers",
           "name": "קיראון ח.ת.",
           "showlegend": true,
           "type": "scatter",
           "x": [
            68,
            63,
            56,
            65
           ],
           "xaxis": "x",
           "y": [
            6,
            6,
            6,
            6
           ],
           "yaxis": "y"
          },
          {
           "hovertemplate": "<b>%{hovertext}</b><br><br>pharm_n=כרמים ח.ת.<br>yyyy-mm=2019-8<br>pdax_c=%{marker.size}<br>unscheduled=%{y}<extra></extra>",
           "hovertext": [
            "כרמים ח.ת.",
            "כרמים ח.ת.",
            "כרמים ח.ת.",
            "כרמים ח.ת.",
            "כרמים ח.ת."
           ],
           "ids": [
            "כרמים ח.ת.",
            "כרמים ח.ת.",
            "כרמים ח.ת.",
            "כרמים ח.ת.",
            "כרמים ח.ת."
           ],
           "legendgroup": "כרמים ח.ת.",
           "marker": {
            "color": "#ab63fa",
            "size": [
             58,
             61,
             61,
             65,
             73
            ],
            "sizemode": "area",
            "sizeref": 0.0162,
            "symbol": "circle"
           },
           "mode": "markers",
           "name": "כרמים ח.ת.",
           "showlegend": true,
           "type": "scatter",
           "x": [
            58,
            61,
            61,
            65,
            73
           ],
           "xaxis": "x",
           "y": [
            9,
            9,
            9,
            9,
            9
           ],
           "yaxis": "y"
          }
         ],
         "name": "2019-8"
        },
        {
         "data": [
          {
           "hovertemplate": "<b>%{hovertext}</b><br><br>pharm_n=חולון מקצ ח.ת.<br>yyyy-mm=2019-9<br>pdax_c=%{marker.size}<br>unscheduled=%{y}<extra></extra>",
           "hovertext": [
            "חולון מקצ ח.ת.",
            "חולון מקצ ח.ת.",
            "חולון מקצ ח.ת.",
            "חולון מקצ ח.ת."
           ],
           "ids": [
            "חולון מקצ ח.ת.",
            "חולון מקצ ח.ת.",
            "חולון מקצ ח.ת.",
            "חולון מקצ ח.ת."
           ],
           "legendgroup": "חולון מקצ ח.ת.",
           "marker": {
            "color": "#636efa",
            "size": [
             89,
             101,
             88,
             105
            ],
            "sizemode": "area",
            "sizeref": 0.0162,
            "symbol": "circle"
           },
           "mode": "markers",
           "name": "חולון מקצ ח.ת.",
           "showlegend": true,
           "type": "scatter",
           "x": [
            89,
            101,
            88,
            105
           ],
           "xaxis": "x",
           "y": [
            14,
            14,
            14,
            14
           ],
           "yaxis": "y"
          },
          {
           "hovertemplate": "<b>%{hovertext}</b><br><br>pharm_n=קיראון ח.ת.<br>yyyy-mm=2019-9<br>pdax_c=%{marker.size}<br>unscheduled=%{y}<extra></extra>",
           "hovertext": [
            "קיראון ח.ת.",
            "קיראון ח.ת.",
            "קיראון ח.ת."
           ],
           "ids": [
            "קיראון ח.ת.",
            "קיראון ח.ת.",
            "קיראון ח.ת."
           ],
           "legendgroup": "קיראון ח.ת.",
           "marker": {
            "color": "#EF553B",
            "size": [
             129,
             49,
             65
            ],
            "sizemode": "area",
            "sizeref": 0.0162,
            "symbol": "circle"
           },
           "mode": "markers",
           "name": "קיראון ח.ת.",
           "showlegend": true,
           "type": "scatter",
           "x": [
            129,
            49,
            65
           ],
           "xaxis": "x",
           "y": [
            12,
            12,
            12
           ],
           "yaxis": "y"
          },
          {
           "hovertemplate": "<b>%{hovertext}</b><br><br>pharm_n=כרמים ח.ת.<br>yyyy-mm=2019-9<br>pdax_c=%{marker.size}<br>unscheduled=%{y}<extra></extra>",
           "hovertext": [
            "כרמים ח.ת.",
            "כרמים ח.ת.",
            "כרמים ח.ת.",
            "כרמים ח.ת."
           ],
           "ids": [
            "כרמים ח.ת.",
            "כרמים ח.ת.",
            "כרמים ח.ת.",
            "כרמים ח.ת."
           ],
           "legendgroup": "כרמים ח.ת.",
           "marker": {
            "color": "#ab63fa",
            "size": [
             65,
             66,
             69,
             66
            ],
            "sizemode": "area",
            "sizeref": 0.0162,
            "symbol": "circle"
           },
           "mode": "markers",
           "name": "כרמים ח.ת.",
           "showlegend": true,
           "type": "scatter",
           "x": [
            65,
            66,
            69,
            66
           ],
           "xaxis": "x",
           "y": [
            10,
            10,
            10,
            10
           ],
           "yaxis": "y"
          }
         ],
         "name": "2019-9"
        },
        {
         "data": [
          {
           "hovertemplate": "<b>%{hovertext}</b><br><br>pharm_n=חולון מקצ ח.ת.<br>yyyy-mm=2019-10<br>pdax_c=%{marker.size}<br>unscheduled=%{y}<extra></extra>",
           "hovertext": [
            "חולון מקצ ח.ת.",
            "חולון מקצ ח.ת.",
            "חולון מקצ ח.ת."
           ],
           "ids": [
            "חולון מקצ ח.ת.",
            "חולון מקצ ח.ת.",
            "חולון מקצ ח.ת."
           ],
           "legendgroup": "חולון מקצ ח.ת.",
           "marker": {
            "color": "#636efa",
            "size": [
             51,
             88,
             149
            ],
            "sizemode": "area",
            "sizeref": 0.0162,
            "symbol": "circle"
           },
           "mode": "markers",
           "name": "חולון מקצ ח.ת.",
           "showlegend": true,
           "type": "scatter",
           "x": [
            51,
            88,
            149
           ],
           "xaxis": "x",
           "y": [
            11,
            11,
            11
           ],
           "yaxis": "y"
          },
          {
           "hovertemplate": "<b>%{hovertext}</b><br><br>pharm_n=קיראון ח.ת.<br>yyyy-mm=2019-10<br>pdax_c=%{marker.size}<br>unscheduled=%{y}<extra></extra>",
           "hovertext": [
            "קיראון ח.ת.",
            "קיראון ח.ת.",
            "קיראון ח.ת.",
            "קיראון ח.ת."
           ],
           "ids": [
            "קיראון ח.ת.",
            "קיראון ח.ת.",
            "קיראון ח.ת.",
            "קיראון ח.ת."
           ],
           "legendgroup": "קיראון ח.ת.",
           "marker": {
            "color": "#EF553B",
            "size": [
             56,
             62,
             65,
             58
            ],
            "sizemode": "area",
            "sizeref": 0.0162,
            "symbol": "circle"
           },
           "mode": "markers",
           "name": "קיראון ח.ת.",
           "showlegend": true,
           "type": "scatter",
           "x": [
            56,
            62,
            65,
            58
           ],
           "xaxis": "x",
           "y": [
            5,
            5,
            5,
            5
           ],
           "yaxis": "y"
          },
          {
           "hovertemplate": "<b>%{hovertext}</b><br><br>pharm_n=כרמים ח.ת.<br>yyyy-mm=2019-10<br>pdax_c=%{marker.size}<br>unscheduled=%{y}<extra></extra>",
           "hovertext": [
            "כרמים ח.ת.",
            "כרמים ח.ת.",
            "כרמים ח.ת.",
            "כרמים ח.ת."
           ],
           "ids": [
            "כרמים ח.ת.",
            "כרמים ח.ת.",
            "כרמים ח.ת.",
            "כרמים ח.ת."
           ],
           "legendgroup": "כרמים ח.ת.",
           "marker": {
            "color": "#ab63fa",
            "size": [
             46,
             61,
             74,
             60
            ],
            "sizemode": "area",
            "sizeref": 0.0162,
            "symbol": "circle"
           },
           "mode": "markers",
           "name": "כרמים ח.ת.",
           "showlegend": true,
           "type": "scatter",
           "x": [
            46,
            61,
            74,
            60
           ],
           "xaxis": "x",
           "y": [
            7,
            7,
            7,
            7
           ],
           "yaxis": "y"
          }
         ],
         "name": "2019-10"
        },
        {
         "data": [
          {
           "hovertemplate": "<b>%{hovertext}</b><br><br>pharm_n=חולון מקצ ח.ת.<br>yyyy-mm=2019-11<br>pdax_c=%{marker.size}<br>unscheduled=%{y}<extra></extra>",
           "hovertext": [
            "חולון מקצ ח.ת.",
            "חולון מקצ ח.ת.",
            "חולון מקצ ח.ת.",
            "חולון מקצ ח.ת."
           ],
           "ids": [
            "חולון מקצ ח.ת.",
            "חולון מקצ ח.ת.",
            "חולון מקצ ח.ת.",
            "חולון מקצ ח.ת."
           ],
           "legendgroup": "חולון מקצ ח.ת.",
           "marker": {
            "color": "#636efa",
            "size": [
             84,
             88,
             90,
             95
            ],
            "sizemode": "area",
            "sizeref": 0.0162,
            "symbol": "circle"
           },
           "mode": "markers",
           "name": "חולון מקצ ח.ת.",
           "showlegend": true,
           "type": "scatter",
           "x": [
            84,
            88,
            90,
            95
           ],
           "xaxis": "x",
           "y": [
            15,
            15,
            15,
            15
           ],
           "yaxis": "y"
          },
          {
           "hovertemplate": "<b>%{hovertext}</b><br><br>pharm_n=קיראון ח.ת.<br>yyyy-mm=2019-11<br>pdax_c=%{marker.size}<br>unscheduled=%{y}<extra></extra>",
           "hovertext": [
            "קיראון ח.ת.",
            "קיראון ח.ת.",
            "קיראון ח.ת.",
            "קיראון ח.ת."
           ],
           "ids": [
            "קיראון ח.ת.",
            "קיראון ח.ת.",
            "קיראון ח.ת.",
            "קיראון ח.ת."
           ],
           "legendgroup": "קיראון ח.ת.",
           "marker": {
            "color": "#EF553B",
            "size": [
             62,
             73,
             48,
             53
            ],
            "sizemode": "area",
            "sizeref": 0.0162,
            "symbol": "circle"
           },
           "mode": "markers",
           "name": "קיראון ח.ת.",
           "showlegend": true,
           "type": "scatter",
           "x": [
            62,
            73,
            48,
            53
           ],
           "xaxis": "x",
           "y": [
            6,
            6,
            6,
            6
           ],
           "yaxis": "y"
          },
          {
           "hovertemplate": "<b>%{hovertext}</b><br><br>pharm_n=מודיעין ר\"ג ח.ת.<br>yyyy-mm=2019-11<br>pdax_c=%{marker.size}<br>unscheduled=%{y}<extra></extra>",
           "hovertext": [
            "מודיעין ר\"ג ח.ת.",
            "מודיעין ר\"ג ח.ת."
           ],
           "ids": [
            "מודיעין ר\"ג ח.ת.",
            "מודיעין ר\"ג ח.ת."
           ],
           "legendgroup": "מודיעין ר\"ג ח.ת.",
           "marker": {
            "color": "#00cc96",
            "size": [
             101,
             101
            ],
            "sizemode": "area",
            "sizeref": 0.0162,
            "symbol": "circle"
           },
           "mode": "markers",
           "name": "מודיעין ר\"ג ח.ת.",
           "showlegend": true,
           "type": "scatter",
           "x": [
            101,
            101
           ],
           "xaxis": "x",
           "y": [
            7,
            7
           ],
           "yaxis": "y"
          },
          {
           "hovertemplate": "<b>%{hovertext}</b><br><br>pharm_n=כרמים ח.ת.<br>yyyy-mm=2019-11<br>pdax_c=%{marker.size}<br>unscheduled=%{y}<extra></extra>",
           "hovertext": [
            "כרמים ח.ת.",
            "כרמים ח.ת.",
            "כרמים ח.ת.",
            "כרמים ח.ת."
           ],
           "ids": [
            "כרמים ח.ת.",
            "כרמים ח.ת.",
            "כרמים ח.ת.",
            "כרמים ח.ת."
           ],
           "legendgroup": "כרמים ח.ת.",
           "marker": {
            "color": "#ab63fa",
            "size": [
             57,
             55,
             65,
             68
            ],
            "sizemode": "area",
            "sizeref": 0.0162,
            "symbol": "circle"
           },
           "mode": "markers",
           "name": "כרמים ח.ת.",
           "showlegend": true,
           "type": "scatter",
           "x": [
            57,
            55,
            65,
            68
           ],
           "xaxis": "x",
           "y": [
            7,
            7,
            7,
            7
           ],
           "yaxis": "y"
          }
         ],
         "name": "2019-11"
        },
        {
         "data": [
          {
           "hovertemplate": "<b>%{hovertext}</b><br><br>pharm_n=חולון מקצ ח.ת.<br>yyyy-mm=2019-12<br>pdax_c=%{marker.size}<br>unscheduled=%{y}<extra></extra>",
           "hovertext": [
            "חולון מקצ ח.ת.",
            "חולון מקצ ח.ת.",
            "חולון מקצ ח.ת.",
            "חולון מקצ ח.ת."
           ],
           "ids": [
            "חולון מקצ ח.ת.",
            "חולון מקצ ח.ת.",
            "חולון מקצ ח.ת.",
            "חולון מקצ ח.ת."
           ],
           "legendgroup": "חולון מקצ ח.ת.",
           "marker": {
            "color": "#636efa",
            "size": [
             90,
             80,
             92,
             92
            ],
            "sizemode": "area",
            "sizeref": 0.0162,
            "symbol": "circle"
           },
           "mode": "markers",
           "name": "חולון מקצ ח.ת.",
           "showlegend": true,
           "type": "scatter",
           "x": [
            90,
            80,
            92,
            92
           ],
           "xaxis": "x",
           "y": [
            13,
            13,
            13,
            13
           ],
           "yaxis": "y"
          },
          {
           "hovertemplate": "<b>%{hovertext}</b><br><br>pharm_n=קיראון ח.ת.<br>yyyy-mm=2019-12<br>pdax_c=%{marker.size}<br>unscheduled=%{y}<extra></extra>",
           "hovertext": [
            "קיראון ח.ת.",
            "קיראון ח.ת.",
            "קיראון ח.ת.",
            "קיראון ח.ת."
           ],
           "ids": [
            "קיראון ח.ת.",
            "קיראון ח.ת.",
            "קיראון ח.ת.",
            "קיראון ח.ת."
           ],
           "legendgroup": "קיראון ח.ת.",
           "marker": {
            "color": "#EF553B",
            "size": [
             66,
             71,
             60,
             67
            ],
            "sizemode": "area",
            "sizeref": 0.0162,
            "symbol": "circle"
           },
           "mode": "markers",
           "name": "קיראון ח.ת.",
           "showlegend": true,
           "type": "scatter",
           "x": [
            66,
            71,
            60,
            67
           ],
           "xaxis": "x",
           "y": [
            5,
            5,
            5,
            5
           ],
           "yaxis": "y"
          },
          {
           "hovertemplate": "<b>%{hovertext}</b><br><br>pharm_n=מודיעין ר\"ג ח.ת.<br>yyyy-mm=2019-12<br>pdax_c=%{marker.size}<br>unscheduled=%{y}<extra></extra>",
           "hovertext": [
            "מודיעין ר\"ג ח.ת.",
            "מודיעין ר\"ג ח.ת.",
            "מודיעין ר\"ג ח.ת.",
            "מודיעין ר\"ג ח.ת.",
            "מודיעין ר\"ג ח.ת."
           ],
           "ids": [
            "מודיעין ר\"ג ח.ת.",
            "מודיעין ר\"ג ח.ת.",
            "מודיעין ר\"ג ח.ת.",
            "מודיעין ר\"ג ח.ת.",
            "מודיעין ר\"ג ח.ת."
           ],
           "legendgroup": "מודיעין ר\"ג ח.ת.",
           "marker": {
            "color": "#00cc96",
            "size": [
             102,
             100,
             107,
             100,
             100
            ],
            "sizemode": "area",
            "sizeref": 0.0162,
            "symbol": "circle"
           },
           "mode": "markers",
           "name": "מודיעין ר\"ג ח.ת.",
           "showlegend": true,
           "type": "scatter",
           "x": [
            102,
            100,
            107,
            100,
            100
           ],
           "xaxis": "x",
           "y": [
            5,
            5,
            5,
            5,
            5
           ],
           "yaxis": "y"
          },
          {
           "hovertemplate": "<b>%{hovertext}</b><br><br>pharm_n=כרמים ח.ת.<br>yyyy-mm=2019-12<br>pdax_c=%{marker.size}<br>unscheduled=%{y}<extra></extra>",
           "hovertext": [
            "כרמים ח.ת.",
            "כרמים ח.ת.",
            "כרמים ח.ת.",
            "כרמים ח.ת.",
            "כרמים ח.ת."
           ],
           "ids": [
            "כרמים ח.ת.",
            "כרמים ח.ת.",
            "כרמים ח.ת.",
            "כרמים ח.ת.",
            "כרמים ח.ת."
           ],
           "legendgroup": "כרמים ח.ת.",
           "marker": {
            "color": "#ab63fa",
            "size": [
             65,
             67,
             65,
             58,
             58
            ],
            "sizemode": "area",
            "sizeref": 0.0162,
            "symbol": "circle"
           },
           "mode": "markers",
           "name": "כרמים ח.ת.",
           "showlegend": true,
           "type": "scatter",
           "x": [
            65,
            67,
            65,
            58,
            58
           ],
           "xaxis": "x",
           "y": [
            12,
            12,
            12,
            12,
            12
           ],
           "yaxis": "y"
          }
         ],
         "name": "2019-12"
        },
        {
         "data": [
          {
           "hovertemplate": "<b>%{hovertext}</b><br><br>pharm_n=חולון מקצ ח.ת.<br>yyyy-mm=2020-1<br>pdax_c=%{marker.size}<br>unscheduled=%{y}<extra></extra>",
           "hovertext": [
            "חולון מקצ ח.ת.",
            "חולון מקצ ח.ת.",
            "חולון מקצ ח.ת.",
            "חולון מקצ ח.ת.",
            "חולון מקצ ח.ת."
           ],
           "ids": [
            "חולון מקצ ח.ת.",
            "חולון מקצ ח.ת.",
            "חולון מקצ ח.ת.",
            "חולון מקצ ח.ת.",
            "חולון מקצ ח.ת."
           ],
           "legendgroup": "חולון מקצ ח.ת.",
           "marker": {
            "color": "#636efa",
            "size": [
             104,
             99,
             133,
             106,
             105
            ],
            "sizemode": "area",
            "sizeref": 0.0162,
            "symbol": "circle"
           },
           "mode": "markers",
           "name": "חולון מקצ ח.ת.",
           "showlegend": true,
           "type": "scatter",
           "x": [
            104,
            99,
            133,
            106,
            105
           ],
           "xaxis": "x",
           "y": [
            15,
            15,
            15,
            15,
            15
           ],
           "yaxis": "y"
          },
          {
           "hovertemplate": "<b>%{hovertext}</b><br><br>pharm_n=קיראון ח.ת.<br>yyyy-mm=2020-1<br>pdax_c=%{marker.size}<br>unscheduled=%{y}<extra></extra>",
           "hovertext": [
            "קיראון ח.ת.",
            "קיראון ח.ת.",
            "קיראון ח.ת.",
            "קיראון ח.ת.",
            "קיראון ח.ת."
           ],
           "ids": [
            "קיראון ח.ת.",
            "קיראון ח.ת.",
            "קיראון ח.ת.",
            "קיראון ח.ת.",
            "קיראון ח.ת."
           ],
           "legendgroup": "קיראון ח.ת.",
           "marker": {
            "color": "#EF553B",
            "size": [
             68,
             75,
             72,
             53,
             55
            ],
            "sizemode": "area",
            "sizeref": 0.0162,
            "symbol": "circle"
           },
           "mode": "markers",
           "name": "קיראון ח.ת.",
           "showlegend": true,
           "type": "scatter",
           "x": [
            68,
            75,
            72,
            53,
            55
           ],
           "xaxis": "x",
           "y": [
            6,
            6,
            6,
            6,
            6
           ],
           "yaxis": "y"
          },
          {
           "hovertemplate": "<b>%{hovertext}</b><br><br>pharm_n=מודיעין ר\"ג ח.ת.<br>yyyy-mm=2020-1<br>pdax_c=%{marker.size}<br>unscheduled=%{y}<extra></extra>",
           "hovertext": [
            "מודיעין ר\"ג ח.ת.",
            "מודיעין ר\"ג ח.ת.",
            "מודיעין ר\"ג ח.ת.",
            "מודיעין ר\"ג ח.ת."
           ],
           "ids": [
            "מודיעין ר\"ג ח.ת.",
            "מודיעין ר\"ג ח.ת.",
            "מודיעין ר\"ג ח.ת.",
            "מודיעין ר\"ג ח.ת."
           ],
           "legendgroup": "מודיעין ר\"ג ח.ת.",
           "marker": {
            "color": "#00cc96",
            "size": [
             78,
             100,
             99,
             79
            ],
            "sizemode": "area",
            "sizeref": 0.0162,
            "symbol": "circle"
           },
           "mode": "markers",
           "name": "מודיעין ר\"ג ח.ת.",
           "showlegend": true,
           "type": "scatter",
           "x": [
            78,
            100,
            99,
            79
           ],
           "xaxis": "x",
           "y": [
            11,
            11,
            11,
            11
           ],
           "yaxis": "y"
          },
          {
           "hovertemplate": "<b>%{hovertext}</b><br><br>pharm_n=כרמים ח.ת.<br>yyyy-mm=2020-1<br>pdax_c=%{marker.size}<br>unscheduled=%{y}<extra></extra>",
           "hovertext": [
            "כרמים ח.ת.",
            "כרמים ח.ת.",
            "כרמים ח.ת.",
            "כרמים ח.ת."
           ],
           "ids": [
            "כרמים ח.ת.",
            "כרמים ח.ת.",
            "כרמים ח.ת.",
            "כרמים ח.ת."
           ],
           "legendgroup": "כרמים ח.ת.",
           "marker": {
            "color": "#ab63fa",
            "size": [
             58,
             68,
             63,
             66
            ],
            "sizemode": "area",
            "sizeref": 0.0162,
            "symbol": "circle"
           },
           "mode": "markers",
           "name": "כרמים ח.ת.",
           "showlegend": true,
           "type": "scatter",
           "x": [
            58,
            68,
            63,
            66
           ],
           "xaxis": "x",
           "y": [
            13,
            13,
            13,
            13
           ],
           "yaxis": "y"
          }
         ],
         "name": "2020-1"
        },
        {
         "data": [
          {
           "hovertemplate": "<b>%{hovertext}</b><br><br>pharm_n=חולון מקצ ח.ת.<br>yyyy-mm=2020-2<br>pdax_c=%{marker.size}<br>unscheduled=%{y}<extra></extra>",
           "hovertext": [
            "חולון מקצ ח.ת.",
            "חולון מקצ ח.ת.",
            "חולון מקצ ח.ת.",
            "חולון מקצ ח.ת."
           ],
           "ids": [
            "חולון מקצ ח.ת.",
            "חולון מקצ ח.ת.",
            "חולון מקצ ח.ת.",
            "חולון מקצ ח.ת."
           ],
           "legendgroup": "חולון מקצ ח.ת.",
           "marker": {
            "color": "#636efa",
            "size": [
             109,
             99,
             107,
             99
            ],
            "sizemode": "area",
            "sizeref": 0.0162,
            "symbol": "circle"
           },
           "mode": "markers",
           "name": "חולון מקצ ח.ת.",
           "showlegend": true,
           "type": "scatter",
           "x": [
            109,
            99,
            107,
            99
           ],
           "xaxis": "x",
           "y": [
            12,
            12,
            12,
            12
           ],
           "yaxis": "y"
          },
          {
           "hovertemplate": "<b>%{hovertext}</b><br><br>pharm_n=קיראון ח.ת.<br>yyyy-mm=2020-2<br>pdax_c=%{marker.size}<br>unscheduled=%{y}<extra></extra>",
           "hovertext": [
            "קיראון ח.ת.",
            "קיראון ח.ת.",
            "קיראון ח.ת.",
            "קיראון ח.ת."
           ],
           "ids": [
            "קיראון ח.ת.",
            "קיראון ח.ת.",
            "קיראון ח.ת.",
            "קיראון ח.ת."
           ],
           "legendgroup": "קיראון ח.ת.",
           "marker": {
            "color": "#EF553B",
            "size": [
             72,
             67,
             56,
             75
            ],
            "sizemode": "area",
            "sizeref": 0.0162,
            "symbol": "circle"
           },
           "mode": "markers",
           "name": "קיראון ח.ת.",
           "showlegend": true,
           "type": "scatter",
           "x": [
            72,
            67,
            56,
            75
           ],
           "xaxis": "x",
           "y": [
            7,
            7,
            7,
            7
           ],
           "yaxis": "y"
          },
          {
           "hovertemplate": "<b>%{hovertext}</b><br><br>pharm_n=מודיעין ר\"ג ח.ת.<br>yyyy-mm=2020-2<br>pdax_c=%{marker.size}<br>unscheduled=%{y}<extra></extra>",
           "hovertext": [
            "מודיעין ר\"ג ח.ת.",
            "מודיעין ר\"ג ח.ת.",
            "מודיעין ר\"ג ח.ת.",
            "מודיעין ר\"ג ח.ת."
           ],
           "ids": [
            "מודיעין ר\"ג ח.ת.",
            "מודיעין ר\"ג ח.ת.",
            "מודיעין ר\"ג ח.ת.",
            "מודיעין ר\"ג ח.ת."
           ],
           "legendgroup": "מודיעין ר\"ג ח.ת.",
           "marker": {
            "color": "#00cc96",
            "size": [
             100,
             75,
             101,
             99
            ],
            "sizemode": "area",
            "sizeref": 0.0162,
            "symbol": "circle"
           },
           "mode": "markers",
           "name": "מודיעין ר\"ג ח.ת.",
           "showlegend": true,
           "type": "scatter",
           "x": [
            100,
            75,
            101,
            99
           ],
           "xaxis": "x",
           "y": [
            7,
            7,
            7,
            7
           ],
           "yaxis": "y"
          },
          {
           "hovertemplate": "<b>%{hovertext}</b><br><br>pharm_n=כרמים ח.ת.<br>yyyy-mm=2020-2<br>pdax_c=%{marker.size}<br>unscheduled=%{y}<extra></extra>",
           "hovertext": [
            "כרמים ח.ת.",
            "כרמים ח.ת.",
            "כרמים ח.ת.",
            "כרמים ח.ת."
           ],
           "ids": [
            "כרמים ח.ת.",
            "כרמים ח.ת.",
            "כרמים ח.ת.",
            "כרמים ח.ת."
           ],
           "legendgroup": "כרמים ח.ת.",
           "marker": {
            "color": "#ab63fa",
            "size": [
             64,
             71,
             59,
             66
            ],
            "sizemode": "area",
            "sizeref": 0.0162,
            "symbol": "circle"
           },
           "mode": "markers",
           "name": "כרמים ח.ת.",
           "showlegend": true,
           "type": "scatter",
           "x": [
            64,
            71,
            59,
            66
           ],
           "xaxis": "x",
           "y": [
            11,
            11,
            11,
            11
           ],
           "yaxis": "y"
          }
         ],
         "name": "2020-2"
        },
        {
         "data": [
          {
           "hovertemplate": "<b>%{hovertext}</b><br><br>pharm_n=חולון מקצ ח.ת.<br>yyyy-mm=2020-3<br>pdax_c=%{marker.size}<br>unscheduled=%{y}<extra></extra>",
           "hovertext": [
            "חולון מקצ ח.ת.",
            "חולון מקצ ח.ת.",
            "חולון מקצ ח.ת.",
            "חולון מקצ ח.ת.",
            "חולון מקצ ח.ת."
           ],
           "ids": [
            "חולון מקצ ח.ת.",
            "חולון מקצ ח.ת.",
            "חולון מקצ ח.ת.",
            "חולון מקצ ח.ת.",
            "חולון מקצ ח.ת."
           ],
           "legendgroup": "חולון מקצ ח.ת.",
           "marker": {
            "color": "#636efa",
            "size": [
             81,
             108,
             66,
             89,
             89
            ],
            "sizemode": "area",
            "sizeref": 0.0162,
            "symbol": "circle"
           },
           "mode": "markers",
           "name": "חולון מקצ ח.ת.",
           "showlegend": true,
           "type": "scatter",
           "x": [
            81,
            108,
            66,
            89,
            89
           ],
           "xaxis": "x",
           "y": [
            18,
            18,
            18,
            18,
            18
           ],
           "yaxis": "y"
          },
          {
           "hovertemplate": "<b>%{hovertext}</b><br><br>pharm_n=קיראון ח.ת.<br>yyyy-mm=2020-3<br>pdax_c=%{marker.size}<br>unscheduled=%{y}<extra></extra>",
           "hovertext": [
            "קיראון ח.ת.",
            "קיראון ח.ת.",
            "קיראון ח.ת.",
            "קיראון ח.ת.",
            "קיראון ח.ת."
           ],
           "ids": [
            "קיראון ח.ת.",
            "קיראון ח.ת.",
            "קיראון ח.ת.",
            "קיראון ח.ת.",
            "קיראון ח.ת."
           ],
           "legendgroup": "קיראון ח.ת.",
           "marker": {
            "color": "#EF553B",
            "size": [
             90,
             61,
             71,
             109,
             99
            ],
            "sizemode": "area",
            "sizeref": 0.0162,
            "symbol": "circle"
           },
           "mode": "markers",
           "name": "קיראון ח.ת.",
           "showlegend": true,
           "type": "scatter",
           "x": [
            90,
            61,
            71,
            109,
            99
           ],
           "xaxis": "x",
           "y": [
            12,
            12,
            12,
            12,
            12
           ],
           "yaxis": "y"
          },
          {
           "hovertemplate": "<b>%{hovertext}</b><br><br>pharm_n=מודיעין ר\"ג ח.ת.<br>yyyy-mm=2020-3<br>pdax_c=%{marker.size}<br>unscheduled=%{y}<extra></extra>",
           "hovertext": [
            "מודיעין ר\"ג ח.ת.",
            "מודיעין ר\"ג ח.ת.",
            "מודיעין ר\"ג ח.ת.",
            "מודיעין ר\"ג ח.ת.",
            "מודיעין ר\"ג ח.ת."
           ],
           "ids": [
            "מודיעין ר\"ג ח.ת.",
            "מודיעין ר\"ג ח.ת.",
            "מודיעין ר\"ג ח.ת.",
            "מודיעין ר\"ג ח.ת.",
            "מודיעין ר\"ג ח.ת."
           ],
           "legendgroup": "מודיעין ר\"ג ח.ת.",
           "marker": {
            "color": "#00cc96",
            "size": [
             100,
             112,
             103,
             81,
             103
            ],
            "sizemode": "area",
            "sizeref": 0.0162,
            "symbol": "circle"
           },
           "mode": "markers",
           "name": "מודיעין ר\"ג ח.ת.",
           "showlegend": true,
           "type": "scatter",
           "x": [
            100,
            112,
            103,
            81,
            103
           ],
           "xaxis": "x",
           "y": [
            18,
            18,
            18,
            18,
            18
           ],
           "yaxis": "y"
          },
          {
           "hovertemplate": "<b>%{hovertext}</b><br><br>pharm_n=כרמים ח.ת.<br>yyyy-mm=2020-3<br>pdax_c=%{marker.size}<br>unscheduled=%{y}<extra></extra>",
           "hovertext": [
            "כרמים ח.ת.",
            "כרמים ח.ת.",
            "כרמים ח.ת.",
            "כרמים ח.ת."
           ],
           "ids": [
            "כרמים ח.ת.",
            "כרמים ח.ת.",
            "כרמים ח.ת.",
            "כרמים ח.ת."
           ],
           "legendgroup": "כרמים ח.ת.",
           "marker": {
            "color": "#ab63fa",
            "size": [
             63,
             65,
             57,
             53
            ],
            "sizemode": "area",
            "sizeref": 0.0162,
            "symbol": "circle"
           },
           "mode": "markers",
           "name": "כרמים ח.ת.",
           "showlegend": true,
           "type": "scatter",
           "x": [
            63,
            65,
            57,
            53
           ],
           "xaxis": "x",
           "y": [
            12,
            12,
            12,
            12
           ],
           "yaxis": "y"
          }
         ],
         "name": "2020-3"
        },
        {
         "data": [
          {
           "hovertemplate": "<b>%{hovertext}</b><br><br>pharm_n=חולון מקצ ח.ת.<br>yyyy-mm=2020-4<br>pdax_c=%{marker.size}<br>unscheduled=%{y}<extra></extra>",
           "hovertext": [
            "חולון מקצ ח.ת.",
            "חולון מקצ ח.ת.",
            "חולון מקצ ח.ת.",
            "חולון מקצ ח.ת."
           ],
           "ids": [
            "חולון מקצ ח.ת.",
            "חולון מקצ ח.ת.",
            "חולון מקצ ח.ת.",
            "חולון מקצ ח.ת."
           ],
           "legendgroup": "חולון מקצ ח.ת.",
           "marker": {
            "color": "#636efa",
            "size": [
             68,
             58,
             85,
             88
            ],
            "sizemode": "area",
            "sizeref": 0.0162,
            "symbol": "circle"
           },
           "mode": "markers",
           "name": "חולון מקצ ח.ת.",
           "showlegend": true,
           "type": "scatter",
           "x": [
            68,
            58,
            85,
            88
           ],
           "xaxis": "x",
           "y": [
            12,
            12,
            12,
            12
           ],
           "yaxis": "y"
          },
          {
           "hovertemplate": "<b>%{hovertext}</b><br><br>pharm_n=קיראון ח.ת.<br>yyyy-mm=2020-4<br>pdax_c=%{marker.size}<br>unscheduled=%{y}<extra></extra>",
           "hovertext": [
            "קיראון ח.ת.",
            "קיראון ח.ת."
           ],
           "ids": [
            "קיראון ח.ת.",
            "קיראון ח.ת."
           ],
           "legendgroup": "קיראון ח.ת.",
           "marker": {
            "color": "#EF553B",
            "size": [
             56,
             67
            ],
            "sizemode": "area",
            "sizeref": 0.0162,
            "symbol": "circle"
           },
           "mode": "markers",
           "name": "קיראון ח.ת.",
           "showlegend": true,
           "type": "scatter",
           "x": [
            56,
            67
           ],
           "xaxis": "x",
           "y": [
            13,
            13
           ],
           "yaxis": "y"
          },
          {
           "hovertemplate": "<b>%{hovertext}</b><br><br>pharm_n=מודיעין ר\"ג ח.ת.<br>yyyy-mm=2020-4<br>pdax_c=%{marker.size}<br>unscheduled=%{y}<extra></extra>",
           "hovertext": [
            "מודיעין ר\"ג ח.ת.",
            "מודיעין ר\"ג ח.ת."
           ],
           "ids": [
            "מודיעין ר\"ג ח.ת.",
            "מודיעין ר\"ג ח.ת."
           ],
           "legendgroup": "מודיעין ר\"ג ח.ת.",
           "marker": {
            "color": "#00cc96",
            "size": [
             70,
             74
            ],
            "sizemode": "area",
            "sizeref": 0.0162,
            "symbol": "circle"
           },
           "mode": "markers",
           "name": "מודיעין ר\"ג ח.ת.",
           "showlegend": true,
           "type": "scatter",
           "x": [
            70,
            74
           ],
           "xaxis": "x",
           "y": [
            18,
            18
           ],
           "yaxis": "y"
          },
          {
           "hovertemplate": "<b>%{hovertext}</b><br><br>pharm_n=כרמים ח.ת.<br>yyyy-mm=2020-4<br>pdax_c=%{marker.size}<br>unscheduled=%{y}<extra></extra>",
           "hovertext": [
            "כרמים ח.ת.",
            "כרמים ח.ת.",
            "כרמים ח.ת.",
            "כרמים ח.ת."
           ],
           "ids": [
            "כרמים ח.ת.",
            "כרמים ח.ת.",
            "כרמים ח.ת.",
            "כרמים ח.ת."
           ],
           "legendgroup": "כרמים ח.ת.",
           "marker": {
            "color": "#ab63fa",
            "size": [
             75,
             72,
             70,
             67
            ],
            "sizemode": "area",
            "sizeref": 0.0162,
            "symbol": "circle"
           },
           "mode": "markers",
           "name": "כרמים ח.ת.",
           "showlegend": true,
           "type": "scatter",
           "x": [
            75,
            72,
            70,
            67
           ],
           "xaxis": "x",
           "y": [
            5,
            5,
            5,
            5
           ],
           "yaxis": "y"
          }
         ],
         "name": "2020-4"
        },
        {
         "data": [
          {
           "hovertemplate": "<b>%{hovertext}</b><br><br>pharm_n=חולון מקצ ח.ת.<br>yyyy-mm=2020-5<br>pdax_c=%{marker.size}<br>unscheduled=%{y}<extra></extra>",
           "hovertext": [
            "חולון מקצ ח.ת.",
            "חולון מקצ ח.ת.",
            "חולון מקצ ח.ת.",
            "חולון מקצ ח.ת."
           ],
           "ids": [
            "חולון מקצ ח.ת.",
            "חולון מקצ ח.ת.",
            "חולון מקצ ח.ת.",
            "חולון מקצ ח.ת."
           ],
           "legendgroup": "חולון מקצ ח.ת.",
           "marker": {
            "color": "#636efa",
            "size": [
             71,
             83,
             59,
             81
            ],
            "sizemode": "area",
            "sizeref": 0.0162,
            "symbol": "circle"
           },
           "mode": "markers",
           "name": "חולון מקצ ח.ת.",
           "showlegend": true,
           "type": "scatter",
           "x": [
            71,
            83,
            59,
            81
           ],
           "xaxis": "x",
           "y": [
            16,
            16,
            16,
            16
           ],
           "yaxis": "y"
          },
          {
           "hovertemplate": "<b>%{hovertext}</b><br><br>pharm_n=קיראון ח.ת.<br>yyyy-mm=2020-5<br>pdax_c=%{marker.size}<br>unscheduled=%{y}<extra></extra>",
           "hovertext": [
            "קיראון ח.ת.",
            "קיראון ח.ת.",
            "קיראון ח.ת.",
            "קיראון ח.ת."
           ],
           "ids": [
            "קיראון ח.ת.",
            "קיראון ח.ת.",
            "קיראון ח.ת.",
            "קיראון ח.ת."
           ],
           "legendgroup": "קיראון ח.ת.",
           "marker": {
            "color": "#EF553B",
            "size": [
             65,
             68,
             70,
             54
            ],
            "sizemode": "area",
            "sizeref": 0.0162,
            "symbol": "circle"
           },
           "mode": "markers",
           "name": "קיראון ח.ת.",
           "showlegend": true,
           "type": "scatter",
           "x": [
            65,
            68,
            70,
            54
           ],
           "xaxis": "x",
           "y": [
            12,
            12,
            12,
            12
           ],
           "yaxis": "y"
          },
          {
           "hovertemplate": "<b>%{hovertext}</b><br><br>pharm_n=מודיעין ר\"ג ח.ת.<br>yyyy-mm=2020-5<br>pdax_c=%{marker.size}<br>unscheduled=%{y}<extra></extra>",
           "hovertext": [
            "מודיעין ר\"ג ח.ת.",
            "מודיעין ר\"ג ח.ת."
           ],
           "ids": [
            "מודיעין ר\"ג ח.ת.",
            "מודיעין ר\"ג ח.ת."
           ],
           "legendgroup": "מודיעין ר\"ג ח.ת.",
           "marker": {
            "color": "#00cc96",
            "size": [
             81,
             101
            ],
            "sizemode": "area",
            "sizeref": 0.0162,
            "symbol": "circle"
           },
           "mode": "markers",
           "name": "מודיעין ר\"ג ח.ת.",
           "showlegend": true,
           "type": "scatter",
           "x": [
            81,
            101
           ],
           "xaxis": "x",
           "y": [
            10,
            10
           ],
           "yaxis": "y"
          },
          {
           "hovertemplate": "<b>%{hovertext}</b><br><br>pharm_n=כרמים ח.ת.<br>yyyy-mm=2020-5<br>pdax_c=%{marker.size}<br>unscheduled=%{y}<extra></extra>",
           "hovertext": [
            "כרמים ח.ת.",
            "כרמים ח.ת.",
            "כרמים ח.ת.",
            "כרמים ח.ת."
           ],
           "ids": [
            "כרמים ח.ת.",
            "כרמים ח.ת.",
            "כרמים ח.ת.",
            "כרמים ח.ת."
           ],
           "legendgroup": "כרמים ח.ת.",
           "marker": {
            "color": "#ab63fa",
            "size": [
             74,
             69,
             75,
             63
            ],
            "sizemode": "area",
            "sizeref": 0.0162,
            "symbol": "circle"
           },
           "mode": "markers",
           "name": "כרמים ח.ת.",
           "showlegend": true,
           "type": "scatter",
           "x": [
            74,
            69,
            75,
            63
           ],
           "xaxis": "x",
           "y": [
            12,
            12,
            12,
            12
           ],
           "yaxis": "y"
          }
         ],
         "name": "2020-5"
        },
        {
         "data": [
          {
           "hovertemplate": "<b>%{hovertext}</b><br><br>pharm_n=חולון מקצ ח.ת.<br>yyyy-mm=2020-6<br>pdax_c=%{marker.size}<br>unscheduled=%{y}<extra></extra>",
           "hovertext": [
            "חולון מקצ ח.ת.",
            "חולון מקצ ח.ת.",
            "חולון מקצ ח.ת.",
            "חולון מקצ ח.ת."
           ],
           "ids": [
            "חולון מקצ ח.ת.",
            "חולון מקצ ח.ת.",
            "חולון מקצ ח.ת.",
            "חולון מקצ ח.ת."
           ],
           "legendgroup": "חולון מקצ ח.ת.",
           "marker": {
            "color": "#636efa",
            "size": [
             66,
             82,
             19,
             162
            ],
            "sizemode": "area",
            "sizeref": 0.0162,
            "symbol": "circle"
           },
           "mode": "markers",
           "name": "חולון מקצ ח.ת.",
           "showlegend": true,
           "type": "scatter",
           "x": [
            66,
            82,
            19,
            162
           ],
           "xaxis": "x",
           "y": [
            16,
            16,
            16,
            16
           ],
           "yaxis": "y"
          },
          {
           "hovertemplate": "<b>%{hovertext}</b><br><br>pharm_n=קיראון ח.ת.<br>yyyy-mm=2020-6<br>pdax_c=%{marker.size}<br>unscheduled=%{y}<extra></extra>",
           "hovertext": [
            "קיראון ח.ת.",
            "קיראון ח.ת.",
            "קיראון ח.ת.",
            "קיראון ח.ת.",
            "קיראון ח.ת."
           ],
           "ids": [
            "קיראון ח.ת.",
            "קיראון ח.ת.",
            "קיראון ח.ת.",
            "קיראון ח.ת.",
            "קיראון ח.ת."
           ],
           "legendgroup": "קיראון ח.ת.",
           "marker": {
            "color": "#EF553B",
            "size": [
             57,
             79,
             73,
             71,
             39
            ],
            "sizemode": "area",
            "sizeref": 0.0162,
            "symbol": "circle"
           },
           "mode": "markers",
           "name": "קיראון ח.ת.",
           "showlegend": true,
           "type": "scatter",
           "x": [
            57,
            79,
            73,
            71,
            39
           ],
           "xaxis": "x",
           "y": [
            11,
            11,
            11,
            11,
            11
           ],
           "yaxis": "y"
          },
          {
           "hovertemplate": "<b>%{hovertext}</b><br><br>pharm_n=מודיעין ר\"ג ח.ת.<br>yyyy-mm=2020-6<br>pdax_c=%{marker.size}<br>unscheduled=%{y}<extra></extra>",
           "hovertext": [
            "מודיעין ר\"ג ח.ת.",
            "מודיעין ר\"ג ח.ת.",
            "מודיעין ר\"ג ח.ת.",
            "מודיעין ר\"ג ח.ת."
           ],
           "ids": [
            "מודיעין ר\"ג ח.ת.",
            "מודיעין ר\"ג ח.ת.",
            "מודיעין ר\"ג ח.ת.",
            "מודיעין ר\"ג ח.ת."
           ],
           "legendgroup": "מודיעין ר\"ג ח.ת.",
           "marker": {
            "color": "#00cc96",
            "size": [
             46,
             25,
             19,
             4
            ],
            "sizemode": "area",
            "sizeref": 0.0162,
            "symbol": "circle"
           },
           "mode": "markers",
           "name": "מודיעין ר\"ג ח.ת.",
           "showlegend": true,
           "type": "scatter",
           "x": [
            46,
            25,
            19,
            4
           ],
           "xaxis": "x",
           "y": [
            9,
            9,
            9,
            9
           ],
           "yaxis": "y"
          },
          {
           "hovertemplate": "<b>%{hovertext}</b><br><br>pharm_n=כרמים ח.ת.<br>yyyy-mm=2020-6<br>pdax_c=%{marker.size}<br>unscheduled=%{y}<extra></extra>",
           "hovertext": [
            "כרמים ח.ת.",
            "כרמים ח.ת.",
            "כרמים ח.ת.",
            "כרמים ח.ת."
           ],
           "ids": [
            "כרמים ח.ת.",
            "כרמים ח.ת.",
            "כרמים ח.ת.",
            "כרמים ח.ת."
           ],
           "legendgroup": "כרמים ח.ת.",
           "marker": {
            "color": "#ab63fa",
            "size": [
             58,
             29,
             26,
             40
            ],
            "sizemode": "area",
            "sizeref": 0.0162,
            "symbol": "circle"
           },
           "mode": "markers",
           "name": "כרמים ח.ת.",
           "showlegend": true,
           "type": "scatter",
           "x": [
            58,
            29,
            26,
            40
           ],
           "xaxis": "x",
           "y": [
            16,
            16,
            16,
            16
           ],
           "yaxis": "y"
          }
         ],
         "name": "2020-6"
        },
        {
         "data": [
          {
           "hovertemplate": "<b>%{hovertext}</b><br><br>pharm_n=חולון מקצ ח.ת.<br>yyyy-mm=2020-7<br>pdax_c=%{marker.size}<br>unscheduled=%{y}<extra></extra>",
           "hovertext": [
            "חולון מקצ ח.ת.",
            "חולון מקצ ח.ת.",
            "חולון מקצ ח.ת."
           ],
           "ids": [
            "חולון מקצ ח.ת.",
            "חולון מקצ ח.ת.",
            "חולון מקצ ח.ת."
           ],
           "legendgroup": "חולון מקצ ח.ת.",
           "marker": {
            "color": "#636efa",
            "size": [
             43,
             12,
             19
            ],
            "sizemode": "area",
            "sizeref": 0.0162,
            "symbol": "circle"
           },
           "mode": "markers",
           "name": "חולון מקצ ח.ת.",
           "showlegend": true,
           "type": "scatter",
           "x": [
            43,
            12,
            19
           ],
           "xaxis": "x",
           "y": [
            12,
            12,
            12
           ],
           "yaxis": "y"
          },
          {
           "hovertemplate": "<b>%{hovertext}</b><br><br>pharm_n=קיראון ח.ת.<br>yyyy-mm=2020-7<br>pdax_c=%{marker.size}<br>unscheduled=%{y}<extra></extra>",
           "hovertext": [
            "קיראון ח.ת.",
            "קיראון ח.ת."
           ],
           "ids": [
            "קיראון ח.ת.",
            "קיראון ח.ת."
           ],
           "legendgroup": "קיראון ח.ת.",
           "marker": {
            "color": "#EF553B",
            "size": [
             47,
             36
            ],
            "sizemode": "area",
            "sizeref": 0.0162,
            "symbol": "circle"
           },
           "mode": "markers",
           "name": "קיראון ח.ת.",
           "showlegend": true,
           "type": "scatter",
           "x": [
            47,
            36
           ],
           "xaxis": "x",
           "y": [
            4,
            4
           ],
           "yaxis": "y"
          },
          {
           "hovertemplate": "<b>%{hovertext}</b><br><br>pharm_n=מודיעין ר\"ג ח.ת.<br>yyyy-mm=2020-7<br>pdax_c=%{marker.size}<br>unscheduled=%{y}<extra></extra>",
           "hovertext": [
            "מודיעין ר\"ג ח.ת.",
            "מודיעין ר\"ג ח.ת."
           ],
           "ids": [
            "מודיעין ר\"ג ח.ת.",
            "מודיעין ר\"ג ח.ת."
           ],
           "legendgroup": "מודיעין ר\"ג ח.ת.",
           "marker": {
            "color": "#00cc96",
            "size": [
             4,
             9
            ],
            "sizemode": "area",
            "sizeref": 0.0162,
            "symbol": "circle"
           },
           "mode": "markers",
           "name": "מודיעין ר\"ג ח.ת.",
           "showlegend": true,
           "type": "scatter",
           "x": [
            4,
            9
           ],
           "xaxis": "x",
           "y": [
            5,
            5
           ],
           "yaxis": "y"
          },
          {
           "hovertemplate": "<b>%{hovertext}</b><br><br>pharm_n=כרמים ח.ת.<br>yyyy-mm=2020-7<br>pdax_c=%{marker.size}<br>unscheduled=%{y}<extra></extra>",
           "hovertext": [
            "כרמים ח.ת.",
            "כרמים ח.ת."
           ],
           "ids": [
            "כרמים ח.ת.",
            "כרמים ח.ת."
           ],
           "legendgroup": "כרמים ח.ת.",
           "marker": {
            "color": "#ab63fa",
            "size": [
             25,
             36
            ],
            "sizemode": "area",
            "sizeref": 0.0162,
            "symbol": "circle"
           },
           "mode": "markers",
           "name": "כרמים ח.ת.",
           "showlegend": true,
           "type": "scatter",
           "x": [
            25,
            36
           ],
           "xaxis": "x",
           "y": [
            11,
            11
           ],
           "yaxis": "y"
          }
         ],
         "name": "2020-7"
        }
       ],
       "layout": {
        "legend": {
         "itemsizing": "constant",
         "title": {
          "text": "pharm_n"
         },
         "tracegroupgap": 0
        },
        "margin": {
         "t": 60
        },
        "sliders": [
         {
          "active": 0,
          "currentvalue": {
           "prefix": "yyyy-mm="
          },
          "len": 0.9,
          "pad": {
           "b": 10,
           "t": 60
          },
          "steps": [
           {
            "args": [
             [
              "2018-7"
             ],
             {
              "frame": {
               "duration": 0,
               "redraw": false
              },
              "fromcurrent": true,
              "mode": "immediate",
              "transition": {
               "duration": 0,
               "easing": "linear"
              }
             }
            ],
            "label": "2018-7",
            "method": "animate"
           },
           {
            "args": [
             [
              "2018-8"
             ],
             {
              "frame": {
               "duration": 0,
               "redraw": false
              },
              "fromcurrent": true,
              "mode": "immediate",
              "transition": {
               "duration": 0,
               "easing": "linear"
              }
             }
            ],
            "label": "2018-8",
            "method": "animate"
           },
           {
            "args": [
             [
              "2018-9"
             ],
             {
              "frame": {
               "duration": 0,
               "redraw": false
              },
              "fromcurrent": true,
              "mode": "immediate",
              "transition": {
               "duration": 0,
               "easing": "linear"
              }
             }
            ],
            "label": "2018-9",
            "method": "animate"
           },
           {
            "args": [
             [
              "2018-10"
             ],
             {
              "frame": {
               "duration": 0,
               "redraw": false
              },
              "fromcurrent": true,
              "mode": "immediate",
              "transition": {
               "duration": 0,
               "easing": "linear"
              }
             }
            ],
            "label": "2018-10",
            "method": "animate"
           },
           {
            "args": [
             [
              "2018-11"
             ],
             {
              "frame": {
               "duration": 0,
               "redraw": false
              },
              "fromcurrent": true,
              "mode": "immediate",
              "transition": {
               "duration": 0,
               "easing": "linear"
              }
             }
            ],
            "label": "2018-11",
            "method": "animate"
           },
           {
            "args": [
             [
              "2018-12"
             ],
             {
              "frame": {
               "duration": 0,
               "redraw": false
              },
              "fromcurrent": true,
              "mode": "immediate",
              "transition": {
               "duration": 0,
               "easing": "linear"
              }
             }
            ],
            "label": "2018-12",
            "method": "animate"
           },
           {
            "args": [
             [
              "2019-1"
             ],
             {
              "frame": {
               "duration": 0,
               "redraw": false
              },
              "fromcurrent": true,
              "mode": "immediate",
              "transition": {
               "duration": 0,
               "easing": "linear"
              }
             }
            ],
            "label": "2019-1",
            "method": "animate"
           },
           {
            "args": [
             [
              "2019-2"
             ],
             {
              "frame": {
               "duration": 0,
               "redraw": false
              },
              "fromcurrent": true,
              "mode": "immediate",
              "transition": {
               "duration": 0,
               "easing": "linear"
              }
             }
            ],
            "label": "2019-2",
            "method": "animate"
           },
           {
            "args": [
             [
              "2019-3"
             ],
             {
              "frame": {
               "duration": 0,
               "redraw": false
              },
              "fromcurrent": true,
              "mode": "immediate",
              "transition": {
               "duration": 0,
               "easing": "linear"
              }
             }
            ],
            "label": "2019-3",
            "method": "animate"
           },
           {
            "args": [
             [
              "2019-4"
             ],
             {
              "frame": {
               "duration": 0,
               "redraw": false
              },
              "fromcurrent": true,
              "mode": "immediate",
              "transition": {
               "duration": 0,
               "easing": "linear"
              }
             }
            ],
            "label": "2019-4",
            "method": "animate"
           },
           {
            "args": [
             [
              "2019-5"
             ],
             {
              "frame": {
               "duration": 0,
               "redraw": false
              },
              "fromcurrent": true,
              "mode": "immediate",
              "transition": {
               "duration": 0,
               "easing": "linear"
              }
             }
            ],
            "label": "2019-5",
            "method": "animate"
           },
           {
            "args": [
             [
              "2019-6"
             ],
             {
              "frame": {
               "duration": 0,
               "redraw": false
              },
              "fromcurrent": true,
              "mode": "immediate",
              "transition": {
               "duration": 0,
               "easing": "linear"
              }
             }
            ],
            "label": "2019-6",
            "method": "animate"
           },
           {
            "args": [
             [
              "2019-7"
             ],
             {
              "frame": {
               "duration": 0,
               "redraw": false
              },
              "fromcurrent": true,
              "mode": "immediate",
              "transition": {
               "duration": 0,
               "easing": "linear"
              }
             }
            ],
            "label": "2019-7",
            "method": "animate"
           },
           {
            "args": [
             [
              "2019-8"
             ],
             {
              "frame": {
               "duration": 0,
               "redraw": false
              },
              "fromcurrent": true,
              "mode": "immediate",
              "transition": {
               "duration": 0,
               "easing": "linear"
              }
             }
            ],
            "label": "2019-8",
            "method": "animate"
           },
           {
            "args": [
             [
              "2019-9"
             ],
             {
              "frame": {
               "duration": 0,
               "redraw": false
              },
              "fromcurrent": true,
              "mode": "immediate",
              "transition": {
               "duration": 0,
               "easing": "linear"
              }
             }
            ],
            "label": "2019-9",
            "method": "animate"
           },
           {
            "args": [
             [
              "2019-10"
             ],
             {
              "frame": {
               "duration": 0,
               "redraw": false
              },
              "fromcurrent": true,
              "mode": "immediate",
              "transition": {
               "duration": 0,
               "easing": "linear"
              }
             }
            ],
            "label": "2019-10",
            "method": "animate"
           },
           {
            "args": [
             [
              "2019-11"
             ],
             {
              "frame": {
               "duration": 0,
               "redraw": false
              },
              "fromcurrent": true,
              "mode": "immediate",
              "transition": {
               "duration": 0,
               "easing": "linear"
              }
             }
            ],
            "label": "2019-11",
            "method": "animate"
           },
           {
            "args": [
             [
              "2019-12"
             ],
             {
              "frame": {
               "duration": 0,
               "redraw": false
              },
              "fromcurrent": true,
              "mode": "immediate",
              "transition": {
               "duration": 0,
               "easing": "linear"
              }
             }
            ],
            "label": "2019-12",
            "method": "animate"
           },
           {
            "args": [
             [
              "2020-1"
             ],
             {
              "frame": {
               "duration": 0,
               "redraw": false
              },
              "fromcurrent": true,
              "mode": "immediate",
              "transition": {
               "duration": 0,
               "easing": "linear"
              }
             }
            ],
            "label": "2020-1",
            "method": "animate"
           },
           {
            "args": [
             [
              "2020-2"
             ],
             {
              "frame": {
               "duration": 0,
               "redraw": false
              },
              "fromcurrent": true,
              "mode": "immediate",
              "transition": {
               "duration": 0,
               "easing": "linear"
              }
             }
            ],
            "label": "2020-2",
            "method": "animate"
           },
           {
            "args": [
             [
              "2020-3"
             ],
             {
              "frame": {
               "duration": 0,
               "redraw": false
              },
              "fromcurrent": true,
              "mode": "immediate",
              "transition": {
               "duration": 0,
               "easing": "linear"
              }
             }
            ],
            "label": "2020-3",
            "method": "animate"
           },
           {
            "args": [
             [
              "2020-4"
             ],
             {
              "frame": {
               "duration": 0,
               "redraw": false
              },
              "fromcurrent": true,
              "mode": "immediate",
              "transition": {
               "duration": 0,
               "easing": "linear"
              }
             }
            ],
            "label": "2020-4",
            "method": "animate"
           },
           {
            "args": [
             [
              "2020-5"
             ],
             {
              "frame": {
               "duration": 0,
               "redraw": false
              },
              "fromcurrent": true,
              "mode": "immediate",
              "transition": {
               "duration": 0,
               "easing": "linear"
              }
             }
            ],
            "label": "2020-5",
            "method": "animate"
           },
           {
            "args": [
             [
              "2020-6"
             ],
             {
              "frame": {
               "duration": 0,
               "redraw": false
              },
              "fromcurrent": true,
              "mode": "immediate",
              "transition": {
               "duration": 0,
               "easing": "linear"
              }
             }
            ],
            "label": "2020-6",
            "method": "animate"
           },
           {
            "args": [
             [
              "2020-7"
             ],
             {
              "frame": {
               "duration": 0,
               "redraw": false
              },
              "fromcurrent": true,
              "mode": "immediate",
              "transition": {
               "duration": 0,
               "easing": "linear"
              }
             }
            ],
            "label": "2020-7",
            "method": "animate"
           }
          ],
          "x": 0.1,
          "xanchor": "left",
          "y": 0,
          "yanchor": "top"
         }
        ],
        "template": {
         "data": {
          "bar": [
           {
            "error_x": {
             "color": "#2a3f5f"
            },
            "error_y": {
             "color": "#2a3f5f"
            },
            "marker": {
             "line": {
              "color": "#E5ECF6",
              "width": 0.5
             }
            },
            "type": "bar"
           }
          ],
          "barpolar": [
           {
            "marker": {
             "line": {
              "color": "#E5ECF6",
              "width": 0.5
             }
            },
            "type": "barpolar"
           }
          ],
          "carpet": [
           {
            "aaxis": {
             "endlinecolor": "#2a3f5f",
             "gridcolor": "white",
             "linecolor": "white",
             "minorgridcolor": "white",
             "startlinecolor": "#2a3f5f"
            },
            "baxis": {
             "endlinecolor": "#2a3f5f",
             "gridcolor": "white",
             "linecolor": "white",
             "minorgridcolor": "white",
             "startlinecolor": "#2a3f5f"
            },
            "type": "carpet"
           }
          ],
          "choropleth": [
           {
            "colorbar": {
             "outlinewidth": 0,
             "ticks": ""
            },
            "type": "choropleth"
           }
          ],
          "contour": [
           {
            "colorbar": {
             "outlinewidth": 0,
             "ticks": ""
            },
            "colorscale": [
             [
              0,
              "#0d0887"
             ],
             [
              0.1111111111111111,
              "#46039f"
             ],
             [
              0.2222222222222222,
              "#7201a8"
             ],
             [
              0.3333333333333333,
              "#9c179e"
             ],
             [
              0.4444444444444444,
              "#bd3786"
             ],
             [
              0.5555555555555556,
              "#d8576b"
             ],
             [
              0.6666666666666666,
              "#ed7953"
             ],
             [
              0.7777777777777778,
              "#fb9f3a"
             ],
             [
              0.8888888888888888,
              "#fdca26"
             ],
             [
              1,
              "#f0f921"
             ]
            ],
            "type": "contour"
           }
          ],
          "contourcarpet": [
           {
            "colorbar": {
             "outlinewidth": 0,
             "ticks": ""
            },
            "type": "contourcarpet"
           }
          ],
          "heatmap": [
           {
            "colorbar": {
             "outlinewidth": 0,
             "ticks": ""
            },
            "colorscale": [
             [
              0,
              "#0d0887"
             ],
             [
              0.1111111111111111,
              "#46039f"
             ],
             [
              0.2222222222222222,
              "#7201a8"
             ],
             [
              0.3333333333333333,
              "#9c179e"
             ],
             [
              0.4444444444444444,
              "#bd3786"
             ],
             [
              0.5555555555555556,
              "#d8576b"
             ],
             [
              0.6666666666666666,
              "#ed7953"
             ],
             [
              0.7777777777777778,
              "#fb9f3a"
             ],
             [
              0.8888888888888888,
              "#fdca26"
             ],
             [
              1,
              "#f0f921"
             ]
            ],
            "type": "heatmap"
           }
          ],
          "heatmapgl": [
           {
            "colorbar": {
             "outlinewidth": 0,
             "ticks": ""
            },
            "colorscale": [
             [
              0,
              "#0d0887"
             ],
             [
              0.1111111111111111,
              "#46039f"
             ],
             [
              0.2222222222222222,
              "#7201a8"
             ],
             [
              0.3333333333333333,
              "#9c179e"
             ],
             [
              0.4444444444444444,
              "#bd3786"
             ],
             [
              0.5555555555555556,
              "#d8576b"
             ],
             [
              0.6666666666666666,
              "#ed7953"
             ],
             [
              0.7777777777777778,
              "#fb9f3a"
             ],
             [
              0.8888888888888888,
              "#fdca26"
             ],
             [
              1,
              "#f0f921"
             ]
            ],
            "type": "heatmapgl"
           }
          ],
          "histogram": [
           {
            "marker": {
             "colorbar": {
              "outlinewidth": 0,
              "ticks": ""
             }
            },
            "type": "histogram"
           }
          ],
          "histogram2d": [
           {
            "colorbar": {
             "outlinewidth": 0,
             "ticks": ""
            },
            "colorscale": [
             [
              0,
              "#0d0887"
             ],
             [
              0.1111111111111111,
              "#46039f"
             ],
             [
              0.2222222222222222,
              "#7201a8"
             ],
             [
              0.3333333333333333,
              "#9c179e"
             ],
             [
              0.4444444444444444,
              "#bd3786"
             ],
             [
              0.5555555555555556,
              "#d8576b"
             ],
             [
              0.6666666666666666,
              "#ed7953"
             ],
             [
              0.7777777777777778,
              "#fb9f3a"
             ],
             [
              0.8888888888888888,
              "#fdca26"
             ],
             [
              1,
              "#f0f921"
             ]
            ],
            "type": "histogram2d"
           }
          ],
          "histogram2dcontour": [
           {
            "colorbar": {
             "outlinewidth": 0,
             "ticks": ""
            },
            "colorscale": [
             [
              0,
              "#0d0887"
             ],
             [
              0.1111111111111111,
              "#46039f"
             ],
             [
              0.2222222222222222,
              "#7201a8"
             ],
             [
              0.3333333333333333,
              "#9c179e"
             ],
             [
              0.4444444444444444,
              "#bd3786"
             ],
             [
              0.5555555555555556,
              "#d8576b"
             ],
             [
              0.6666666666666666,
              "#ed7953"
             ],
             [
              0.7777777777777778,
              "#fb9f3a"
             ],
             [
              0.8888888888888888,
              "#fdca26"
             ],
             [
              1,
              "#f0f921"
             ]
            ],
            "type": "histogram2dcontour"
           }
          ],
          "mesh3d": [
           {
            "colorbar": {
             "outlinewidth": 0,
             "ticks": ""
            },
            "type": "mesh3d"
           }
          ],
          "parcoords": [
           {
            "line": {
             "colorbar": {
              "outlinewidth": 0,
              "ticks": ""
             }
            },
            "type": "parcoords"
           }
          ],
          "pie": [
           {
            "automargin": true,
            "type": "pie"
           }
          ],
          "scatter": [
           {
            "marker": {
             "colorbar": {
              "outlinewidth": 0,
              "ticks": ""
             }
            },
            "type": "scatter"
           }
          ],
          "scatter3d": [
           {
            "line": {
             "colorbar": {
              "outlinewidth": 0,
              "ticks": ""
             }
            },
            "marker": {
             "colorbar": {
              "outlinewidth": 0,
              "ticks": ""
             }
            },
            "type": "scatter3d"
           }
          ],
          "scattercarpet": [
           {
            "marker": {
             "colorbar": {
              "outlinewidth": 0,
              "ticks": ""
             }
            },
            "type": "scattercarpet"
           }
          ],
          "scattergeo": [
           {
            "marker": {
             "colorbar": {
              "outlinewidth": 0,
              "ticks": ""
             }
            },
            "type": "scattergeo"
           }
          ],
          "scattergl": [
           {
            "marker": {
             "colorbar": {
              "outlinewidth": 0,
              "ticks": ""
             }
            },
            "type": "scattergl"
           }
          ],
          "scattermapbox": [
           {
            "marker": {
             "colorbar": {
              "outlinewidth": 0,
              "ticks": ""
             }
            },
            "type": "scattermapbox"
           }
          ],
          "scatterpolar": [
           {
            "marker": {
             "colorbar": {
              "outlinewidth": 0,
              "ticks": ""
             }
            },
            "type": "scatterpolar"
           }
          ],
          "scatterpolargl": [
           {
            "marker": {
             "colorbar": {
              "outlinewidth": 0,
              "ticks": ""
             }
            },
            "type": "scatterpolargl"
           }
          ],
          "scatterternary": [
           {
            "marker": {
             "colorbar": {
              "outlinewidth": 0,
              "ticks": ""
             }
            },
            "type": "scatterternary"
           }
          ],
          "surface": [
           {
            "colorbar": {
             "outlinewidth": 0,
             "ticks": ""
            },
            "colorscale": [
             [
              0,
              "#0d0887"
             ],
             [
              0.1111111111111111,
              "#46039f"
             ],
             [
              0.2222222222222222,
              "#7201a8"
             ],
             [
              0.3333333333333333,
              "#9c179e"
             ],
             [
              0.4444444444444444,
              "#bd3786"
             ],
             [
              0.5555555555555556,
              "#d8576b"
             ],
             [
              0.6666666666666666,
              "#ed7953"
             ],
             [
              0.7777777777777778,
              "#fb9f3a"
             ],
             [
              0.8888888888888888,
              "#fdca26"
             ],
             [
              1,
              "#f0f921"
             ]
            ],
            "type": "surface"
           }
          ],
          "table": [
           {
            "cells": {
             "fill": {
              "color": "#EBF0F8"
             },
             "line": {
              "color": "white"
             }
            },
            "header": {
             "fill": {
              "color": "#C8D4E3"
             },
             "line": {
              "color": "white"
             }
            },
            "type": "table"
           }
          ]
         },
         "layout": {
          "annotationdefaults": {
           "arrowcolor": "#2a3f5f",
           "arrowhead": 0,
           "arrowwidth": 1
          },
          "coloraxis": {
           "colorbar": {
            "outlinewidth": 0,
            "ticks": ""
           }
          },
          "colorscale": {
           "diverging": [
            [
             0,
             "#8e0152"
            ],
            [
             0.1,
             "#c51b7d"
            ],
            [
             0.2,
             "#de77ae"
            ],
            [
             0.3,
             "#f1b6da"
            ],
            [
             0.4,
             "#fde0ef"
            ],
            [
             0.5,
             "#f7f7f7"
            ],
            [
             0.6,
             "#e6f5d0"
            ],
            [
             0.7,
             "#b8e186"
            ],
            [
             0.8,
             "#7fbc41"
            ],
            [
             0.9,
             "#4d9221"
            ],
            [
             1,
             "#276419"
            ]
           ],
           "sequential": [
            [
             0,
             "#0d0887"
            ],
            [
             0.1111111111111111,
             "#46039f"
            ],
            [
             0.2222222222222222,
             "#7201a8"
            ],
            [
             0.3333333333333333,
             "#9c179e"
            ],
            [
             0.4444444444444444,
             "#bd3786"
            ],
            [
             0.5555555555555556,
             "#d8576b"
            ],
            [
             0.6666666666666666,
             "#ed7953"
            ],
            [
             0.7777777777777778,
             "#fb9f3a"
            ],
            [
             0.8888888888888888,
             "#fdca26"
            ],
            [
             1,
             "#f0f921"
            ]
           ],
           "sequentialminus": [
            [
             0,
             "#0d0887"
            ],
            [
             0.1111111111111111,
             "#46039f"
            ],
            [
             0.2222222222222222,
             "#7201a8"
            ],
            [
             0.3333333333333333,
             "#9c179e"
            ],
            [
             0.4444444444444444,
             "#bd3786"
            ],
            [
             0.5555555555555556,
             "#d8576b"
            ],
            [
             0.6666666666666666,
             "#ed7953"
            ],
            [
             0.7777777777777778,
             "#fb9f3a"
            ],
            [
             0.8888888888888888,
             "#fdca26"
            ],
            [
             1,
             "#f0f921"
            ]
           ]
          },
          "colorway": [
           "#636efa",
           "#EF553B",
           "#00cc96",
           "#ab63fa",
           "#FFA15A",
           "#19d3f3",
           "#FF6692",
           "#B6E880",
           "#FF97FF",
           "#FECB52"
          ],
          "font": {
           "color": "#2a3f5f"
          },
          "geo": {
           "bgcolor": "white",
           "lakecolor": "white",
           "landcolor": "#E5ECF6",
           "showlakes": true,
           "showland": true,
           "subunitcolor": "white"
          },
          "hoverlabel": {
           "align": "left"
          },
          "hovermode": "closest",
          "mapbox": {
           "style": "light"
          },
          "paper_bgcolor": "white",
          "plot_bgcolor": "#E5ECF6",
          "polar": {
           "angularaxis": {
            "gridcolor": "white",
            "linecolor": "white",
            "ticks": ""
           },
           "bgcolor": "#E5ECF6",
           "radialaxis": {
            "gridcolor": "white",
            "linecolor": "white",
            "ticks": ""
           }
          },
          "scene": {
           "xaxis": {
            "backgroundcolor": "#E5ECF6",
            "gridcolor": "white",
            "gridwidth": 2,
            "linecolor": "white",
            "showbackground": true,
            "ticks": "",
            "zerolinecolor": "white"
           },
           "yaxis": {
            "backgroundcolor": "#E5ECF6",
            "gridcolor": "white",
            "gridwidth": 2,
            "linecolor": "white",
            "showbackground": true,
            "ticks": "",
            "zerolinecolor": "white"
           },
           "zaxis": {
            "backgroundcolor": "#E5ECF6",
            "gridcolor": "white",
            "gridwidth": 2,
            "linecolor": "white",
            "showbackground": true,
            "ticks": "",
            "zerolinecolor": "white"
           }
          },
          "shapedefaults": {
           "line": {
            "color": "#2a3f5f"
           }
          },
          "ternary": {
           "aaxis": {
            "gridcolor": "white",
            "linecolor": "white",
            "ticks": ""
           },
           "baxis": {
            "gridcolor": "white",
            "linecolor": "white",
            "ticks": ""
           },
           "bgcolor": "#E5ECF6",
           "caxis": {
            "gridcolor": "white",
            "linecolor": "white",
            "ticks": ""
           }
          },
          "title": {
           "x": 0.05
          },
          "xaxis": {
           "automargin": true,
           "gridcolor": "white",
           "linecolor": "white",
           "ticks": "",
           "title": {
            "standoff": 15
           },
           "zerolinecolor": "white",
           "zerolinewidth": 2
          },
          "yaxis": {
           "automargin": true,
           "gridcolor": "white",
           "linecolor": "white",
           "ticks": "",
           "title": {
            "standoff": 15
           },
           "zerolinecolor": "white",
           "zerolinewidth": 2
          }
         }
        },
        "updatemenus": [
         {
          "buttons": [
           {
            "args": [
             null,
             {
              "frame": {
               "duration": 500,
               "redraw": false
              },
              "fromcurrent": true,
              "mode": "immediate",
              "transition": {
               "duration": 500,
               "easing": "linear"
              }
             }
            ],
            "label": "&#9654;",
            "method": "animate"
           },
           {
            "args": [
             [
              null
             ],
             {
              "frame": {
               "duration": 0,
               "redraw": false
              },
              "fromcurrent": true,
              "mode": "immediate",
              "transition": {
               "duration": 0,
               "easing": "linear"
              }
             }
            ],
            "label": "&#9724;",
            "method": "animate"
           }
          ],
          "direction": "left",
          "pad": {
           "r": 10,
           "t": 70
          },
          "showactive": false,
          "type": "buttons",
          "x": 0.1,
          "xanchor": "right",
          "y": 0,
          "yanchor": "top"
         }
        ],
        "xaxis": {
         "anchor": "y",
         "domain": [
          0,
          1
         ],
         "range": [
          1,
          200
         ],
         "title": {
          "text": "pdax_c"
         }
        },
        "yaxis": {
         "anchor": "x",
         "domain": [
          0,
          1
         ],
         "range": [
          1,
          18
         ],
         "title": {
          "text": "unscheduled"
         }
        }
       }
      },
      "text/html": [
       "<div>\n",
       "        \n",
       "        \n",
       "            <div id=\"bce1ed19-73b9-4a53-80c2-afd0f7555a40\" class=\"plotly-graph-div\" style=\"height:525px; width:100%;\"></div>\n",
       "            <script type=\"text/javascript\">\n",
       "                require([\"plotly\"], function(Plotly) {\n",
       "                    window.PLOTLYENV=window.PLOTLYENV || {};\n",
       "                    \n",
       "                if (document.getElementById(\"bce1ed19-73b9-4a53-80c2-afd0f7555a40\")) {\n",
       "                    Plotly.newPlot(\n",
       "                        'bce1ed19-73b9-4a53-80c2-afd0f7555a40',\n",
       "                        [{\"hovertemplate\": \"<b>%{hovertext}</b><br><br>pharm_n=\\u05d7\\u05d5\\u05dc\\u05d5\\u05df \\u05de\\u05e7\\u05e6 \\u05d7.\\u05ea.<br>yyyy-mm=2018-7<br>pdax_c=%{marker.size}<br>unscheduled=%{y}<extra></extra>\", \"hovertext\": [\"\\u05d7\\u05d5\\u05dc\\u05d5\\u05df \\u05de\\u05e7\\u05e6 \\u05d7.\\u05ea.\"], \"ids\": [\"\\u05d7\\u05d5\\u05dc\\u05d5\\u05df \\u05de\\u05e7\\u05e6 \\u05d7.\\u05ea.\"], \"legendgroup\": \"\\u05d7\\u05d5\\u05dc\\u05d5\\u05df \\u05de\\u05e7\\u05e6 \\u05d7.\\u05ea.\", \"marker\": {\"color\": \"#636efa\", \"size\": [96], \"sizemode\": \"area\", \"sizeref\": 0.0162, \"symbol\": \"circle\"}, \"mode\": \"markers\", \"name\": \"\\u05d7\\u05d5\\u05dc\\u05d5\\u05df \\u05de\\u05e7\\u05e6 \\u05d7.\\u05ea.\", \"showlegend\": true, \"type\": \"scatter\", \"x\": [96], \"xaxis\": \"x\", \"y\": [18], \"yaxis\": \"y\"}, {\"hovertemplate\": \"<b>%{hovertext}</b><br><br>pharm_n=\\u05e7\\u05d9\\u05e8\\u05d0\\u05d5\\u05df \\u05d7.\\u05ea.<br>yyyy-mm=2018-7<br>pdax_c=%{marker.size}<br>unscheduled=%{y}<extra></extra>\", \"hovertext\": [\"\\u05e7\\u05d9\\u05e8\\u05d0\\u05d5\\u05df \\u05d7.\\u05ea.\"], \"ids\": [\"\\u05e7\\u05d9\\u05e8\\u05d0\\u05d5\\u05df \\u05d7.\\u05ea.\"], \"legendgroup\": \"\\u05e7\\u05d9\\u05e8\\u05d0\\u05d5\\u05df \\u05d7.\\u05ea.\", \"marker\": {\"color\": \"#EF553B\", \"size\": [53], \"sizemode\": \"area\", \"sizeref\": 0.0162, \"symbol\": \"circle\"}, \"mode\": \"markers\", \"name\": \"\\u05e7\\u05d9\\u05e8\\u05d0\\u05d5\\u05df \\u05d7.\\u05ea.\", \"showlegend\": true, \"type\": \"scatter\", \"x\": [53], \"xaxis\": \"x\", \"y\": [8], \"yaxis\": \"y\"}, {\"hovertemplate\": \"<b>%{hovertext}</b><br><br>pharm_n=\\u05de\\u05d5\\u05d3\\u05d9\\u05e2\\u05d9\\u05df \\u05e8\\\"\\u05d2 \\u05d7.\\u05ea.<br>yyyy-mm=2018-7<br>pdax_c=%{marker.size}<br>unscheduled=%{y}<extra></extra>\", \"hovertext\": [\"\\u05de\\u05d5\\u05d3\\u05d9\\u05e2\\u05d9\\u05df \\u05e8\\\"\\u05d2 \\u05d7.\\u05ea.\"], \"ids\": [\"\\u05de\\u05d5\\u05d3\\u05d9\\u05e2\\u05d9\\u05df \\u05e8\\\"\\u05d2 \\u05d7.\\u05ea.\"], \"legendgroup\": \"\\u05de\\u05d5\\u05d3\\u05d9\\u05e2\\u05d9\\u05df \\u05e8\\\"\\u05d2 \\u05d7.\\u05ea.\", \"marker\": {\"color\": \"#00cc96\", \"size\": [60], \"sizemode\": \"area\", \"sizeref\": 0.0162, \"symbol\": \"circle\"}, \"mode\": \"markers\", \"name\": \"\\u05de\\u05d5\\u05d3\\u05d9\\u05e2\\u05d9\\u05df \\u05e8\\\"\\u05d2 \\u05d7.\\u05ea.\", \"showlegend\": true, \"type\": \"scatter\", \"x\": [60], \"xaxis\": \"x\", \"y\": [7], \"yaxis\": \"y\"}, {\"hovertemplate\": \"<b>%{hovertext}</b><br><br>pharm_n=\\u05db\\u05e8\\u05de\\u05d9\\u05dd \\u05d7.\\u05ea.<br>yyyy-mm=2018-7<br>pdax_c=%{marker.size}<br>unscheduled=%{y}<extra></extra>\", \"hovertext\": [\"\\u05db\\u05e8\\u05de\\u05d9\\u05dd \\u05d7.\\u05ea.\"], \"ids\": [\"\\u05db\\u05e8\\u05de\\u05d9\\u05dd \\u05d7.\\u05ea.\"], \"legendgroup\": \"\\u05db\\u05e8\\u05de\\u05d9\\u05dd \\u05d7.\\u05ea.\", \"marker\": {\"color\": \"#ab63fa\", \"size\": [48], \"sizemode\": \"area\", \"sizeref\": 0.0162, \"symbol\": \"circle\"}, \"mode\": \"markers\", \"name\": \"\\u05db\\u05e8\\u05de\\u05d9\\u05dd \\u05d7.\\u05ea.\", \"showlegend\": true, \"type\": \"scatter\", \"x\": [48], \"xaxis\": \"x\", \"y\": [15], \"yaxis\": \"y\"}],\n",
       "                        {\"legend\": {\"itemsizing\": \"constant\", \"title\": {\"text\": \"pharm_n\"}, \"tracegroupgap\": 0}, \"margin\": {\"t\": 60}, \"sliders\": [{\"active\": 0, \"currentvalue\": {\"prefix\": \"yyyy-mm=\"}, \"len\": 0.9, \"pad\": {\"b\": 10, \"t\": 60}, \"steps\": [{\"args\": [[\"2018-7\"], {\"frame\": {\"duration\": 0, \"redraw\": false}, \"fromcurrent\": true, \"mode\": \"immediate\", \"transition\": {\"duration\": 0, \"easing\": \"linear\"}}], \"label\": \"2018-7\", \"method\": \"animate\"}, {\"args\": [[\"2018-8\"], {\"frame\": {\"duration\": 0, \"redraw\": false}, \"fromcurrent\": true, \"mode\": \"immediate\", \"transition\": {\"duration\": 0, \"easing\": \"linear\"}}], \"label\": \"2018-8\", \"method\": \"animate\"}, {\"args\": [[\"2018-9\"], {\"frame\": {\"duration\": 0, \"redraw\": false}, \"fromcurrent\": true, \"mode\": \"immediate\", \"transition\": {\"duration\": 0, \"easing\": \"linear\"}}], \"label\": \"2018-9\", \"method\": \"animate\"}, {\"args\": [[\"2018-10\"], {\"frame\": {\"duration\": 0, \"redraw\": false}, \"fromcurrent\": true, \"mode\": \"immediate\", \"transition\": {\"duration\": 0, \"easing\": \"linear\"}}], \"label\": \"2018-10\", \"method\": \"animate\"}, {\"args\": [[\"2018-11\"], {\"frame\": {\"duration\": 0, \"redraw\": false}, \"fromcurrent\": true, \"mode\": \"immediate\", \"transition\": {\"duration\": 0, \"easing\": \"linear\"}}], \"label\": \"2018-11\", \"method\": \"animate\"}, {\"args\": [[\"2018-12\"], {\"frame\": {\"duration\": 0, \"redraw\": false}, \"fromcurrent\": true, \"mode\": \"immediate\", \"transition\": {\"duration\": 0, \"easing\": \"linear\"}}], \"label\": \"2018-12\", \"method\": \"animate\"}, {\"args\": [[\"2019-1\"], {\"frame\": {\"duration\": 0, \"redraw\": false}, \"fromcurrent\": true, \"mode\": \"immediate\", \"transition\": {\"duration\": 0, \"easing\": \"linear\"}}], \"label\": \"2019-1\", \"method\": \"animate\"}, {\"args\": [[\"2019-2\"], {\"frame\": {\"duration\": 0, \"redraw\": false}, \"fromcurrent\": true, \"mode\": \"immediate\", \"transition\": {\"duration\": 0, \"easing\": \"linear\"}}], \"label\": \"2019-2\", \"method\": \"animate\"}, {\"args\": [[\"2019-3\"], {\"frame\": {\"duration\": 0, \"redraw\": false}, \"fromcurrent\": true, \"mode\": \"immediate\", \"transition\": {\"duration\": 0, \"easing\": \"linear\"}}], \"label\": \"2019-3\", \"method\": \"animate\"}, {\"args\": [[\"2019-4\"], {\"frame\": {\"duration\": 0, \"redraw\": false}, \"fromcurrent\": true, \"mode\": \"immediate\", \"transition\": {\"duration\": 0, \"easing\": \"linear\"}}], \"label\": \"2019-4\", \"method\": \"animate\"}, {\"args\": [[\"2019-5\"], {\"frame\": {\"duration\": 0, \"redraw\": false}, \"fromcurrent\": true, \"mode\": \"immediate\", \"transition\": {\"duration\": 0, \"easing\": \"linear\"}}], \"label\": \"2019-5\", \"method\": \"animate\"}, {\"args\": [[\"2019-6\"], {\"frame\": {\"duration\": 0, \"redraw\": false}, \"fromcurrent\": true, \"mode\": \"immediate\", \"transition\": {\"duration\": 0, \"easing\": \"linear\"}}], \"label\": \"2019-6\", \"method\": \"animate\"}, {\"args\": [[\"2019-7\"], {\"frame\": {\"duration\": 0, \"redraw\": false}, \"fromcurrent\": true, \"mode\": \"immediate\", \"transition\": {\"duration\": 0, \"easing\": \"linear\"}}], \"label\": \"2019-7\", \"method\": \"animate\"}, {\"args\": [[\"2019-8\"], {\"frame\": {\"duration\": 0, \"redraw\": false}, \"fromcurrent\": true, \"mode\": \"immediate\", \"transition\": {\"duration\": 0, \"easing\": \"linear\"}}], \"label\": \"2019-8\", \"method\": \"animate\"}, {\"args\": [[\"2019-9\"], {\"frame\": {\"duration\": 0, \"redraw\": false}, \"fromcurrent\": true, \"mode\": \"immediate\", \"transition\": {\"duration\": 0, \"easing\": \"linear\"}}], \"label\": \"2019-9\", \"method\": \"animate\"}, {\"args\": [[\"2019-10\"], {\"frame\": {\"duration\": 0, \"redraw\": false}, \"fromcurrent\": true, \"mode\": \"immediate\", \"transition\": {\"duration\": 0, \"easing\": \"linear\"}}], \"label\": \"2019-10\", \"method\": \"animate\"}, {\"args\": [[\"2019-11\"], {\"frame\": {\"duration\": 0, \"redraw\": false}, \"fromcurrent\": true, \"mode\": \"immediate\", \"transition\": {\"duration\": 0, \"easing\": \"linear\"}}], \"label\": \"2019-11\", \"method\": \"animate\"}, {\"args\": [[\"2019-12\"], {\"frame\": {\"duration\": 0, \"redraw\": false}, \"fromcurrent\": true, \"mode\": \"immediate\", \"transition\": {\"duration\": 0, \"easing\": \"linear\"}}], \"label\": \"2019-12\", \"method\": \"animate\"}, {\"args\": [[\"2020-1\"], {\"frame\": {\"duration\": 0, \"redraw\": false}, \"fromcurrent\": true, \"mode\": \"immediate\", \"transition\": {\"duration\": 0, \"easing\": \"linear\"}}], \"label\": \"2020-1\", \"method\": \"animate\"}, {\"args\": [[\"2020-2\"], {\"frame\": {\"duration\": 0, \"redraw\": false}, \"fromcurrent\": true, \"mode\": \"immediate\", \"transition\": {\"duration\": 0, \"easing\": \"linear\"}}], \"label\": \"2020-2\", \"method\": \"animate\"}, {\"args\": [[\"2020-3\"], {\"frame\": {\"duration\": 0, \"redraw\": false}, \"fromcurrent\": true, \"mode\": \"immediate\", \"transition\": {\"duration\": 0, \"easing\": \"linear\"}}], \"label\": \"2020-3\", \"method\": \"animate\"}, {\"args\": [[\"2020-4\"], {\"frame\": {\"duration\": 0, \"redraw\": false}, \"fromcurrent\": true, \"mode\": \"immediate\", \"transition\": {\"duration\": 0, \"easing\": \"linear\"}}], \"label\": \"2020-4\", \"method\": \"animate\"}, {\"args\": [[\"2020-5\"], {\"frame\": {\"duration\": 0, \"redraw\": false}, \"fromcurrent\": true, \"mode\": \"immediate\", \"transition\": {\"duration\": 0, \"easing\": \"linear\"}}], \"label\": \"2020-5\", \"method\": \"animate\"}, {\"args\": [[\"2020-6\"], {\"frame\": {\"duration\": 0, \"redraw\": false}, \"fromcurrent\": true, \"mode\": \"immediate\", \"transition\": {\"duration\": 0, \"easing\": \"linear\"}}], \"label\": \"2020-6\", \"method\": \"animate\"}, {\"args\": [[\"2020-7\"], {\"frame\": {\"duration\": 0, \"redraw\": false}, \"fromcurrent\": true, \"mode\": \"immediate\", \"transition\": {\"duration\": 0, \"easing\": \"linear\"}}], \"label\": \"2020-7\", \"method\": \"animate\"}], \"x\": 0.1, \"xanchor\": \"left\", \"y\": 0, \"yanchor\": \"top\"}], \"template\": {\"data\": {\"bar\": [{\"error_x\": {\"color\": \"#2a3f5f\"}, \"error_y\": {\"color\": \"#2a3f5f\"}, \"marker\": {\"line\": {\"color\": \"#E5ECF6\", \"width\": 0.5}}, \"type\": \"bar\"}], \"barpolar\": [{\"marker\": {\"line\": {\"color\": \"#E5ECF6\", \"width\": 0.5}}, \"type\": \"barpolar\"}], \"carpet\": [{\"aaxis\": {\"endlinecolor\": \"#2a3f5f\", \"gridcolor\": \"white\", \"linecolor\": \"white\", \"minorgridcolor\": \"white\", \"startlinecolor\": \"#2a3f5f\"}, \"baxis\": {\"endlinecolor\": \"#2a3f5f\", \"gridcolor\": \"white\", \"linecolor\": \"white\", \"minorgridcolor\": \"white\", \"startlinecolor\": \"#2a3f5f\"}, \"type\": \"carpet\"}], \"choropleth\": [{\"colorbar\": {\"outlinewidth\": 0, \"ticks\": \"\"}, \"type\": \"choropleth\"}], \"contour\": [{\"colorbar\": {\"outlinewidth\": 0, \"ticks\": \"\"}, \"colorscale\": [[0.0, \"#0d0887\"], [0.1111111111111111, \"#46039f\"], [0.2222222222222222, \"#7201a8\"], [0.3333333333333333, \"#9c179e\"], [0.4444444444444444, \"#bd3786\"], [0.5555555555555556, \"#d8576b\"], [0.6666666666666666, \"#ed7953\"], [0.7777777777777778, \"#fb9f3a\"], [0.8888888888888888, \"#fdca26\"], [1.0, \"#f0f921\"]], \"type\": \"contour\"}], \"contourcarpet\": [{\"colorbar\": {\"outlinewidth\": 0, \"ticks\": \"\"}, \"type\": \"contourcarpet\"}], \"heatmap\": [{\"colorbar\": {\"outlinewidth\": 0, \"ticks\": \"\"}, \"colorscale\": [[0.0, \"#0d0887\"], [0.1111111111111111, \"#46039f\"], [0.2222222222222222, \"#7201a8\"], [0.3333333333333333, \"#9c179e\"], [0.4444444444444444, \"#bd3786\"], [0.5555555555555556, \"#d8576b\"], [0.6666666666666666, \"#ed7953\"], [0.7777777777777778, \"#fb9f3a\"], [0.8888888888888888, \"#fdca26\"], [1.0, \"#f0f921\"]], \"type\": \"heatmap\"}], \"heatmapgl\": [{\"colorbar\": {\"outlinewidth\": 0, \"ticks\": \"\"}, \"colorscale\": [[0.0, \"#0d0887\"], [0.1111111111111111, \"#46039f\"], [0.2222222222222222, \"#7201a8\"], [0.3333333333333333, \"#9c179e\"], [0.4444444444444444, \"#bd3786\"], [0.5555555555555556, \"#d8576b\"], [0.6666666666666666, \"#ed7953\"], [0.7777777777777778, \"#fb9f3a\"], [0.8888888888888888, \"#fdca26\"], [1.0, \"#f0f921\"]], \"type\": \"heatmapgl\"}], \"histogram\": [{\"marker\": {\"colorbar\": {\"outlinewidth\": 0, \"ticks\": \"\"}}, \"type\": \"histogram\"}], \"histogram2d\": [{\"colorbar\": {\"outlinewidth\": 0, \"ticks\": \"\"}, \"colorscale\": [[0.0, \"#0d0887\"], [0.1111111111111111, \"#46039f\"], [0.2222222222222222, \"#7201a8\"], [0.3333333333333333, \"#9c179e\"], [0.4444444444444444, \"#bd3786\"], [0.5555555555555556, \"#d8576b\"], [0.6666666666666666, \"#ed7953\"], [0.7777777777777778, \"#fb9f3a\"], [0.8888888888888888, \"#fdca26\"], [1.0, \"#f0f921\"]], \"type\": \"histogram2d\"}], \"histogram2dcontour\": [{\"colorbar\": {\"outlinewidth\": 0, \"ticks\": \"\"}, \"colorscale\": [[0.0, \"#0d0887\"], [0.1111111111111111, \"#46039f\"], [0.2222222222222222, \"#7201a8\"], [0.3333333333333333, \"#9c179e\"], [0.4444444444444444, \"#bd3786\"], [0.5555555555555556, \"#d8576b\"], [0.6666666666666666, \"#ed7953\"], [0.7777777777777778, \"#fb9f3a\"], [0.8888888888888888, \"#fdca26\"], [1.0, \"#f0f921\"]], \"type\": \"histogram2dcontour\"}], \"mesh3d\": [{\"colorbar\": {\"outlinewidth\": 0, \"ticks\": \"\"}, \"type\": \"mesh3d\"}], \"parcoords\": [{\"line\": {\"colorbar\": {\"outlinewidth\": 0, \"ticks\": \"\"}}, \"type\": \"parcoords\"}], \"pie\": [{\"automargin\": true, \"type\": \"pie\"}], \"scatter\": [{\"marker\": {\"colorbar\": {\"outlinewidth\": 0, \"ticks\": \"\"}}, \"type\": \"scatter\"}], \"scatter3d\": [{\"line\": {\"colorbar\": {\"outlinewidth\": 0, \"ticks\": \"\"}}, \"marker\": {\"colorbar\": {\"outlinewidth\": 0, \"ticks\": \"\"}}, \"type\": \"scatter3d\"}], \"scattercarpet\": [{\"marker\": {\"colorbar\": {\"outlinewidth\": 0, \"ticks\": \"\"}}, \"type\": \"scattercarpet\"}], \"scattergeo\": [{\"marker\": {\"colorbar\": {\"outlinewidth\": 0, \"ticks\": \"\"}}, \"type\": \"scattergeo\"}], \"scattergl\": [{\"marker\": {\"colorbar\": {\"outlinewidth\": 0, \"ticks\": \"\"}}, \"type\": \"scattergl\"}], \"scattermapbox\": [{\"marker\": {\"colorbar\": {\"outlinewidth\": 0, \"ticks\": \"\"}}, \"type\": \"scattermapbox\"}], \"scatterpolar\": [{\"marker\": {\"colorbar\": {\"outlinewidth\": 0, \"ticks\": \"\"}}, \"type\": \"scatterpolar\"}], \"scatterpolargl\": [{\"marker\": {\"colorbar\": {\"outlinewidth\": 0, \"ticks\": \"\"}}, \"type\": \"scatterpolargl\"}], \"scatterternary\": [{\"marker\": {\"colorbar\": {\"outlinewidth\": 0, \"ticks\": \"\"}}, \"type\": \"scatterternary\"}], \"surface\": [{\"colorbar\": {\"outlinewidth\": 0, \"ticks\": \"\"}, \"colorscale\": [[0.0, \"#0d0887\"], [0.1111111111111111, \"#46039f\"], [0.2222222222222222, \"#7201a8\"], [0.3333333333333333, \"#9c179e\"], [0.4444444444444444, \"#bd3786\"], [0.5555555555555556, \"#d8576b\"], [0.6666666666666666, \"#ed7953\"], [0.7777777777777778, \"#fb9f3a\"], [0.8888888888888888, \"#fdca26\"], [1.0, \"#f0f921\"]], \"type\": \"surface\"}], \"table\": [{\"cells\": {\"fill\": {\"color\": \"#EBF0F8\"}, \"line\": {\"color\": \"white\"}}, \"header\": {\"fill\": {\"color\": \"#C8D4E3\"}, \"line\": {\"color\": \"white\"}}, \"type\": \"table\"}]}, \"layout\": {\"annotationdefaults\": {\"arrowcolor\": \"#2a3f5f\", \"arrowhead\": 0, \"arrowwidth\": 1}, \"coloraxis\": {\"colorbar\": {\"outlinewidth\": 0, \"ticks\": \"\"}}, \"colorscale\": {\"diverging\": [[0, \"#8e0152\"], [0.1, \"#c51b7d\"], [0.2, \"#de77ae\"], [0.3, \"#f1b6da\"], [0.4, \"#fde0ef\"], [0.5, \"#f7f7f7\"], [0.6, \"#e6f5d0\"], [0.7, \"#b8e186\"], [0.8, \"#7fbc41\"], [0.9, \"#4d9221\"], [1, \"#276419\"]], \"sequential\": [[0.0, \"#0d0887\"], [0.1111111111111111, \"#46039f\"], [0.2222222222222222, \"#7201a8\"], [0.3333333333333333, \"#9c179e\"], [0.4444444444444444, \"#bd3786\"], [0.5555555555555556, \"#d8576b\"], [0.6666666666666666, \"#ed7953\"], [0.7777777777777778, \"#fb9f3a\"], [0.8888888888888888, \"#fdca26\"], [1.0, \"#f0f921\"]], \"sequentialminus\": [[0.0, \"#0d0887\"], [0.1111111111111111, \"#46039f\"], [0.2222222222222222, \"#7201a8\"], [0.3333333333333333, \"#9c179e\"], [0.4444444444444444, \"#bd3786\"], [0.5555555555555556, \"#d8576b\"], [0.6666666666666666, \"#ed7953\"], [0.7777777777777778, \"#fb9f3a\"], [0.8888888888888888, \"#fdca26\"], [1.0, \"#f0f921\"]]}, \"colorway\": [\"#636efa\", \"#EF553B\", \"#00cc96\", \"#ab63fa\", \"#FFA15A\", \"#19d3f3\", \"#FF6692\", \"#B6E880\", \"#FF97FF\", \"#FECB52\"], \"font\": {\"color\": \"#2a3f5f\"}, \"geo\": {\"bgcolor\": \"white\", \"lakecolor\": \"white\", \"landcolor\": \"#E5ECF6\", \"showlakes\": true, \"showland\": true, \"subunitcolor\": \"white\"}, \"hoverlabel\": {\"align\": \"left\"}, \"hovermode\": \"closest\", \"mapbox\": {\"style\": \"light\"}, \"paper_bgcolor\": \"white\", \"plot_bgcolor\": \"#E5ECF6\", \"polar\": {\"angularaxis\": {\"gridcolor\": \"white\", \"linecolor\": \"white\", \"ticks\": \"\"}, \"bgcolor\": \"#E5ECF6\", \"radialaxis\": {\"gridcolor\": \"white\", \"linecolor\": \"white\", \"ticks\": \"\"}}, \"scene\": {\"xaxis\": {\"backgroundcolor\": \"#E5ECF6\", \"gridcolor\": \"white\", \"gridwidth\": 2, \"linecolor\": \"white\", \"showbackground\": true, \"ticks\": \"\", \"zerolinecolor\": \"white\"}, \"yaxis\": {\"backgroundcolor\": \"#E5ECF6\", \"gridcolor\": \"white\", \"gridwidth\": 2, \"linecolor\": \"white\", \"showbackground\": true, \"ticks\": \"\", \"zerolinecolor\": \"white\"}, \"zaxis\": {\"backgroundcolor\": \"#E5ECF6\", \"gridcolor\": \"white\", \"gridwidth\": 2, \"linecolor\": \"white\", \"showbackground\": true, \"ticks\": \"\", \"zerolinecolor\": \"white\"}}, \"shapedefaults\": {\"line\": {\"color\": \"#2a3f5f\"}}, \"ternary\": {\"aaxis\": {\"gridcolor\": \"white\", \"linecolor\": \"white\", \"ticks\": \"\"}, \"baxis\": {\"gridcolor\": \"white\", \"linecolor\": \"white\", \"ticks\": \"\"}, \"bgcolor\": \"#E5ECF6\", \"caxis\": {\"gridcolor\": \"white\", \"linecolor\": \"white\", \"ticks\": \"\"}}, \"title\": {\"x\": 0.05}, \"xaxis\": {\"automargin\": true, \"gridcolor\": \"white\", \"linecolor\": \"white\", \"ticks\": \"\", \"title\": {\"standoff\": 15}, \"zerolinecolor\": \"white\", \"zerolinewidth\": 2}, \"yaxis\": {\"automargin\": true, \"gridcolor\": \"white\", \"linecolor\": \"white\", \"ticks\": \"\", \"title\": {\"standoff\": 15}, \"zerolinecolor\": \"white\", \"zerolinewidth\": 2}}}, \"updatemenus\": [{\"buttons\": [{\"args\": [null, {\"frame\": {\"duration\": 500, \"redraw\": false}, \"fromcurrent\": true, \"mode\": \"immediate\", \"transition\": {\"duration\": 500, \"easing\": \"linear\"}}], \"label\": \"&#9654;\", \"method\": \"animate\"}, {\"args\": [[null], {\"frame\": {\"duration\": 0, \"redraw\": false}, \"fromcurrent\": true, \"mode\": \"immediate\", \"transition\": {\"duration\": 0, \"easing\": \"linear\"}}], \"label\": \"&#9724;\", \"method\": \"animate\"}], \"direction\": \"left\", \"pad\": {\"r\": 10, \"t\": 70}, \"showactive\": false, \"type\": \"buttons\", \"x\": 0.1, \"xanchor\": \"right\", \"y\": 0, \"yanchor\": \"top\"}], \"xaxis\": {\"anchor\": \"y\", \"domain\": [0.0, 1.0], \"range\": [1, 200], \"title\": {\"text\": \"pdax_c\"}}, \"yaxis\": {\"anchor\": \"x\", \"domain\": [0.0, 1.0], \"range\": [1, 18], \"title\": {\"text\": \"unscheduled\"}}},\n",
       "                        {\"responsive\": true}\n",
       "                    ).then(function(){\n",
       "                            Plotly.addFrames('bce1ed19-73b9-4a53-80c2-afd0f7555a40', [{\"data\": [{\"hovertemplate\": \"<b>%{hovertext}</b><br><br>pharm_n=\\u05d7\\u05d5\\u05dc\\u05d5\\u05df \\u05de\\u05e7\\u05e6 \\u05d7.\\u05ea.<br>yyyy-mm=2018-7<br>pdax_c=%{marker.size}<br>unscheduled=%{y}<extra></extra>\", \"hovertext\": [\"\\u05d7\\u05d5\\u05dc\\u05d5\\u05df \\u05de\\u05e7\\u05e6 \\u05d7.\\u05ea.\"], \"ids\": [\"\\u05d7\\u05d5\\u05dc\\u05d5\\u05df \\u05de\\u05e7\\u05e6 \\u05d7.\\u05ea.\"], \"legendgroup\": \"\\u05d7\\u05d5\\u05dc\\u05d5\\u05df \\u05de\\u05e7\\u05e6 \\u05d7.\\u05ea.\", \"marker\": {\"color\": \"#636efa\", \"size\": [96], \"sizemode\": \"area\", \"sizeref\": 0.0162, \"symbol\": \"circle\"}, \"mode\": \"markers\", \"name\": \"\\u05d7\\u05d5\\u05dc\\u05d5\\u05df \\u05de\\u05e7\\u05e6 \\u05d7.\\u05ea.\", \"showlegend\": true, \"x\": [96], \"xaxis\": \"x\", \"y\": [18], \"yaxis\": \"y\", \"type\": \"scatter\"}, {\"hovertemplate\": \"<b>%{hovertext}</b><br><br>pharm_n=\\u05e7\\u05d9\\u05e8\\u05d0\\u05d5\\u05df \\u05d7.\\u05ea.<br>yyyy-mm=2018-7<br>pdax_c=%{marker.size}<br>unscheduled=%{y}<extra></extra>\", \"hovertext\": [\"\\u05e7\\u05d9\\u05e8\\u05d0\\u05d5\\u05df \\u05d7.\\u05ea.\"], \"ids\": [\"\\u05e7\\u05d9\\u05e8\\u05d0\\u05d5\\u05df \\u05d7.\\u05ea.\"], \"legendgroup\": \"\\u05e7\\u05d9\\u05e8\\u05d0\\u05d5\\u05df \\u05d7.\\u05ea.\", \"marker\": {\"color\": \"#EF553B\", \"size\": [53], \"sizemode\": \"area\", \"sizeref\": 0.0162, \"symbol\": \"circle\"}, \"mode\": \"markers\", \"name\": \"\\u05e7\\u05d9\\u05e8\\u05d0\\u05d5\\u05df \\u05d7.\\u05ea.\", \"showlegend\": true, \"x\": [53], \"xaxis\": \"x\", \"y\": [8], \"yaxis\": \"y\", \"type\": \"scatter\"}, {\"hovertemplate\": \"<b>%{hovertext}</b><br><br>pharm_n=\\u05de\\u05d5\\u05d3\\u05d9\\u05e2\\u05d9\\u05df \\u05e8\\\"\\u05d2 \\u05d7.\\u05ea.<br>yyyy-mm=2018-7<br>pdax_c=%{marker.size}<br>unscheduled=%{y}<extra></extra>\", \"hovertext\": [\"\\u05de\\u05d5\\u05d3\\u05d9\\u05e2\\u05d9\\u05df \\u05e8\\\"\\u05d2 \\u05d7.\\u05ea.\"], \"ids\": [\"\\u05de\\u05d5\\u05d3\\u05d9\\u05e2\\u05d9\\u05df \\u05e8\\\"\\u05d2 \\u05d7.\\u05ea.\"], \"legendgroup\": \"\\u05de\\u05d5\\u05d3\\u05d9\\u05e2\\u05d9\\u05df \\u05e8\\\"\\u05d2 \\u05d7.\\u05ea.\", \"marker\": {\"color\": \"#00cc96\", \"size\": [60], \"sizemode\": \"area\", \"sizeref\": 0.0162, \"symbol\": \"circle\"}, \"mode\": \"markers\", \"name\": \"\\u05de\\u05d5\\u05d3\\u05d9\\u05e2\\u05d9\\u05df \\u05e8\\\"\\u05d2 \\u05d7.\\u05ea.\", \"showlegend\": true, \"x\": [60], \"xaxis\": \"x\", \"y\": [7], \"yaxis\": \"y\", \"type\": \"scatter\"}, {\"hovertemplate\": \"<b>%{hovertext}</b><br><br>pharm_n=\\u05db\\u05e8\\u05de\\u05d9\\u05dd \\u05d7.\\u05ea.<br>yyyy-mm=2018-7<br>pdax_c=%{marker.size}<br>unscheduled=%{y}<extra></extra>\", \"hovertext\": [\"\\u05db\\u05e8\\u05de\\u05d9\\u05dd \\u05d7.\\u05ea.\"], \"ids\": [\"\\u05db\\u05e8\\u05de\\u05d9\\u05dd \\u05d7.\\u05ea.\"], \"legendgroup\": \"\\u05db\\u05e8\\u05de\\u05d9\\u05dd \\u05d7.\\u05ea.\", \"marker\": {\"color\": \"#ab63fa\", \"size\": [48], \"sizemode\": \"area\", \"sizeref\": 0.0162, \"symbol\": \"circle\"}, \"mode\": \"markers\", \"name\": \"\\u05db\\u05e8\\u05de\\u05d9\\u05dd \\u05d7.\\u05ea.\", \"showlegend\": true, \"x\": [48], \"xaxis\": \"x\", \"y\": [15], \"yaxis\": \"y\", \"type\": \"scatter\"}], \"name\": \"2018-7\"}, {\"data\": [{\"hovertemplate\": \"<b>%{hovertext}</b><br><br>pharm_n=\\u05d7\\u05d5\\u05dc\\u05d5\\u05df \\u05de\\u05e7\\u05e6 \\u05d7.\\u05ea.<br>yyyy-mm=2018-8<br>pdax_c=%{marker.size}<br>unscheduled=%{y}<extra></extra>\", \"hovertext\": [\"\\u05d7\\u05d5\\u05dc\\u05d5\\u05df \\u05de\\u05e7\\u05e6 \\u05d7.\\u05ea.\", \"\\u05d7\\u05d5\\u05dc\\u05d5\\u05df \\u05de\\u05e7\\u05e6 \\u05d7.\\u05ea.\", \"\\u05d7\\u05d5\\u05dc\\u05d5\\u05df \\u05de\\u05e7\\u05e6 \\u05d7.\\u05ea.\", \"\\u05d7\\u05d5\\u05dc\\u05d5\\u05df \\u05de\\u05e7\\u05e6 \\u05d7.\\u05ea.\"], \"ids\": [\"\\u05d7\\u05d5\\u05dc\\u05d5\\u05df \\u05de\\u05e7\\u05e6 \\u05d7.\\u05ea.\", \"\\u05d7\\u05d5\\u05dc\\u05d5\\u05df \\u05de\\u05e7\\u05e6 \\u05d7.\\u05ea.\", \"\\u05d7\\u05d5\\u05dc\\u05d5\\u05df \\u05de\\u05e7\\u05e6 \\u05d7.\\u05ea.\", \"\\u05d7\\u05d5\\u05dc\\u05d5\\u05df \\u05de\\u05e7\\u05e6 \\u05d7.\\u05ea.\"], \"legendgroup\": \"\\u05d7\\u05d5\\u05dc\\u05d5\\u05df \\u05de\\u05e7\\u05e6 \\u05d7.\\u05ea.\", \"marker\": {\"color\": \"#636efa\", \"size\": [41, 81, 141, 74], \"sizemode\": \"area\", \"sizeref\": 0.0162, \"symbol\": \"circle\"}, \"mode\": \"markers\", \"name\": \"\\u05d7\\u05d5\\u05dc\\u05d5\\u05df \\u05de\\u05e7\\u05e6 \\u05d7.\\u05ea.\", \"showlegend\": true, \"x\": [41, 81, 141, 74], \"xaxis\": \"x\", \"y\": [10, 10, 10, 10], \"yaxis\": \"y\", \"type\": \"scatter\"}, {\"hovertemplate\": \"<b>%{hovertext}</b><br><br>pharm_n=\\u05e7\\u05d9\\u05e8\\u05d0\\u05d5\\u05df \\u05d7.\\u05ea.<br>yyyy-mm=2018-8<br>pdax_c=%{marker.size}<br>unscheduled=%{y}<extra></extra>\", \"hovertext\": [\"\\u05e7\\u05d9\\u05e8\\u05d0\\u05d5\\u05df \\u05d7.\\u05ea.\", \"\\u05e7\\u05d9\\u05e8\\u05d0\\u05d5\\u05df \\u05d7.\\u05ea.\", \"\\u05e7\\u05d9\\u05e8\\u05d0\\u05d5\\u05df \\u05d7.\\u05ea.\", \"\\u05e7\\u05d9\\u05e8\\u05d0\\u05d5\\u05df \\u05d7.\\u05ea.\"], \"ids\": [\"\\u05e7\\u05d9\\u05e8\\u05d0\\u05d5\\u05df \\u05d7.\\u05ea.\", \"\\u05e7\\u05d9\\u05e8\\u05d0\\u05d5\\u05df \\u05d7.\\u05ea.\", \"\\u05e7\\u05d9\\u05e8\\u05d0\\u05d5\\u05df \\u05d7.\\u05ea.\", \"\\u05e7\\u05d9\\u05e8\\u05d0\\u05d5\\u05df \\u05d7.\\u05ea.\"], \"legendgroup\": \"\\u05e7\\u05d9\\u05e8\\u05d0\\u05d5\\u05df \\u05d7.\\u05ea.\", \"marker\": {\"color\": \"#EF553B\", \"size\": [49, 53, 62, 45], \"sizemode\": \"area\", \"sizeref\": 0.0162, \"symbol\": \"circle\"}, \"mode\": \"markers\", \"name\": \"\\u05e7\\u05d9\\u05e8\\u05d0\\u05d5\\u05df \\u05d7.\\u05ea.\", \"showlegend\": true, \"x\": [49, 53, 62, 45], \"xaxis\": \"x\", \"y\": [10, 10, 10, 10], \"yaxis\": \"y\", \"type\": \"scatter\"}, {\"hovertemplate\": \"<b>%{hovertext}</b><br><br>pharm_n=\\u05db\\u05e8\\u05de\\u05d9\\u05dd \\u05d7.\\u05ea.<br>yyyy-mm=2018-8<br>pdax_c=%{marker.size}<br>unscheduled=%{y}<extra></extra>\", \"hovertext\": [\"\\u05db\\u05e8\\u05de\\u05d9\\u05dd \\u05d7.\\u05ea.\", \"\\u05db\\u05e8\\u05de\\u05d9\\u05dd \\u05d7.\\u05ea.\", \"\\u05db\\u05e8\\u05de\\u05d9\\u05dd \\u05d7.\\u05ea.\", \"\\u05db\\u05e8\\u05de\\u05d9\\u05dd \\u05d7.\\u05ea.\"], \"ids\": [\"\\u05db\\u05e8\\u05de\\u05d9\\u05dd \\u05d7.\\u05ea.\", \"\\u05db\\u05e8\\u05de\\u05d9\\u05dd \\u05d7.\\u05ea.\", \"\\u05db\\u05e8\\u05de\\u05d9\\u05dd \\u05d7.\\u05ea.\", \"\\u05db\\u05e8\\u05de\\u05d9\\u05dd \\u05d7.\\u05ea.\"], \"legendgroup\": \"\\u05db\\u05e8\\u05de\\u05d9\\u05dd \\u05d7.\\u05ea.\", \"marker\": {\"color\": \"#ab63fa\", \"size\": [43, 57, 47, 55], \"sizemode\": \"area\", \"sizeref\": 0.0162, \"symbol\": \"circle\"}, \"mode\": \"markers\", \"name\": \"\\u05db\\u05e8\\u05de\\u05d9\\u05dd \\u05d7.\\u05ea.\", \"showlegend\": true, \"x\": [43, 57, 47, 55], \"xaxis\": \"x\", \"y\": [12, 12, 12, 12], \"yaxis\": \"y\", \"type\": \"scatter\"}], \"name\": \"2018-8\"}, {\"data\": [{\"hovertemplate\": \"<b>%{hovertext}</b><br><br>pharm_n=\\u05d7\\u05d5\\u05dc\\u05d5\\u05df \\u05de\\u05e7\\u05e6 \\u05d7.\\u05ea.<br>yyyy-mm=2018-9<br>pdax_c=%{marker.size}<br>unscheduled=%{y}<extra></extra>\", \"hovertext\": [\"\\u05d7\\u05d5\\u05dc\\u05d5\\u05df \\u05de\\u05e7\\u05e6 \\u05d7.\\u05ea.\", \"\\u05d7\\u05d5\\u05dc\\u05d5\\u05df \\u05de\\u05e7\\u05e6 \\u05d7.\\u05ea.\", \"\\u05d7\\u05d5\\u05dc\\u05d5\\u05df \\u05de\\u05e7\\u05e6 \\u05d7.\\u05ea.\"], \"ids\": [\"\\u05d7\\u05d5\\u05dc\\u05d5\\u05df \\u05de\\u05e7\\u05e6 \\u05d7.\\u05ea.\", \"\\u05d7\\u05d5\\u05dc\\u05d5\\u05df \\u05de\\u05e7\\u05e6 \\u05d7.\\u05ea.\", \"\\u05d7\\u05d5\\u05dc\\u05d5\\u05df \\u05de\\u05e7\\u05e6 \\u05d7.\\u05ea.\"], \"legendgroup\": \"\\u05d7\\u05d5\\u05dc\\u05d5\\u05df \\u05de\\u05e7\\u05e6 \\u05d7.\\u05ea.\", \"marker\": {\"color\": \"#636efa\", \"size\": [59, 66, 28], \"sizemode\": \"area\", \"sizeref\": 0.0162, \"symbol\": \"circle\"}, \"mode\": \"markers\", \"name\": \"\\u05d7\\u05d5\\u05dc\\u05d5\\u05df \\u05de\\u05e7\\u05e6 \\u05d7.\\u05ea.\", \"showlegend\": true, \"x\": [59, 66, 28], \"xaxis\": \"x\", \"y\": [5, 5, 5], \"yaxis\": \"y\", \"type\": \"scatter\"}, {\"hovertemplate\": \"<b>%{hovertext}</b><br><br>pharm_n=\\u05e7\\u05d9\\u05e8\\u05d0\\u05d5\\u05df \\u05d7.\\u05ea.<br>yyyy-mm=2018-9<br>pdax_c=%{marker.size}<br>unscheduled=%{y}<extra></extra>\", \"hovertext\": [\"\\u05e7\\u05d9\\u05e8\\u05d0\\u05d5\\u05df \\u05d7.\\u05ea.\", \"\\u05e7\\u05d9\\u05e8\\u05d0\\u05d5\\u05df \\u05d7.\\u05ea.\"], \"ids\": [\"\\u05e7\\u05d9\\u05e8\\u05d0\\u05d5\\u05df \\u05d7.\\u05ea.\", \"\\u05e7\\u05d9\\u05e8\\u05d0\\u05d5\\u05df \\u05d7.\\u05ea.\"], \"legendgroup\": \"\\u05e7\\u05d9\\u05e8\\u05d0\\u05d5\\u05df \\u05d7.\\u05ea.\", \"marker\": {\"color\": \"#EF553B\", \"size\": [28, 42], \"sizemode\": \"area\", \"sizeref\": 0.0162, \"symbol\": \"circle\"}, \"mode\": \"markers\", \"name\": \"\\u05e7\\u05d9\\u05e8\\u05d0\\u05d5\\u05df \\u05d7.\\u05ea.\", \"showlegend\": true, \"x\": [28, 42], \"xaxis\": \"x\", \"y\": [6, 6], \"yaxis\": \"y\", \"type\": \"scatter\"}, {\"hovertemplate\": \"<b>%{hovertext}</b><br><br>pharm_n=\\u05db\\u05e8\\u05de\\u05d9\\u05dd \\u05d7.\\u05ea.<br>yyyy-mm=2018-9<br>pdax_c=%{marker.size}<br>unscheduled=%{y}<extra></extra>\", \"hovertext\": [\"\\u05db\\u05e8\\u05de\\u05d9\\u05dd \\u05d7.\\u05ea.\", \"\\u05db\\u05e8\\u05de\\u05d9\\u05dd \\u05d7.\\u05ea.\"], \"ids\": [\"\\u05db\\u05e8\\u05de\\u05d9\\u05dd \\u05d7.\\u05ea.\", \"\\u05db\\u05e8\\u05de\\u05d9\\u05dd \\u05d7.\\u05ea.\"], \"legendgroup\": \"\\u05db\\u05e8\\u05de\\u05d9\\u05dd \\u05d7.\\u05ea.\", \"marker\": {\"color\": \"#ab63fa\", \"size\": [36, 40], \"sizemode\": \"area\", \"sizeref\": 0.0162, \"symbol\": \"circle\"}, \"mode\": \"markers\", \"name\": \"\\u05db\\u05e8\\u05de\\u05d9\\u05dd \\u05d7.\\u05ea.\", \"showlegend\": true, \"x\": [36, 40], \"xaxis\": \"x\", \"y\": [12, 12], \"yaxis\": \"y\", \"type\": \"scatter\"}], \"name\": \"2018-9\"}, {\"data\": [{\"hovertemplate\": \"<b>%{hovertext}</b><br><br>pharm_n=\\u05d7\\u05d5\\u05dc\\u05d5\\u05df \\u05de\\u05e7\\u05e6 \\u05d7.\\u05ea.<br>yyyy-mm=2018-10<br>pdax_c=%{marker.size}<br>unscheduled=%{y}<extra></extra>\", \"hovertext\": [\"\\u05d7\\u05d5\\u05dc\\u05d5\\u05df \\u05de\\u05e7\\u05e6 \\u05d7.\\u05ea.\", \"\\u05d7\\u05d5\\u05dc\\u05d5\\u05df \\u05de\\u05e7\\u05e6 \\u05d7.\\u05ea.\", \"\\u05d7\\u05d5\\u05dc\\u05d5\\u05df \\u05de\\u05e7\\u05e6 \\u05d7.\\u05ea.\", \"\\u05d7\\u05d5\\u05dc\\u05d5\\u05df \\u05de\\u05e7\\u05e6 \\u05d7.\\u05ea.\", \"\\u05d7\\u05d5\\u05dc\\u05d5\\u05df \\u05de\\u05e7\\u05e6 \\u05d7.\\u05ea.\"], \"ids\": [\"\\u05d7\\u05d5\\u05dc\\u05d5\\u05df \\u05de\\u05e7\\u05e6 \\u05d7.\\u05ea.\", \"\\u05d7\\u05d5\\u05dc\\u05d5\\u05df \\u05de\\u05e7\\u05e6 \\u05d7.\\u05ea.\", \"\\u05d7\\u05d5\\u05dc\\u05d5\\u05df \\u05de\\u05e7\\u05e6 \\u05d7.\\u05ea.\", \"\\u05d7\\u05d5\\u05dc\\u05d5\\u05df \\u05de\\u05e7\\u05e6 \\u05d7.\\u05ea.\", \"\\u05d7\\u05d5\\u05dc\\u05d5\\u05df \\u05de\\u05e7\\u05e6 \\u05d7.\\u05ea.\"], \"legendgroup\": \"\\u05d7\\u05d5\\u05dc\\u05d5\\u05df \\u05de\\u05e7\\u05e6 \\u05d7.\\u05ea.\", \"marker\": {\"color\": \"#636efa\", \"size\": [70, 59, 105, 123, 97], \"sizemode\": \"area\", \"sizeref\": 0.0162, \"symbol\": \"circle\"}, \"mode\": \"markers\", \"name\": \"\\u05d7\\u05d5\\u05dc\\u05d5\\u05df \\u05de\\u05e7\\u05e6 \\u05d7.\\u05ea.\", \"showlegend\": true, \"x\": [70, 59, 105, 123, 97], \"xaxis\": \"x\", \"y\": [10, 10, 10, 10, 10], \"yaxis\": \"y\", \"type\": \"scatter\"}, {\"hovertemplate\": \"<b>%{hovertext}</b><br><br>pharm_n=\\u05e7\\u05d9\\u05e8\\u05d0\\u05d5\\u05df \\u05d7.\\u05ea.<br>yyyy-mm=2018-10<br>pdax_c=%{marker.size}<br>unscheduled=%{y}<extra></extra>\", \"hovertext\": [\"\\u05e7\\u05d9\\u05e8\\u05d0\\u05d5\\u05df \\u05d7.\\u05ea.\", \"\\u05e7\\u05d9\\u05e8\\u05d0\\u05d5\\u05df \\u05d7.\\u05ea.\", \"\\u05e7\\u05d9\\u05e8\\u05d0\\u05d5\\u05df \\u05d7.\\u05ea.\", \"\\u05e7\\u05d9\\u05e8\\u05d0\\u05d5\\u05df \\u05d7.\\u05ea.\"], \"ids\": [\"\\u05e7\\u05d9\\u05e8\\u05d0\\u05d5\\u05df \\u05d7.\\u05ea.\", \"\\u05e7\\u05d9\\u05e8\\u05d0\\u05d5\\u05df \\u05d7.\\u05ea.\", \"\\u05e7\\u05d9\\u05e8\\u05d0\\u05d5\\u05df \\u05d7.\\u05ea.\", \"\\u05e7\\u05d9\\u05e8\\u05d0\\u05d5\\u05df \\u05d7.\\u05ea.\"], \"legendgroup\": \"\\u05e7\\u05d9\\u05e8\\u05d0\\u05d5\\u05df \\u05d7.\\u05ea.\", \"marker\": {\"color\": \"#EF553B\", \"size\": [51, 48, 69, 41], \"sizemode\": \"area\", \"sizeref\": 0.0162, \"symbol\": \"circle\"}, \"mode\": \"markers\", \"name\": \"\\u05e7\\u05d9\\u05e8\\u05d0\\u05d5\\u05df \\u05d7.\\u05ea.\", \"showlegend\": true, \"x\": [51, 48, 69, 41], \"xaxis\": \"x\", \"y\": [10, 10, 10, 10], \"yaxis\": \"y\", \"type\": \"scatter\"}, {\"hovertemplate\": \"<b>%{hovertext}</b><br><br>pharm_n=\\u05db\\u05e8\\u05de\\u05d9\\u05dd \\u05d7.\\u05ea.<br>yyyy-mm=2018-10<br>pdax_c=%{marker.size}<br>unscheduled=%{y}<extra></extra>\", \"hovertext\": [\"\\u05db\\u05e8\\u05de\\u05d9\\u05dd \\u05d7.\\u05ea.\", \"\\u05db\\u05e8\\u05de\\u05d9\\u05dd \\u05d7.\\u05ea.\", \"\\u05db\\u05e8\\u05de\\u05d9\\u05dd \\u05d7.\\u05ea.\"], \"ids\": [\"\\u05db\\u05e8\\u05de\\u05d9\\u05dd \\u05d7.\\u05ea.\", \"\\u05db\\u05e8\\u05de\\u05d9\\u05dd \\u05d7.\\u05ea.\", \"\\u05db\\u05e8\\u05de\\u05d9\\u05dd \\u05d7.\\u05ea.\"], \"legendgroup\": \"\\u05db\\u05e8\\u05de\\u05d9\\u05dd \\u05d7.\\u05ea.\", \"marker\": {\"color\": \"#ab63fa\", \"size\": [41, 48, 43], \"sizemode\": \"area\", \"sizeref\": 0.0162, \"symbol\": \"circle\"}, \"mode\": \"markers\", \"name\": \"\\u05db\\u05e8\\u05de\\u05d9\\u05dd \\u05d7.\\u05ea.\", \"showlegend\": true, \"x\": [41, 48, 43], \"xaxis\": \"x\", \"y\": [16, 16, 16], \"yaxis\": \"y\", \"type\": \"scatter\"}], \"name\": \"2018-10\"}, {\"data\": [{\"hovertemplate\": \"<b>%{hovertext}</b><br><br>pharm_n=\\u05d7\\u05d5\\u05dc\\u05d5\\u05df \\u05de\\u05e7\\u05e6 \\u05d7.\\u05ea.<br>yyyy-mm=2018-11<br>pdax_c=%{marker.size}<br>unscheduled=%{y}<extra></extra>\", \"hovertext\": [\"\\u05d7\\u05d5\\u05dc\\u05d5\\u05df \\u05de\\u05e7\\u05e6 \\u05d7.\\u05ea.\", \"\\u05d7\\u05d5\\u05dc\\u05d5\\u05df \\u05de\\u05e7\\u05e6 \\u05d7.\\u05ea.\", \"\\u05d7\\u05d5\\u05dc\\u05d5\\u05df \\u05de\\u05e7\\u05e6 \\u05d7.\\u05ea.\", \"\\u05d7\\u05d5\\u05dc\\u05d5\\u05df \\u05de\\u05e7\\u05e6 \\u05d7.\\u05ea.\"], \"ids\": [\"\\u05d7\\u05d5\\u05dc\\u05d5\\u05df \\u05de\\u05e7\\u05e6 \\u05d7.\\u05ea.\", \"\\u05d7\\u05d5\\u05dc\\u05d5\\u05df \\u05de\\u05e7\\u05e6 \\u05d7.\\u05ea.\", \"\\u05d7\\u05d5\\u05dc\\u05d5\\u05df \\u05de\\u05e7\\u05e6 \\u05d7.\\u05ea.\", \"\\u05d7\\u05d5\\u05dc\\u05d5\\u05df \\u05de\\u05e7\\u05e6 \\u05d7.\\u05ea.\"], \"legendgroup\": \"\\u05d7\\u05d5\\u05dc\\u05d5\\u05df \\u05de\\u05e7\\u05e6 \\u05d7.\\u05ea.\", \"marker\": {\"color\": \"#636efa\", \"size\": [78, 108, 85, 99], \"sizemode\": \"area\", \"sizeref\": 0.0162, \"symbol\": \"circle\"}, \"mode\": \"markers\", \"name\": \"\\u05d7\\u05d5\\u05dc\\u05d5\\u05df \\u05de\\u05e7\\u05e6 \\u05d7.\\u05ea.\", \"showlegend\": true, \"x\": [78, 108, 85, 99], \"xaxis\": \"x\", \"y\": [7, 7, 7, 7], \"yaxis\": \"y\", \"type\": \"scatter\"}, {\"hovertemplate\": \"<b>%{hovertext}</b><br><br>pharm_n=\\u05e7\\u05d9\\u05e8\\u05d0\\u05d5\\u05df \\u05d7.\\u05ea.<br>yyyy-mm=2018-11<br>pdax_c=%{marker.size}<br>unscheduled=%{y}<extra></extra>\", \"hovertext\": [\"\\u05e7\\u05d9\\u05e8\\u05d0\\u05d5\\u05df \\u05d7.\\u05ea.\", \"\\u05e7\\u05d9\\u05e8\\u05d0\\u05d5\\u05df \\u05d7.\\u05ea.\", \"\\u05e7\\u05d9\\u05e8\\u05d0\\u05d5\\u05df \\u05d7.\\u05ea.\", \"\\u05e7\\u05d9\\u05e8\\u05d0\\u05d5\\u05df \\u05d7.\\u05ea.\"], \"ids\": [\"\\u05e7\\u05d9\\u05e8\\u05d0\\u05d5\\u05df \\u05d7.\\u05ea.\", \"\\u05e7\\u05d9\\u05e8\\u05d0\\u05d5\\u05df \\u05d7.\\u05ea.\", \"\\u05e7\\u05d9\\u05e8\\u05d0\\u05d5\\u05df \\u05d7.\\u05ea.\", \"\\u05e7\\u05d9\\u05e8\\u05d0\\u05d5\\u05df \\u05d7.\\u05ea.\"], \"legendgroup\": \"\\u05e7\\u05d9\\u05e8\\u05d0\\u05d5\\u05df \\u05d7.\\u05ea.\", \"marker\": {\"color\": \"#EF553B\", \"size\": [51, 57, 47, 45], \"sizemode\": \"area\", \"sizeref\": 0.0162, \"symbol\": \"circle\"}, \"mode\": \"markers\", \"name\": \"\\u05e7\\u05d9\\u05e8\\u05d0\\u05d5\\u05df \\u05d7.\\u05ea.\", \"showlegend\": true, \"x\": [51, 57, 47, 45], \"xaxis\": \"x\", \"y\": [12, 12, 12, 12], \"yaxis\": \"y\", \"type\": \"scatter\"}, {\"hovertemplate\": \"<b>%{hovertext}</b><br><br>pharm_n=\\u05db\\u05e8\\u05de\\u05d9\\u05dd \\u05d7.\\u05ea.<br>yyyy-mm=2018-11<br>pdax_c=%{marker.size}<br>unscheduled=%{y}<extra></extra>\", \"hovertext\": [\"\\u05db\\u05e8\\u05de\\u05d9\\u05dd \\u05d7.\\u05ea.\", \"\\u05db\\u05e8\\u05de\\u05d9\\u05dd \\u05d7.\\u05ea.\", \"\\u05db\\u05e8\\u05de\\u05d9\\u05dd \\u05d7.\\u05ea.\", \"\\u05db\\u05e8\\u05de\\u05d9\\u05dd \\u05d7.\\u05ea.\", \"\\u05db\\u05e8\\u05de\\u05d9\\u05dd \\u05d7.\\u05ea.\"], \"ids\": [\"\\u05db\\u05e8\\u05de\\u05d9\\u05dd \\u05d7.\\u05ea.\", \"\\u05db\\u05e8\\u05de\\u05d9\\u05dd \\u05d7.\\u05ea.\", \"\\u05db\\u05e8\\u05de\\u05d9\\u05dd \\u05d7.\\u05ea.\", \"\\u05db\\u05e8\\u05de\\u05d9\\u05dd \\u05d7.\\u05ea.\", \"\\u05db\\u05e8\\u05de\\u05d9\\u05dd \\u05d7.\\u05ea.\"], \"legendgroup\": \"\\u05db\\u05e8\\u05de\\u05d9\\u05dd \\u05d7.\\u05ea.\", \"marker\": {\"color\": \"#ab63fa\", \"size\": [51, 41, 42, 41, 63], \"sizemode\": \"area\", \"sizeref\": 0.0162, \"symbol\": \"circle\"}, \"mode\": \"markers\", \"name\": \"\\u05db\\u05e8\\u05de\\u05d9\\u05dd \\u05d7.\\u05ea.\", \"showlegend\": true, \"x\": [51, 41, 42, 41, 63], \"xaxis\": \"x\", \"y\": [8, 8, 8, 8, 8], \"yaxis\": \"y\", \"type\": \"scatter\"}], \"name\": \"2018-11\"}, {\"data\": [{\"hovertemplate\": \"<b>%{hovertext}</b><br><br>pharm_n=\\u05d7\\u05d5\\u05dc\\u05d5\\u05df \\u05de\\u05e7\\u05e6 \\u05d7.\\u05ea.<br>yyyy-mm=2018-12<br>pdax_c=%{marker.size}<br>unscheduled=%{y}<extra></extra>\", \"hovertext\": [\"\\u05d7\\u05d5\\u05dc\\u05d5\\u05df \\u05de\\u05e7\\u05e6 \\u05d7.\\u05ea.\", \"\\u05d7\\u05d5\\u05dc\\u05d5\\u05df \\u05de\\u05e7\\u05e6 \\u05d7.\\u05ea.\", \"\\u05d7\\u05d5\\u05dc\\u05d5\\u05df \\u05de\\u05e7\\u05e6 \\u05d7.\\u05ea.\", \"\\u05d7\\u05d5\\u05dc\\u05d5\\u05df \\u05de\\u05e7\\u05e6 \\u05d7.\\u05ea.\"], \"ids\": [\"\\u05d7\\u05d5\\u05dc\\u05d5\\u05df \\u05de\\u05e7\\u05e6 \\u05d7.\\u05ea.\", \"\\u05d7\\u05d5\\u05dc\\u05d5\\u05df \\u05de\\u05e7\\u05e6 \\u05d7.\\u05ea.\", \"\\u05d7\\u05d5\\u05dc\\u05d5\\u05df \\u05de\\u05e7\\u05e6 \\u05d7.\\u05ea.\", \"\\u05d7\\u05d5\\u05dc\\u05d5\\u05df \\u05de\\u05e7\\u05e6 \\u05d7.\\u05ea.\"], \"legendgroup\": \"\\u05d7\\u05d5\\u05dc\\u05d5\\u05df \\u05de\\u05e7\\u05e6 \\u05d7.\\u05ea.\", \"marker\": {\"color\": \"#636efa\", \"size\": [73, 45, 92, 83], \"sizemode\": \"area\", \"sizeref\": 0.0162, \"symbol\": \"circle\"}, \"mode\": \"markers\", \"name\": \"\\u05d7\\u05d5\\u05dc\\u05d5\\u05df \\u05de\\u05e7\\u05e6 \\u05d7.\\u05ea.\", \"showlegend\": true, \"x\": [73, 45, 92, 83], \"xaxis\": \"x\", \"y\": [10, 10, 10, 10], \"yaxis\": \"y\", \"type\": \"scatter\"}, {\"hovertemplate\": \"<b>%{hovertext}</b><br><br>pharm_n=\\u05e7\\u05d9\\u05e8\\u05d0\\u05d5\\u05df \\u05d7.\\u05ea.<br>yyyy-mm=2018-12<br>pdax_c=%{marker.size}<br>unscheduled=%{y}<extra></extra>\", \"hovertext\": [\"\\u05e7\\u05d9\\u05e8\\u05d0\\u05d5\\u05df \\u05d7.\\u05ea.\", \"\\u05e7\\u05d9\\u05e8\\u05d0\\u05d5\\u05df \\u05d7.\\u05ea.\", \"\\u05e7\\u05d9\\u05e8\\u05d0\\u05d5\\u05df \\u05d7.\\u05ea.\", \"\\u05e7\\u05d9\\u05e8\\u05d0\\u05d5\\u05df \\u05d7.\\u05ea.\"], \"ids\": [\"\\u05e7\\u05d9\\u05e8\\u05d0\\u05d5\\u05df \\u05d7.\\u05ea.\", \"\\u05e7\\u05d9\\u05e8\\u05d0\\u05d5\\u05df \\u05d7.\\u05ea.\", \"\\u05e7\\u05d9\\u05e8\\u05d0\\u05d5\\u05df \\u05d7.\\u05ea.\", \"\\u05e7\\u05d9\\u05e8\\u05d0\\u05d5\\u05df \\u05d7.\\u05ea.\"], \"legendgroup\": \"\\u05e7\\u05d9\\u05e8\\u05d0\\u05d5\\u05df \\u05d7.\\u05ea.\", \"marker\": {\"color\": \"#EF553B\", \"size\": [54, 46, 51, 53], \"sizemode\": \"area\", \"sizeref\": 0.0162, \"symbol\": \"circle\"}, \"mode\": \"markers\", \"name\": \"\\u05e7\\u05d9\\u05e8\\u05d0\\u05d5\\u05df \\u05d7.\\u05ea.\", \"showlegend\": true, \"x\": [54, 46, 51, 53], \"xaxis\": \"x\", \"y\": [13, 13, 13, 13], \"yaxis\": \"y\", \"type\": \"scatter\"}, {\"hovertemplate\": \"<b>%{hovertext}</b><br><br>pharm_n=\\u05db\\u05e8\\u05de\\u05d9\\u05dd \\u05d7.\\u05ea.<br>yyyy-mm=2018-12<br>pdax_c=%{marker.size}<br>unscheduled=%{y}<extra></extra>\", \"hovertext\": [\"\\u05db\\u05e8\\u05de\\u05d9\\u05dd \\u05d7.\\u05ea.\", \"\\u05db\\u05e8\\u05de\\u05d9\\u05dd \\u05d7.\\u05ea.\", \"\\u05db\\u05e8\\u05de\\u05d9\\u05dd \\u05d7.\\u05ea.\", \"\\u05db\\u05e8\\u05de\\u05d9\\u05dd \\u05d7.\\u05ea.\"], \"ids\": [\"\\u05db\\u05e8\\u05de\\u05d9\\u05dd \\u05d7.\\u05ea.\", \"\\u05db\\u05e8\\u05de\\u05d9\\u05dd \\u05d7.\\u05ea.\", \"\\u05db\\u05e8\\u05de\\u05d9\\u05dd \\u05d7.\\u05ea.\", \"\\u05db\\u05e8\\u05de\\u05d9\\u05dd \\u05d7.\\u05ea.\"], \"legendgroup\": \"\\u05db\\u05e8\\u05de\\u05d9\\u05dd \\u05d7.\\u05ea.\", \"marker\": {\"color\": \"#ab63fa\", \"size\": [57, 55, 48, 36], \"sizemode\": \"area\", \"sizeref\": 0.0162, \"symbol\": \"circle\"}, \"mode\": \"markers\", \"name\": \"\\u05db\\u05e8\\u05de\\u05d9\\u05dd \\u05d7.\\u05ea.\", \"showlegend\": true, \"x\": [57, 55, 48, 36], \"xaxis\": \"x\", \"y\": [16, 16, 16, 16], \"yaxis\": \"y\", \"type\": \"scatter\"}], \"name\": \"2018-12\"}, {\"data\": [{\"hovertemplate\": \"<b>%{hovertext}</b><br><br>pharm_n=\\u05d7\\u05d5\\u05dc\\u05d5\\u05df \\u05de\\u05e7\\u05e6 \\u05d7.\\u05ea.<br>yyyy-mm=2019-1<br>pdax_c=%{marker.size}<br>unscheduled=%{y}<extra></extra>\", \"hovertext\": [\"\\u05d7\\u05d5\\u05dc\\u05d5\\u05df \\u05de\\u05e7\\u05e6 \\u05d7.\\u05ea.\", \"\\u05d7\\u05d5\\u05dc\\u05d5\\u05df \\u05de\\u05e7\\u05e6 \\u05d7.\\u05ea.\", \"\\u05d7\\u05d5\\u05dc\\u05d5\\u05df \\u05de\\u05e7\\u05e6 \\u05d7.\\u05ea.\", \"\\u05d7\\u05d5\\u05dc\\u05d5\\u05df \\u05de\\u05e7\\u05e6 \\u05d7.\\u05ea.\", \"\\u05d7\\u05d5\\u05dc\\u05d5\\u05df \\u05de\\u05e7\\u05e6 \\u05d7.\\u05ea.\"], \"ids\": [\"\\u05d7\\u05d5\\u05dc\\u05d5\\u05df \\u05de\\u05e7\\u05e6 \\u05d7.\\u05ea.\", \"\\u05d7\\u05d5\\u05dc\\u05d5\\u05df \\u05de\\u05e7\\u05e6 \\u05d7.\\u05ea.\", \"\\u05d7\\u05d5\\u05dc\\u05d5\\u05df \\u05de\\u05e7\\u05e6 \\u05d7.\\u05ea.\", \"\\u05d7\\u05d5\\u05dc\\u05d5\\u05df \\u05de\\u05e7\\u05e6 \\u05d7.\\u05ea.\", \"\\u05d7\\u05d5\\u05dc\\u05d5\\u05df \\u05de\\u05e7\\u05e6 \\u05d7.\\u05ea.\"], \"legendgroup\": \"\\u05d7\\u05d5\\u05dc\\u05d5\\u05df \\u05de\\u05e7\\u05e6 \\u05d7.\\u05ea.\", \"marker\": {\"color\": \"#636efa\", \"size\": [95, 78, 88, 70, 114], \"sizemode\": \"area\", \"sizeref\": 0.0162, \"symbol\": \"circle\"}, \"mode\": \"markers\", \"name\": \"\\u05d7\\u05d5\\u05dc\\u05d5\\u05df \\u05de\\u05e7\\u05e6 \\u05d7.\\u05ea.\", \"showlegend\": true, \"x\": [95, 78, 88, 70, 114], \"xaxis\": \"x\", \"y\": [10, 10, 10, 10, 10], \"yaxis\": \"y\", \"type\": \"scatter\"}, {\"hovertemplate\": \"<b>%{hovertext}</b><br><br>pharm_n=\\u05e7\\u05d9\\u05e8\\u05d0\\u05d5\\u05df \\u05d7.\\u05ea.<br>yyyy-mm=2019-1<br>pdax_c=%{marker.size}<br>unscheduled=%{y}<extra></extra>\", \"hovertext\": [\"\\u05e7\\u05d9\\u05e8\\u05d0\\u05d5\\u05df \\u05d7.\\u05ea.\", \"\\u05e7\\u05d9\\u05e8\\u05d0\\u05d5\\u05df \\u05d7.\\u05ea.\", \"\\u05e7\\u05d9\\u05e8\\u05d0\\u05d5\\u05df \\u05d7.\\u05ea.\", \"\\u05e7\\u05d9\\u05e8\\u05d0\\u05d5\\u05df \\u05d7.\\u05ea.\", \"\\u05e7\\u05d9\\u05e8\\u05d0\\u05d5\\u05df \\u05d7.\\u05ea.\"], \"ids\": [\"\\u05e7\\u05d9\\u05e8\\u05d0\\u05d5\\u05df \\u05d7.\\u05ea.\", \"\\u05e7\\u05d9\\u05e8\\u05d0\\u05d5\\u05df \\u05d7.\\u05ea.\", \"\\u05e7\\u05d9\\u05e8\\u05d0\\u05d5\\u05df \\u05d7.\\u05ea.\", \"\\u05e7\\u05d9\\u05e8\\u05d0\\u05d5\\u05df \\u05d7.\\u05ea.\", \"\\u05e7\\u05d9\\u05e8\\u05d0\\u05d5\\u05df \\u05d7.\\u05ea.\"], \"legendgroup\": \"\\u05e7\\u05d9\\u05e8\\u05d0\\u05d5\\u05df \\u05d7.\\u05ea.\", \"marker\": {\"color\": \"#EF553B\", \"size\": [54, 47, 52, 51, 38], \"sizemode\": \"area\", \"sizeref\": 0.0162, \"symbol\": \"circle\"}, \"mode\": \"markers\", \"name\": \"\\u05e7\\u05d9\\u05e8\\u05d0\\u05d5\\u05df \\u05d7.\\u05ea.\", \"showlegend\": true, \"x\": [54, 47, 52, 51, 38], \"xaxis\": \"x\", \"y\": [11, 11, 11, 11, 11], \"yaxis\": \"y\", \"type\": \"scatter\"}, {\"hovertemplate\": \"<b>%{hovertext}</b><br><br>pharm_n=\\u05db\\u05e8\\u05de\\u05d9\\u05dd \\u05d7.\\u05ea.<br>yyyy-mm=2019-1<br>pdax_c=%{marker.size}<br>unscheduled=%{y}<extra></extra>\", \"hovertext\": [\"\\u05db\\u05e8\\u05de\\u05d9\\u05dd \\u05d7.\\u05ea.\", \"\\u05db\\u05e8\\u05de\\u05d9\\u05dd \\u05d7.\\u05ea.\", \"\\u05db\\u05e8\\u05de\\u05d9\\u05dd \\u05d7.\\u05ea.\", \"\\u05db\\u05e8\\u05de\\u05d9\\u05dd \\u05d7.\\u05ea.\"], \"ids\": [\"\\u05db\\u05e8\\u05de\\u05d9\\u05dd \\u05d7.\\u05ea.\", \"\\u05db\\u05e8\\u05de\\u05d9\\u05dd \\u05d7.\\u05ea.\", \"\\u05db\\u05e8\\u05de\\u05d9\\u05dd \\u05d7.\\u05ea.\", \"\\u05db\\u05e8\\u05de\\u05d9\\u05dd \\u05d7.\\u05ea.\"], \"legendgroup\": \"\\u05db\\u05e8\\u05de\\u05d9\\u05dd \\u05d7.\\u05ea.\", \"marker\": {\"color\": \"#ab63fa\", \"size\": [51, 52, 60, 64], \"sizemode\": \"area\", \"sizeref\": 0.0162, \"symbol\": \"circle\"}, \"mode\": \"markers\", \"name\": \"\\u05db\\u05e8\\u05de\\u05d9\\u05dd \\u05d7.\\u05ea.\", \"showlegend\": true, \"x\": [51, 52, 60, 64], \"xaxis\": \"x\", \"y\": [13, 13, 13, 13], \"yaxis\": \"y\", \"type\": \"scatter\"}], \"name\": \"2019-1\"}, {\"data\": [{\"hovertemplate\": \"<b>%{hovertext}</b><br><br>pharm_n=\\u05d7\\u05d5\\u05dc\\u05d5\\u05df \\u05de\\u05e7\\u05e6 \\u05d7.\\u05ea.<br>yyyy-mm=2019-2<br>pdax_c=%{marker.size}<br>unscheduled=%{y}<extra></extra>\", \"hovertext\": [\"\\u05d7\\u05d5\\u05dc\\u05d5\\u05df \\u05de\\u05e7\\u05e6 \\u05d7.\\u05ea.\", \"\\u05d7\\u05d5\\u05dc\\u05d5\\u05df \\u05de\\u05e7\\u05e6 \\u05d7.\\u05ea.\", \"\\u05d7\\u05d5\\u05dc\\u05d5\\u05df \\u05de\\u05e7\\u05e6 \\u05d7.\\u05ea.\", \"\\u05d7\\u05d5\\u05dc\\u05d5\\u05df \\u05de\\u05e7\\u05e6 \\u05d7.\\u05ea.\"], \"ids\": [\"\\u05d7\\u05d5\\u05dc\\u05d5\\u05df \\u05de\\u05e7\\u05e6 \\u05d7.\\u05ea.\", \"\\u05d7\\u05d5\\u05dc\\u05d5\\u05df \\u05de\\u05e7\\u05e6 \\u05d7.\\u05ea.\", \"\\u05d7\\u05d5\\u05dc\\u05d5\\u05df \\u05de\\u05e7\\u05e6 \\u05d7.\\u05ea.\", \"\\u05d7\\u05d5\\u05dc\\u05d5\\u05df \\u05de\\u05e7\\u05e6 \\u05d7.\\u05ea.\"], \"legendgroup\": \"\\u05d7\\u05d5\\u05dc\\u05d5\\u05df \\u05de\\u05e7\\u05e6 \\u05d7.\\u05ea.\", \"marker\": {\"color\": \"#636efa\", \"size\": [76, 82, 66, 72], \"sizemode\": \"area\", \"sizeref\": 0.0162, \"symbol\": \"circle\"}, \"mode\": \"markers\", \"name\": \"\\u05d7\\u05d5\\u05dc\\u05d5\\u05df \\u05de\\u05e7\\u05e6 \\u05d7.\\u05ea.\", \"showlegend\": true, \"x\": [76, 82, 66, 72], \"xaxis\": \"x\", \"y\": [11, 11, 11, 11], \"yaxis\": \"y\", \"type\": \"scatter\"}, {\"hovertemplate\": \"<b>%{hovertext}</b><br><br>pharm_n=\\u05e7\\u05d9\\u05e8\\u05d0\\u05d5\\u05df \\u05d7.\\u05ea.<br>yyyy-mm=2019-2<br>pdax_c=%{marker.size}<br>unscheduled=%{y}<extra></extra>\", \"hovertext\": [\"\\u05e7\\u05d9\\u05e8\\u05d0\\u05d5\\u05df \\u05d7.\\u05ea.\", \"\\u05e7\\u05d9\\u05e8\\u05d0\\u05d5\\u05df \\u05d7.\\u05ea.\", \"\\u05e7\\u05d9\\u05e8\\u05d0\\u05d5\\u05df \\u05d7.\\u05ea.\", \"\\u05e7\\u05d9\\u05e8\\u05d0\\u05d5\\u05df \\u05d7.\\u05ea.\"], \"ids\": [\"\\u05e7\\u05d9\\u05e8\\u05d0\\u05d5\\u05df \\u05d7.\\u05ea.\", \"\\u05e7\\u05d9\\u05e8\\u05d0\\u05d5\\u05df \\u05d7.\\u05ea.\", \"\\u05e7\\u05d9\\u05e8\\u05d0\\u05d5\\u05df \\u05d7.\\u05ea.\", \"\\u05e7\\u05d9\\u05e8\\u05d0\\u05d5\\u05df \\u05d7.\\u05ea.\"], \"legendgroup\": \"\\u05e7\\u05d9\\u05e8\\u05d0\\u05d5\\u05df \\u05d7.\\u05ea.\", \"marker\": {\"color\": \"#EF553B\", \"size\": [49, 62, 96, 70], \"sizemode\": \"area\", \"sizeref\": 0.0162, \"symbol\": \"circle\"}, \"mode\": \"markers\", \"name\": \"\\u05e7\\u05d9\\u05e8\\u05d0\\u05d5\\u05df \\u05d7.\\u05ea.\", \"showlegend\": true, \"x\": [49, 62, 96, 70], \"xaxis\": \"x\", \"y\": [7, 7, 7, 7], \"yaxis\": \"y\", \"type\": \"scatter\"}, {\"hovertemplate\": \"<b>%{hovertext}</b><br><br>pharm_n=\\u05db\\u05e8\\u05de\\u05d9\\u05dd \\u05d7.\\u05ea.<br>yyyy-mm=2019-2<br>pdax_c=%{marker.size}<br>unscheduled=%{y}<extra></extra>\", \"hovertext\": [\"\\u05db\\u05e8\\u05de\\u05d9\\u05dd \\u05d7.\\u05ea.\", \"\\u05db\\u05e8\\u05de\\u05d9\\u05dd \\u05d7.\\u05ea.\", \"\\u05db\\u05e8\\u05de\\u05d9\\u05dd \\u05d7.\\u05ea.\", \"\\u05db\\u05e8\\u05de\\u05d9\\u05dd \\u05d7.\\u05ea.\"], \"ids\": [\"\\u05db\\u05e8\\u05de\\u05d9\\u05dd \\u05d7.\\u05ea.\", \"\\u05db\\u05e8\\u05de\\u05d9\\u05dd \\u05d7.\\u05ea.\", \"\\u05db\\u05e8\\u05de\\u05d9\\u05dd \\u05d7.\\u05ea.\", \"\\u05db\\u05e8\\u05de\\u05d9\\u05dd \\u05d7.\\u05ea.\"], \"legendgroup\": \"\\u05db\\u05e8\\u05de\\u05d9\\u05dd \\u05d7.\\u05ea.\", \"marker\": {\"color\": \"#ab63fa\", \"size\": [51, 53, 65, 54], \"sizemode\": \"area\", \"sizeref\": 0.0162, \"symbol\": \"circle\"}, \"mode\": \"markers\", \"name\": \"\\u05db\\u05e8\\u05de\\u05d9\\u05dd \\u05d7.\\u05ea.\", \"showlegend\": true, \"x\": [51, 53, 65, 54], \"xaxis\": \"x\", \"y\": [11, 11, 11, 11], \"yaxis\": \"y\", \"type\": \"scatter\"}], \"name\": \"2019-2\"}, {\"data\": [{\"hovertemplate\": \"<b>%{hovertext}</b><br><br>pharm_n=\\u05d7\\u05d5\\u05dc\\u05d5\\u05df \\u05de\\u05e7\\u05e6 \\u05d7.\\u05ea.<br>yyyy-mm=2019-3<br>pdax_c=%{marker.size}<br>unscheduled=%{y}<extra></extra>\", \"hovertext\": [\"\\u05d7\\u05d5\\u05dc\\u05d5\\u05df \\u05de\\u05e7\\u05e6 \\u05d7.\\u05ea.\", \"\\u05d7\\u05d5\\u05dc\\u05d5\\u05df \\u05de\\u05e7\\u05e6 \\u05d7.\\u05ea.\", \"\\u05d7\\u05d5\\u05dc\\u05d5\\u05df \\u05de\\u05e7\\u05e6 \\u05d7.\\u05ea.\", \"\\u05d7\\u05d5\\u05dc\\u05d5\\u05df \\u05de\\u05e7\\u05e6 \\u05d7.\\u05ea.\"], \"ids\": [\"\\u05d7\\u05d5\\u05dc\\u05d5\\u05df \\u05de\\u05e7\\u05e6 \\u05d7.\\u05ea.\", \"\\u05d7\\u05d5\\u05dc\\u05d5\\u05df \\u05de\\u05e7\\u05e6 \\u05d7.\\u05ea.\", \"\\u05d7\\u05d5\\u05dc\\u05d5\\u05df \\u05de\\u05e7\\u05e6 \\u05d7.\\u05ea.\", \"\\u05d7\\u05d5\\u05dc\\u05d5\\u05df \\u05de\\u05e7\\u05e6 \\u05d7.\\u05ea.\"], \"legendgroup\": \"\\u05d7\\u05d5\\u05dc\\u05d5\\u05df \\u05de\\u05e7\\u05e6 \\u05d7.\\u05ea.\", \"marker\": {\"color\": \"#636efa\", \"size\": [112, 86, 100, 92], \"sizemode\": \"area\", \"sizeref\": 0.0162, \"symbol\": \"circle\"}, \"mode\": \"markers\", \"name\": \"\\u05d7\\u05d5\\u05dc\\u05d5\\u05df \\u05de\\u05e7\\u05e6 \\u05d7.\\u05ea.\", \"showlegend\": true, \"x\": [112, 86, 100, 92], \"xaxis\": \"x\", \"y\": [16, 16, 16, 16], \"yaxis\": \"y\", \"type\": \"scatter\"}, {\"hovertemplate\": \"<b>%{hovertext}</b><br><br>pharm_n=\\u05e7\\u05d9\\u05e8\\u05d0\\u05d5\\u05df \\u05d7.\\u05ea.<br>yyyy-mm=2019-3<br>pdax_c=%{marker.size}<br>unscheduled=%{y}<extra></extra>\", \"hovertext\": [\"\\u05e7\\u05d9\\u05e8\\u05d0\\u05d5\\u05df \\u05d7.\\u05ea.\", \"\\u05e7\\u05d9\\u05e8\\u05d0\\u05d5\\u05df \\u05d7.\\u05ea.\", \"\\u05e7\\u05d9\\u05e8\\u05d0\\u05d5\\u05df \\u05d7.\\u05ea.\", \"\\u05e7\\u05d9\\u05e8\\u05d0\\u05d5\\u05df \\u05d7.\\u05ea.\"], \"ids\": [\"\\u05e7\\u05d9\\u05e8\\u05d0\\u05d5\\u05df \\u05d7.\\u05ea.\", \"\\u05e7\\u05d9\\u05e8\\u05d0\\u05d5\\u05df \\u05d7.\\u05ea.\", \"\\u05e7\\u05d9\\u05e8\\u05d0\\u05d5\\u05df \\u05d7.\\u05ea.\", \"\\u05e7\\u05d9\\u05e8\\u05d0\\u05d5\\u05df \\u05d7.\\u05ea.\"], \"legendgroup\": \"\\u05e7\\u05d9\\u05e8\\u05d0\\u05d5\\u05df \\u05d7.\\u05ea.\", \"marker\": {\"color\": \"#EF553B\", \"size\": [107, 92, 100, 90], \"sizemode\": \"area\", \"sizeref\": 0.0162, \"symbol\": \"circle\"}, \"mode\": \"markers\", \"name\": \"\\u05e7\\u05d9\\u05e8\\u05d0\\u05d5\\u05df \\u05d7.\\u05ea.\", \"showlegend\": true, \"x\": [107, 92, 100, 90], \"xaxis\": \"x\", \"y\": [5, 5, 5, 5], \"yaxis\": \"y\", \"type\": \"scatter\"}, {\"hovertemplate\": \"<b>%{hovertext}</b><br><br>pharm_n=\\u05db\\u05e8\\u05de\\u05d9\\u05dd \\u05d7.\\u05ea.<br>yyyy-mm=2019-3<br>pdax_c=%{marker.size}<br>unscheduled=%{y}<extra></extra>\", \"hovertext\": [\"\\u05db\\u05e8\\u05de\\u05d9\\u05dd \\u05d7.\\u05ea.\", \"\\u05db\\u05e8\\u05de\\u05d9\\u05dd \\u05d7.\\u05ea.\", \"\\u05db\\u05e8\\u05de\\u05d9\\u05dd \\u05d7.\\u05ea.\", \"\\u05db\\u05e8\\u05de\\u05d9\\u05dd \\u05d7.\\u05ea.\"], \"ids\": [\"\\u05db\\u05e8\\u05de\\u05d9\\u05dd \\u05d7.\\u05ea.\", \"\\u05db\\u05e8\\u05de\\u05d9\\u05dd \\u05d7.\\u05ea.\", \"\\u05db\\u05e8\\u05de\\u05d9\\u05dd \\u05d7.\\u05ea.\", \"\\u05db\\u05e8\\u05de\\u05d9\\u05dd \\u05d7.\\u05ea.\"], \"legendgroup\": \"\\u05db\\u05e8\\u05de\\u05d9\\u05dd \\u05d7.\\u05ea.\", \"marker\": {\"color\": \"#ab63fa\", \"size\": [61, 63, 63, 74], \"sizemode\": \"area\", \"sizeref\": 0.0162, \"symbol\": \"circle\"}, \"mode\": \"markers\", \"name\": \"\\u05db\\u05e8\\u05de\\u05d9\\u05dd \\u05d7.\\u05ea.\", \"showlegend\": true, \"x\": [61, 63, 63, 74], \"xaxis\": \"x\", \"y\": [15, 15, 15, 15], \"yaxis\": \"y\", \"type\": \"scatter\"}], \"name\": \"2019-3\"}, {\"data\": [{\"hovertemplate\": \"<b>%{hovertext}</b><br><br>pharm_n=\\u05d7\\u05d5\\u05dc\\u05d5\\u05df \\u05de\\u05e7\\u05e6 \\u05d7.\\u05ea.<br>yyyy-mm=2019-4<br>pdax_c=%{marker.size}<br>unscheduled=%{y}<extra></extra>\", \"hovertext\": [\"\\u05d7\\u05d5\\u05dc\\u05d5\\u05df \\u05de\\u05e7\\u05e6 \\u05d7.\\u05ea.\", \"\\u05d7\\u05d5\\u05dc\\u05d5\\u05df \\u05de\\u05e7\\u05e6 \\u05d7.\\u05ea.\", \"\\u05d7\\u05d5\\u05dc\\u05d5\\u05df \\u05de\\u05e7\\u05e6 \\u05d7.\\u05ea.\", \"\\u05d7\\u05d5\\u05dc\\u05d5\\u05df \\u05de\\u05e7\\u05e6 \\u05d7.\\u05ea.\"], \"ids\": [\"\\u05d7\\u05d5\\u05dc\\u05d5\\u05df \\u05de\\u05e7\\u05e6 \\u05d7.\\u05ea.\", \"\\u05d7\\u05d5\\u05dc\\u05d5\\u05df \\u05de\\u05e7\\u05e6 \\u05d7.\\u05ea.\", \"\\u05d7\\u05d5\\u05dc\\u05d5\\u05df \\u05de\\u05e7\\u05e6 \\u05d7.\\u05ea.\", \"\\u05d7\\u05d5\\u05dc\\u05d5\\u05df \\u05de\\u05e7\\u05e6 \\u05d7.\\u05ea.\"], \"legendgroup\": \"\\u05d7\\u05d5\\u05dc\\u05d5\\u05df \\u05de\\u05e7\\u05e6 \\u05d7.\\u05ea.\", \"marker\": {\"color\": \"#636efa\", \"size\": [94, 117, 75, 139], \"sizemode\": \"area\", \"sizeref\": 0.0162, \"symbol\": \"circle\"}, \"mode\": \"markers\", \"name\": \"\\u05d7\\u05d5\\u05dc\\u05d5\\u05df \\u05de\\u05e7\\u05e6 \\u05d7.\\u05ea.\", \"showlegend\": true, \"x\": [94, 117, 75, 139], \"xaxis\": \"x\", \"y\": [14, 14, 14, 14], \"yaxis\": \"y\", \"type\": \"scatter\"}, {\"hovertemplate\": \"<b>%{hovertext}</b><br><br>pharm_n=\\u05e7\\u05d9\\u05e8\\u05d0\\u05d5\\u05df \\u05d7.\\u05ea.<br>yyyy-mm=2019-4<br>pdax_c=%{marker.size}<br>unscheduled=%{y}<extra></extra>\", \"hovertext\": [\"\\u05e7\\u05d9\\u05e8\\u05d0\\u05d5\\u05df \\u05d7.\\u05ea.\", \"\\u05e7\\u05d9\\u05e8\\u05d0\\u05d5\\u05df \\u05d7.\\u05ea.\", \"\\u05e7\\u05d9\\u05e8\\u05d0\\u05d5\\u05df \\u05d7.\\u05ea.\"], \"ids\": [\"\\u05e7\\u05d9\\u05e8\\u05d0\\u05d5\\u05df \\u05d7.\\u05ea.\", \"\\u05e7\\u05d9\\u05e8\\u05d0\\u05d5\\u05df \\u05d7.\\u05ea.\", \"\\u05e7\\u05d9\\u05e8\\u05d0\\u05d5\\u05df \\u05d7.\\u05ea.\"], \"legendgroup\": \"\\u05e7\\u05d9\\u05e8\\u05d0\\u05d5\\u05df \\u05d7.\\u05ea.\", \"marker\": {\"color\": \"#EF553B\", \"size\": [80, 58, 106], \"sizemode\": \"area\", \"sizeref\": 0.0162, \"symbol\": \"circle\"}, \"mode\": \"markers\", \"name\": \"\\u05e7\\u05d9\\u05e8\\u05d0\\u05d5\\u05df \\u05d7.\\u05ea.\", \"showlegend\": true, \"x\": [80, 58, 106], \"xaxis\": \"x\", \"y\": [13, 13, 13], \"yaxis\": \"y\", \"type\": \"scatter\"}, {\"hovertemplate\": \"<b>%{hovertext}</b><br><br>pharm_n=\\u05db\\u05e8\\u05de\\u05d9\\u05dd \\u05d7.\\u05ea.<br>yyyy-mm=2019-4<br>pdax_c=%{marker.size}<br>unscheduled=%{y}<extra></extra>\", \"hovertext\": [\"\\u05db\\u05e8\\u05de\\u05d9\\u05dd \\u05d7.\\u05ea.\", \"\\u05db\\u05e8\\u05de\\u05d9\\u05dd \\u05d7.\\u05ea.\", \"\\u05db\\u05e8\\u05de\\u05d9\\u05dd \\u05d7.\\u05ea.\", \"\\u05db\\u05e8\\u05de\\u05d9\\u05dd \\u05d7.\\u05ea.\", \"\\u05db\\u05e8\\u05de\\u05d9\\u05dd \\u05d7.\\u05ea.\"], \"ids\": [\"\\u05db\\u05e8\\u05de\\u05d9\\u05dd \\u05d7.\\u05ea.\", \"\\u05db\\u05e8\\u05de\\u05d9\\u05dd \\u05d7.\\u05ea.\", \"\\u05db\\u05e8\\u05de\\u05d9\\u05dd \\u05d7.\\u05ea.\", \"\\u05db\\u05e8\\u05de\\u05d9\\u05dd \\u05d7.\\u05ea.\", \"\\u05db\\u05e8\\u05de\\u05d9\\u05dd \\u05d7.\\u05ea.\"], \"legendgroup\": \"\\u05db\\u05e8\\u05de\\u05d9\\u05dd \\u05d7.\\u05ea.\", \"marker\": {\"color\": \"#ab63fa\", \"size\": [73, 65, 70, 63, 60], \"sizemode\": \"area\", \"sizeref\": 0.0162, \"symbol\": \"circle\"}, \"mode\": \"markers\", \"name\": \"\\u05db\\u05e8\\u05de\\u05d9\\u05dd \\u05d7.\\u05ea.\", \"showlegend\": true, \"x\": [73, 65, 70, 63, 60], \"xaxis\": \"x\", \"y\": [13, 13, 13, 13, 13], \"yaxis\": \"y\", \"type\": \"scatter\"}], \"name\": \"2019-4\"}, {\"data\": [{\"hovertemplate\": \"<b>%{hovertext}</b><br><br>pharm_n=\\u05d7\\u05d5\\u05dc\\u05d5\\u05df \\u05de\\u05e7\\u05e6 \\u05d7.\\u05ea.<br>yyyy-mm=2019-5<br>pdax_c=%{marker.size}<br>unscheduled=%{y}<extra></extra>\", \"hovertext\": [\"\\u05d7\\u05d5\\u05dc\\u05d5\\u05df \\u05de\\u05e7\\u05e6 \\u05d7.\\u05ea.\", \"\\u05d7\\u05d5\\u05dc\\u05d5\\u05df \\u05de\\u05e7\\u05e6 \\u05d7.\\u05ea.\", \"\\u05d7\\u05d5\\u05dc\\u05d5\\u05df \\u05de\\u05e7\\u05e6 \\u05d7.\\u05ea.\", \"\\u05d7\\u05d5\\u05dc\\u05d5\\u05df \\u05de\\u05e7\\u05e6 \\u05d7.\\u05ea.\", \"\\u05d7\\u05d5\\u05dc\\u05d5\\u05df \\u05de\\u05e7\\u05e6 \\u05d7.\\u05ea.\"], \"ids\": [\"\\u05d7\\u05d5\\u05dc\\u05d5\\u05df \\u05de\\u05e7\\u05e6 \\u05d7.\\u05ea.\", \"\\u05d7\\u05d5\\u05dc\\u05d5\\u05df \\u05de\\u05e7\\u05e6 \\u05d7.\\u05ea.\", \"\\u05d7\\u05d5\\u05dc\\u05d5\\u05df \\u05de\\u05e7\\u05e6 \\u05d7.\\u05ea.\", \"\\u05d7\\u05d5\\u05dc\\u05d5\\u05df \\u05de\\u05e7\\u05e6 \\u05d7.\\u05ea.\", \"\\u05d7\\u05d5\\u05dc\\u05d5\\u05df \\u05de\\u05e7\\u05e6 \\u05d7.\\u05ea.\"], \"legendgroup\": \"\\u05d7\\u05d5\\u05dc\\u05d5\\u05df \\u05de\\u05e7\\u05e6 \\u05d7.\\u05ea.\", \"marker\": {\"color\": \"#636efa\", \"size\": [91, 115, 123, 75, 59], \"sizemode\": \"area\", \"sizeref\": 0.0162, \"symbol\": \"circle\"}, \"mode\": \"markers\", \"name\": \"\\u05d7\\u05d5\\u05dc\\u05d5\\u05df \\u05de\\u05e7\\u05e6 \\u05d7.\\u05ea.\", \"showlegend\": true, \"x\": [91, 115, 123, 75, 59], \"xaxis\": \"x\", \"y\": [16, 16, 16, 16, 16], \"yaxis\": \"y\", \"type\": \"scatter\"}, {\"hovertemplate\": \"<b>%{hovertext}</b><br><br>pharm_n=\\u05e7\\u05d9\\u05e8\\u05d0\\u05d5\\u05df \\u05d7.\\u05ea.<br>yyyy-mm=2019-5<br>pdax_c=%{marker.size}<br>unscheduled=%{y}<extra></extra>\", \"hovertext\": [\"\\u05e7\\u05d9\\u05e8\\u05d0\\u05d5\\u05df \\u05d7.\\u05ea.\", \"\\u05e7\\u05d9\\u05e8\\u05d0\\u05d5\\u05df \\u05d7.\\u05ea.\", \"\\u05e7\\u05d9\\u05e8\\u05d0\\u05d5\\u05df \\u05d7.\\u05ea.\", \"\\u05e7\\u05d9\\u05e8\\u05d0\\u05d5\\u05df \\u05d7.\\u05ea.\"], \"ids\": [\"\\u05e7\\u05d9\\u05e8\\u05d0\\u05d5\\u05df \\u05d7.\\u05ea.\", \"\\u05e7\\u05d9\\u05e8\\u05d0\\u05d5\\u05df \\u05d7.\\u05ea.\", \"\\u05e7\\u05d9\\u05e8\\u05d0\\u05d5\\u05df \\u05d7.\\u05ea.\", \"\\u05e7\\u05d9\\u05e8\\u05d0\\u05d5\\u05df \\u05d7.\\u05ea.\"], \"legendgroup\": \"\\u05e7\\u05d9\\u05e8\\u05d0\\u05d5\\u05df \\u05d7.\\u05ea.\", \"marker\": {\"color\": \"#EF553B\", \"size\": [50, 86, 74, 103], \"sizemode\": \"area\", \"sizeref\": 0.0162, \"symbol\": \"circle\"}, \"mode\": \"markers\", \"name\": \"\\u05e7\\u05d9\\u05e8\\u05d0\\u05d5\\u05df \\u05d7.\\u05ea.\", \"showlegend\": true, \"x\": [50, 86, 74, 103], \"xaxis\": \"x\", \"y\": [9, 9, 9, 9], \"yaxis\": \"y\", \"type\": \"scatter\"}, {\"hovertemplate\": \"<b>%{hovertext}</b><br><br>pharm_n=\\u05db\\u05e8\\u05de\\u05d9\\u05dd \\u05d7.\\u05ea.<br>yyyy-mm=2019-5<br>pdax_c=%{marker.size}<br>unscheduled=%{y}<extra></extra>\", \"hovertext\": [\"\\u05db\\u05e8\\u05de\\u05d9\\u05dd \\u05d7.\\u05ea.\", \"\\u05db\\u05e8\\u05de\\u05d9\\u05dd \\u05d7.\\u05ea.\", \"\\u05db\\u05e8\\u05de\\u05d9\\u05dd \\u05d7.\\u05ea.\", \"\\u05db\\u05e8\\u05de\\u05d9\\u05dd \\u05d7.\\u05ea.\"], \"ids\": [\"\\u05db\\u05e8\\u05de\\u05d9\\u05dd \\u05d7.\\u05ea.\", \"\\u05db\\u05e8\\u05de\\u05d9\\u05dd \\u05d7.\\u05ea.\", \"\\u05db\\u05e8\\u05de\\u05d9\\u05dd \\u05d7.\\u05ea.\", \"\\u05db\\u05e8\\u05de\\u05d9\\u05dd \\u05d7.\\u05ea.\"], \"legendgroup\": \"\\u05db\\u05e8\\u05de\\u05d9\\u05dd \\u05d7.\\u05ea.\", \"marker\": {\"color\": \"#ab63fa\", \"size\": [65, 71, 74, 60], \"sizemode\": \"area\", \"sizeref\": 0.0162, \"symbol\": \"circle\"}, \"mode\": \"markers\", \"name\": \"\\u05db\\u05e8\\u05de\\u05d9\\u05dd \\u05d7.\\u05ea.\", \"showlegend\": true, \"x\": [65, 71, 74, 60], \"xaxis\": \"x\", \"y\": [12, 12, 12, 12], \"yaxis\": \"y\", \"type\": \"scatter\"}], \"name\": \"2019-5\"}, {\"data\": [{\"hovertemplate\": \"<b>%{hovertext}</b><br><br>pharm_n=\\u05d7\\u05d5\\u05dc\\u05d5\\u05df \\u05de\\u05e7\\u05e6 \\u05d7.\\u05ea.<br>yyyy-mm=2019-6<br>pdax_c=%{marker.size}<br>unscheduled=%{y}<extra></extra>\", \"hovertext\": [\"\\u05d7\\u05d5\\u05dc\\u05d5\\u05df \\u05de\\u05e7\\u05e6 \\u05d7.\\u05ea.\", \"\\u05d7\\u05d5\\u05dc\\u05d5\\u05df \\u05de\\u05e7\\u05e6 \\u05d7.\\u05ea.\", \"\\u05d7\\u05d5\\u05dc\\u05d5\\u05df \\u05de\\u05e7\\u05e6 \\u05d7.\\u05ea.\", \"\\u05d7\\u05d5\\u05dc\\u05d5\\u05df \\u05de\\u05e7\\u05e6 \\u05d7.\\u05ea.\"], \"ids\": [\"\\u05d7\\u05d5\\u05dc\\u05d5\\u05df \\u05de\\u05e7\\u05e6 \\u05d7.\\u05ea.\", \"\\u05d7\\u05d5\\u05dc\\u05d5\\u05df \\u05de\\u05e7\\u05e6 \\u05d7.\\u05ea.\", \"\\u05d7\\u05d5\\u05dc\\u05d5\\u05df \\u05de\\u05e7\\u05e6 \\u05d7.\\u05ea.\", \"\\u05d7\\u05d5\\u05dc\\u05d5\\u05df \\u05de\\u05e7\\u05e6 \\u05d7.\\u05ea.\"], \"legendgroup\": \"\\u05d7\\u05d5\\u05dc\\u05d5\\u05df \\u05de\\u05e7\\u05e6 \\u05d7.\\u05ea.\", \"marker\": {\"color\": \"#636efa\", \"size\": [58, 76, 62, 95], \"sizemode\": \"area\", \"sizeref\": 0.0162, \"symbol\": \"circle\"}, \"mode\": \"markers\", \"name\": \"\\u05d7\\u05d5\\u05dc\\u05d5\\u05df \\u05de\\u05e7\\u05e6 \\u05d7.\\u05ea.\", \"showlegend\": true, \"x\": [58, 76, 62, 95], \"xaxis\": \"x\", \"y\": [17, 17, 17, 17], \"yaxis\": \"y\", \"type\": \"scatter\"}, {\"hovertemplate\": \"<b>%{hovertext}</b><br><br>pharm_n=\\u05e7\\u05d9\\u05e8\\u05d0\\u05d5\\u05df \\u05d7.\\u05ea.<br>yyyy-mm=2019-6<br>pdax_c=%{marker.size}<br>unscheduled=%{y}<extra></extra>\", \"hovertext\": [\"\\u05e7\\u05d9\\u05e8\\u05d0\\u05d5\\u05df \\u05d7.\\u05ea.\", \"\\u05e7\\u05d9\\u05e8\\u05d0\\u05d5\\u05df \\u05d7.\\u05ea.\", \"\\u05e7\\u05d9\\u05e8\\u05d0\\u05d5\\u05df \\u05d7.\\u05ea.\", \"\\u05e7\\u05d9\\u05e8\\u05d0\\u05d5\\u05df \\u05d7.\\u05ea.\"], \"ids\": [\"\\u05e7\\u05d9\\u05e8\\u05d0\\u05d5\\u05df \\u05d7.\\u05ea.\", \"\\u05e7\\u05d9\\u05e8\\u05d0\\u05d5\\u05df \\u05d7.\\u05ea.\", \"\\u05e7\\u05d9\\u05e8\\u05d0\\u05d5\\u05df \\u05d7.\\u05ea.\", \"\\u05e7\\u05d9\\u05e8\\u05d0\\u05d5\\u05df \\u05d7.\\u05ea.\"], \"legendgroup\": \"\\u05e7\\u05d9\\u05e8\\u05d0\\u05d5\\u05df \\u05d7.\\u05ea.\", \"marker\": {\"color\": \"#EF553B\", \"size\": [79, 90, 50, 108], \"sizemode\": \"area\", \"sizeref\": 0.0162, \"symbol\": \"circle\"}, \"mode\": \"markers\", \"name\": \"\\u05e7\\u05d9\\u05e8\\u05d0\\u05d5\\u05df \\u05d7.\\u05ea.\", \"showlegend\": true, \"x\": [79, 90, 50, 108], \"xaxis\": \"x\", \"y\": [8, 8, 8, 8], \"yaxis\": \"y\", \"type\": \"scatter\"}, {\"hovertemplate\": \"<b>%{hovertext}</b><br><br>pharm_n=\\u05db\\u05e8\\u05de\\u05d9\\u05dd \\u05d7.\\u05ea.<br>yyyy-mm=2019-6<br>pdax_c=%{marker.size}<br>unscheduled=%{y}<extra></extra>\", \"hovertext\": [\"\\u05db\\u05e8\\u05de\\u05d9\\u05dd \\u05d7.\\u05ea.\", \"\\u05db\\u05e8\\u05de\\u05d9\\u05dd \\u05d7.\\u05ea.\", \"\\u05db\\u05e8\\u05de\\u05d9\\u05dd \\u05d7.\\u05ea.\", \"\\u05db\\u05e8\\u05de\\u05d9\\u05dd \\u05d7.\\u05ea.\"], \"ids\": [\"\\u05db\\u05e8\\u05de\\u05d9\\u05dd \\u05d7.\\u05ea.\", \"\\u05db\\u05e8\\u05de\\u05d9\\u05dd \\u05d7.\\u05ea.\", \"\\u05db\\u05e8\\u05de\\u05d9\\u05dd \\u05d7.\\u05ea.\", \"\\u05db\\u05e8\\u05de\\u05d9\\u05dd \\u05d7.\\u05ea.\"], \"legendgroup\": \"\\u05db\\u05e8\\u05de\\u05d9\\u05dd \\u05d7.\\u05ea.\", \"marker\": {\"color\": \"#ab63fa\", \"size\": [69, 62, 66, 67], \"sizemode\": \"area\", \"sizeref\": 0.0162, \"symbol\": \"circle\"}, \"mode\": \"markers\", \"name\": \"\\u05db\\u05e8\\u05de\\u05d9\\u05dd \\u05d7.\\u05ea.\", \"showlegend\": true, \"x\": [69, 62, 66, 67], \"xaxis\": \"x\", \"y\": [14, 14, 14, 14], \"yaxis\": \"y\", \"type\": \"scatter\"}], \"name\": \"2019-6\"}, {\"data\": [{\"hovertemplate\": \"<b>%{hovertext}</b><br><br>pharm_n=\\u05d7\\u05d5\\u05dc\\u05d5\\u05df \\u05de\\u05e7\\u05e6 \\u05d7.\\u05ea.<br>yyyy-mm=2019-7<br>pdax_c=%{marker.size}<br>unscheduled=%{y}<extra></extra>\", \"hovertext\": [\"\\u05d7\\u05d5\\u05dc\\u05d5\\u05df \\u05de\\u05e7\\u05e6 \\u05d7.\\u05ea.\", \"\\u05d7\\u05d5\\u05dc\\u05d5\\u05df \\u05de\\u05e7\\u05e6 \\u05d7.\\u05ea.\", \"\\u05d7\\u05d5\\u05dc\\u05d5\\u05df \\u05de\\u05e7\\u05e6 \\u05d7.\\u05ea.\", \"\\u05d7\\u05d5\\u05dc\\u05d5\\u05df \\u05de\\u05e7\\u05e6 \\u05d7.\\u05ea.\", \"\\u05d7\\u05d5\\u05dc\\u05d5\\u05df \\u05de\\u05e7\\u05e6 \\u05d7.\\u05ea.\"], \"ids\": [\"\\u05d7\\u05d5\\u05dc\\u05d5\\u05df \\u05de\\u05e7\\u05e6 \\u05d7.\\u05ea.\", \"\\u05d7\\u05d5\\u05dc\\u05d5\\u05df \\u05de\\u05e7\\u05e6 \\u05d7.\\u05ea.\", \"\\u05d7\\u05d5\\u05dc\\u05d5\\u05df \\u05de\\u05e7\\u05e6 \\u05d7.\\u05ea.\", \"\\u05d7\\u05d5\\u05dc\\u05d5\\u05df \\u05de\\u05e7\\u05e6 \\u05d7.\\u05ea.\", \"\\u05d7\\u05d5\\u05dc\\u05d5\\u05df \\u05de\\u05e7\\u05e6 \\u05d7.\\u05ea.\"], \"legendgroup\": \"\\u05d7\\u05d5\\u05dc\\u05d5\\u05df \\u05de\\u05e7\\u05e6 \\u05d7.\\u05ea.\", \"marker\": {\"color\": \"#636efa\", \"size\": [65, 59, 57, 58, 60], \"sizemode\": \"area\", \"sizeref\": 0.0162, \"symbol\": \"circle\"}, \"mode\": \"markers\", \"name\": \"\\u05d7\\u05d5\\u05dc\\u05d5\\u05df \\u05de\\u05e7\\u05e6 \\u05d7.\\u05ea.\", \"showlegend\": true, \"x\": [65, 59, 57, 58, 60], \"xaxis\": \"x\", \"y\": [15, 15, 15, 15, 15], \"yaxis\": \"y\", \"type\": \"scatter\"}, {\"hovertemplate\": \"<b>%{hovertext}</b><br><br>pharm_n=\\u05e7\\u05d9\\u05e8\\u05d0\\u05d5\\u05df \\u05d7.\\u05ea.<br>yyyy-mm=2019-7<br>pdax_c=%{marker.size}<br>unscheduled=%{y}<extra></extra>\", \"hovertext\": [\"\\u05e7\\u05d9\\u05e8\\u05d0\\u05d5\\u05df \\u05d7.\\u05ea.\", \"\\u05e7\\u05d9\\u05e8\\u05d0\\u05d5\\u05df \\u05d7.\\u05ea.\", \"\\u05e7\\u05d9\\u05e8\\u05d0\\u05d5\\u05df \\u05d7.\\u05ea.\", \"\\u05e7\\u05d9\\u05e8\\u05d0\\u05d5\\u05df \\u05d7.\\u05ea.\", \"\\u05e7\\u05d9\\u05e8\\u05d0\\u05d5\\u05df \\u05d7.\\u05ea.\"], \"ids\": [\"\\u05e7\\u05d9\\u05e8\\u05d0\\u05d5\\u05df \\u05d7.\\u05ea.\", \"\\u05e7\\u05d9\\u05e8\\u05d0\\u05d5\\u05df \\u05d7.\\u05ea.\", \"\\u05e7\\u05d9\\u05e8\\u05d0\\u05d5\\u05df \\u05d7.\\u05ea.\", \"\\u05e7\\u05d9\\u05e8\\u05d0\\u05d5\\u05df \\u05d7.\\u05ea.\", \"\\u05e7\\u05d9\\u05e8\\u05d0\\u05d5\\u05df \\u05d7.\\u05ea.\"], \"legendgroup\": \"\\u05e7\\u05d9\\u05e8\\u05d0\\u05d5\\u05df \\u05d7.\\u05ea.\", \"marker\": {\"color\": \"#EF553B\", \"size\": [80, 75, 64, 62, 46], \"sizemode\": \"area\", \"sizeref\": 0.0162, \"symbol\": \"circle\"}, \"mode\": \"markers\", \"name\": \"\\u05e7\\u05d9\\u05e8\\u05d0\\u05d5\\u05df \\u05d7.\\u05ea.\", \"showlegend\": true, \"x\": [80, 75, 64, 62, 46], \"xaxis\": \"x\", \"y\": [8, 8, 8, 8, 8], \"yaxis\": \"y\", \"type\": \"scatter\"}, {\"hovertemplate\": \"<b>%{hovertext}</b><br><br>pharm_n=\\u05db\\u05e8\\u05de\\u05d9\\u05dd \\u05d7.\\u05ea.<br>yyyy-mm=2019-7<br>pdax_c=%{marker.size}<br>unscheduled=%{y}<extra></extra>\", \"hovertext\": [\"\\u05db\\u05e8\\u05de\\u05d9\\u05dd \\u05d7.\\u05ea.\", \"\\u05db\\u05e8\\u05de\\u05d9\\u05dd \\u05d7.\\u05ea.\", \"\\u05db\\u05e8\\u05de\\u05d9\\u05dd \\u05d7.\\u05ea.\", \"\\u05db\\u05e8\\u05de\\u05d9\\u05dd \\u05d7.\\u05ea.\", \"\\u05db\\u05e8\\u05de\\u05d9\\u05dd \\u05d7.\\u05ea.\"], \"ids\": [\"\\u05db\\u05e8\\u05de\\u05d9\\u05dd \\u05d7.\\u05ea.\", \"\\u05db\\u05e8\\u05de\\u05d9\\u05dd \\u05d7.\\u05ea.\", \"\\u05db\\u05e8\\u05de\\u05d9\\u05dd \\u05d7.\\u05ea.\", \"\\u05db\\u05e8\\u05de\\u05d9\\u05dd \\u05d7.\\u05ea.\", \"\\u05db\\u05e8\\u05de\\u05d9\\u05dd \\u05d7.\\u05ea.\"], \"legendgroup\": \"\\u05db\\u05e8\\u05de\\u05d9\\u05dd \\u05d7.\\u05ea.\", \"marker\": {\"color\": \"#ab63fa\", \"size\": [65, 63, 60, 66, 69], \"sizemode\": \"area\", \"sizeref\": 0.0162, \"symbol\": \"circle\"}, \"mode\": \"markers\", \"name\": \"\\u05db\\u05e8\\u05de\\u05d9\\u05dd \\u05d7.\\u05ea.\", \"showlegend\": true, \"x\": [65, 63, 60, 66, 69], \"xaxis\": \"x\", \"y\": [14, 14, 14, 14, 14], \"yaxis\": \"y\", \"type\": \"scatter\"}], \"name\": \"2019-7\"}, {\"data\": [{\"hovertemplate\": \"<b>%{hovertext}</b><br><br>pharm_n=\\u05d7\\u05d5\\u05dc\\u05d5\\u05df \\u05de\\u05e7\\u05e6 \\u05d7.\\u05ea.<br>yyyy-mm=2019-8<br>pdax_c=%{marker.size}<br>unscheduled=%{y}<extra></extra>\", \"hovertext\": [\"\\u05d7\\u05d5\\u05dc\\u05d5\\u05df \\u05de\\u05e7\\u05e6 \\u05d7.\\u05ea.\", \"\\u05d7\\u05d5\\u05dc\\u05d5\\u05df \\u05de\\u05e7\\u05e6 \\u05d7.\\u05ea.\", \"\\u05d7\\u05d5\\u05dc\\u05d5\\u05df \\u05de\\u05e7\\u05e6 \\u05d7.\\u05ea.\"], \"ids\": [\"\\u05d7\\u05d5\\u05dc\\u05d5\\u05df \\u05de\\u05e7\\u05e6 \\u05d7.\\u05ea.\", \"\\u05d7\\u05d5\\u05dc\\u05d5\\u05df \\u05de\\u05e7\\u05e6 \\u05d7.\\u05ea.\", \"\\u05d7\\u05d5\\u05dc\\u05d5\\u05df \\u05de\\u05e7\\u05e6 \\u05d7.\\u05ea.\"], \"legendgroup\": \"\\u05d7\\u05d5\\u05dc\\u05d5\\u05df \\u05de\\u05e7\\u05e6 \\u05d7.\\u05ea.\", \"marker\": {\"color\": \"#636efa\", \"size\": [58, 107, 65], \"sizemode\": \"area\", \"sizeref\": 0.0162, \"symbol\": \"circle\"}, \"mode\": \"markers\", \"name\": \"\\u05d7\\u05d5\\u05dc\\u05d5\\u05df \\u05de\\u05e7\\u05e6 \\u05d7.\\u05ea.\", \"showlegend\": true, \"x\": [58, 107, 65], \"xaxis\": \"x\", \"y\": [14, 14, 14], \"yaxis\": \"y\", \"type\": \"scatter\"}, {\"hovertemplate\": \"<b>%{hovertext}</b><br><br>pharm_n=\\u05e7\\u05d9\\u05e8\\u05d0\\u05d5\\u05df \\u05d7.\\u05ea.<br>yyyy-mm=2019-8<br>pdax_c=%{marker.size}<br>unscheduled=%{y}<extra></extra>\", \"hovertext\": [\"\\u05e7\\u05d9\\u05e8\\u05d0\\u05d5\\u05df \\u05d7.\\u05ea.\", \"\\u05e7\\u05d9\\u05e8\\u05d0\\u05d5\\u05df \\u05d7.\\u05ea.\", \"\\u05e7\\u05d9\\u05e8\\u05d0\\u05d5\\u05df \\u05d7.\\u05ea.\", \"\\u05e7\\u05d9\\u05e8\\u05d0\\u05d5\\u05df \\u05d7.\\u05ea.\"], \"ids\": [\"\\u05e7\\u05d9\\u05e8\\u05d0\\u05d5\\u05df \\u05d7.\\u05ea.\", \"\\u05e7\\u05d9\\u05e8\\u05d0\\u05d5\\u05df \\u05d7.\\u05ea.\", \"\\u05e7\\u05d9\\u05e8\\u05d0\\u05d5\\u05df \\u05d7.\\u05ea.\", \"\\u05e7\\u05d9\\u05e8\\u05d0\\u05d5\\u05df \\u05d7.\\u05ea.\"], \"legendgroup\": \"\\u05e7\\u05d9\\u05e8\\u05d0\\u05d5\\u05df \\u05d7.\\u05ea.\", \"marker\": {\"color\": \"#EF553B\", \"size\": [68, 63, 56, 65], \"sizemode\": \"area\", \"sizeref\": 0.0162, \"symbol\": \"circle\"}, \"mode\": \"markers\", \"name\": \"\\u05e7\\u05d9\\u05e8\\u05d0\\u05d5\\u05df \\u05d7.\\u05ea.\", \"showlegend\": true, \"x\": [68, 63, 56, 65], \"xaxis\": \"x\", \"y\": [6, 6, 6, 6], \"yaxis\": \"y\", \"type\": \"scatter\"}, {\"hovertemplate\": \"<b>%{hovertext}</b><br><br>pharm_n=\\u05db\\u05e8\\u05de\\u05d9\\u05dd \\u05d7.\\u05ea.<br>yyyy-mm=2019-8<br>pdax_c=%{marker.size}<br>unscheduled=%{y}<extra></extra>\", \"hovertext\": [\"\\u05db\\u05e8\\u05de\\u05d9\\u05dd \\u05d7.\\u05ea.\", \"\\u05db\\u05e8\\u05de\\u05d9\\u05dd \\u05d7.\\u05ea.\", \"\\u05db\\u05e8\\u05de\\u05d9\\u05dd \\u05d7.\\u05ea.\", \"\\u05db\\u05e8\\u05de\\u05d9\\u05dd \\u05d7.\\u05ea.\", \"\\u05db\\u05e8\\u05de\\u05d9\\u05dd \\u05d7.\\u05ea.\"], \"ids\": [\"\\u05db\\u05e8\\u05de\\u05d9\\u05dd \\u05d7.\\u05ea.\", \"\\u05db\\u05e8\\u05de\\u05d9\\u05dd \\u05d7.\\u05ea.\", \"\\u05db\\u05e8\\u05de\\u05d9\\u05dd \\u05d7.\\u05ea.\", \"\\u05db\\u05e8\\u05de\\u05d9\\u05dd \\u05d7.\\u05ea.\", \"\\u05db\\u05e8\\u05de\\u05d9\\u05dd \\u05d7.\\u05ea.\"], \"legendgroup\": \"\\u05db\\u05e8\\u05de\\u05d9\\u05dd \\u05d7.\\u05ea.\", \"marker\": {\"color\": \"#ab63fa\", \"size\": [58, 61, 61, 65, 73], \"sizemode\": \"area\", \"sizeref\": 0.0162, \"symbol\": \"circle\"}, \"mode\": \"markers\", \"name\": \"\\u05db\\u05e8\\u05de\\u05d9\\u05dd \\u05d7.\\u05ea.\", \"showlegend\": true, \"x\": [58, 61, 61, 65, 73], \"xaxis\": \"x\", \"y\": [9, 9, 9, 9, 9], \"yaxis\": \"y\", \"type\": \"scatter\"}], \"name\": \"2019-8\"}, {\"data\": [{\"hovertemplate\": \"<b>%{hovertext}</b><br><br>pharm_n=\\u05d7\\u05d5\\u05dc\\u05d5\\u05df \\u05de\\u05e7\\u05e6 \\u05d7.\\u05ea.<br>yyyy-mm=2019-9<br>pdax_c=%{marker.size}<br>unscheduled=%{y}<extra></extra>\", \"hovertext\": [\"\\u05d7\\u05d5\\u05dc\\u05d5\\u05df \\u05de\\u05e7\\u05e6 \\u05d7.\\u05ea.\", \"\\u05d7\\u05d5\\u05dc\\u05d5\\u05df \\u05de\\u05e7\\u05e6 \\u05d7.\\u05ea.\", \"\\u05d7\\u05d5\\u05dc\\u05d5\\u05df \\u05de\\u05e7\\u05e6 \\u05d7.\\u05ea.\", \"\\u05d7\\u05d5\\u05dc\\u05d5\\u05df \\u05de\\u05e7\\u05e6 \\u05d7.\\u05ea.\"], \"ids\": [\"\\u05d7\\u05d5\\u05dc\\u05d5\\u05df \\u05de\\u05e7\\u05e6 \\u05d7.\\u05ea.\", \"\\u05d7\\u05d5\\u05dc\\u05d5\\u05df \\u05de\\u05e7\\u05e6 \\u05d7.\\u05ea.\", \"\\u05d7\\u05d5\\u05dc\\u05d5\\u05df \\u05de\\u05e7\\u05e6 \\u05d7.\\u05ea.\", \"\\u05d7\\u05d5\\u05dc\\u05d5\\u05df \\u05de\\u05e7\\u05e6 \\u05d7.\\u05ea.\"], \"legendgroup\": \"\\u05d7\\u05d5\\u05dc\\u05d5\\u05df \\u05de\\u05e7\\u05e6 \\u05d7.\\u05ea.\", \"marker\": {\"color\": \"#636efa\", \"size\": [89, 101, 88, 105], \"sizemode\": \"area\", \"sizeref\": 0.0162, \"symbol\": \"circle\"}, \"mode\": \"markers\", \"name\": \"\\u05d7\\u05d5\\u05dc\\u05d5\\u05df \\u05de\\u05e7\\u05e6 \\u05d7.\\u05ea.\", \"showlegend\": true, \"x\": [89, 101, 88, 105], \"xaxis\": \"x\", \"y\": [14, 14, 14, 14], \"yaxis\": \"y\", \"type\": \"scatter\"}, {\"hovertemplate\": \"<b>%{hovertext}</b><br><br>pharm_n=\\u05e7\\u05d9\\u05e8\\u05d0\\u05d5\\u05df \\u05d7.\\u05ea.<br>yyyy-mm=2019-9<br>pdax_c=%{marker.size}<br>unscheduled=%{y}<extra></extra>\", \"hovertext\": [\"\\u05e7\\u05d9\\u05e8\\u05d0\\u05d5\\u05df \\u05d7.\\u05ea.\", \"\\u05e7\\u05d9\\u05e8\\u05d0\\u05d5\\u05df \\u05d7.\\u05ea.\", \"\\u05e7\\u05d9\\u05e8\\u05d0\\u05d5\\u05df \\u05d7.\\u05ea.\"], \"ids\": [\"\\u05e7\\u05d9\\u05e8\\u05d0\\u05d5\\u05df \\u05d7.\\u05ea.\", \"\\u05e7\\u05d9\\u05e8\\u05d0\\u05d5\\u05df \\u05d7.\\u05ea.\", \"\\u05e7\\u05d9\\u05e8\\u05d0\\u05d5\\u05df \\u05d7.\\u05ea.\"], \"legendgroup\": \"\\u05e7\\u05d9\\u05e8\\u05d0\\u05d5\\u05df \\u05d7.\\u05ea.\", \"marker\": {\"color\": \"#EF553B\", \"size\": [129, 49, 65], \"sizemode\": \"area\", \"sizeref\": 0.0162, \"symbol\": \"circle\"}, \"mode\": \"markers\", \"name\": \"\\u05e7\\u05d9\\u05e8\\u05d0\\u05d5\\u05df \\u05d7.\\u05ea.\", \"showlegend\": true, \"x\": [129, 49, 65], \"xaxis\": \"x\", \"y\": [12, 12, 12], \"yaxis\": \"y\", \"type\": \"scatter\"}, {\"hovertemplate\": \"<b>%{hovertext}</b><br><br>pharm_n=\\u05db\\u05e8\\u05de\\u05d9\\u05dd \\u05d7.\\u05ea.<br>yyyy-mm=2019-9<br>pdax_c=%{marker.size}<br>unscheduled=%{y}<extra></extra>\", \"hovertext\": [\"\\u05db\\u05e8\\u05de\\u05d9\\u05dd \\u05d7.\\u05ea.\", \"\\u05db\\u05e8\\u05de\\u05d9\\u05dd \\u05d7.\\u05ea.\", \"\\u05db\\u05e8\\u05de\\u05d9\\u05dd \\u05d7.\\u05ea.\", \"\\u05db\\u05e8\\u05de\\u05d9\\u05dd \\u05d7.\\u05ea.\"], \"ids\": [\"\\u05db\\u05e8\\u05de\\u05d9\\u05dd \\u05d7.\\u05ea.\", \"\\u05db\\u05e8\\u05de\\u05d9\\u05dd \\u05d7.\\u05ea.\", \"\\u05db\\u05e8\\u05de\\u05d9\\u05dd \\u05d7.\\u05ea.\", \"\\u05db\\u05e8\\u05de\\u05d9\\u05dd \\u05d7.\\u05ea.\"], \"legendgroup\": \"\\u05db\\u05e8\\u05de\\u05d9\\u05dd \\u05d7.\\u05ea.\", \"marker\": {\"color\": \"#ab63fa\", \"size\": [65, 66, 69, 66], \"sizemode\": \"area\", \"sizeref\": 0.0162, \"symbol\": \"circle\"}, \"mode\": \"markers\", \"name\": \"\\u05db\\u05e8\\u05de\\u05d9\\u05dd \\u05d7.\\u05ea.\", \"showlegend\": true, \"x\": [65, 66, 69, 66], \"xaxis\": \"x\", \"y\": [10, 10, 10, 10], \"yaxis\": \"y\", \"type\": \"scatter\"}], \"name\": \"2019-9\"}, {\"data\": [{\"hovertemplate\": \"<b>%{hovertext}</b><br><br>pharm_n=\\u05d7\\u05d5\\u05dc\\u05d5\\u05df \\u05de\\u05e7\\u05e6 \\u05d7.\\u05ea.<br>yyyy-mm=2019-10<br>pdax_c=%{marker.size}<br>unscheduled=%{y}<extra></extra>\", \"hovertext\": [\"\\u05d7\\u05d5\\u05dc\\u05d5\\u05df \\u05de\\u05e7\\u05e6 \\u05d7.\\u05ea.\", \"\\u05d7\\u05d5\\u05dc\\u05d5\\u05df \\u05de\\u05e7\\u05e6 \\u05d7.\\u05ea.\", \"\\u05d7\\u05d5\\u05dc\\u05d5\\u05df \\u05de\\u05e7\\u05e6 \\u05d7.\\u05ea.\"], \"ids\": [\"\\u05d7\\u05d5\\u05dc\\u05d5\\u05df \\u05de\\u05e7\\u05e6 \\u05d7.\\u05ea.\", \"\\u05d7\\u05d5\\u05dc\\u05d5\\u05df \\u05de\\u05e7\\u05e6 \\u05d7.\\u05ea.\", \"\\u05d7\\u05d5\\u05dc\\u05d5\\u05df \\u05de\\u05e7\\u05e6 \\u05d7.\\u05ea.\"], \"legendgroup\": \"\\u05d7\\u05d5\\u05dc\\u05d5\\u05df \\u05de\\u05e7\\u05e6 \\u05d7.\\u05ea.\", \"marker\": {\"color\": \"#636efa\", \"size\": [51, 88, 149], \"sizemode\": \"area\", \"sizeref\": 0.0162, \"symbol\": \"circle\"}, \"mode\": \"markers\", \"name\": \"\\u05d7\\u05d5\\u05dc\\u05d5\\u05df \\u05de\\u05e7\\u05e6 \\u05d7.\\u05ea.\", \"showlegend\": true, \"x\": [51, 88, 149], \"xaxis\": \"x\", \"y\": [11, 11, 11], \"yaxis\": \"y\", \"type\": \"scatter\"}, {\"hovertemplate\": \"<b>%{hovertext}</b><br><br>pharm_n=\\u05e7\\u05d9\\u05e8\\u05d0\\u05d5\\u05df \\u05d7.\\u05ea.<br>yyyy-mm=2019-10<br>pdax_c=%{marker.size}<br>unscheduled=%{y}<extra></extra>\", \"hovertext\": [\"\\u05e7\\u05d9\\u05e8\\u05d0\\u05d5\\u05df \\u05d7.\\u05ea.\", \"\\u05e7\\u05d9\\u05e8\\u05d0\\u05d5\\u05df \\u05d7.\\u05ea.\", \"\\u05e7\\u05d9\\u05e8\\u05d0\\u05d5\\u05df \\u05d7.\\u05ea.\", \"\\u05e7\\u05d9\\u05e8\\u05d0\\u05d5\\u05df \\u05d7.\\u05ea.\"], \"ids\": [\"\\u05e7\\u05d9\\u05e8\\u05d0\\u05d5\\u05df \\u05d7.\\u05ea.\", \"\\u05e7\\u05d9\\u05e8\\u05d0\\u05d5\\u05df \\u05d7.\\u05ea.\", \"\\u05e7\\u05d9\\u05e8\\u05d0\\u05d5\\u05df \\u05d7.\\u05ea.\", \"\\u05e7\\u05d9\\u05e8\\u05d0\\u05d5\\u05df \\u05d7.\\u05ea.\"], \"legendgroup\": \"\\u05e7\\u05d9\\u05e8\\u05d0\\u05d5\\u05df \\u05d7.\\u05ea.\", \"marker\": {\"color\": \"#EF553B\", \"size\": [56, 62, 65, 58], \"sizemode\": \"area\", \"sizeref\": 0.0162, \"symbol\": \"circle\"}, \"mode\": \"markers\", \"name\": \"\\u05e7\\u05d9\\u05e8\\u05d0\\u05d5\\u05df \\u05d7.\\u05ea.\", \"showlegend\": true, \"x\": [56, 62, 65, 58], \"xaxis\": \"x\", \"y\": [5, 5, 5, 5], \"yaxis\": \"y\", \"type\": \"scatter\"}, {\"hovertemplate\": \"<b>%{hovertext}</b><br><br>pharm_n=\\u05db\\u05e8\\u05de\\u05d9\\u05dd \\u05d7.\\u05ea.<br>yyyy-mm=2019-10<br>pdax_c=%{marker.size}<br>unscheduled=%{y}<extra></extra>\", \"hovertext\": [\"\\u05db\\u05e8\\u05de\\u05d9\\u05dd \\u05d7.\\u05ea.\", \"\\u05db\\u05e8\\u05de\\u05d9\\u05dd \\u05d7.\\u05ea.\", \"\\u05db\\u05e8\\u05de\\u05d9\\u05dd \\u05d7.\\u05ea.\", \"\\u05db\\u05e8\\u05de\\u05d9\\u05dd \\u05d7.\\u05ea.\"], \"ids\": [\"\\u05db\\u05e8\\u05de\\u05d9\\u05dd \\u05d7.\\u05ea.\", \"\\u05db\\u05e8\\u05de\\u05d9\\u05dd \\u05d7.\\u05ea.\", \"\\u05db\\u05e8\\u05de\\u05d9\\u05dd \\u05d7.\\u05ea.\", \"\\u05db\\u05e8\\u05de\\u05d9\\u05dd \\u05d7.\\u05ea.\"], \"legendgroup\": \"\\u05db\\u05e8\\u05de\\u05d9\\u05dd \\u05d7.\\u05ea.\", \"marker\": {\"color\": \"#ab63fa\", \"size\": [46, 61, 74, 60], \"sizemode\": \"area\", \"sizeref\": 0.0162, \"symbol\": \"circle\"}, \"mode\": \"markers\", \"name\": \"\\u05db\\u05e8\\u05de\\u05d9\\u05dd \\u05d7.\\u05ea.\", \"showlegend\": true, \"x\": [46, 61, 74, 60], \"xaxis\": \"x\", \"y\": [7, 7, 7, 7], \"yaxis\": \"y\", \"type\": \"scatter\"}], \"name\": \"2019-10\"}, {\"data\": [{\"hovertemplate\": \"<b>%{hovertext}</b><br><br>pharm_n=\\u05d7\\u05d5\\u05dc\\u05d5\\u05df \\u05de\\u05e7\\u05e6 \\u05d7.\\u05ea.<br>yyyy-mm=2019-11<br>pdax_c=%{marker.size}<br>unscheduled=%{y}<extra></extra>\", \"hovertext\": [\"\\u05d7\\u05d5\\u05dc\\u05d5\\u05df \\u05de\\u05e7\\u05e6 \\u05d7.\\u05ea.\", \"\\u05d7\\u05d5\\u05dc\\u05d5\\u05df \\u05de\\u05e7\\u05e6 \\u05d7.\\u05ea.\", \"\\u05d7\\u05d5\\u05dc\\u05d5\\u05df \\u05de\\u05e7\\u05e6 \\u05d7.\\u05ea.\", \"\\u05d7\\u05d5\\u05dc\\u05d5\\u05df \\u05de\\u05e7\\u05e6 \\u05d7.\\u05ea.\"], \"ids\": [\"\\u05d7\\u05d5\\u05dc\\u05d5\\u05df \\u05de\\u05e7\\u05e6 \\u05d7.\\u05ea.\", \"\\u05d7\\u05d5\\u05dc\\u05d5\\u05df \\u05de\\u05e7\\u05e6 \\u05d7.\\u05ea.\", \"\\u05d7\\u05d5\\u05dc\\u05d5\\u05df \\u05de\\u05e7\\u05e6 \\u05d7.\\u05ea.\", \"\\u05d7\\u05d5\\u05dc\\u05d5\\u05df \\u05de\\u05e7\\u05e6 \\u05d7.\\u05ea.\"], \"legendgroup\": \"\\u05d7\\u05d5\\u05dc\\u05d5\\u05df \\u05de\\u05e7\\u05e6 \\u05d7.\\u05ea.\", \"marker\": {\"color\": \"#636efa\", \"size\": [84, 88, 90, 95], \"sizemode\": \"area\", \"sizeref\": 0.0162, \"symbol\": \"circle\"}, \"mode\": \"markers\", \"name\": \"\\u05d7\\u05d5\\u05dc\\u05d5\\u05df \\u05de\\u05e7\\u05e6 \\u05d7.\\u05ea.\", \"showlegend\": true, \"x\": [84, 88, 90, 95], \"xaxis\": \"x\", \"y\": [15, 15, 15, 15], \"yaxis\": \"y\", \"type\": \"scatter\"}, {\"hovertemplate\": \"<b>%{hovertext}</b><br><br>pharm_n=\\u05e7\\u05d9\\u05e8\\u05d0\\u05d5\\u05df \\u05d7.\\u05ea.<br>yyyy-mm=2019-11<br>pdax_c=%{marker.size}<br>unscheduled=%{y}<extra></extra>\", \"hovertext\": [\"\\u05e7\\u05d9\\u05e8\\u05d0\\u05d5\\u05df \\u05d7.\\u05ea.\", \"\\u05e7\\u05d9\\u05e8\\u05d0\\u05d5\\u05df \\u05d7.\\u05ea.\", \"\\u05e7\\u05d9\\u05e8\\u05d0\\u05d5\\u05df \\u05d7.\\u05ea.\", \"\\u05e7\\u05d9\\u05e8\\u05d0\\u05d5\\u05df \\u05d7.\\u05ea.\"], \"ids\": [\"\\u05e7\\u05d9\\u05e8\\u05d0\\u05d5\\u05df \\u05d7.\\u05ea.\", \"\\u05e7\\u05d9\\u05e8\\u05d0\\u05d5\\u05df \\u05d7.\\u05ea.\", \"\\u05e7\\u05d9\\u05e8\\u05d0\\u05d5\\u05df \\u05d7.\\u05ea.\", \"\\u05e7\\u05d9\\u05e8\\u05d0\\u05d5\\u05df \\u05d7.\\u05ea.\"], \"legendgroup\": \"\\u05e7\\u05d9\\u05e8\\u05d0\\u05d5\\u05df \\u05d7.\\u05ea.\", \"marker\": {\"color\": \"#EF553B\", \"size\": [62, 73, 48, 53], \"sizemode\": \"area\", \"sizeref\": 0.0162, \"symbol\": \"circle\"}, \"mode\": \"markers\", \"name\": \"\\u05e7\\u05d9\\u05e8\\u05d0\\u05d5\\u05df \\u05d7.\\u05ea.\", \"showlegend\": true, \"x\": [62, 73, 48, 53], \"xaxis\": \"x\", \"y\": [6, 6, 6, 6], \"yaxis\": \"y\", \"type\": \"scatter\"}, {\"hovertemplate\": \"<b>%{hovertext}</b><br><br>pharm_n=\\u05de\\u05d5\\u05d3\\u05d9\\u05e2\\u05d9\\u05df \\u05e8\\\"\\u05d2 \\u05d7.\\u05ea.<br>yyyy-mm=2019-11<br>pdax_c=%{marker.size}<br>unscheduled=%{y}<extra></extra>\", \"hovertext\": [\"\\u05de\\u05d5\\u05d3\\u05d9\\u05e2\\u05d9\\u05df \\u05e8\\\"\\u05d2 \\u05d7.\\u05ea.\", \"\\u05de\\u05d5\\u05d3\\u05d9\\u05e2\\u05d9\\u05df \\u05e8\\\"\\u05d2 \\u05d7.\\u05ea.\"], \"ids\": [\"\\u05de\\u05d5\\u05d3\\u05d9\\u05e2\\u05d9\\u05df \\u05e8\\\"\\u05d2 \\u05d7.\\u05ea.\", \"\\u05de\\u05d5\\u05d3\\u05d9\\u05e2\\u05d9\\u05df \\u05e8\\\"\\u05d2 \\u05d7.\\u05ea.\"], \"legendgroup\": \"\\u05de\\u05d5\\u05d3\\u05d9\\u05e2\\u05d9\\u05df \\u05e8\\\"\\u05d2 \\u05d7.\\u05ea.\", \"marker\": {\"color\": \"#00cc96\", \"size\": [101, 101], \"sizemode\": \"area\", \"sizeref\": 0.0162, \"symbol\": \"circle\"}, \"mode\": \"markers\", \"name\": \"\\u05de\\u05d5\\u05d3\\u05d9\\u05e2\\u05d9\\u05df \\u05e8\\\"\\u05d2 \\u05d7.\\u05ea.\", \"showlegend\": true, \"x\": [101, 101], \"xaxis\": \"x\", \"y\": [7, 7], \"yaxis\": \"y\", \"type\": \"scatter\"}, {\"hovertemplate\": \"<b>%{hovertext}</b><br><br>pharm_n=\\u05db\\u05e8\\u05de\\u05d9\\u05dd \\u05d7.\\u05ea.<br>yyyy-mm=2019-11<br>pdax_c=%{marker.size}<br>unscheduled=%{y}<extra></extra>\", \"hovertext\": [\"\\u05db\\u05e8\\u05de\\u05d9\\u05dd \\u05d7.\\u05ea.\", \"\\u05db\\u05e8\\u05de\\u05d9\\u05dd \\u05d7.\\u05ea.\", \"\\u05db\\u05e8\\u05de\\u05d9\\u05dd \\u05d7.\\u05ea.\", \"\\u05db\\u05e8\\u05de\\u05d9\\u05dd \\u05d7.\\u05ea.\"], \"ids\": [\"\\u05db\\u05e8\\u05de\\u05d9\\u05dd \\u05d7.\\u05ea.\", \"\\u05db\\u05e8\\u05de\\u05d9\\u05dd \\u05d7.\\u05ea.\", \"\\u05db\\u05e8\\u05de\\u05d9\\u05dd \\u05d7.\\u05ea.\", \"\\u05db\\u05e8\\u05de\\u05d9\\u05dd \\u05d7.\\u05ea.\"], \"legendgroup\": \"\\u05db\\u05e8\\u05de\\u05d9\\u05dd \\u05d7.\\u05ea.\", \"marker\": {\"color\": \"#ab63fa\", \"size\": [57, 55, 65, 68], \"sizemode\": \"area\", \"sizeref\": 0.0162, \"symbol\": \"circle\"}, \"mode\": \"markers\", \"name\": \"\\u05db\\u05e8\\u05de\\u05d9\\u05dd \\u05d7.\\u05ea.\", \"showlegend\": true, \"x\": [57, 55, 65, 68], \"xaxis\": \"x\", \"y\": [7, 7, 7, 7], \"yaxis\": \"y\", \"type\": \"scatter\"}], \"name\": \"2019-11\"}, {\"data\": [{\"hovertemplate\": \"<b>%{hovertext}</b><br><br>pharm_n=\\u05d7\\u05d5\\u05dc\\u05d5\\u05df \\u05de\\u05e7\\u05e6 \\u05d7.\\u05ea.<br>yyyy-mm=2019-12<br>pdax_c=%{marker.size}<br>unscheduled=%{y}<extra></extra>\", \"hovertext\": [\"\\u05d7\\u05d5\\u05dc\\u05d5\\u05df \\u05de\\u05e7\\u05e6 \\u05d7.\\u05ea.\", \"\\u05d7\\u05d5\\u05dc\\u05d5\\u05df \\u05de\\u05e7\\u05e6 \\u05d7.\\u05ea.\", \"\\u05d7\\u05d5\\u05dc\\u05d5\\u05df \\u05de\\u05e7\\u05e6 \\u05d7.\\u05ea.\", \"\\u05d7\\u05d5\\u05dc\\u05d5\\u05df \\u05de\\u05e7\\u05e6 \\u05d7.\\u05ea.\"], \"ids\": [\"\\u05d7\\u05d5\\u05dc\\u05d5\\u05df \\u05de\\u05e7\\u05e6 \\u05d7.\\u05ea.\", \"\\u05d7\\u05d5\\u05dc\\u05d5\\u05df \\u05de\\u05e7\\u05e6 \\u05d7.\\u05ea.\", \"\\u05d7\\u05d5\\u05dc\\u05d5\\u05df \\u05de\\u05e7\\u05e6 \\u05d7.\\u05ea.\", \"\\u05d7\\u05d5\\u05dc\\u05d5\\u05df \\u05de\\u05e7\\u05e6 \\u05d7.\\u05ea.\"], \"legendgroup\": \"\\u05d7\\u05d5\\u05dc\\u05d5\\u05df \\u05de\\u05e7\\u05e6 \\u05d7.\\u05ea.\", \"marker\": {\"color\": \"#636efa\", \"size\": [90, 80, 92, 92], \"sizemode\": \"area\", \"sizeref\": 0.0162, \"symbol\": \"circle\"}, \"mode\": \"markers\", \"name\": \"\\u05d7\\u05d5\\u05dc\\u05d5\\u05df \\u05de\\u05e7\\u05e6 \\u05d7.\\u05ea.\", \"showlegend\": true, \"x\": [90, 80, 92, 92], \"xaxis\": \"x\", \"y\": [13, 13, 13, 13], \"yaxis\": \"y\", \"type\": \"scatter\"}, {\"hovertemplate\": \"<b>%{hovertext}</b><br><br>pharm_n=\\u05e7\\u05d9\\u05e8\\u05d0\\u05d5\\u05df \\u05d7.\\u05ea.<br>yyyy-mm=2019-12<br>pdax_c=%{marker.size}<br>unscheduled=%{y}<extra></extra>\", \"hovertext\": [\"\\u05e7\\u05d9\\u05e8\\u05d0\\u05d5\\u05df \\u05d7.\\u05ea.\", \"\\u05e7\\u05d9\\u05e8\\u05d0\\u05d5\\u05df \\u05d7.\\u05ea.\", \"\\u05e7\\u05d9\\u05e8\\u05d0\\u05d5\\u05df \\u05d7.\\u05ea.\", \"\\u05e7\\u05d9\\u05e8\\u05d0\\u05d5\\u05df \\u05d7.\\u05ea.\"], \"ids\": [\"\\u05e7\\u05d9\\u05e8\\u05d0\\u05d5\\u05df \\u05d7.\\u05ea.\", \"\\u05e7\\u05d9\\u05e8\\u05d0\\u05d5\\u05df \\u05d7.\\u05ea.\", \"\\u05e7\\u05d9\\u05e8\\u05d0\\u05d5\\u05df \\u05d7.\\u05ea.\", \"\\u05e7\\u05d9\\u05e8\\u05d0\\u05d5\\u05df \\u05d7.\\u05ea.\"], \"legendgroup\": \"\\u05e7\\u05d9\\u05e8\\u05d0\\u05d5\\u05df \\u05d7.\\u05ea.\", \"marker\": {\"color\": \"#EF553B\", \"size\": [66, 71, 60, 67], \"sizemode\": \"area\", \"sizeref\": 0.0162, \"symbol\": \"circle\"}, \"mode\": \"markers\", \"name\": \"\\u05e7\\u05d9\\u05e8\\u05d0\\u05d5\\u05df \\u05d7.\\u05ea.\", \"showlegend\": true, \"x\": [66, 71, 60, 67], \"xaxis\": \"x\", \"y\": [5, 5, 5, 5], \"yaxis\": \"y\", \"type\": \"scatter\"}, {\"hovertemplate\": \"<b>%{hovertext}</b><br><br>pharm_n=\\u05de\\u05d5\\u05d3\\u05d9\\u05e2\\u05d9\\u05df \\u05e8\\\"\\u05d2 \\u05d7.\\u05ea.<br>yyyy-mm=2019-12<br>pdax_c=%{marker.size}<br>unscheduled=%{y}<extra></extra>\", \"hovertext\": [\"\\u05de\\u05d5\\u05d3\\u05d9\\u05e2\\u05d9\\u05df \\u05e8\\\"\\u05d2 \\u05d7.\\u05ea.\", \"\\u05de\\u05d5\\u05d3\\u05d9\\u05e2\\u05d9\\u05df \\u05e8\\\"\\u05d2 \\u05d7.\\u05ea.\", \"\\u05de\\u05d5\\u05d3\\u05d9\\u05e2\\u05d9\\u05df \\u05e8\\\"\\u05d2 \\u05d7.\\u05ea.\", \"\\u05de\\u05d5\\u05d3\\u05d9\\u05e2\\u05d9\\u05df \\u05e8\\\"\\u05d2 \\u05d7.\\u05ea.\", \"\\u05de\\u05d5\\u05d3\\u05d9\\u05e2\\u05d9\\u05df \\u05e8\\\"\\u05d2 \\u05d7.\\u05ea.\"], \"ids\": [\"\\u05de\\u05d5\\u05d3\\u05d9\\u05e2\\u05d9\\u05df \\u05e8\\\"\\u05d2 \\u05d7.\\u05ea.\", \"\\u05de\\u05d5\\u05d3\\u05d9\\u05e2\\u05d9\\u05df \\u05e8\\\"\\u05d2 \\u05d7.\\u05ea.\", \"\\u05de\\u05d5\\u05d3\\u05d9\\u05e2\\u05d9\\u05df \\u05e8\\\"\\u05d2 \\u05d7.\\u05ea.\", \"\\u05de\\u05d5\\u05d3\\u05d9\\u05e2\\u05d9\\u05df \\u05e8\\\"\\u05d2 \\u05d7.\\u05ea.\", \"\\u05de\\u05d5\\u05d3\\u05d9\\u05e2\\u05d9\\u05df \\u05e8\\\"\\u05d2 \\u05d7.\\u05ea.\"], \"legendgroup\": \"\\u05de\\u05d5\\u05d3\\u05d9\\u05e2\\u05d9\\u05df \\u05e8\\\"\\u05d2 \\u05d7.\\u05ea.\", \"marker\": {\"color\": \"#00cc96\", \"size\": [102, 100, 107, 100, 100], \"sizemode\": \"area\", \"sizeref\": 0.0162, \"symbol\": \"circle\"}, \"mode\": \"markers\", \"name\": \"\\u05de\\u05d5\\u05d3\\u05d9\\u05e2\\u05d9\\u05df \\u05e8\\\"\\u05d2 \\u05d7.\\u05ea.\", \"showlegend\": true, \"x\": [102, 100, 107, 100, 100], \"xaxis\": \"x\", \"y\": [5, 5, 5, 5, 5], \"yaxis\": \"y\", \"type\": \"scatter\"}, {\"hovertemplate\": \"<b>%{hovertext}</b><br><br>pharm_n=\\u05db\\u05e8\\u05de\\u05d9\\u05dd \\u05d7.\\u05ea.<br>yyyy-mm=2019-12<br>pdax_c=%{marker.size}<br>unscheduled=%{y}<extra></extra>\", \"hovertext\": [\"\\u05db\\u05e8\\u05de\\u05d9\\u05dd \\u05d7.\\u05ea.\", \"\\u05db\\u05e8\\u05de\\u05d9\\u05dd \\u05d7.\\u05ea.\", \"\\u05db\\u05e8\\u05de\\u05d9\\u05dd \\u05d7.\\u05ea.\", \"\\u05db\\u05e8\\u05de\\u05d9\\u05dd \\u05d7.\\u05ea.\", \"\\u05db\\u05e8\\u05de\\u05d9\\u05dd \\u05d7.\\u05ea.\"], \"ids\": [\"\\u05db\\u05e8\\u05de\\u05d9\\u05dd \\u05d7.\\u05ea.\", \"\\u05db\\u05e8\\u05de\\u05d9\\u05dd \\u05d7.\\u05ea.\", \"\\u05db\\u05e8\\u05de\\u05d9\\u05dd \\u05d7.\\u05ea.\", \"\\u05db\\u05e8\\u05de\\u05d9\\u05dd \\u05d7.\\u05ea.\", \"\\u05db\\u05e8\\u05de\\u05d9\\u05dd \\u05d7.\\u05ea.\"], \"legendgroup\": \"\\u05db\\u05e8\\u05de\\u05d9\\u05dd \\u05d7.\\u05ea.\", \"marker\": {\"color\": \"#ab63fa\", \"size\": [65, 67, 65, 58, 58], \"sizemode\": \"area\", \"sizeref\": 0.0162, \"symbol\": \"circle\"}, \"mode\": \"markers\", \"name\": \"\\u05db\\u05e8\\u05de\\u05d9\\u05dd \\u05d7.\\u05ea.\", \"showlegend\": true, \"x\": [65, 67, 65, 58, 58], \"xaxis\": \"x\", \"y\": [12, 12, 12, 12, 12], \"yaxis\": \"y\", \"type\": \"scatter\"}], \"name\": \"2019-12\"}, {\"data\": [{\"hovertemplate\": \"<b>%{hovertext}</b><br><br>pharm_n=\\u05d7\\u05d5\\u05dc\\u05d5\\u05df \\u05de\\u05e7\\u05e6 \\u05d7.\\u05ea.<br>yyyy-mm=2020-1<br>pdax_c=%{marker.size}<br>unscheduled=%{y}<extra></extra>\", \"hovertext\": [\"\\u05d7\\u05d5\\u05dc\\u05d5\\u05df \\u05de\\u05e7\\u05e6 \\u05d7.\\u05ea.\", \"\\u05d7\\u05d5\\u05dc\\u05d5\\u05df \\u05de\\u05e7\\u05e6 \\u05d7.\\u05ea.\", \"\\u05d7\\u05d5\\u05dc\\u05d5\\u05df \\u05de\\u05e7\\u05e6 \\u05d7.\\u05ea.\", \"\\u05d7\\u05d5\\u05dc\\u05d5\\u05df \\u05de\\u05e7\\u05e6 \\u05d7.\\u05ea.\", \"\\u05d7\\u05d5\\u05dc\\u05d5\\u05df \\u05de\\u05e7\\u05e6 \\u05d7.\\u05ea.\"], \"ids\": [\"\\u05d7\\u05d5\\u05dc\\u05d5\\u05df \\u05de\\u05e7\\u05e6 \\u05d7.\\u05ea.\", \"\\u05d7\\u05d5\\u05dc\\u05d5\\u05df \\u05de\\u05e7\\u05e6 \\u05d7.\\u05ea.\", \"\\u05d7\\u05d5\\u05dc\\u05d5\\u05df \\u05de\\u05e7\\u05e6 \\u05d7.\\u05ea.\", \"\\u05d7\\u05d5\\u05dc\\u05d5\\u05df \\u05de\\u05e7\\u05e6 \\u05d7.\\u05ea.\", \"\\u05d7\\u05d5\\u05dc\\u05d5\\u05df \\u05de\\u05e7\\u05e6 \\u05d7.\\u05ea.\"], \"legendgroup\": \"\\u05d7\\u05d5\\u05dc\\u05d5\\u05df \\u05de\\u05e7\\u05e6 \\u05d7.\\u05ea.\", \"marker\": {\"color\": \"#636efa\", \"size\": [104, 99, 133, 106, 105], \"sizemode\": \"area\", \"sizeref\": 0.0162, \"symbol\": \"circle\"}, \"mode\": \"markers\", \"name\": \"\\u05d7\\u05d5\\u05dc\\u05d5\\u05df \\u05de\\u05e7\\u05e6 \\u05d7.\\u05ea.\", \"showlegend\": true, \"x\": [104, 99, 133, 106, 105], \"xaxis\": \"x\", \"y\": [15, 15, 15, 15, 15], \"yaxis\": \"y\", \"type\": \"scatter\"}, {\"hovertemplate\": \"<b>%{hovertext}</b><br><br>pharm_n=\\u05e7\\u05d9\\u05e8\\u05d0\\u05d5\\u05df \\u05d7.\\u05ea.<br>yyyy-mm=2020-1<br>pdax_c=%{marker.size}<br>unscheduled=%{y}<extra></extra>\", \"hovertext\": [\"\\u05e7\\u05d9\\u05e8\\u05d0\\u05d5\\u05df \\u05d7.\\u05ea.\", \"\\u05e7\\u05d9\\u05e8\\u05d0\\u05d5\\u05df \\u05d7.\\u05ea.\", \"\\u05e7\\u05d9\\u05e8\\u05d0\\u05d5\\u05df \\u05d7.\\u05ea.\", \"\\u05e7\\u05d9\\u05e8\\u05d0\\u05d5\\u05df \\u05d7.\\u05ea.\", \"\\u05e7\\u05d9\\u05e8\\u05d0\\u05d5\\u05df \\u05d7.\\u05ea.\"], \"ids\": [\"\\u05e7\\u05d9\\u05e8\\u05d0\\u05d5\\u05df \\u05d7.\\u05ea.\", \"\\u05e7\\u05d9\\u05e8\\u05d0\\u05d5\\u05df \\u05d7.\\u05ea.\", \"\\u05e7\\u05d9\\u05e8\\u05d0\\u05d5\\u05df \\u05d7.\\u05ea.\", \"\\u05e7\\u05d9\\u05e8\\u05d0\\u05d5\\u05df \\u05d7.\\u05ea.\", \"\\u05e7\\u05d9\\u05e8\\u05d0\\u05d5\\u05df \\u05d7.\\u05ea.\"], \"legendgroup\": \"\\u05e7\\u05d9\\u05e8\\u05d0\\u05d5\\u05df \\u05d7.\\u05ea.\", \"marker\": {\"color\": \"#EF553B\", \"size\": [68, 75, 72, 53, 55], \"sizemode\": \"area\", \"sizeref\": 0.0162, \"symbol\": \"circle\"}, \"mode\": \"markers\", \"name\": \"\\u05e7\\u05d9\\u05e8\\u05d0\\u05d5\\u05df \\u05d7.\\u05ea.\", \"showlegend\": true, \"x\": [68, 75, 72, 53, 55], \"xaxis\": \"x\", \"y\": [6, 6, 6, 6, 6], \"yaxis\": \"y\", \"type\": \"scatter\"}, {\"hovertemplate\": \"<b>%{hovertext}</b><br><br>pharm_n=\\u05de\\u05d5\\u05d3\\u05d9\\u05e2\\u05d9\\u05df \\u05e8\\\"\\u05d2 \\u05d7.\\u05ea.<br>yyyy-mm=2020-1<br>pdax_c=%{marker.size}<br>unscheduled=%{y}<extra></extra>\", \"hovertext\": [\"\\u05de\\u05d5\\u05d3\\u05d9\\u05e2\\u05d9\\u05df \\u05e8\\\"\\u05d2 \\u05d7.\\u05ea.\", \"\\u05de\\u05d5\\u05d3\\u05d9\\u05e2\\u05d9\\u05df \\u05e8\\\"\\u05d2 \\u05d7.\\u05ea.\", \"\\u05de\\u05d5\\u05d3\\u05d9\\u05e2\\u05d9\\u05df \\u05e8\\\"\\u05d2 \\u05d7.\\u05ea.\", \"\\u05de\\u05d5\\u05d3\\u05d9\\u05e2\\u05d9\\u05df \\u05e8\\\"\\u05d2 \\u05d7.\\u05ea.\"], \"ids\": [\"\\u05de\\u05d5\\u05d3\\u05d9\\u05e2\\u05d9\\u05df \\u05e8\\\"\\u05d2 \\u05d7.\\u05ea.\", \"\\u05de\\u05d5\\u05d3\\u05d9\\u05e2\\u05d9\\u05df \\u05e8\\\"\\u05d2 \\u05d7.\\u05ea.\", \"\\u05de\\u05d5\\u05d3\\u05d9\\u05e2\\u05d9\\u05df \\u05e8\\\"\\u05d2 \\u05d7.\\u05ea.\", \"\\u05de\\u05d5\\u05d3\\u05d9\\u05e2\\u05d9\\u05df \\u05e8\\\"\\u05d2 \\u05d7.\\u05ea.\"], \"legendgroup\": \"\\u05de\\u05d5\\u05d3\\u05d9\\u05e2\\u05d9\\u05df \\u05e8\\\"\\u05d2 \\u05d7.\\u05ea.\", \"marker\": {\"color\": \"#00cc96\", \"size\": [78, 100, 99, 79], \"sizemode\": \"area\", \"sizeref\": 0.0162, \"symbol\": \"circle\"}, \"mode\": \"markers\", \"name\": \"\\u05de\\u05d5\\u05d3\\u05d9\\u05e2\\u05d9\\u05df \\u05e8\\\"\\u05d2 \\u05d7.\\u05ea.\", \"showlegend\": true, \"x\": [78, 100, 99, 79], \"xaxis\": \"x\", \"y\": [11, 11, 11, 11], \"yaxis\": \"y\", \"type\": \"scatter\"}, {\"hovertemplate\": \"<b>%{hovertext}</b><br><br>pharm_n=\\u05db\\u05e8\\u05de\\u05d9\\u05dd \\u05d7.\\u05ea.<br>yyyy-mm=2020-1<br>pdax_c=%{marker.size}<br>unscheduled=%{y}<extra></extra>\", \"hovertext\": [\"\\u05db\\u05e8\\u05de\\u05d9\\u05dd \\u05d7.\\u05ea.\", \"\\u05db\\u05e8\\u05de\\u05d9\\u05dd \\u05d7.\\u05ea.\", \"\\u05db\\u05e8\\u05de\\u05d9\\u05dd \\u05d7.\\u05ea.\", \"\\u05db\\u05e8\\u05de\\u05d9\\u05dd \\u05d7.\\u05ea.\"], \"ids\": [\"\\u05db\\u05e8\\u05de\\u05d9\\u05dd \\u05d7.\\u05ea.\", \"\\u05db\\u05e8\\u05de\\u05d9\\u05dd \\u05d7.\\u05ea.\", \"\\u05db\\u05e8\\u05de\\u05d9\\u05dd \\u05d7.\\u05ea.\", \"\\u05db\\u05e8\\u05de\\u05d9\\u05dd \\u05d7.\\u05ea.\"], \"legendgroup\": \"\\u05db\\u05e8\\u05de\\u05d9\\u05dd \\u05d7.\\u05ea.\", \"marker\": {\"color\": \"#ab63fa\", \"size\": [58, 68, 63, 66], \"sizemode\": \"area\", \"sizeref\": 0.0162, \"symbol\": \"circle\"}, \"mode\": \"markers\", \"name\": \"\\u05db\\u05e8\\u05de\\u05d9\\u05dd \\u05d7.\\u05ea.\", \"showlegend\": true, \"x\": [58, 68, 63, 66], \"xaxis\": \"x\", \"y\": [13, 13, 13, 13], \"yaxis\": \"y\", \"type\": \"scatter\"}], \"name\": \"2020-1\"}, {\"data\": [{\"hovertemplate\": \"<b>%{hovertext}</b><br><br>pharm_n=\\u05d7\\u05d5\\u05dc\\u05d5\\u05df \\u05de\\u05e7\\u05e6 \\u05d7.\\u05ea.<br>yyyy-mm=2020-2<br>pdax_c=%{marker.size}<br>unscheduled=%{y}<extra></extra>\", \"hovertext\": [\"\\u05d7\\u05d5\\u05dc\\u05d5\\u05df \\u05de\\u05e7\\u05e6 \\u05d7.\\u05ea.\", \"\\u05d7\\u05d5\\u05dc\\u05d5\\u05df \\u05de\\u05e7\\u05e6 \\u05d7.\\u05ea.\", \"\\u05d7\\u05d5\\u05dc\\u05d5\\u05df \\u05de\\u05e7\\u05e6 \\u05d7.\\u05ea.\", \"\\u05d7\\u05d5\\u05dc\\u05d5\\u05df \\u05de\\u05e7\\u05e6 \\u05d7.\\u05ea.\"], \"ids\": [\"\\u05d7\\u05d5\\u05dc\\u05d5\\u05df \\u05de\\u05e7\\u05e6 \\u05d7.\\u05ea.\", \"\\u05d7\\u05d5\\u05dc\\u05d5\\u05df \\u05de\\u05e7\\u05e6 \\u05d7.\\u05ea.\", \"\\u05d7\\u05d5\\u05dc\\u05d5\\u05df \\u05de\\u05e7\\u05e6 \\u05d7.\\u05ea.\", \"\\u05d7\\u05d5\\u05dc\\u05d5\\u05df \\u05de\\u05e7\\u05e6 \\u05d7.\\u05ea.\"], \"legendgroup\": \"\\u05d7\\u05d5\\u05dc\\u05d5\\u05df \\u05de\\u05e7\\u05e6 \\u05d7.\\u05ea.\", \"marker\": {\"color\": \"#636efa\", \"size\": [109, 99, 107, 99], \"sizemode\": \"area\", \"sizeref\": 0.0162, \"symbol\": \"circle\"}, \"mode\": \"markers\", \"name\": \"\\u05d7\\u05d5\\u05dc\\u05d5\\u05df \\u05de\\u05e7\\u05e6 \\u05d7.\\u05ea.\", \"showlegend\": true, \"x\": [109, 99, 107, 99], \"xaxis\": \"x\", \"y\": [12, 12, 12, 12], \"yaxis\": \"y\", \"type\": \"scatter\"}, {\"hovertemplate\": \"<b>%{hovertext}</b><br><br>pharm_n=\\u05e7\\u05d9\\u05e8\\u05d0\\u05d5\\u05df \\u05d7.\\u05ea.<br>yyyy-mm=2020-2<br>pdax_c=%{marker.size}<br>unscheduled=%{y}<extra></extra>\", \"hovertext\": [\"\\u05e7\\u05d9\\u05e8\\u05d0\\u05d5\\u05df \\u05d7.\\u05ea.\", \"\\u05e7\\u05d9\\u05e8\\u05d0\\u05d5\\u05df \\u05d7.\\u05ea.\", \"\\u05e7\\u05d9\\u05e8\\u05d0\\u05d5\\u05df \\u05d7.\\u05ea.\", \"\\u05e7\\u05d9\\u05e8\\u05d0\\u05d5\\u05df \\u05d7.\\u05ea.\"], \"ids\": [\"\\u05e7\\u05d9\\u05e8\\u05d0\\u05d5\\u05df \\u05d7.\\u05ea.\", \"\\u05e7\\u05d9\\u05e8\\u05d0\\u05d5\\u05df \\u05d7.\\u05ea.\", \"\\u05e7\\u05d9\\u05e8\\u05d0\\u05d5\\u05df \\u05d7.\\u05ea.\", \"\\u05e7\\u05d9\\u05e8\\u05d0\\u05d5\\u05df \\u05d7.\\u05ea.\"], \"legendgroup\": \"\\u05e7\\u05d9\\u05e8\\u05d0\\u05d5\\u05df \\u05d7.\\u05ea.\", \"marker\": {\"color\": \"#EF553B\", \"size\": [72, 67, 56, 75], \"sizemode\": \"area\", \"sizeref\": 0.0162, \"symbol\": \"circle\"}, \"mode\": \"markers\", \"name\": \"\\u05e7\\u05d9\\u05e8\\u05d0\\u05d5\\u05df \\u05d7.\\u05ea.\", \"showlegend\": true, \"x\": [72, 67, 56, 75], \"xaxis\": \"x\", \"y\": [7, 7, 7, 7], \"yaxis\": \"y\", \"type\": \"scatter\"}, {\"hovertemplate\": \"<b>%{hovertext}</b><br><br>pharm_n=\\u05de\\u05d5\\u05d3\\u05d9\\u05e2\\u05d9\\u05df \\u05e8\\\"\\u05d2 \\u05d7.\\u05ea.<br>yyyy-mm=2020-2<br>pdax_c=%{marker.size}<br>unscheduled=%{y}<extra></extra>\", \"hovertext\": [\"\\u05de\\u05d5\\u05d3\\u05d9\\u05e2\\u05d9\\u05df \\u05e8\\\"\\u05d2 \\u05d7.\\u05ea.\", \"\\u05de\\u05d5\\u05d3\\u05d9\\u05e2\\u05d9\\u05df \\u05e8\\\"\\u05d2 \\u05d7.\\u05ea.\", \"\\u05de\\u05d5\\u05d3\\u05d9\\u05e2\\u05d9\\u05df \\u05e8\\\"\\u05d2 \\u05d7.\\u05ea.\", \"\\u05de\\u05d5\\u05d3\\u05d9\\u05e2\\u05d9\\u05df \\u05e8\\\"\\u05d2 \\u05d7.\\u05ea.\"], \"ids\": [\"\\u05de\\u05d5\\u05d3\\u05d9\\u05e2\\u05d9\\u05df \\u05e8\\\"\\u05d2 \\u05d7.\\u05ea.\", \"\\u05de\\u05d5\\u05d3\\u05d9\\u05e2\\u05d9\\u05df \\u05e8\\\"\\u05d2 \\u05d7.\\u05ea.\", \"\\u05de\\u05d5\\u05d3\\u05d9\\u05e2\\u05d9\\u05df \\u05e8\\\"\\u05d2 \\u05d7.\\u05ea.\", \"\\u05de\\u05d5\\u05d3\\u05d9\\u05e2\\u05d9\\u05df \\u05e8\\\"\\u05d2 \\u05d7.\\u05ea.\"], \"legendgroup\": \"\\u05de\\u05d5\\u05d3\\u05d9\\u05e2\\u05d9\\u05df \\u05e8\\\"\\u05d2 \\u05d7.\\u05ea.\", \"marker\": {\"color\": \"#00cc96\", \"size\": [100, 75, 101, 99], \"sizemode\": \"area\", \"sizeref\": 0.0162, \"symbol\": \"circle\"}, \"mode\": \"markers\", \"name\": \"\\u05de\\u05d5\\u05d3\\u05d9\\u05e2\\u05d9\\u05df \\u05e8\\\"\\u05d2 \\u05d7.\\u05ea.\", \"showlegend\": true, \"x\": [100, 75, 101, 99], \"xaxis\": \"x\", \"y\": [7, 7, 7, 7], \"yaxis\": \"y\", \"type\": \"scatter\"}, {\"hovertemplate\": \"<b>%{hovertext}</b><br><br>pharm_n=\\u05db\\u05e8\\u05de\\u05d9\\u05dd \\u05d7.\\u05ea.<br>yyyy-mm=2020-2<br>pdax_c=%{marker.size}<br>unscheduled=%{y}<extra></extra>\", \"hovertext\": [\"\\u05db\\u05e8\\u05de\\u05d9\\u05dd \\u05d7.\\u05ea.\", \"\\u05db\\u05e8\\u05de\\u05d9\\u05dd \\u05d7.\\u05ea.\", \"\\u05db\\u05e8\\u05de\\u05d9\\u05dd \\u05d7.\\u05ea.\", \"\\u05db\\u05e8\\u05de\\u05d9\\u05dd \\u05d7.\\u05ea.\"], \"ids\": [\"\\u05db\\u05e8\\u05de\\u05d9\\u05dd \\u05d7.\\u05ea.\", \"\\u05db\\u05e8\\u05de\\u05d9\\u05dd \\u05d7.\\u05ea.\", \"\\u05db\\u05e8\\u05de\\u05d9\\u05dd \\u05d7.\\u05ea.\", \"\\u05db\\u05e8\\u05de\\u05d9\\u05dd \\u05d7.\\u05ea.\"], \"legendgroup\": \"\\u05db\\u05e8\\u05de\\u05d9\\u05dd \\u05d7.\\u05ea.\", \"marker\": {\"color\": \"#ab63fa\", \"size\": [64, 71, 59, 66], \"sizemode\": \"area\", \"sizeref\": 0.0162, \"symbol\": \"circle\"}, \"mode\": \"markers\", \"name\": \"\\u05db\\u05e8\\u05de\\u05d9\\u05dd \\u05d7.\\u05ea.\", \"showlegend\": true, \"x\": [64, 71, 59, 66], \"xaxis\": \"x\", \"y\": [11, 11, 11, 11], \"yaxis\": \"y\", \"type\": \"scatter\"}], \"name\": \"2020-2\"}, {\"data\": [{\"hovertemplate\": \"<b>%{hovertext}</b><br><br>pharm_n=\\u05d7\\u05d5\\u05dc\\u05d5\\u05df \\u05de\\u05e7\\u05e6 \\u05d7.\\u05ea.<br>yyyy-mm=2020-3<br>pdax_c=%{marker.size}<br>unscheduled=%{y}<extra></extra>\", \"hovertext\": [\"\\u05d7\\u05d5\\u05dc\\u05d5\\u05df \\u05de\\u05e7\\u05e6 \\u05d7.\\u05ea.\", \"\\u05d7\\u05d5\\u05dc\\u05d5\\u05df \\u05de\\u05e7\\u05e6 \\u05d7.\\u05ea.\", \"\\u05d7\\u05d5\\u05dc\\u05d5\\u05df \\u05de\\u05e7\\u05e6 \\u05d7.\\u05ea.\", \"\\u05d7\\u05d5\\u05dc\\u05d5\\u05df \\u05de\\u05e7\\u05e6 \\u05d7.\\u05ea.\", \"\\u05d7\\u05d5\\u05dc\\u05d5\\u05df \\u05de\\u05e7\\u05e6 \\u05d7.\\u05ea.\"], \"ids\": [\"\\u05d7\\u05d5\\u05dc\\u05d5\\u05df \\u05de\\u05e7\\u05e6 \\u05d7.\\u05ea.\", \"\\u05d7\\u05d5\\u05dc\\u05d5\\u05df \\u05de\\u05e7\\u05e6 \\u05d7.\\u05ea.\", \"\\u05d7\\u05d5\\u05dc\\u05d5\\u05df \\u05de\\u05e7\\u05e6 \\u05d7.\\u05ea.\", \"\\u05d7\\u05d5\\u05dc\\u05d5\\u05df \\u05de\\u05e7\\u05e6 \\u05d7.\\u05ea.\", \"\\u05d7\\u05d5\\u05dc\\u05d5\\u05df \\u05de\\u05e7\\u05e6 \\u05d7.\\u05ea.\"], \"legendgroup\": \"\\u05d7\\u05d5\\u05dc\\u05d5\\u05df \\u05de\\u05e7\\u05e6 \\u05d7.\\u05ea.\", \"marker\": {\"color\": \"#636efa\", \"size\": [81, 108, 66, 89, 89], \"sizemode\": \"area\", \"sizeref\": 0.0162, \"symbol\": \"circle\"}, \"mode\": \"markers\", \"name\": \"\\u05d7\\u05d5\\u05dc\\u05d5\\u05df \\u05de\\u05e7\\u05e6 \\u05d7.\\u05ea.\", \"showlegend\": true, \"x\": [81, 108, 66, 89, 89], \"xaxis\": \"x\", \"y\": [18, 18, 18, 18, 18], \"yaxis\": \"y\", \"type\": \"scatter\"}, {\"hovertemplate\": \"<b>%{hovertext}</b><br><br>pharm_n=\\u05e7\\u05d9\\u05e8\\u05d0\\u05d5\\u05df \\u05d7.\\u05ea.<br>yyyy-mm=2020-3<br>pdax_c=%{marker.size}<br>unscheduled=%{y}<extra></extra>\", \"hovertext\": [\"\\u05e7\\u05d9\\u05e8\\u05d0\\u05d5\\u05df \\u05d7.\\u05ea.\", \"\\u05e7\\u05d9\\u05e8\\u05d0\\u05d5\\u05df \\u05d7.\\u05ea.\", \"\\u05e7\\u05d9\\u05e8\\u05d0\\u05d5\\u05df \\u05d7.\\u05ea.\", \"\\u05e7\\u05d9\\u05e8\\u05d0\\u05d5\\u05df \\u05d7.\\u05ea.\", \"\\u05e7\\u05d9\\u05e8\\u05d0\\u05d5\\u05df \\u05d7.\\u05ea.\"], \"ids\": [\"\\u05e7\\u05d9\\u05e8\\u05d0\\u05d5\\u05df \\u05d7.\\u05ea.\", \"\\u05e7\\u05d9\\u05e8\\u05d0\\u05d5\\u05df \\u05d7.\\u05ea.\", \"\\u05e7\\u05d9\\u05e8\\u05d0\\u05d5\\u05df \\u05d7.\\u05ea.\", \"\\u05e7\\u05d9\\u05e8\\u05d0\\u05d5\\u05df \\u05d7.\\u05ea.\", \"\\u05e7\\u05d9\\u05e8\\u05d0\\u05d5\\u05df \\u05d7.\\u05ea.\"], \"legendgroup\": \"\\u05e7\\u05d9\\u05e8\\u05d0\\u05d5\\u05df \\u05d7.\\u05ea.\", \"marker\": {\"color\": \"#EF553B\", \"size\": [90, 61, 71, 109, 99], \"sizemode\": \"area\", \"sizeref\": 0.0162, \"symbol\": \"circle\"}, \"mode\": \"markers\", \"name\": \"\\u05e7\\u05d9\\u05e8\\u05d0\\u05d5\\u05df \\u05d7.\\u05ea.\", \"showlegend\": true, \"x\": [90, 61, 71, 109, 99], \"xaxis\": \"x\", \"y\": [12, 12, 12, 12, 12], \"yaxis\": \"y\", \"type\": \"scatter\"}, {\"hovertemplate\": \"<b>%{hovertext}</b><br><br>pharm_n=\\u05de\\u05d5\\u05d3\\u05d9\\u05e2\\u05d9\\u05df \\u05e8\\\"\\u05d2 \\u05d7.\\u05ea.<br>yyyy-mm=2020-3<br>pdax_c=%{marker.size}<br>unscheduled=%{y}<extra></extra>\", \"hovertext\": [\"\\u05de\\u05d5\\u05d3\\u05d9\\u05e2\\u05d9\\u05df \\u05e8\\\"\\u05d2 \\u05d7.\\u05ea.\", \"\\u05de\\u05d5\\u05d3\\u05d9\\u05e2\\u05d9\\u05df \\u05e8\\\"\\u05d2 \\u05d7.\\u05ea.\", \"\\u05de\\u05d5\\u05d3\\u05d9\\u05e2\\u05d9\\u05df \\u05e8\\\"\\u05d2 \\u05d7.\\u05ea.\", \"\\u05de\\u05d5\\u05d3\\u05d9\\u05e2\\u05d9\\u05df \\u05e8\\\"\\u05d2 \\u05d7.\\u05ea.\", \"\\u05de\\u05d5\\u05d3\\u05d9\\u05e2\\u05d9\\u05df \\u05e8\\\"\\u05d2 \\u05d7.\\u05ea.\"], \"ids\": [\"\\u05de\\u05d5\\u05d3\\u05d9\\u05e2\\u05d9\\u05df \\u05e8\\\"\\u05d2 \\u05d7.\\u05ea.\", \"\\u05de\\u05d5\\u05d3\\u05d9\\u05e2\\u05d9\\u05df \\u05e8\\\"\\u05d2 \\u05d7.\\u05ea.\", \"\\u05de\\u05d5\\u05d3\\u05d9\\u05e2\\u05d9\\u05df \\u05e8\\\"\\u05d2 \\u05d7.\\u05ea.\", \"\\u05de\\u05d5\\u05d3\\u05d9\\u05e2\\u05d9\\u05df \\u05e8\\\"\\u05d2 \\u05d7.\\u05ea.\", \"\\u05de\\u05d5\\u05d3\\u05d9\\u05e2\\u05d9\\u05df \\u05e8\\\"\\u05d2 \\u05d7.\\u05ea.\"], \"legendgroup\": \"\\u05de\\u05d5\\u05d3\\u05d9\\u05e2\\u05d9\\u05df \\u05e8\\\"\\u05d2 \\u05d7.\\u05ea.\", \"marker\": {\"color\": \"#00cc96\", \"size\": [100, 112, 103, 81, 103], \"sizemode\": \"area\", \"sizeref\": 0.0162, \"symbol\": \"circle\"}, \"mode\": \"markers\", \"name\": \"\\u05de\\u05d5\\u05d3\\u05d9\\u05e2\\u05d9\\u05df \\u05e8\\\"\\u05d2 \\u05d7.\\u05ea.\", \"showlegend\": true, \"x\": [100, 112, 103, 81, 103], \"xaxis\": \"x\", \"y\": [18, 18, 18, 18, 18], \"yaxis\": \"y\", \"type\": \"scatter\"}, {\"hovertemplate\": \"<b>%{hovertext}</b><br><br>pharm_n=\\u05db\\u05e8\\u05de\\u05d9\\u05dd \\u05d7.\\u05ea.<br>yyyy-mm=2020-3<br>pdax_c=%{marker.size}<br>unscheduled=%{y}<extra></extra>\", \"hovertext\": [\"\\u05db\\u05e8\\u05de\\u05d9\\u05dd \\u05d7.\\u05ea.\", \"\\u05db\\u05e8\\u05de\\u05d9\\u05dd \\u05d7.\\u05ea.\", \"\\u05db\\u05e8\\u05de\\u05d9\\u05dd \\u05d7.\\u05ea.\", \"\\u05db\\u05e8\\u05de\\u05d9\\u05dd \\u05d7.\\u05ea.\"], \"ids\": [\"\\u05db\\u05e8\\u05de\\u05d9\\u05dd \\u05d7.\\u05ea.\", \"\\u05db\\u05e8\\u05de\\u05d9\\u05dd \\u05d7.\\u05ea.\", \"\\u05db\\u05e8\\u05de\\u05d9\\u05dd \\u05d7.\\u05ea.\", \"\\u05db\\u05e8\\u05de\\u05d9\\u05dd \\u05d7.\\u05ea.\"], \"legendgroup\": \"\\u05db\\u05e8\\u05de\\u05d9\\u05dd \\u05d7.\\u05ea.\", \"marker\": {\"color\": \"#ab63fa\", \"size\": [63, 65, 57, 53], \"sizemode\": \"area\", \"sizeref\": 0.0162, \"symbol\": \"circle\"}, \"mode\": \"markers\", \"name\": \"\\u05db\\u05e8\\u05de\\u05d9\\u05dd \\u05d7.\\u05ea.\", \"showlegend\": true, \"x\": [63, 65, 57, 53], \"xaxis\": \"x\", \"y\": [12, 12, 12, 12], \"yaxis\": \"y\", \"type\": \"scatter\"}], \"name\": \"2020-3\"}, {\"data\": [{\"hovertemplate\": \"<b>%{hovertext}</b><br><br>pharm_n=\\u05d7\\u05d5\\u05dc\\u05d5\\u05df \\u05de\\u05e7\\u05e6 \\u05d7.\\u05ea.<br>yyyy-mm=2020-4<br>pdax_c=%{marker.size}<br>unscheduled=%{y}<extra></extra>\", \"hovertext\": [\"\\u05d7\\u05d5\\u05dc\\u05d5\\u05df \\u05de\\u05e7\\u05e6 \\u05d7.\\u05ea.\", \"\\u05d7\\u05d5\\u05dc\\u05d5\\u05df \\u05de\\u05e7\\u05e6 \\u05d7.\\u05ea.\", \"\\u05d7\\u05d5\\u05dc\\u05d5\\u05df \\u05de\\u05e7\\u05e6 \\u05d7.\\u05ea.\", \"\\u05d7\\u05d5\\u05dc\\u05d5\\u05df \\u05de\\u05e7\\u05e6 \\u05d7.\\u05ea.\"], \"ids\": [\"\\u05d7\\u05d5\\u05dc\\u05d5\\u05df \\u05de\\u05e7\\u05e6 \\u05d7.\\u05ea.\", \"\\u05d7\\u05d5\\u05dc\\u05d5\\u05df \\u05de\\u05e7\\u05e6 \\u05d7.\\u05ea.\", \"\\u05d7\\u05d5\\u05dc\\u05d5\\u05df \\u05de\\u05e7\\u05e6 \\u05d7.\\u05ea.\", \"\\u05d7\\u05d5\\u05dc\\u05d5\\u05df \\u05de\\u05e7\\u05e6 \\u05d7.\\u05ea.\"], \"legendgroup\": \"\\u05d7\\u05d5\\u05dc\\u05d5\\u05df \\u05de\\u05e7\\u05e6 \\u05d7.\\u05ea.\", \"marker\": {\"color\": \"#636efa\", \"size\": [68, 58, 85, 88], \"sizemode\": \"area\", \"sizeref\": 0.0162, \"symbol\": \"circle\"}, \"mode\": \"markers\", \"name\": \"\\u05d7\\u05d5\\u05dc\\u05d5\\u05df \\u05de\\u05e7\\u05e6 \\u05d7.\\u05ea.\", \"showlegend\": true, \"x\": [68, 58, 85, 88], \"xaxis\": \"x\", \"y\": [12, 12, 12, 12], \"yaxis\": \"y\", \"type\": \"scatter\"}, {\"hovertemplate\": \"<b>%{hovertext}</b><br><br>pharm_n=\\u05e7\\u05d9\\u05e8\\u05d0\\u05d5\\u05df \\u05d7.\\u05ea.<br>yyyy-mm=2020-4<br>pdax_c=%{marker.size}<br>unscheduled=%{y}<extra></extra>\", \"hovertext\": [\"\\u05e7\\u05d9\\u05e8\\u05d0\\u05d5\\u05df \\u05d7.\\u05ea.\", \"\\u05e7\\u05d9\\u05e8\\u05d0\\u05d5\\u05df \\u05d7.\\u05ea.\"], \"ids\": [\"\\u05e7\\u05d9\\u05e8\\u05d0\\u05d5\\u05df \\u05d7.\\u05ea.\", \"\\u05e7\\u05d9\\u05e8\\u05d0\\u05d5\\u05df \\u05d7.\\u05ea.\"], \"legendgroup\": \"\\u05e7\\u05d9\\u05e8\\u05d0\\u05d5\\u05df \\u05d7.\\u05ea.\", \"marker\": {\"color\": \"#EF553B\", \"size\": [56, 67], \"sizemode\": \"area\", \"sizeref\": 0.0162, \"symbol\": \"circle\"}, \"mode\": \"markers\", \"name\": \"\\u05e7\\u05d9\\u05e8\\u05d0\\u05d5\\u05df \\u05d7.\\u05ea.\", \"showlegend\": true, \"x\": [56, 67], \"xaxis\": \"x\", \"y\": [13, 13], \"yaxis\": \"y\", \"type\": \"scatter\"}, {\"hovertemplate\": \"<b>%{hovertext}</b><br><br>pharm_n=\\u05de\\u05d5\\u05d3\\u05d9\\u05e2\\u05d9\\u05df \\u05e8\\\"\\u05d2 \\u05d7.\\u05ea.<br>yyyy-mm=2020-4<br>pdax_c=%{marker.size}<br>unscheduled=%{y}<extra></extra>\", \"hovertext\": [\"\\u05de\\u05d5\\u05d3\\u05d9\\u05e2\\u05d9\\u05df \\u05e8\\\"\\u05d2 \\u05d7.\\u05ea.\", \"\\u05de\\u05d5\\u05d3\\u05d9\\u05e2\\u05d9\\u05df \\u05e8\\\"\\u05d2 \\u05d7.\\u05ea.\"], \"ids\": [\"\\u05de\\u05d5\\u05d3\\u05d9\\u05e2\\u05d9\\u05df \\u05e8\\\"\\u05d2 \\u05d7.\\u05ea.\", \"\\u05de\\u05d5\\u05d3\\u05d9\\u05e2\\u05d9\\u05df \\u05e8\\\"\\u05d2 \\u05d7.\\u05ea.\"], \"legendgroup\": \"\\u05de\\u05d5\\u05d3\\u05d9\\u05e2\\u05d9\\u05df \\u05e8\\\"\\u05d2 \\u05d7.\\u05ea.\", \"marker\": {\"color\": \"#00cc96\", \"size\": [70, 74], \"sizemode\": \"area\", \"sizeref\": 0.0162, \"symbol\": \"circle\"}, \"mode\": \"markers\", \"name\": \"\\u05de\\u05d5\\u05d3\\u05d9\\u05e2\\u05d9\\u05df \\u05e8\\\"\\u05d2 \\u05d7.\\u05ea.\", \"showlegend\": true, \"x\": [70, 74], \"xaxis\": \"x\", \"y\": [18, 18], \"yaxis\": \"y\", \"type\": \"scatter\"}, {\"hovertemplate\": \"<b>%{hovertext}</b><br><br>pharm_n=\\u05db\\u05e8\\u05de\\u05d9\\u05dd \\u05d7.\\u05ea.<br>yyyy-mm=2020-4<br>pdax_c=%{marker.size}<br>unscheduled=%{y}<extra></extra>\", \"hovertext\": [\"\\u05db\\u05e8\\u05de\\u05d9\\u05dd \\u05d7.\\u05ea.\", \"\\u05db\\u05e8\\u05de\\u05d9\\u05dd \\u05d7.\\u05ea.\", \"\\u05db\\u05e8\\u05de\\u05d9\\u05dd \\u05d7.\\u05ea.\", \"\\u05db\\u05e8\\u05de\\u05d9\\u05dd \\u05d7.\\u05ea.\"], \"ids\": [\"\\u05db\\u05e8\\u05de\\u05d9\\u05dd \\u05d7.\\u05ea.\", \"\\u05db\\u05e8\\u05de\\u05d9\\u05dd \\u05d7.\\u05ea.\", \"\\u05db\\u05e8\\u05de\\u05d9\\u05dd \\u05d7.\\u05ea.\", \"\\u05db\\u05e8\\u05de\\u05d9\\u05dd \\u05d7.\\u05ea.\"], \"legendgroup\": \"\\u05db\\u05e8\\u05de\\u05d9\\u05dd \\u05d7.\\u05ea.\", \"marker\": {\"color\": \"#ab63fa\", \"size\": [75, 72, 70, 67], \"sizemode\": \"area\", \"sizeref\": 0.0162, \"symbol\": \"circle\"}, \"mode\": \"markers\", \"name\": \"\\u05db\\u05e8\\u05de\\u05d9\\u05dd \\u05d7.\\u05ea.\", \"showlegend\": true, \"x\": [75, 72, 70, 67], \"xaxis\": \"x\", \"y\": [5, 5, 5, 5], \"yaxis\": \"y\", \"type\": \"scatter\"}], \"name\": \"2020-4\"}, {\"data\": [{\"hovertemplate\": \"<b>%{hovertext}</b><br><br>pharm_n=\\u05d7\\u05d5\\u05dc\\u05d5\\u05df \\u05de\\u05e7\\u05e6 \\u05d7.\\u05ea.<br>yyyy-mm=2020-5<br>pdax_c=%{marker.size}<br>unscheduled=%{y}<extra></extra>\", \"hovertext\": [\"\\u05d7\\u05d5\\u05dc\\u05d5\\u05df \\u05de\\u05e7\\u05e6 \\u05d7.\\u05ea.\", \"\\u05d7\\u05d5\\u05dc\\u05d5\\u05df \\u05de\\u05e7\\u05e6 \\u05d7.\\u05ea.\", \"\\u05d7\\u05d5\\u05dc\\u05d5\\u05df \\u05de\\u05e7\\u05e6 \\u05d7.\\u05ea.\", \"\\u05d7\\u05d5\\u05dc\\u05d5\\u05df \\u05de\\u05e7\\u05e6 \\u05d7.\\u05ea.\"], \"ids\": [\"\\u05d7\\u05d5\\u05dc\\u05d5\\u05df \\u05de\\u05e7\\u05e6 \\u05d7.\\u05ea.\", \"\\u05d7\\u05d5\\u05dc\\u05d5\\u05df \\u05de\\u05e7\\u05e6 \\u05d7.\\u05ea.\", \"\\u05d7\\u05d5\\u05dc\\u05d5\\u05df \\u05de\\u05e7\\u05e6 \\u05d7.\\u05ea.\", \"\\u05d7\\u05d5\\u05dc\\u05d5\\u05df \\u05de\\u05e7\\u05e6 \\u05d7.\\u05ea.\"], \"legendgroup\": \"\\u05d7\\u05d5\\u05dc\\u05d5\\u05df \\u05de\\u05e7\\u05e6 \\u05d7.\\u05ea.\", \"marker\": {\"color\": \"#636efa\", \"size\": [71, 83, 59, 81], \"sizemode\": \"area\", \"sizeref\": 0.0162, \"symbol\": \"circle\"}, \"mode\": \"markers\", \"name\": \"\\u05d7\\u05d5\\u05dc\\u05d5\\u05df \\u05de\\u05e7\\u05e6 \\u05d7.\\u05ea.\", \"showlegend\": true, \"x\": [71, 83, 59, 81], \"xaxis\": \"x\", \"y\": [16, 16, 16, 16], \"yaxis\": \"y\", \"type\": \"scatter\"}, {\"hovertemplate\": \"<b>%{hovertext}</b><br><br>pharm_n=\\u05e7\\u05d9\\u05e8\\u05d0\\u05d5\\u05df \\u05d7.\\u05ea.<br>yyyy-mm=2020-5<br>pdax_c=%{marker.size}<br>unscheduled=%{y}<extra></extra>\", \"hovertext\": [\"\\u05e7\\u05d9\\u05e8\\u05d0\\u05d5\\u05df \\u05d7.\\u05ea.\", \"\\u05e7\\u05d9\\u05e8\\u05d0\\u05d5\\u05df \\u05d7.\\u05ea.\", \"\\u05e7\\u05d9\\u05e8\\u05d0\\u05d5\\u05df \\u05d7.\\u05ea.\", \"\\u05e7\\u05d9\\u05e8\\u05d0\\u05d5\\u05df \\u05d7.\\u05ea.\"], \"ids\": [\"\\u05e7\\u05d9\\u05e8\\u05d0\\u05d5\\u05df \\u05d7.\\u05ea.\", \"\\u05e7\\u05d9\\u05e8\\u05d0\\u05d5\\u05df \\u05d7.\\u05ea.\", \"\\u05e7\\u05d9\\u05e8\\u05d0\\u05d5\\u05df \\u05d7.\\u05ea.\", \"\\u05e7\\u05d9\\u05e8\\u05d0\\u05d5\\u05df \\u05d7.\\u05ea.\"], \"legendgroup\": \"\\u05e7\\u05d9\\u05e8\\u05d0\\u05d5\\u05df \\u05d7.\\u05ea.\", \"marker\": {\"color\": \"#EF553B\", \"size\": [65, 68, 70, 54], \"sizemode\": \"area\", \"sizeref\": 0.0162, \"symbol\": \"circle\"}, \"mode\": \"markers\", \"name\": \"\\u05e7\\u05d9\\u05e8\\u05d0\\u05d5\\u05df \\u05d7.\\u05ea.\", \"showlegend\": true, \"x\": [65, 68, 70, 54], \"xaxis\": \"x\", \"y\": [12, 12, 12, 12], \"yaxis\": \"y\", \"type\": \"scatter\"}, {\"hovertemplate\": \"<b>%{hovertext}</b><br><br>pharm_n=\\u05de\\u05d5\\u05d3\\u05d9\\u05e2\\u05d9\\u05df \\u05e8\\\"\\u05d2 \\u05d7.\\u05ea.<br>yyyy-mm=2020-5<br>pdax_c=%{marker.size}<br>unscheduled=%{y}<extra></extra>\", \"hovertext\": [\"\\u05de\\u05d5\\u05d3\\u05d9\\u05e2\\u05d9\\u05df \\u05e8\\\"\\u05d2 \\u05d7.\\u05ea.\", \"\\u05de\\u05d5\\u05d3\\u05d9\\u05e2\\u05d9\\u05df \\u05e8\\\"\\u05d2 \\u05d7.\\u05ea.\"], \"ids\": [\"\\u05de\\u05d5\\u05d3\\u05d9\\u05e2\\u05d9\\u05df \\u05e8\\\"\\u05d2 \\u05d7.\\u05ea.\", \"\\u05de\\u05d5\\u05d3\\u05d9\\u05e2\\u05d9\\u05df \\u05e8\\\"\\u05d2 \\u05d7.\\u05ea.\"], \"legendgroup\": \"\\u05de\\u05d5\\u05d3\\u05d9\\u05e2\\u05d9\\u05df \\u05e8\\\"\\u05d2 \\u05d7.\\u05ea.\", \"marker\": {\"color\": \"#00cc96\", \"size\": [81, 101], \"sizemode\": \"area\", \"sizeref\": 0.0162, \"symbol\": \"circle\"}, \"mode\": \"markers\", \"name\": \"\\u05de\\u05d5\\u05d3\\u05d9\\u05e2\\u05d9\\u05df \\u05e8\\\"\\u05d2 \\u05d7.\\u05ea.\", \"showlegend\": true, \"x\": [81, 101], \"xaxis\": \"x\", \"y\": [10, 10], \"yaxis\": \"y\", \"type\": \"scatter\"}, {\"hovertemplate\": \"<b>%{hovertext}</b><br><br>pharm_n=\\u05db\\u05e8\\u05de\\u05d9\\u05dd \\u05d7.\\u05ea.<br>yyyy-mm=2020-5<br>pdax_c=%{marker.size}<br>unscheduled=%{y}<extra></extra>\", \"hovertext\": [\"\\u05db\\u05e8\\u05de\\u05d9\\u05dd \\u05d7.\\u05ea.\", \"\\u05db\\u05e8\\u05de\\u05d9\\u05dd \\u05d7.\\u05ea.\", \"\\u05db\\u05e8\\u05de\\u05d9\\u05dd \\u05d7.\\u05ea.\", \"\\u05db\\u05e8\\u05de\\u05d9\\u05dd \\u05d7.\\u05ea.\"], \"ids\": [\"\\u05db\\u05e8\\u05de\\u05d9\\u05dd \\u05d7.\\u05ea.\", \"\\u05db\\u05e8\\u05de\\u05d9\\u05dd \\u05d7.\\u05ea.\", \"\\u05db\\u05e8\\u05de\\u05d9\\u05dd \\u05d7.\\u05ea.\", \"\\u05db\\u05e8\\u05de\\u05d9\\u05dd \\u05d7.\\u05ea.\"], \"legendgroup\": \"\\u05db\\u05e8\\u05de\\u05d9\\u05dd \\u05d7.\\u05ea.\", \"marker\": {\"color\": \"#ab63fa\", \"size\": [74, 69, 75, 63], \"sizemode\": \"area\", \"sizeref\": 0.0162, \"symbol\": \"circle\"}, \"mode\": \"markers\", \"name\": \"\\u05db\\u05e8\\u05de\\u05d9\\u05dd \\u05d7.\\u05ea.\", \"showlegend\": true, \"x\": [74, 69, 75, 63], \"xaxis\": \"x\", \"y\": [12, 12, 12, 12], \"yaxis\": \"y\", \"type\": \"scatter\"}], \"name\": \"2020-5\"}, {\"data\": [{\"hovertemplate\": \"<b>%{hovertext}</b><br><br>pharm_n=\\u05d7\\u05d5\\u05dc\\u05d5\\u05df \\u05de\\u05e7\\u05e6 \\u05d7.\\u05ea.<br>yyyy-mm=2020-6<br>pdax_c=%{marker.size}<br>unscheduled=%{y}<extra></extra>\", \"hovertext\": [\"\\u05d7\\u05d5\\u05dc\\u05d5\\u05df \\u05de\\u05e7\\u05e6 \\u05d7.\\u05ea.\", \"\\u05d7\\u05d5\\u05dc\\u05d5\\u05df \\u05de\\u05e7\\u05e6 \\u05d7.\\u05ea.\", \"\\u05d7\\u05d5\\u05dc\\u05d5\\u05df \\u05de\\u05e7\\u05e6 \\u05d7.\\u05ea.\", \"\\u05d7\\u05d5\\u05dc\\u05d5\\u05df \\u05de\\u05e7\\u05e6 \\u05d7.\\u05ea.\"], \"ids\": [\"\\u05d7\\u05d5\\u05dc\\u05d5\\u05df \\u05de\\u05e7\\u05e6 \\u05d7.\\u05ea.\", \"\\u05d7\\u05d5\\u05dc\\u05d5\\u05df \\u05de\\u05e7\\u05e6 \\u05d7.\\u05ea.\", \"\\u05d7\\u05d5\\u05dc\\u05d5\\u05df \\u05de\\u05e7\\u05e6 \\u05d7.\\u05ea.\", \"\\u05d7\\u05d5\\u05dc\\u05d5\\u05df \\u05de\\u05e7\\u05e6 \\u05d7.\\u05ea.\"], \"legendgroup\": \"\\u05d7\\u05d5\\u05dc\\u05d5\\u05df \\u05de\\u05e7\\u05e6 \\u05d7.\\u05ea.\", \"marker\": {\"color\": \"#636efa\", \"size\": [66, 82, 19, 162], \"sizemode\": \"area\", \"sizeref\": 0.0162, \"symbol\": \"circle\"}, \"mode\": \"markers\", \"name\": \"\\u05d7\\u05d5\\u05dc\\u05d5\\u05df \\u05de\\u05e7\\u05e6 \\u05d7.\\u05ea.\", \"showlegend\": true, \"x\": [66, 82, 19, 162], \"xaxis\": \"x\", \"y\": [16, 16, 16, 16], \"yaxis\": \"y\", \"type\": \"scatter\"}, {\"hovertemplate\": \"<b>%{hovertext}</b><br><br>pharm_n=\\u05e7\\u05d9\\u05e8\\u05d0\\u05d5\\u05df \\u05d7.\\u05ea.<br>yyyy-mm=2020-6<br>pdax_c=%{marker.size}<br>unscheduled=%{y}<extra></extra>\", \"hovertext\": [\"\\u05e7\\u05d9\\u05e8\\u05d0\\u05d5\\u05df \\u05d7.\\u05ea.\", \"\\u05e7\\u05d9\\u05e8\\u05d0\\u05d5\\u05df \\u05d7.\\u05ea.\", \"\\u05e7\\u05d9\\u05e8\\u05d0\\u05d5\\u05df \\u05d7.\\u05ea.\", \"\\u05e7\\u05d9\\u05e8\\u05d0\\u05d5\\u05df \\u05d7.\\u05ea.\", \"\\u05e7\\u05d9\\u05e8\\u05d0\\u05d5\\u05df \\u05d7.\\u05ea.\"], \"ids\": [\"\\u05e7\\u05d9\\u05e8\\u05d0\\u05d5\\u05df \\u05d7.\\u05ea.\", \"\\u05e7\\u05d9\\u05e8\\u05d0\\u05d5\\u05df \\u05d7.\\u05ea.\", \"\\u05e7\\u05d9\\u05e8\\u05d0\\u05d5\\u05df \\u05d7.\\u05ea.\", \"\\u05e7\\u05d9\\u05e8\\u05d0\\u05d5\\u05df \\u05d7.\\u05ea.\", \"\\u05e7\\u05d9\\u05e8\\u05d0\\u05d5\\u05df \\u05d7.\\u05ea.\"], \"legendgroup\": \"\\u05e7\\u05d9\\u05e8\\u05d0\\u05d5\\u05df \\u05d7.\\u05ea.\", \"marker\": {\"color\": \"#EF553B\", \"size\": [57, 79, 73, 71, 39], \"sizemode\": \"area\", \"sizeref\": 0.0162, \"symbol\": \"circle\"}, \"mode\": \"markers\", \"name\": \"\\u05e7\\u05d9\\u05e8\\u05d0\\u05d5\\u05df \\u05d7.\\u05ea.\", \"showlegend\": true, \"x\": [57, 79, 73, 71, 39], \"xaxis\": \"x\", \"y\": [11, 11, 11, 11, 11], \"yaxis\": \"y\", \"type\": \"scatter\"}, {\"hovertemplate\": \"<b>%{hovertext}</b><br><br>pharm_n=\\u05de\\u05d5\\u05d3\\u05d9\\u05e2\\u05d9\\u05df \\u05e8\\\"\\u05d2 \\u05d7.\\u05ea.<br>yyyy-mm=2020-6<br>pdax_c=%{marker.size}<br>unscheduled=%{y}<extra></extra>\", \"hovertext\": [\"\\u05de\\u05d5\\u05d3\\u05d9\\u05e2\\u05d9\\u05df \\u05e8\\\"\\u05d2 \\u05d7.\\u05ea.\", \"\\u05de\\u05d5\\u05d3\\u05d9\\u05e2\\u05d9\\u05df \\u05e8\\\"\\u05d2 \\u05d7.\\u05ea.\", \"\\u05de\\u05d5\\u05d3\\u05d9\\u05e2\\u05d9\\u05df \\u05e8\\\"\\u05d2 \\u05d7.\\u05ea.\", \"\\u05de\\u05d5\\u05d3\\u05d9\\u05e2\\u05d9\\u05df \\u05e8\\\"\\u05d2 \\u05d7.\\u05ea.\"], \"ids\": [\"\\u05de\\u05d5\\u05d3\\u05d9\\u05e2\\u05d9\\u05df \\u05e8\\\"\\u05d2 \\u05d7.\\u05ea.\", \"\\u05de\\u05d5\\u05d3\\u05d9\\u05e2\\u05d9\\u05df \\u05e8\\\"\\u05d2 \\u05d7.\\u05ea.\", \"\\u05de\\u05d5\\u05d3\\u05d9\\u05e2\\u05d9\\u05df \\u05e8\\\"\\u05d2 \\u05d7.\\u05ea.\", \"\\u05de\\u05d5\\u05d3\\u05d9\\u05e2\\u05d9\\u05df \\u05e8\\\"\\u05d2 \\u05d7.\\u05ea.\"], \"legendgroup\": \"\\u05de\\u05d5\\u05d3\\u05d9\\u05e2\\u05d9\\u05df \\u05e8\\\"\\u05d2 \\u05d7.\\u05ea.\", \"marker\": {\"color\": \"#00cc96\", \"size\": [46, 25, 19, 4], \"sizemode\": \"area\", \"sizeref\": 0.0162, \"symbol\": \"circle\"}, \"mode\": \"markers\", \"name\": \"\\u05de\\u05d5\\u05d3\\u05d9\\u05e2\\u05d9\\u05df \\u05e8\\\"\\u05d2 \\u05d7.\\u05ea.\", \"showlegend\": true, \"x\": [46, 25, 19, 4], \"xaxis\": \"x\", \"y\": [9, 9, 9, 9], \"yaxis\": \"y\", \"type\": \"scatter\"}, {\"hovertemplate\": \"<b>%{hovertext}</b><br><br>pharm_n=\\u05db\\u05e8\\u05de\\u05d9\\u05dd \\u05d7.\\u05ea.<br>yyyy-mm=2020-6<br>pdax_c=%{marker.size}<br>unscheduled=%{y}<extra></extra>\", \"hovertext\": [\"\\u05db\\u05e8\\u05de\\u05d9\\u05dd \\u05d7.\\u05ea.\", \"\\u05db\\u05e8\\u05de\\u05d9\\u05dd \\u05d7.\\u05ea.\", \"\\u05db\\u05e8\\u05de\\u05d9\\u05dd \\u05d7.\\u05ea.\", \"\\u05db\\u05e8\\u05de\\u05d9\\u05dd \\u05d7.\\u05ea.\"], \"ids\": [\"\\u05db\\u05e8\\u05de\\u05d9\\u05dd \\u05d7.\\u05ea.\", \"\\u05db\\u05e8\\u05de\\u05d9\\u05dd \\u05d7.\\u05ea.\", \"\\u05db\\u05e8\\u05de\\u05d9\\u05dd \\u05d7.\\u05ea.\", \"\\u05db\\u05e8\\u05de\\u05d9\\u05dd \\u05d7.\\u05ea.\"], \"legendgroup\": \"\\u05db\\u05e8\\u05de\\u05d9\\u05dd \\u05d7.\\u05ea.\", \"marker\": {\"color\": \"#ab63fa\", \"size\": [58, 29, 26, 40], \"sizemode\": \"area\", \"sizeref\": 0.0162, \"symbol\": \"circle\"}, \"mode\": \"markers\", \"name\": \"\\u05db\\u05e8\\u05de\\u05d9\\u05dd \\u05d7.\\u05ea.\", \"showlegend\": true, \"x\": [58, 29, 26, 40], \"xaxis\": \"x\", \"y\": [16, 16, 16, 16], \"yaxis\": \"y\", \"type\": \"scatter\"}], \"name\": \"2020-6\"}, {\"data\": [{\"hovertemplate\": \"<b>%{hovertext}</b><br><br>pharm_n=\\u05d7\\u05d5\\u05dc\\u05d5\\u05df \\u05de\\u05e7\\u05e6 \\u05d7.\\u05ea.<br>yyyy-mm=2020-7<br>pdax_c=%{marker.size}<br>unscheduled=%{y}<extra></extra>\", \"hovertext\": [\"\\u05d7\\u05d5\\u05dc\\u05d5\\u05df \\u05de\\u05e7\\u05e6 \\u05d7.\\u05ea.\", \"\\u05d7\\u05d5\\u05dc\\u05d5\\u05df \\u05de\\u05e7\\u05e6 \\u05d7.\\u05ea.\", \"\\u05d7\\u05d5\\u05dc\\u05d5\\u05df \\u05de\\u05e7\\u05e6 \\u05d7.\\u05ea.\"], \"ids\": [\"\\u05d7\\u05d5\\u05dc\\u05d5\\u05df \\u05de\\u05e7\\u05e6 \\u05d7.\\u05ea.\", \"\\u05d7\\u05d5\\u05dc\\u05d5\\u05df \\u05de\\u05e7\\u05e6 \\u05d7.\\u05ea.\", \"\\u05d7\\u05d5\\u05dc\\u05d5\\u05df \\u05de\\u05e7\\u05e6 \\u05d7.\\u05ea.\"], \"legendgroup\": \"\\u05d7\\u05d5\\u05dc\\u05d5\\u05df \\u05de\\u05e7\\u05e6 \\u05d7.\\u05ea.\", \"marker\": {\"color\": \"#636efa\", \"size\": [43, 12, 19], \"sizemode\": \"area\", \"sizeref\": 0.0162, \"symbol\": \"circle\"}, \"mode\": \"markers\", \"name\": \"\\u05d7\\u05d5\\u05dc\\u05d5\\u05df \\u05de\\u05e7\\u05e6 \\u05d7.\\u05ea.\", \"showlegend\": true, \"x\": [43, 12, 19], \"xaxis\": \"x\", \"y\": [12, 12, 12], \"yaxis\": \"y\", \"type\": \"scatter\"}, {\"hovertemplate\": \"<b>%{hovertext}</b><br><br>pharm_n=\\u05e7\\u05d9\\u05e8\\u05d0\\u05d5\\u05df \\u05d7.\\u05ea.<br>yyyy-mm=2020-7<br>pdax_c=%{marker.size}<br>unscheduled=%{y}<extra></extra>\", \"hovertext\": [\"\\u05e7\\u05d9\\u05e8\\u05d0\\u05d5\\u05df \\u05d7.\\u05ea.\", \"\\u05e7\\u05d9\\u05e8\\u05d0\\u05d5\\u05df \\u05d7.\\u05ea.\"], \"ids\": [\"\\u05e7\\u05d9\\u05e8\\u05d0\\u05d5\\u05df \\u05d7.\\u05ea.\", \"\\u05e7\\u05d9\\u05e8\\u05d0\\u05d5\\u05df \\u05d7.\\u05ea.\"], \"legendgroup\": \"\\u05e7\\u05d9\\u05e8\\u05d0\\u05d5\\u05df \\u05d7.\\u05ea.\", \"marker\": {\"color\": \"#EF553B\", \"size\": [47, 36], \"sizemode\": \"area\", \"sizeref\": 0.0162, \"symbol\": \"circle\"}, \"mode\": \"markers\", \"name\": \"\\u05e7\\u05d9\\u05e8\\u05d0\\u05d5\\u05df \\u05d7.\\u05ea.\", \"showlegend\": true, \"x\": [47, 36], \"xaxis\": \"x\", \"y\": [4, 4], \"yaxis\": \"y\", \"type\": \"scatter\"}, {\"hovertemplate\": \"<b>%{hovertext}</b><br><br>pharm_n=\\u05de\\u05d5\\u05d3\\u05d9\\u05e2\\u05d9\\u05df \\u05e8\\\"\\u05d2 \\u05d7.\\u05ea.<br>yyyy-mm=2020-7<br>pdax_c=%{marker.size}<br>unscheduled=%{y}<extra></extra>\", \"hovertext\": [\"\\u05de\\u05d5\\u05d3\\u05d9\\u05e2\\u05d9\\u05df \\u05e8\\\"\\u05d2 \\u05d7.\\u05ea.\", \"\\u05de\\u05d5\\u05d3\\u05d9\\u05e2\\u05d9\\u05df \\u05e8\\\"\\u05d2 \\u05d7.\\u05ea.\"], \"ids\": [\"\\u05de\\u05d5\\u05d3\\u05d9\\u05e2\\u05d9\\u05df \\u05e8\\\"\\u05d2 \\u05d7.\\u05ea.\", \"\\u05de\\u05d5\\u05d3\\u05d9\\u05e2\\u05d9\\u05df \\u05e8\\\"\\u05d2 \\u05d7.\\u05ea.\"], \"legendgroup\": \"\\u05de\\u05d5\\u05d3\\u05d9\\u05e2\\u05d9\\u05df \\u05e8\\\"\\u05d2 \\u05d7.\\u05ea.\", \"marker\": {\"color\": \"#00cc96\", \"size\": [4, 9], \"sizemode\": \"area\", \"sizeref\": 0.0162, \"symbol\": \"circle\"}, \"mode\": \"markers\", \"name\": \"\\u05de\\u05d5\\u05d3\\u05d9\\u05e2\\u05d9\\u05df \\u05e8\\\"\\u05d2 \\u05d7.\\u05ea.\", \"showlegend\": true, \"x\": [4, 9], \"xaxis\": \"x\", \"y\": [5, 5], \"yaxis\": \"y\", \"type\": \"scatter\"}, {\"hovertemplate\": \"<b>%{hovertext}</b><br><br>pharm_n=\\u05db\\u05e8\\u05de\\u05d9\\u05dd \\u05d7.\\u05ea.<br>yyyy-mm=2020-7<br>pdax_c=%{marker.size}<br>unscheduled=%{y}<extra></extra>\", \"hovertext\": [\"\\u05db\\u05e8\\u05de\\u05d9\\u05dd \\u05d7.\\u05ea.\", \"\\u05db\\u05e8\\u05de\\u05d9\\u05dd \\u05d7.\\u05ea.\"], \"ids\": [\"\\u05db\\u05e8\\u05de\\u05d9\\u05dd \\u05d7.\\u05ea.\", \"\\u05db\\u05e8\\u05de\\u05d9\\u05dd \\u05d7.\\u05ea.\"], \"legendgroup\": \"\\u05db\\u05e8\\u05de\\u05d9\\u05dd \\u05d7.\\u05ea.\", \"marker\": {\"color\": \"#ab63fa\", \"size\": [25, 36], \"sizemode\": \"area\", \"sizeref\": 0.0162, \"symbol\": \"circle\"}, \"mode\": \"markers\", \"name\": \"\\u05db\\u05e8\\u05de\\u05d9\\u05dd \\u05d7.\\u05ea.\", \"showlegend\": true, \"x\": [25, 36], \"xaxis\": \"x\", \"y\": [11, 11], \"yaxis\": \"y\", \"type\": \"scatter\"}], \"name\": \"2020-7\"}]);\n",
       "                        }).then(function(){\n",
       "                            \n",
       "var gd = document.getElementById('bce1ed19-73b9-4a53-80c2-afd0f7555a40');\n",
       "var x = new MutationObserver(function (mutations, observer) {{\n",
       "        var display = window.getComputedStyle(gd).display;\n",
       "        if (!display || display === 'none') {{\n",
       "            console.log([gd, 'removed!']);\n",
       "            Plotly.purge(gd);\n",
       "            observer.disconnect();\n",
       "        }}\n",
       "}});\n",
       "\n",
       "// Listen for the removal of the full notebook cells\n",
       "var notebookContainer = gd.closest('#notebook-container');\n",
       "if (notebookContainer) {{\n",
       "    x.observe(notebookContainer, {childList: true});\n",
       "}}\n",
       "\n",
       "// Listen for the clearing of the current output cell\n",
       "var outputEl = gd.closest('.output');\n",
       "if (outputEl) {{\n",
       "    x.observe(outputEl, {childList: true});\n",
       "}}\n",
       "\n",
       "                        })\n",
       "                };\n",
       "                });\n",
       "            </script>\n",
       "        </div>"
      ]
     },
     "metadata": {},
     "output_type": "display_data"
    }
   ],
   "source": [
    "import plotly.express as px\n",
    "#df1 = px.data.df1()\n",
    "px.scatter(df2, x= \"pdax_c\", y=\"unscheduled\", animation_frame=\"yyyy-mm\", animation_group=\"pharm_n\",\n",
    "           size=\"pdax_c\", color=\"pharm_n\", hover_name=\"pharm_n\",\n",
    "           size_max=100, range_x=[1,200], range_y=[1,18])"
   ]
  }
 ],
 "metadata": {
  "kernelspec": {
   "display_name": "Python 3",
   "language": "python",
   "name": "python3"
  }
 },
 "nbformat": 4,
 "nbformat_minor": 2
}
